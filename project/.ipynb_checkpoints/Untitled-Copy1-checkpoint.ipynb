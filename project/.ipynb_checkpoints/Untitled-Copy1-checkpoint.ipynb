{
 "cells": [
  {
   "cell_type": "markdown",
   "metadata": {},
   "source": [
    "- время с последнего предложения для пользователя\n",
    "\n",
    "- есть ли информация за n дней до скидки - для обоих компаний\n",
    "- группировать по юзерам\n",
    "\n",
    "- удаляем ли из кампании тех, у кого нет покупок # campaigns = campaigns[campaigns.customer_id.isin(set(receipts.customer_id))]"
   ]
  },
  {
   "cell_type": "code",
   "execution_count": null,
   "metadata": {},
   "outputs": [],
   "source": [
    "# кол-во дней с последней покупки / кол-во дней с начала акции прошедших до 1 покупки"
   ]
  },
  {
   "cell_type": "markdown",
   "metadata": {},
   "source": [
    "- нужно отобрать людей, которые сильно реагируют на скидку (при разбиении на группы будет большая прибыль)\n",
    "- Интерес в том чтобы понять на каких людей мы можем повлиять – которые без воздействия не совершили бы покупку\n",
    "\n",
    "Нужно совершать воздействие, когда\n",
    "А) действие принесет пользу\n",
    "Б) польза будет больше чем если не сорвешать воздействие"
   ]
  },
  {
   "cell_type": "markdown",
   "metadata": {},
   "source": [
    "uY(xi)=E[Y∣X=xi,T=1]−E[Y∣X=xi,T=0]"
   ]
  },
  {
   "cell_type": "code",
   "execution_count": 1,
   "metadata": {
    "ExecuteTime": {
     "end_time": "2021-10-12T09:07:14.685654Z",
     "start_time": "2021-10-12T09:07:14.683205Z"
    }
   },
   "outputs": [],
   "source": [
    "# фит на датасете старой компании\n",
    "# для предикта сформировать новую компанию\n",
    "# Y - куплено в период компании, Х - куплено до компании"
   ]
  },
  {
   "cell_type": "code",
   "execution_count": 2,
   "metadata": {
    "ExecuteTime": {
     "end_time": "2021-10-12T09:07:14.778417Z",
     "start_time": "2021-10-12T09:07:14.775063Z"
    }
   },
   "outputs": [],
   "source": [
    "# +число покупок\n",
    "# mean encoding города\n",
    "\n",
    "# +качество считается на 30 днях? добавить фичу по прошлой компании - насколько продолжал покупать\n",
    "\n",
    "кластеризовать юзеров\n",
    "как быть с 0\n",
    "\n",
    "# - стандартное отклонение\n",
    "\n",
    "метрика качества модели\n",
    "\n",
    "\n",
    "min/max\n",
    "\n",
    "# + убирать тех кто ничего не покупал"
   ]
  },
  {
   "cell_type": "code",
   "execution_count": 1,
   "metadata": {
    "ExecuteTime": {
     "end_time": "2021-10-13T09:21:25.804970Z",
     "start_time": "2021-10-13T09:21:24.119218Z"
    }
   },
   "outputs": [],
   "source": [
    "import os\n",
    "\n",
    "import pandas as pd\n",
    "import numpy as np\n",
    "import dask.dataframe as dd\n",
    "import pickle\n",
    "import json\n",
    "import sklearn.base as skbase\n",
    "import sklearn.pipeline as skpipe\n",
    "import datetime\n",
    "import matplotlib.pyplot as plt\n",
    "\n",
    "import pylift"
   ]
  },
  {
   "cell_type": "code",
   "execution_count": 2,
   "metadata": {
    "ExecuteTime": {
     "end_time": "2021-10-13T09:21:25.812131Z",
     "start_time": "2021-10-13T09:21:25.806485Z"
    }
   },
   "outputs": [],
   "source": [
    "from typing import List, Tuple\n",
    "import scipy as sp"
   ]
  },
  {
   "cell_type": "code",
   "execution_count": 3,
   "metadata": {
    "ExecuteTime": {
     "end_time": "2021-10-13T09:21:25.827521Z",
     "start_time": "2021-10-13T09:21:25.813588Z"
    }
   },
   "outputs": [],
   "source": [
    "def proportion_diff_interval(success: pd.Series, nobs: pd.Series, conf_level: float = 0.05):\n",
    "    assert len(success) == 2 and len(nobs) == 2\n",
    "    p = np.array(success) / np.array(nobs)\n",
    "    z = sp.stats.norm.ppf(1.0 - conf_level)\n",
    "    diff = p[1] - p[0]\n",
    "    std_dev = np.sqrt(p[0] * (1.0 - p[0]) / nobs[0] + p[1] * (1.0 - p[1]) / nobs[1])\n",
    "    pvalue = 2 * sp.stats.norm.cdf(-np.abs(diff) / std_dev)\n",
    "    return diff, std_dev, pvalue, (diff - z * std_dev, diff + z * std_dev)\n",
    "\n",
    "\n",
    "def response_uplift(\n",
    "    data: pd.DataFrame,\n",
    "    col_feature: str,\n",
    "    col_target: str,\n",
    "    col_treatment: str = 'treatment',\n",
    "    conf_level: float = 0.05,\n",
    "    verbose: bool = True,\n",
    "    figsize: Tuple[int, int] = (10, 7),\n",
    "    plot_type: str = 'default'\n",
    ") -> Tuple[pd.DataFrame, pd.DataFrame, pd.DataFrame]:\n",
    "    tmp = data.copy()\n",
    "    tmp['tmp_response'] = list(map(int, tmp[col_target] > 0))\n",
    "    \n",
    "    response_pivot = tmp.pivot_table(\n",
    "        values='tmp_response', index=[col_feature], columns=[col_treatment],\n",
    "        aggfunc='sum'\n",
    "    )\n",
    "    \n",
    "    clients_pivot = tmp.pivot_table(\n",
    "        values='tmp_response', index=[col_feature], columns=[col_treatment],\n",
    "        aggfunc='count'\n",
    "    )\n",
    "    \n",
    "    means = list()\n",
    "    stds = list()\n",
    "    pvalues = list()\n",
    "    chi2_pvalues = list()\n",
    "    \n",
    "    for segment in response_pivot.index:\n",
    "        m, std, pvalue, _ = proportion_diff_interval(response_pivot.loc[segment, :], clients_pivot.loc[segment, :], conf_level=conf_level)\n",
    "        means.append(m)\n",
    "        stds.append(std)\n",
    "        pvalues.append(pvalue)\n",
    "        \n",
    "        try:\n",
    "            chi2_pvalue = chi2_contingency([response_pivot.loc[segment, :], clients_pivot.loc[segment, :]])[1]\n",
    "        except:\n",
    "            chi2_pvalue = -1.0\n",
    "        \n",
    "        chi2_pvalues.append(chi2_pvalue)\n",
    "        \n",
    "    report = pd.DataFrame(\n",
    "        data={\n",
    "            'diff': means, \n",
    "            'std': stds, \n",
    "            'p-value': pvalues,\n",
    "            'chi2_p-value': chi2_pvalues,\n",
    "            'count_0': clients_pivot.loc[:, 0],\n",
    "            'count_1': clients_pivot.loc[:, 1],\n",
    "            'response_0': response_pivot.loc[:, 0],\n",
    "            'response_1': response_pivot.loc[:, 1]\n",
    "        }, \n",
    "        index=list(response_pivot.index)\n",
    "    )\n",
    "    \n",
    "    if verbose:\n",
    "        plt.figure(figsize=figsize)\n",
    "        if plot_type == 'default':\n",
    "            plt.errorbar(\n",
    "                x=response_pivot.index,\n",
    "                y=means,\n",
    "                yerr=np.array(stds) * sp.stats.norm.ppf(1.0 - conf_level),\n",
    "                fmt='ok'\n",
    "            )\n",
    "        elif plot_type == 'bin':\n",
    "            plt.errorbar(\n",
    "                x=range(len(response_pivot.index)),\n",
    "                y=means,\n",
    "                yerr=np.array(stds) * sp.stats.norm.ppf(1.0 - conf_level),\n",
    "                fmt='ok'\n",
    "            )\n",
    "            plt.xticks(\n",
    "                range(len(response_pivot.index)),\n",
    "                response_pivot.index,\n",
    "                rotation=20\n",
    "            )\n",
    "        plt.show()\n",
    "\n",
    "    return report, response_pivot, clients_pivot\n"
   ]
  },
  {
   "cell_type": "code",
   "execution_count": 4,
   "metadata": {
    "ExecuteTime": {
     "end_time": "2021-10-13T09:21:25.840383Z",
     "start_time": "2021-10-13T09:21:25.829085Z"
    }
   },
   "outputs": [],
   "source": [
    "# import sys\n",
    "# sys.path.append('uplift-campaign/')\n",
    "\n",
    "# import upcampaign.datalib as datalib\n",
    "# import upcampaign.datalib.connection as connection\n",
    "# import upcampaign.datalib.features.compute as fcompute\n",
    "# # import upcampaign.model_utils as mu"
   ]
  },
  {
   "cell_type": "code",
   "execution_count": 5,
   "metadata": {
    "ExecuteTime": {
     "end_time": "2021-10-13T09:21:26.312033Z",
     "start_time": "2021-10-13T09:21:25.841578Z"
    }
   },
   "outputs": [],
   "source": [
    "import lightgbm as lgb\n",
    "import causalml.metrics as cmetrics\n",
    "import causalml.inference.meta.rlearner as rlearner\n",
    "import causalml.inference.meta.xlearner as xlearner\n",
    "import causalml.inference.meta.tlearner as tlearner\n",
    "\n",
    "from sklearn.model_selection import train_test_split"
   ]
  },
  {
   "cell_type": "code",
   "execution_count": 6,
   "metadata": {
    "ExecuteTime": {
     "end_time": "2021-10-13T09:21:26.446679Z",
     "start_time": "2021-10-13T09:21:26.313397Z"
    }
   },
   "outputs": [
    {
     "name": "stdout",
     "output_type": "stream",
     "text": [
      "campaigns.csv  customers.csv  receipts.parquet\r\n"
     ]
    }
   ],
   "source": [
    "ls data"
   ]
  },
  {
   "cell_type": "code",
   "execution_count": 7,
   "metadata": {
    "ExecuteTime": {
     "end_time": "2021-10-13T09:21:26.454957Z",
     "start_time": "2021-10-13T09:21:26.451293Z"
    }
   },
   "outputs": [],
   "source": [
    "data_root_path = 'data/'"
   ]
  },
  {
   "cell_type": "code",
   "execution_count": 8,
   "metadata": {
    "ExecuteTime": {
     "end_time": "2021-10-13T09:21:31.760403Z",
     "start_time": "2021-10-13T09:21:26.458260Z"
    }
   },
   "outputs": [],
   "source": [
    "campaigns = dd.read_csv(os.path.join(data_root_path, 'campaigns.csv')).compute()#.sample(0.01)\n",
    "customers = dd.read_csv(os.path.join(data_root_path, 'customers.csv')).compute()#.sample(0.01)\n",
    "receipts = dd.read_parquet(os.path.join(data_root_path, 'receipts.parquet/')).compute()#.sample(0.01)"
   ]
  },
  {
   "cell_type": "code",
   "execution_count": 9,
   "metadata": {
    "ExecuteTime": {
     "end_time": "2021-10-13T09:21:31.772832Z",
     "start_time": "2021-10-13T09:21:31.764648Z"
    }
   },
   "outputs": [
    {
     "data": {
      "text/plain": [
       "(500000, 2000000, 31741769)"
      ]
     },
     "execution_count": 9,
     "metadata": {},
     "output_type": "execute_result"
    }
   ],
   "source": [
    "len(campaigns), len(customers), len(receipts)"
   ]
  },
  {
   "cell_type": "code",
   "execution_count": 10,
   "metadata": {
    "ExecuteTime": {
     "end_time": "2021-10-13T09:21:31.785999Z",
     "start_time": "2021-10-13T09:21:31.774959Z"
    }
   },
   "outputs": [],
   "source": [
    "def one_hot_encode(data: pd.DataFrame, cols: List[str] = None) -> pd.DataFrame:\n",
    "    if cols is None:\n",
    "        cols = data.columns\n",
    "    result = pd.concat([data, dd.get_dummies(data[cols])], axis=1).drop(cols, axis=1)\n",
    "    return result"
   ]
  },
  {
   "cell_type": "code",
   "execution_count": 11,
   "metadata": {
    "ExecuteTime": {
     "end_time": "2021-10-13T09:21:32.136928Z",
     "start_time": "2021-10-13T09:21:31.787648Z"
    }
   },
   "outputs": [],
   "source": [
    "customers = one_hot_encode(customers, cols=['location'])\n",
    "customers = customers.drop('Unnamed: 0', axis=1)"
   ]
  },
  {
   "cell_type": "code",
   "execution_count": 12,
   "metadata": {
    "ExecuteTime": {
     "end_time": "2021-10-13T09:21:32.150096Z",
     "start_time": "2021-10-13T09:21:32.139210Z"
    }
   },
   "outputs": [
    {
     "data": {
      "text/html": [
       "<div>\n",
       "<style scoped>\n",
       "    .dataframe tbody tr th:only-of-type {\n",
       "        vertical-align: middle;\n",
       "    }\n",
       "\n",
       "    .dataframe tbody tr th {\n",
       "        vertical-align: top;\n",
       "    }\n",
       "\n",
       "    .dataframe thead th {\n",
       "        text-align: right;\n",
       "    }\n",
       "</style>\n",
       "<table border=\"1\" class=\"dataframe\">\n",
       "  <thead>\n",
       "    <tr style=\"text-align: right;\">\n",
       "      <th></th>\n",
       "      <th>customer_id</th>\n",
       "      <th>age</th>\n",
       "      <th>location_Beauclair</th>\n",
       "      <th>location_Crows_perch</th>\n",
       "      <th>location_Hindarsfjall</th>\n",
       "      <th>location_Kaer_Trolde</th>\n",
       "      <th>location_Novigrad</th>\n",
       "      <th>location_Oxenfurt</th>\n",
       "      <th>location_Spikeroog</th>\n",
       "    </tr>\n",
       "  </thead>\n",
       "  <tbody>\n",
       "    <tr>\n",
       "      <th>0</th>\n",
       "      <td>0</td>\n",
       "      <td>56</td>\n",
       "      <td>0</td>\n",
       "      <td>0</td>\n",
       "      <td>0</td>\n",
       "      <td>0</td>\n",
       "      <td>0</td>\n",
       "      <td>1</td>\n",
       "      <td>0</td>\n",
       "    </tr>\n",
       "    <tr>\n",
       "      <th>1</th>\n",
       "      <td>1</td>\n",
       "      <td>53</td>\n",
       "      <td>0</td>\n",
       "      <td>0</td>\n",
       "      <td>1</td>\n",
       "      <td>0</td>\n",
       "      <td>0</td>\n",
       "      <td>0</td>\n",
       "      <td>0</td>\n",
       "    </tr>\n",
       "    <tr>\n",
       "      <th>2</th>\n",
       "      <td>2</td>\n",
       "      <td>41</td>\n",
       "      <td>0</td>\n",
       "      <td>0</td>\n",
       "      <td>1</td>\n",
       "      <td>0</td>\n",
       "      <td>0</td>\n",
       "      <td>0</td>\n",
       "      <td>0</td>\n",
       "    </tr>\n",
       "    <tr>\n",
       "      <th>3</th>\n",
       "      <td>3</td>\n",
       "      <td>60</td>\n",
       "      <td>0</td>\n",
       "      <td>0</td>\n",
       "      <td>0</td>\n",
       "      <td>1</td>\n",
       "      <td>0</td>\n",
       "      <td>0</td>\n",
       "      <td>0</td>\n",
       "    </tr>\n",
       "    <tr>\n",
       "      <th>4</th>\n",
       "      <td>4</td>\n",
       "      <td>22</td>\n",
       "      <td>0</td>\n",
       "      <td>0</td>\n",
       "      <td>0</td>\n",
       "      <td>0</td>\n",
       "      <td>0</td>\n",
       "      <td>0</td>\n",
       "      <td>1</td>\n",
       "    </tr>\n",
       "  </tbody>\n",
       "</table>\n",
       "</div>"
      ],
      "text/plain": [
       "   customer_id  age  location_Beauclair  location_Crows_perch  \\\n",
       "0            0   56                   0                     0   \n",
       "1            1   53                   0                     0   \n",
       "2            2   41                   0                     0   \n",
       "3            3   60                   0                     0   \n",
       "4            4   22                   0                     0   \n",
       "\n",
       "   location_Hindarsfjall  location_Kaer_Trolde  location_Novigrad  \\\n",
       "0                      0                     0                  0   \n",
       "1                      1                     0                  0   \n",
       "2                      1                     0                  0   \n",
       "3                      0                     1                  0   \n",
       "4                      0                     0                  0   \n",
       "\n",
       "   location_Oxenfurt  location_Spikeroog  \n",
       "0                  1                   0  \n",
       "1                  0                   0  \n",
       "2                  0                   0  \n",
       "3                  0                   0  \n",
       "4                  0                   1  "
      ]
     },
     "execution_count": 12,
     "metadata": {},
     "output_type": "execute_result"
    }
   ],
   "source": [
    "customers.head()"
   ]
  },
  {
   "cell_type": "code",
   "execution_count": 13,
   "metadata": {
    "ExecuteTime": {
     "end_time": "2021-10-13T09:21:32.358730Z",
     "start_time": "2021-10-13T09:21:32.151610Z"
    }
   },
   "outputs": [
    {
     "data": {
      "text/plain": [
       "customer_id              2000000\n",
       "age                           50\n",
       "location_Beauclair             2\n",
       "location_Crows_perch           2\n",
       "location_Hindarsfjall          2\n",
       "location_Kaer_Trolde           2\n",
       "location_Novigrad              2\n",
       "location_Oxenfurt              2\n",
       "location_Spikeroog             2\n",
       "dtype: int64"
      ]
     },
     "execution_count": 13,
     "metadata": {},
     "output_type": "execute_result"
    }
   ],
   "source": [
    "customers.nunique()"
   ]
  },
  {
   "cell_type": "markdown",
   "metadata": {},
   "source": [
    "- Стоит отметить, что покупатель не приобретает фисштех больше одного раза в день"
   ]
  },
  {
   "cell_type": "code",
   "execution_count": 14,
   "metadata": {
    "ExecuteTime": {
     "end_time": "2021-10-13T09:21:32.709187Z",
     "start_time": "2021-10-13T09:21:32.359988Z"
    }
   },
   "outputs": [],
   "source": [
    "receipts = receipts.drop('purchase_sum', axis=1)"
   ]
  },
  {
   "cell_type": "code",
   "execution_count": 15,
   "metadata": {
    "ExecuteTime": {
     "end_time": "2021-10-13T09:21:32.726149Z",
     "start_time": "2021-10-13T09:21:32.710621Z"
    }
   },
   "outputs": [
    {
     "data": {
      "text/html": [
       "<div>\n",
       "<style scoped>\n",
       "    .dataframe tbody tr th:only-of-type {\n",
       "        vertical-align: middle;\n",
       "    }\n",
       "\n",
       "    .dataframe tbody tr th {\n",
       "        vertical-align: top;\n",
       "    }\n",
       "\n",
       "    .dataframe thead th {\n",
       "        text-align: right;\n",
       "    }\n",
       "</style>\n",
       "<table border=\"1\" class=\"dataframe\">\n",
       "  <thead>\n",
       "    <tr style=\"text-align: right;\">\n",
       "      <th></th>\n",
       "      <th>customer_id</th>\n",
       "      <th>date</th>\n",
       "      <th>purchase_amt</th>\n",
       "      <th>discount</th>\n",
       "    </tr>\n",
       "  </thead>\n",
       "  <tbody>\n",
       "    <tr>\n",
       "      <th>26</th>\n",
       "      <td>26</td>\n",
       "      <td>0</td>\n",
       "      <td>12.125273</td>\n",
       "      <td>0</td>\n",
       "    </tr>\n",
       "    <tr>\n",
       "      <th>53</th>\n",
       "      <td>53</td>\n",
       "      <td>0</td>\n",
       "      <td>34.357035</td>\n",
       "      <td>0</td>\n",
       "    </tr>\n",
       "    <tr>\n",
       "      <th>56</th>\n",
       "      <td>56</td>\n",
       "      <td>0</td>\n",
       "      <td>8.695825</td>\n",
       "      <td>0</td>\n",
       "    </tr>\n",
       "    <tr>\n",
       "      <th>58</th>\n",
       "      <td>58</td>\n",
       "      <td>0</td>\n",
       "      <td>28.299046</td>\n",
       "      <td>0</td>\n",
       "    </tr>\n",
       "    <tr>\n",
       "      <th>64</th>\n",
       "      <td>64</td>\n",
       "      <td>0</td>\n",
       "      <td>32.547511</td>\n",
       "      <td>0</td>\n",
       "    </tr>\n",
       "  </tbody>\n",
       "</table>\n",
       "</div>"
      ],
      "text/plain": [
       "    customer_id  date  purchase_amt  discount\n",
       "26           26     0     12.125273         0\n",
       "53           53     0     34.357035         0\n",
       "56           56     0      8.695825         0\n",
       "58           58     0     28.299046         0\n",
       "64           64     0     32.547511         0"
      ]
     },
     "execution_count": 15,
     "metadata": {},
     "output_type": "execute_result"
    }
   ],
   "source": [
    "receipts.head()"
   ]
  },
  {
   "cell_type": "code",
   "execution_count": 16,
   "metadata": {
    "ExecuteTime": {
     "end_time": "2021-10-13T09:21:39.955763Z",
     "start_time": "2021-10-13T09:21:32.727509Z"
    }
   },
   "outputs": [
    {
     "data": {
      "text/plain": [
       "customer_id      1998286\n",
       "date                 250\n",
       "purchase_amt    31616098\n",
       "discount               2\n",
       "dtype: int64"
      ]
     },
     "execution_count": 16,
     "metadata": {},
     "output_type": "execute_result"
    }
   ],
   "source": [
    "receipts.nunique()"
   ]
  },
  {
   "cell_type": "code",
   "execution_count": 17,
   "metadata": {
    "ExecuteTime": {
     "end_time": "2021-10-13T09:21:48.205831Z",
     "start_time": "2021-10-13T09:21:39.957007Z"
    }
   },
   "outputs": [],
   "source": [
    "receipts_agg = pd.DataFrame(index=set(receipts.customer_id))"
   ]
  },
  {
   "cell_type": "code",
   "execution_count": 18,
   "metadata": {
    "ExecuteTime": {
     "end_time": "2021-10-13T09:22:02.977982Z",
     "start_time": "2021-10-13T09:21:48.207344Z"
    }
   },
   "outputs": [],
   "source": [
    "receipts_agg['puchase_amt_SUM_during_campaign'] = \\\n",
    "    receipts[(receipts.date>=102) & (receipts.date<=108)].groupby('customer_id')['purchase_amt'].sum()\n",
    "\n",
    "# receipts_agg['puchase_amt_SUM_during_campaign'] = \\\n",
    "#     receipts[(receipts.date>=102) & (receipts.date<=131)].groupby('customer_id')['purchase_amt'].sum()\n",
    "\n",
    "# SUM\n",
    "receipts_agg['puchase_amt_SUM_7d_before_campaign'] = \\\n",
    "    receipts[(receipts.date>=95) & (receipts.date<102)].groupby('customer_id')['purchase_amt'].sum()\n",
    "\n",
    "receipts_agg['puchase_amt_SUM_15d_before_campaign'] = \\\n",
    "    receipts[(receipts.date>=87) & (receipts.date<102)].groupby('customer_id')['purchase_amt'].sum()\n",
    "\n",
    "receipts_agg['puchase_amt_SUM_30d_before_campaign'] = \\\n",
    "    receipts[(receipts.date>=72) & (receipts.date<102)].groupby('customer_id')['purchase_amt'].sum()\n",
    "\n",
    "receipts_agg['puchase_amt_SUM_60d_before_campaign'] = \\\n",
    "    receipts[(receipts.date>=42) & (receipts.date<102)].groupby('customer_id')['purchase_amt'].sum()\n",
    "\n",
    "\n",
    "# CNT\n",
    "receipts_agg['puchase_amt_CNT_7d_before_campaign'] = \\\n",
    "    receipts[(receipts.date>=95) & (receipts.date<102)].groupby('customer_id')['purchase_amt'].size()\n",
    "\n",
    "receipts_agg['puchase_amt_CNT_15d_before_campaign'] = \\\n",
    "    receipts[(receipts.date>=87) & (receipts.date<102)].groupby('customer_id')['purchase_amt'].size()\n",
    "\n",
    "receipts_agg['puchase_amt_CNT_30d_before_campaign'] = \\\n",
    "    receipts[(receipts.date>=72) & (receipts.date<102)].groupby('customer_id')['purchase_amt'].size()\n",
    "\n",
    "receipts_agg['puchase_amt_CNT_60d_before_campaign'] = \\\n",
    "    receipts[(receipts.date>=42) & (receipts.date<102)].groupby('customer_id')['purchase_amt'].size()\n",
    "\n",
    "\n",
    "# MEAN\n",
    "receipts_agg['puchase_amt_MEAN_7d_before_campaign'] = \\\n",
    "    receipts[(receipts.date>=95) & (receipts.date<102)].groupby('customer_id')['purchase_amt'].mean()\n",
    "\n",
    "receipts_agg['puchase_amt_MEAN_15d_before_campaign'] = \\\n",
    "    receipts[(receipts.date>=87) & (receipts.date<102)].groupby('customer_id')['purchase_amt'].mean()\n",
    "\n",
    "receipts_agg['puchase_amt_MEAN_30d_before_campaign'] = \\\n",
    "    receipts[(receipts.date>=72) & (receipts.date<102)].groupby('customer_id')['purchase_amt'].mean()\n",
    "\n",
    "receipts_agg['puchase_amt_MEAN_60d_before_campaign'] = \\\n",
    "    receipts[(receipts.date>=42) & (receipts.date<102)].groupby('customer_id')['purchase_amt'].mean()\n",
    "\n",
    "# last day\n",
    "receipts_agg['cnt_last_purch_days_before_campaign'] = 102 - receipts[receipts.date<102].groupby('customer_id')['date'].max()\n",
    "\n",
    "\n",
    "# std\n",
    "# receipts_agg['puchase_amt_STD_7d_before_campaign'] = \\\n",
    "#     receipts[(receipts.date>=95) & (receipts.date<102)].groupby('customer_id')['date'].std()\n",
    "\n",
    "# receipts_agg['puchase_amt_STD_15d_before_campaign'] = \\\n",
    "#     receipts[(receipts.date>=87) & (receipts.date<102)].groupby('customer_id')['date'].std()\n",
    "\n",
    "receipts_agg['puchase_amt_STD_30d_before_campaign'] = \\\n",
    "    receipts[(receipts.date>=72) & (receipts.date<102)].groupby('customer_id')['date'].std()\n",
    "\n",
    "receipts_agg['puchase_amt_STD_60d_before_campaign'] = \\\n",
    "    receipts[(receipts.date>=42) & (receipts.date<102)].groupby('customer_id')['date'].std()"
   ]
  },
  {
   "cell_type": "code",
   "execution_count": 19,
   "metadata": {
    "ExecuteTime": {
     "end_time": "2021-10-13T09:22:02.986491Z",
     "start_time": "2021-10-13T09:22:02.981750Z"
    }
   },
   "outputs": [],
   "source": [
    "# receipts_agg[receipts_agg['cnt_last_purch_days_before_campaign'].isnull()]"
   ]
  },
  {
   "cell_type": "code",
   "execution_count": 20,
   "metadata": {
    "ExecuteTime": {
     "end_time": "2021-10-13T09:22:03.567453Z",
     "start_time": "2021-10-13T09:22:02.991068Z"
    }
   },
   "outputs": [],
   "source": [
    "receipts_agg[[c for c in receipts_agg.columns if '_STD_' not in c]] = \\\n",
    "        receipts_agg[[c for c in receipts_agg.columns if '_STD_' not in c]].fillna(0)"
   ]
  },
  {
   "cell_type": "code",
   "execution_count": 21,
   "metadata": {
    "ExecuteTime": {
     "end_time": "2021-10-13T09:22:03.585533Z",
     "start_time": "2021-10-13T09:22:03.569097Z"
    }
   },
   "outputs": [
    {
     "data": {
      "text/html": [
       "<div>\n",
       "<style scoped>\n",
       "    .dataframe tbody tr th:only-of-type {\n",
       "        vertical-align: middle;\n",
       "    }\n",
       "\n",
       "    .dataframe tbody tr th {\n",
       "        vertical-align: top;\n",
       "    }\n",
       "\n",
       "    .dataframe thead th {\n",
       "        text-align: right;\n",
       "    }\n",
       "</style>\n",
       "<table border=\"1\" class=\"dataframe\">\n",
       "  <thead>\n",
       "    <tr style=\"text-align: right;\">\n",
       "      <th></th>\n",
       "      <th>puchase_amt_SUM_during_campaign</th>\n",
       "      <th>puchase_amt_SUM_7d_before_campaign</th>\n",
       "      <th>puchase_amt_SUM_15d_before_campaign</th>\n",
       "      <th>puchase_amt_SUM_30d_before_campaign</th>\n",
       "      <th>puchase_amt_SUM_60d_before_campaign</th>\n",
       "      <th>puchase_amt_CNT_7d_before_campaign</th>\n",
       "      <th>puchase_amt_CNT_15d_before_campaign</th>\n",
       "      <th>puchase_amt_CNT_30d_before_campaign</th>\n",
       "      <th>puchase_amt_CNT_60d_before_campaign</th>\n",
       "      <th>puchase_amt_MEAN_7d_before_campaign</th>\n",
       "      <th>puchase_amt_MEAN_15d_before_campaign</th>\n",
       "      <th>puchase_amt_MEAN_30d_before_campaign</th>\n",
       "      <th>puchase_amt_MEAN_60d_before_campaign</th>\n",
       "      <th>cnt_last_purch_days_before_campaign</th>\n",
       "      <th>puchase_amt_STD_30d_before_campaign</th>\n",
       "      <th>puchase_amt_STD_60d_before_campaign</th>\n",
       "    </tr>\n",
       "  </thead>\n",
       "  <tbody>\n",
       "    <tr>\n",
       "      <th>0</th>\n",
       "      <td>9.863892</td>\n",
       "      <td>0.00000</td>\n",
       "      <td>12.028087</td>\n",
       "      <td>23.426074</td>\n",
       "      <td>64.498275</td>\n",
       "      <td>0.0</td>\n",
       "      <td>1.0</td>\n",
       "      <td>2.0</td>\n",
       "      <td>6.0</td>\n",
       "      <td>0.000000</td>\n",
       "      <td>12.028087</td>\n",
       "      <td>11.713037</td>\n",
       "      <td>10.749712</td>\n",
       "      <td>9.0</td>\n",
       "      <td>6.363961</td>\n",
       "      <td>19.398454</td>\n",
       "    </tr>\n",
       "    <tr>\n",
       "      <th>1</th>\n",
       "      <td>0.000000</td>\n",
       "      <td>0.00000</td>\n",
       "      <td>0.000000</td>\n",
       "      <td>24.823082</td>\n",
       "      <td>46.727059</td>\n",
       "      <td>0.0</td>\n",
       "      <td>0.0</td>\n",
       "      <td>2.0</td>\n",
       "      <td>4.0</td>\n",
       "      <td>0.000000</td>\n",
       "      <td>0.000000</td>\n",
       "      <td>12.411541</td>\n",
       "      <td>11.681765</td>\n",
       "      <td>20.0</td>\n",
       "      <td>7.071068</td>\n",
       "      <td>16.309506</td>\n",
       "    </tr>\n",
       "    <tr>\n",
       "      <th>2</th>\n",
       "      <td>0.000000</td>\n",
       "      <td>39.13365</td>\n",
       "      <td>39.133650</td>\n",
       "      <td>39.133650</td>\n",
       "      <td>123.063061</td>\n",
       "      <td>2.0</td>\n",
       "      <td>2.0</td>\n",
       "      <td>2.0</td>\n",
       "      <td>5.0</td>\n",
       "      <td>19.566825</td>\n",
       "      <td>19.566825</td>\n",
       "      <td>19.566825</td>\n",
       "      <td>24.612612</td>\n",
       "      <td>2.0</td>\n",
       "      <td>2.121320</td>\n",
       "      <td>21.984085</td>\n",
       "    </tr>\n",
       "    <tr>\n",
       "      <th>3</th>\n",
       "      <td>20.019053</td>\n",
       "      <td>0.00000</td>\n",
       "      <td>0.000000</td>\n",
       "      <td>42.392725</td>\n",
       "      <td>107.439304</td>\n",
       "      <td>0.0</td>\n",
       "      <td>0.0</td>\n",
       "      <td>1.0</td>\n",
       "      <td>3.0</td>\n",
       "      <td>0.000000</td>\n",
       "      <td>0.000000</td>\n",
       "      <td>42.392725</td>\n",
       "      <td>35.813101</td>\n",
       "      <td>24.0</td>\n",
       "      <td>NaN</td>\n",
       "      <td>13.012814</td>\n",
       "    </tr>\n",
       "    <tr>\n",
       "      <th>4</th>\n",
       "      <td>0.000000</td>\n",
       "      <td>0.00000</td>\n",
       "      <td>0.000000</td>\n",
       "      <td>22.253255</td>\n",
       "      <td>41.160985</td>\n",
       "      <td>0.0</td>\n",
       "      <td>0.0</td>\n",
       "      <td>1.0</td>\n",
       "      <td>2.0</td>\n",
       "      <td>0.000000</td>\n",
       "      <td>0.000000</td>\n",
       "      <td>22.253255</td>\n",
       "      <td>20.580492</td>\n",
       "      <td>16.0</td>\n",
       "      <td>NaN</td>\n",
       "      <td>14.142136</td>\n",
       "    </tr>\n",
       "  </tbody>\n",
       "</table>\n",
       "</div>"
      ],
      "text/plain": [
       "   puchase_amt_SUM_during_campaign  puchase_amt_SUM_7d_before_campaign  \\\n",
       "0                         9.863892                             0.00000   \n",
       "1                         0.000000                             0.00000   \n",
       "2                         0.000000                            39.13365   \n",
       "3                        20.019053                             0.00000   \n",
       "4                         0.000000                             0.00000   \n",
       "\n",
       "   puchase_amt_SUM_15d_before_campaign  puchase_amt_SUM_30d_before_campaign  \\\n",
       "0                            12.028087                            23.426074   \n",
       "1                             0.000000                            24.823082   \n",
       "2                            39.133650                            39.133650   \n",
       "3                             0.000000                            42.392725   \n",
       "4                             0.000000                            22.253255   \n",
       "\n",
       "   puchase_amt_SUM_60d_before_campaign  puchase_amt_CNT_7d_before_campaign  \\\n",
       "0                            64.498275                                 0.0   \n",
       "1                            46.727059                                 0.0   \n",
       "2                           123.063061                                 2.0   \n",
       "3                           107.439304                                 0.0   \n",
       "4                            41.160985                                 0.0   \n",
       "\n",
       "   puchase_amt_CNT_15d_before_campaign  puchase_amt_CNT_30d_before_campaign  \\\n",
       "0                                  1.0                                  2.0   \n",
       "1                                  0.0                                  2.0   \n",
       "2                                  2.0                                  2.0   \n",
       "3                                  0.0                                  1.0   \n",
       "4                                  0.0                                  1.0   \n",
       "\n",
       "   puchase_amt_CNT_60d_before_campaign  puchase_amt_MEAN_7d_before_campaign  \\\n",
       "0                                  6.0                             0.000000   \n",
       "1                                  4.0                             0.000000   \n",
       "2                                  5.0                            19.566825   \n",
       "3                                  3.0                             0.000000   \n",
       "4                                  2.0                             0.000000   \n",
       "\n",
       "   puchase_amt_MEAN_15d_before_campaign  puchase_amt_MEAN_30d_before_campaign  \\\n",
       "0                             12.028087                             11.713037   \n",
       "1                              0.000000                             12.411541   \n",
       "2                             19.566825                             19.566825   \n",
       "3                              0.000000                             42.392725   \n",
       "4                              0.000000                             22.253255   \n",
       "\n",
       "   puchase_amt_MEAN_60d_before_campaign  cnt_last_purch_days_before_campaign  \\\n",
       "0                             10.749712                                  9.0   \n",
       "1                             11.681765                                 20.0   \n",
       "2                             24.612612                                  2.0   \n",
       "3                             35.813101                                 24.0   \n",
       "4                             20.580492                                 16.0   \n",
       "\n",
       "   puchase_amt_STD_30d_before_campaign  puchase_amt_STD_60d_before_campaign  \n",
       "0                             6.363961                            19.398454  \n",
       "1                             7.071068                            16.309506  \n",
       "2                             2.121320                            21.984085  \n",
       "3                                  NaN                            13.012814  \n",
       "4                                  NaN                            14.142136  "
      ]
     },
     "execution_count": 21,
     "metadata": {},
     "output_type": "execute_result"
    }
   ],
   "source": [
    "receipts_agg.head()"
   ]
  },
  {
   "cell_type": "code",
   "execution_count": 22,
   "metadata": {
    "ExecuteTime": {
     "end_time": "2021-10-13T09:22:03.599672Z",
     "start_time": "2021-10-13T09:22:03.587096Z"
    }
   },
   "outputs": [],
   "source": [
    "receipts_agg['is_campaign'] = 0"
   ]
  },
  {
   "cell_type": "code",
   "execution_count": 23,
   "metadata": {
    "ExecuteTime": {
     "end_time": "2021-10-13T09:22:03.630285Z",
     "start_time": "2021-10-13T09:22:03.602649Z"
    }
   },
   "outputs": [],
   "source": [
    "receipts_agg.loc[receipts_agg.index<500000, 'is_campaign'] = 1"
   ]
  },
  {
   "cell_type": "code",
   "execution_count": 24,
   "metadata": {
    "ExecuteTime": {
     "end_time": "2021-10-13T09:22:03.648783Z",
     "start_time": "2021-10-13T09:22:03.631966Z"
    }
   },
   "outputs": [
    {
     "data": {
      "text/html": [
       "<div>\n",
       "<style scoped>\n",
       "    .dataframe tbody tr th:only-of-type {\n",
       "        vertical-align: middle;\n",
       "    }\n",
       "\n",
       "    .dataframe tbody tr th {\n",
       "        vertical-align: top;\n",
       "    }\n",
       "\n",
       "    .dataframe thead th {\n",
       "        text-align: right;\n",
       "    }\n",
       "</style>\n",
       "<table border=\"1\" class=\"dataframe\">\n",
       "  <thead>\n",
       "    <tr style=\"text-align: right;\">\n",
       "      <th></th>\n",
       "      <th>puchase_amt_SUM_during_campaign</th>\n",
       "      <th>puchase_amt_SUM_7d_before_campaign</th>\n",
       "      <th>puchase_amt_SUM_15d_before_campaign</th>\n",
       "      <th>puchase_amt_SUM_30d_before_campaign</th>\n",
       "      <th>puchase_amt_SUM_60d_before_campaign</th>\n",
       "      <th>puchase_amt_CNT_7d_before_campaign</th>\n",
       "      <th>puchase_amt_CNT_15d_before_campaign</th>\n",
       "      <th>puchase_amt_CNT_30d_before_campaign</th>\n",
       "      <th>puchase_amt_CNT_60d_before_campaign</th>\n",
       "      <th>puchase_amt_MEAN_7d_before_campaign</th>\n",
       "      <th>puchase_amt_MEAN_15d_before_campaign</th>\n",
       "      <th>puchase_amt_MEAN_30d_before_campaign</th>\n",
       "      <th>puchase_amt_MEAN_60d_before_campaign</th>\n",
       "      <th>cnt_last_purch_days_before_campaign</th>\n",
       "      <th>puchase_amt_STD_30d_before_campaign</th>\n",
       "      <th>puchase_amt_STD_60d_before_campaign</th>\n",
       "      <th>is_campaign</th>\n",
       "    </tr>\n",
       "  </thead>\n",
       "  <tbody>\n",
       "    <tr>\n",
       "      <th>0</th>\n",
       "      <td>9.863892</td>\n",
       "      <td>0.00000</td>\n",
       "      <td>12.028087</td>\n",
       "      <td>23.426074</td>\n",
       "      <td>64.498275</td>\n",
       "      <td>0.0</td>\n",
       "      <td>1.0</td>\n",
       "      <td>2.0</td>\n",
       "      <td>6.0</td>\n",
       "      <td>0.000000</td>\n",
       "      <td>12.028087</td>\n",
       "      <td>11.713037</td>\n",
       "      <td>10.749712</td>\n",
       "      <td>9.0</td>\n",
       "      <td>6.363961</td>\n",
       "      <td>19.398454</td>\n",
       "      <td>1</td>\n",
       "    </tr>\n",
       "    <tr>\n",
       "      <th>1</th>\n",
       "      <td>0.000000</td>\n",
       "      <td>0.00000</td>\n",
       "      <td>0.000000</td>\n",
       "      <td>24.823082</td>\n",
       "      <td>46.727059</td>\n",
       "      <td>0.0</td>\n",
       "      <td>0.0</td>\n",
       "      <td>2.0</td>\n",
       "      <td>4.0</td>\n",
       "      <td>0.000000</td>\n",
       "      <td>0.000000</td>\n",
       "      <td>12.411541</td>\n",
       "      <td>11.681765</td>\n",
       "      <td>20.0</td>\n",
       "      <td>7.071068</td>\n",
       "      <td>16.309506</td>\n",
       "      <td>1</td>\n",
       "    </tr>\n",
       "    <tr>\n",
       "      <th>2</th>\n",
       "      <td>0.000000</td>\n",
       "      <td>39.13365</td>\n",
       "      <td>39.133650</td>\n",
       "      <td>39.133650</td>\n",
       "      <td>123.063061</td>\n",
       "      <td>2.0</td>\n",
       "      <td>2.0</td>\n",
       "      <td>2.0</td>\n",
       "      <td>5.0</td>\n",
       "      <td>19.566825</td>\n",
       "      <td>19.566825</td>\n",
       "      <td>19.566825</td>\n",
       "      <td>24.612612</td>\n",
       "      <td>2.0</td>\n",
       "      <td>2.121320</td>\n",
       "      <td>21.984085</td>\n",
       "      <td>1</td>\n",
       "    </tr>\n",
       "    <tr>\n",
       "      <th>3</th>\n",
       "      <td>20.019053</td>\n",
       "      <td>0.00000</td>\n",
       "      <td>0.000000</td>\n",
       "      <td>42.392725</td>\n",
       "      <td>107.439304</td>\n",
       "      <td>0.0</td>\n",
       "      <td>0.0</td>\n",
       "      <td>1.0</td>\n",
       "      <td>3.0</td>\n",
       "      <td>0.000000</td>\n",
       "      <td>0.000000</td>\n",
       "      <td>42.392725</td>\n",
       "      <td>35.813101</td>\n",
       "      <td>24.0</td>\n",
       "      <td>NaN</td>\n",
       "      <td>13.012814</td>\n",
       "      <td>1</td>\n",
       "    </tr>\n",
       "    <tr>\n",
       "      <th>4</th>\n",
       "      <td>0.000000</td>\n",
       "      <td>0.00000</td>\n",
       "      <td>0.000000</td>\n",
       "      <td>22.253255</td>\n",
       "      <td>41.160985</td>\n",
       "      <td>0.0</td>\n",
       "      <td>0.0</td>\n",
       "      <td>1.0</td>\n",
       "      <td>2.0</td>\n",
       "      <td>0.000000</td>\n",
       "      <td>0.000000</td>\n",
       "      <td>22.253255</td>\n",
       "      <td>20.580492</td>\n",
       "      <td>16.0</td>\n",
       "      <td>NaN</td>\n",
       "      <td>14.142136</td>\n",
       "      <td>1</td>\n",
       "    </tr>\n",
       "  </tbody>\n",
       "</table>\n",
       "</div>"
      ],
      "text/plain": [
       "   puchase_amt_SUM_during_campaign  puchase_amt_SUM_7d_before_campaign  \\\n",
       "0                         9.863892                             0.00000   \n",
       "1                         0.000000                             0.00000   \n",
       "2                         0.000000                            39.13365   \n",
       "3                        20.019053                             0.00000   \n",
       "4                         0.000000                             0.00000   \n",
       "\n",
       "   puchase_amt_SUM_15d_before_campaign  puchase_amt_SUM_30d_before_campaign  \\\n",
       "0                            12.028087                            23.426074   \n",
       "1                             0.000000                            24.823082   \n",
       "2                            39.133650                            39.133650   \n",
       "3                             0.000000                            42.392725   \n",
       "4                             0.000000                            22.253255   \n",
       "\n",
       "   puchase_amt_SUM_60d_before_campaign  puchase_amt_CNT_7d_before_campaign  \\\n",
       "0                            64.498275                                 0.0   \n",
       "1                            46.727059                                 0.0   \n",
       "2                           123.063061                                 2.0   \n",
       "3                           107.439304                                 0.0   \n",
       "4                            41.160985                                 0.0   \n",
       "\n",
       "   puchase_amt_CNT_15d_before_campaign  puchase_amt_CNT_30d_before_campaign  \\\n",
       "0                                  1.0                                  2.0   \n",
       "1                                  0.0                                  2.0   \n",
       "2                                  2.0                                  2.0   \n",
       "3                                  0.0                                  1.0   \n",
       "4                                  0.0                                  1.0   \n",
       "\n",
       "   puchase_amt_CNT_60d_before_campaign  puchase_amt_MEAN_7d_before_campaign  \\\n",
       "0                                  6.0                             0.000000   \n",
       "1                                  4.0                             0.000000   \n",
       "2                                  5.0                            19.566825   \n",
       "3                                  3.0                             0.000000   \n",
       "4                                  2.0                             0.000000   \n",
       "\n",
       "   puchase_amt_MEAN_15d_before_campaign  puchase_amt_MEAN_30d_before_campaign  \\\n",
       "0                             12.028087                             11.713037   \n",
       "1                              0.000000                             12.411541   \n",
       "2                             19.566825                             19.566825   \n",
       "3                              0.000000                             42.392725   \n",
       "4                              0.000000                             22.253255   \n",
       "\n",
       "   puchase_amt_MEAN_60d_before_campaign  cnt_last_purch_days_before_campaign  \\\n",
       "0                             10.749712                                  9.0   \n",
       "1                             11.681765                                 20.0   \n",
       "2                             24.612612                                  2.0   \n",
       "3                             35.813101                                 24.0   \n",
       "4                             20.580492                                 16.0   \n",
       "\n",
       "   puchase_amt_STD_30d_before_campaign  puchase_amt_STD_60d_before_campaign  \\\n",
       "0                             6.363961                            19.398454   \n",
       "1                             7.071068                            16.309506   \n",
       "2                             2.121320                            21.984085   \n",
       "3                                  NaN                            13.012814   \n",
       "4                                  NaN                            14.142136   \n",
       "\n",
       "   is_campaign  \n",
       "0            1  \n",
       "1            1  \n",
       "2            1  \n",
       "3            1  \n",
       "4            1  "
      ]
     },
     "execution_count": 24,
     "metadata": {},
     "output_type": "execute_result"
    }
   ],
   "source": [
    "receipts_agg.head()"
   ]
  },
  {
   "cell_type": "code",
   "execution_count": 25,
   "metadata": {
    "ExecuteTime": {
     "end_time": "2021-10-13T09:22:03.940198Z",
     "start_time": "2021-10-13T09:22:03.650713Z"
    }
   },
   "outputs": [],
   "source": [
    "data = receipts_agg.join(customers)"
   ]
  },
  {
   "cell_type": "code",
   "execution_count": 26,
   "metadata": {
    "ExecuteTime": {
     "end_time": "2021-10-13T09:22:03.944355Z",
     "start_time": "2021-10-13T09:22:03.942099Z"
    }
   },
   "outputs": [],
   "source": [
    "# data = pd.concat([data[data.is_campaign==1], \n",
    "#            data[data.is_campaign==0].sample(frac=0.1)\n",
    "#           ], axis=0)"
   ]
  },
  {
   "cell_type": "code",
   "execution_count": 27,
   "metadata": {
    "ExecuteTime": {
     "end_time": "2021-10-13T09:22:04.102795Z",
     "start_time": "2021-10-13T09:22:03.946453Z"
    }
   },
   "outputs": [],
   "source": [
    "data = data.drop('customer_id', axis=1)"
   ]
  },
  {
   "cell_type": "code",
   "execution_count": 28,
   "metadata": {
    "ExecuteTime": {
     "end_time": "2021-10-13T09:22:04.117955Z",
     "start_time": "2021-10-13T09:22:04.104627Z"
    }
   },
   "outputs": [
    {
     "data": {
      "text/plain": [
       "0    1498678\n",
       "1     499608\n",
       "Name: is_campaign, dtype: int64"
      ]
     },
     "execution_count": 28,
     "metadata": {},
     "output_type": "execute_result"
    }
   ],
   "source": [
    "data.is_campaign.value_counts()"
   ]
  },
  {
   "cell_type": "code",
   "execution_count": 29,
   "metadata": {
    "ExecuteTime": {
     "end_time": "2021-10-13T09:22:04.122745Z",
     "start_time": "2021-10-13T09:22:04.119574Z"
    }
   },
   "outputs": [],
   "source": [
    "col_target = 'puchase_amt_SUM_during_campaign'\n",
    "col_treatment = 'is_campaign'\n",
    "\n",
    "targ_cols = [col_target, col_treatment]\n",
    "cols_features  = [c for c in data.columns if c not in targ_cols]"
   ]
  },
  {
   "cell_type": "code",
   "execution_count": 30,
   "metadata": {
    "ExecuteTime": {
     "end_time": "2021-10-13T09:22:04.150887Z",
     "start_time": "2021-10-13T09:22:04.124300Z"
    }
   },
   "outputs": [
    {
     "data": {
      "text/html": [
       "<div>\n",
       "<style scoped>\n",
       "    .dataframe tbody tr th:only-of-type {\n",
       "        vertical-align: middle;\n",
       "    }\n",
       "\n",
       "    .dataframe tbody tr th {\n",
       "        vertical-align: top;\n",
       "    }\n",
       "\n",
       "    .dataframe thead th {\n",
       "        text-align: right;\n",
       "    }\n",
       "</style>\n",
       "<table border=\"1\" class=\"dataframe\">\n",
       "  <thead>\n",
       "    <tr style=\"text-align: right;\">\n",
       "      <th></th>\n",
       "      <th>puchase_amt_SUM_during_campaign</th>\n",
       "      <th>puchase_amt_SUM_7d_before_campaign</th>\n",
       "      <th>puchase_amt_SUM_15d_before_campaign</th>\n",
       "      <th>puchase_amt_SUM_30d_before_campaign</th>\n",
       "      <th>puchase_amt_SUM_60d_before_campaign</th>\n",
       "      <th>puchase_amt_CNT_7d_before_campaign</th>\n",
       "      <th>puchase_amt_CNT_15d_before_campaign</th>\n",
       "      <th>puchase_amt_CNT_30d_before_campaign</th>\n",
       "      <th>puchase_amt_CNT_60d_before_campaign</th>\n",
       "      <th>puchase_amt_MEAN_7d_before_campaign</th>\n",
       "      <th>...</th>\n",
       "      <th>puchase_amt_STD_60d_before_campaign</th>\n",
       "      <th>is_campaign</th>\n",
       "      <th>age</th>\n",
       "      <th>location_Beauclair</th>\n",
       "      <th>location_Crows_perch</th>\n",
       "      <th>location_Hindarsfjall</th>\n",
       "      <th>location_Kaer_Trolde</th>\n",
       "      <th>location_Novigrad</th>\n",
       "      <th>location_Oxenfurt</th>\n",
       "      <th>location_Spikeroog</th>\n",
       "    </tr>\n",
       "  </thead>\n",
       "  <tbody>\n",
       "    <tr>\n",
       "      <th>0</th>\n",
       "      <td>9.863892</td>\n",
       "      <td>0.00000</td>\n",
       "      <td>12.028087</td>\n",
       "      <td>23.426074</td>\n",
       "      <td>64.498275</td>\n",
       "      <td>0.0</td>\n",
       "      <td>1.0</td>\n",
       "      <td>2.0</td>\n",
       "      <td>6.0</td>\n",
       "      <td>0.000000</td>\n",
       "      <td>...</td>\n",
       "      <td>19.398454</td>\n",
       "      <td>1</td>\n",
       "      <td>56</td>\n",
       "      <td>0</td>\n",
       "      <td>0</td>\n",
       "      <td>0</td>\n",
       "      <td>0</td>\n",
       "      <td>0</td>\n",
       "      <td>1</td>\n",
       "      <td>0</td>\n",
       "    </tr>\n",
       "    <tr>\n",
       "      <th>1</th>\n",
       "      <td>0.000000</td>\n",
       "      <td>0.00000</td>\n",
       "      <td>0.000000</td>\n",
       "      <td>24.823082</td>\n",
       "      <td>46.727059</td>\n",
       "      <td>0.0</td>\n",
       "      <td>0.0</td>\n",
       "      <td>2.0</td>\n",
       "      <td>4.0</td>\n",
       "      <td>0.000000</td>\n",
       "      <td>...</td>\n",
       "      <td>16.309506</td>\n",
       "      <td>1</td>\n",
       "      <td>53</td>\n",
       "      <td>0</td>\n",
       "      <td>0</td>\n",
       "      <td>1</td>\n",
       "      <td>0</td>\n",
       "      <td>0</td>\n",
       "      <td>0</td>\n",
       "      <td>0</td>\n",
       "    </tr>\n",
       "    <tr>\n",
       "      <th>2</th>\n",
       "      <td>0.000000</td>\n",
       "      <td>39.13365</td>\n",
       "      <td>39.133650</td>\n",
       "      <td>39.133650</td>\n",
       "      <td>123.063061</td>\n",
       "      <td>2.0</td>\n",
       "      <td>2.0</td>\n",
       "      <td>2.0</td>\n",
       "      <td>5.0</td>\n",
       "      <td>19.566825</td>\n",
       "      <td>...</td>\n",
       "      <td>21.984085</td>\n",
       "      <td>1</td>\n",
       "      <td>41</td>\n",
       "      <td>0</td>\n",
       "      <td>0</td>\n",
       "      <td>1</td>\n",
       "      <td>0</td>\n",
       "      <td>0</td>\n",
       "      <td>0</td>\n",
       "      <td>0</td>\n",
       "    </tr>\n",
       "    <tr>\n",
       "      <th>3</th>\n",
       "      <td>20.019053</td>\n",
       "      <td>0.00000</td>\n",
       "      <td>0.000000</td>\n",
       "      <td>42.392725</td>\n",
       "      <td>107.439304</td>\n",
       "      <td>0.0</td>\n",
       "      <td>0.0</td>\n",
       "      <td>1.0</td>\n",
       "      <td>3.0</td>\n",
       "      <td>0.000000</td>\n",
       "      <td>...</td>\n",
       "      <td>13.012814</td>\n",
       "      <td>1</td>\n",
       "      <td>60</td>\n",
       "      <td>0</td>\n",
       "      <td>0</td>\n",
       "      <td>0</td>\n",
       "      <td>1</td>\n",
       "      <td>0</td>\n",
       "      <td>0</td>\n",
       "      <td>0</td>\n",
       "    </tr>\n",
       "    <tr>\n",
       "      <th>4</th>\n",
       "      <td>0.000000</td>\n",
       "      <td>0.00000</td>\n",
       "      <td>0.000000</td>\n",
       "      <td>22.253255</td>\n",
       "      <td>41.160985</td>\n",
       "      <td>0.0</td>\n",
       "      <td>0.0</td>\n",
       "      <td>1.0</td>\n",
       "      <td>2.0</td>\n",
       "      <td>0.000000</td>\n",
       "      <td>...</td>\n",
       "      <td>14.142136</td>\n",
       "      <td>1</td>\n",
       "      <td>22</td>\n",
       "      <td>0</td>\n",
       "      <td>0</td>\n",
       "      <td>0</td>\n",
       "      <td>0</td>\n",
       "      <td>0</td>\n",
       "      <td>0</td>\n",
       "      <td>1</td>\n",
       "    </tr>\n",
       "  </tbody>\n",
       "</table>\n",
       "<p>5 rows × 25 columns</p>\n",
       "</div>"
      ],
      "text/plain": [
       "   puchase_amt_SUM_during_campaign  puchase_amt_SUM_7d_before_campaign  \\\n",
       "0                         9.863892                             0.00000   \n",
       "1                         0.000000                             0.00000   \n",
       "2                         0.000000                            39.13365   \n",
       "3                        20.019053                             0.00000   \n",
       "4                         0.000000                             0.00000   \n",
       "\n",
       "   puchase_amt_SUM_15d_before_campaign  puchase_amt_SUM_30d_before_campaign  \\\n",
       "0                            12.028087                            23.426074   \n",
       "1                             0.000000                            24.823082   \n",
       "2                            39.133650                            39.133650   \n",
       "3                             0.000000                            42.392725   \n",
       "4                             0.000000                            22.253255   \n",
       "\n",
       "   puchase_amt_SUM_60d_before_campaign  puchase_amt_CNT_7d_before_campaign  \\\n",
       "0                            64.498275                                 0.0   \n",
       "1                            46.727059                                 0.0   \n",
       "2                           123.063061                                 2.0   \n",
       "3                           107.439304                                 0.0   \n",
       "4                            41.160985                                 0.0   \n",
       "\n",
       "   puchase_amt_CNT_15d_before_campaign  puchase_amt_CNT_30d_before_campaign  \\\n",
       "0                                  1.0                                  2.0   \n",
       "1                                  0.0                                  2.0   \n",
       "2                                  2.0                                  2.0   \n",
       "3                                  0.0                                  1.0   \n",
       "4                                  0.0                                  1.0   \n",
       "\n",
       "   puchase_amt_CNT_60d_before_campaign  puchase_amt_MEAN_7d_before_campaign  \\\n",
       "0                                  6.0                             0.000000   \n",
       "1                                  4.0                             0.000000   \n",
       "2                                  5.0                            19.566825   \n",
       "3                                  3.0                             0.000000   \n",
       "4                                  2.0                             0.000000   \n",
       "\n",
       "   ...  puchase_amt_STD_60d_before_campaign  is_campaign  age  \\\n",
       "0  ...                            19.398454            1   56   \n",
       "1  ...                            16.309506            1   53   \n",
       "2  ...                            21.984085            1   41   \n",
       "3  ...                            13.012814            1   60   \n",
       "4  ...                            14.142136            1   22   \n",
       "\n",
       "   location_Beauclair  location_Crows_perch  location_Hindarsfjall  \\\n",
       "0                   0                     0                      0   \n",
       "1                   0                     0                      1   \n",
       "2                   0                     0                      1   \n",
       "3                   0                     0                      0   \n",
       "4                   0                     0                      0   \n",
       "\n",
       "   location_Kaer_Trolde  location_Novigrad  location_Oxenfurt  \\\n",
       "0                     0                  0                  1   \n",
       "1                     0                  0                  0   \n",
       "2                     0                  0                  0   \n",
       "3                     1                  0                  0   \n",
       "4                     0                  0                  0   \n",
       "\n",
       "   location_Spikeroog  \n",
       "0                   0  \n",
       "1                   0  \n",
       "2                   0  \n",
       "3                   0  \n",
       "4                   1  \n",
       "\n",
       "[5 rows x 25 columns]"
      ]
     },
     "execution_count": 30,
     "metadata": {},
     "output_type": "execute_result"
    }
   ],
   "source": [
    "data.head()"
   ]
  },
  {
   "cell_type": "code",
   "execution_count": 31,
   "metadata": {
    "ExecuteTime": {
     "end_time": "2021-10-13T09:22:05.341223Z",
     "start_time": "2021-10-13T09:22:04.153030Z"
    }
   },
   "outputs": [
    {
     "data": {
      "image/png": "[encoded data removed]",
      "text/plain": [
       "<Figure size 720x504 with 1 Axes>"
      ]
     },
     "metadata": {},
     "output_type": "display_data"
    }
   ],
   "source": [
    "# посчитаем uplift в разрезе каждого из значений переменной f1 (средняя разность между целевыми и контрольными пользователями по показателю visit)\n",
    "# если бы различий не было, можно было бы избавиться от фактора\n",
    "# линии - доверительные интервалы\n",
    "\n",
    "_ = response_uplift(\n",
    "    data=data,\n",
    "    col_feature='puchase_amt_CNT_7d_before_campaign',\n",
    "    col_target=col_target,\n",
    "    col_treatment=col_treatment\n",
    ")"
   ]
  },
  {
   "cell_type": "markdown",
   "metadata": {},
   "source": [
    "# fit part"
   ]
  },
  {
   "cell_type": "code",
   "execution_count": 215,
   "metadata": {
    "ExecuteTime": {
     "end_time": "2021-10-13T09:58:30.074244Z",
     "start_time": "2021-10-13T09:58:29.992093Z"
    }
   },
   "outputs": [],
   "source": [
    "fit_index, val_index = train_test_split(data.index, test_size=0.2, random_state=148)"
   ]
  },
  {
   "cell_type": "code",
   "execution_count": 216,
   "metadata": {
    "ExecuteTime": {
     "end_time": "2021-10-13T09:58:30.336160Z",
     "start_time": "2021-10-13T09:58:30.191096Z"
    }
   },
   "outputs": [],
   "source": [
    "_p_score_const = data.loc[fit_index, col_treatment].value_counts(normalize=True).loc[1]\n",
    "_p_scores = pd.Series(data=_p_score_const, index=fit_index)"
   ]
  },
  {
   "cell_type": "code",
   "execution_count": 218,
   "metadata": {
    "ExecuteTime": {
     "end_time": "2021-10-13T09:58:30.841220Z",
     "start_time": "2021-10-13T09:58:30.835792Z"
    }
   },
   "outputs": [],
   "source": [
    "# lgb_params  = {'num_leaves': 30, \n",
    "#                'learning_rate': 0.15}\n",
    "\n",
    "lgb_params = {}"
   ]
  },
  {
   "cell_type": "code",
   "execution_count": null,
   "metadata": {},
   "outputs": [],
   "source": []
  },
  {
   "cell_type": "code",
   "execution_count": 217,
   "metadata": {
    "ExecuteTime": {
     "end_time": "2021-10-13T09:58:30.421488Z",
     "start_time": "2021-10-13T09:58:30.416115Z"
    }
   },
   "outputs": [],
   "source": [
    "# model_n1 = rlearner.BaseRRegressor(\n",
    "#     learner=lgb.LGBMRegressor(),\n",
    "#     control_name=0,\n",
    "#     n_fold=4,\n",
    "#     random_state=165\n",
    "# )\n",
    "\n",
    "# model_n1.fit(\n",
    "#     X=data.loc[fit_index, cols_features].values,\n",
    "#     treatment=data.loc[fit_index, col_treatment].values,\n",
    "#     y=data.loc[fit_index, col_target].values,\n",
    "#     p=_p_scores\n",
    "# )\n",
    "\n",
    "# _eval_data = data.loc[val_index, cols_features + [col_treatment, col_target]]\n",
    "# _eval_data['score'] = model_n1.predict(_eval_data[cols_features])\n",
    "# _eval_data = _eval_data[['score', col_treatment, col_target]]"
   ]
  },
  {
   "cell_type": "code",
   "execution_count": 219,
   "metadata": {
    "ExecuteTime": {
     "end_time": "2021-10-13T09:58:41.573719Z",
     "start_time": "2021-10-13T09:58:31.073929Z"
    }
   },
   "outputs": [],
   "source": [
    "# model_n1 = xlearner.BaseXRegressor(\n",
    "#     learner=lgb.LGBMRegressor(**lgb_params),\n",
    "#     control_name=0,\n",
    "# )\n",
    "\n",
    "# model_n1.fit(\n",
    "#     X=data.loc[fit_index, cols_features].values,\n",
    "#     treatment=data.loc[fit_index, col_treatment].values,\n",
    "#     y=data.loc[fit_index, col_target].values,\n",
    "#     p=_p_scores\n",
    "# )\n",
    "\n",
    "# _p_scores = pd.Series(data=_p_score_const, index=val_index)\n",
    "\n",
    "# _eval_data = data.loc[val_index, cols_features + [col_treatment, col_target]]\n",
    "# _eval_data['score'] = model_n1.predict(_eval_data[cols_features], p=_p_scores)\n",
    "# _eval_data = _eval_data[['score', col_treatment, col_target]]"
   ]
  },
  {
   "cell_type": "code",
   "execution_count": 220,
   "metadata": {
    "ExecuteTime": {
     "end_time": "2021-10-13T09:58:41.577709Z",
     "start_time": "2021-10-13T09:58:41.575592Z"
    }
   },
   "outputs": [],
   "source": [
    "# model_n1 = tlearner.BaseTRegressor(\n",
    "#     learner=lgb.LGBMRegressor(),\n",
    "#     control_name=0,\n",
    "# )\n",
    "\n",
    "\n",
    "# model_n1.fit(\n",
    "#     X=data.loc[fit_index, cols_features].values,\n",
    "#     treatment=data.loc[fit_index, col_treatment].values,\n",
    "#     y=data.loc[fit_index, col_target].values,\n",
    "#     p=_p_scores\n",
    "# )\n",
    "\n",
    "# _eval_data = data.loc[val_index, cols_features + [col_treatment, col_target]]\n",
    "# _eval_data['score'] = model_n1.predict(_eval_data[cols_features])\n",
    "# _eval_data = _eval_data[['score', col_treatment, col_target]]"
   ]
  },
  {
   "cell_type": "code",
   "execution_count": 234,
   "metadata": {
    "ExecuteTime": {
     "end_time": "2021-10-13T10:10:41.159348Z",
     "start_time": "2021-10-13T10:10:41.154506Z"
    },
    "scrolled": true
   },
   "outputs": [],
   "source": [
    "model_n1 = pylift.TransformedOutcome(\n",
    "    data.loc[fit_index, cols_features + [col_treatment, col_target]],\n",
    "    col_treatment=col_treatment, col_outcome=col_target,\n",
    "    test_size=2\n",
    ")\n",
    "\n",
    "model_n1.fit()\n",
    "\n",
    "_eval_data = data.loc[val_index, cols_features + [col_treatment, col_target]]\n",
    "_eval_data['score'] = model_n1.model.predict(_eval_data[cols_features])\n",
    "_eval_data = _eval_data[['score', col_treatment, col_target]]"
   ]
  },
  {
   "cell_type": "code",
   "execution_count": null,
   "metadata": {},
   "outputs": [],
   "source": []
  },
  {
   "cell_type": "code",
   "execution_count": 221,
   "metadata": {
    "ExecuteTime": {
     "end_time": "2021-10-13T09:58:41.589923Z",
     "start_time": "2021-10-13T09:58:41.579937Z"
    }
   },
   "outputs": [],
   "source": [
    "# np.percentile(_eval_data['score'], 5)"
   ]
  },
  {
   "cell_type": "code",
   "execution_count": 222,
   "metadata": {
    "ExecuteTime": {
     "end_time": "2021-10-13T09:58:41.600820Z",
     "start_time": "2021-10-13T09:58:41.592006Z"
    }
   },
   "outputs": [],
   "source": [
    "# np.percentile(_eval_data['score'], 95)"
   ]
  },
  {
   "cell_type": "code",
   "execution_count": 223,
   "metadata": {
    "ExecuteTime": {
     "end_time": "2021-10-13T09:58:41.611792Z",
     "start_time": "2021-10-13T09:58:41.603178Z"
    },
    "scrolled": false
   },
   "outputs": [],
   "source": [
    "# plt.figure(figsize=(10, 6))\n",
    "# plt.hist(_eval_data['score'], range=(-2, 2), bins=16)\n",
    "# plt.show()"
   ]
  },
  {
   "cell_type": "code",
   "execution_count": 224,
   "metadata": {
    "ExecuteTime": {
     "end_time": "2021-10-13T09:58:41.623472Z",
     "start_time": "2021-10-13T09:58:41.614395Z"
    }
   },
   "outputs": [],
   "source": [
    "# _eval_data['score'].describe()"
   ]
  },
  {
   "cell_type": "code",
   "execution_count": 231,
   "metadata": {
    "ExecuteTime": {
     "end_time": "2021-10-13T10:06:40.338406Z",
     "start_time": "2021-10-13T10:06:38.519943Z"
    }
   },
   "outputs": [
    {
     "data": {
      "image/png": "[encoded data removed]",
      "text/plain": [
       "<Figure size 576x576 with 1 Axes>"
      ]
     },
     "metadata": {},
     "output_type": "display_data"
    }
   ],
   "source": [
    "cmetrics.plot_gain(\n",
    "    _eval_data,\n",
    "    treatment_col=col_treatment,\n",
    "    outcome_col=col_target,\n",
    ")"
   ]
  },
  {
   "cell_type": "code",
   "execution_count": 232,
   "metadata": {
    "ExecuteTime": {
     "end_time": "2021-10-13T10:06:45.561791Z",
     "start_time": "2021-10-13T10:06:43.776379Z"
    }
   },
   "outputs": [
    {
     "data": {
      "text/plain": [
       "score     9.882388e-02\n",
       "Random    9.612459e-15\n",
       "dtype: float64"
      ]
     },
     "execution_count": 232,
     "metadata": {},
     "output_type": "execute_result"
    }
   ],
   "source": [
    "cmetrics.qini_score(\n",
    "    _eval_data,\n",
    "    treatment_col=col_treatment,\n",
    "    outcome_col=col_target,\n",
    ")"
   ]
  },
  {
   "cell_type": "code",
   "execution_count": 233,
   "metadata": {
    "ExecuteTime": {
     "end_time": "2021-10-13T10:06:49.940047Z",
     "start_time": "2021-10-13T10:06:49.932404Z"
    }
   },
   "outputs": [
    {
     "data": {
      "text/plain": [
       "0.09882388"
      ]
     },
     "execution_count": 233,
     "metadata": {},
     "output_type": "execute_result"
    }
   ],
   "source": [
    "9.882388e-02"
   ]
  },
  {
   "cell_type": "code",
   "execution_count": null,
   "metadata": {},
   "outputs": [],
   "source": []
  },
  {
   "cell_type": "code",
   "execution_count": 245,
   "metadata": {
    "ExecuteTime": {
     "end_time": "2021-10-13T10:28:57.944733Z",
     "start_time": "2021-10-13T10:28:57.940168Z"
    }
   },
   "outputs": [],
   "source": [
    "# tmp = pylift.TransformedOutcome(\n",
    "#     data.loc[fit_index, cols_features + [col_treatment, col_target]],\n",
    "#     col_treatment=col_treatment,\n",
    "#     col_outcome=col_target,\n",
    "#     test_size=2\n",
    "# )"
   ]
  },
  {
   "cell_type": "code",
   "execution_count": 246,
   "metadata": {
    "ExecuteTime": {
     "end_time": "2021-10-13T10:28:59.600808Z",
     "start_time": "2021-10-13T10:28:59.596093Z"
    },
    "scrolled": true
   },
   "outputs": [],
   "source": [
    "# tmp.NIV(n_bins=10)"
   ]
  },
  {
   "cell_type": "markdown",
   "metadata": {},
   "source": [
    "# fit"
   ]
  },
  {
   "cell_type": "code",
   "execution_count": 240,
   "metadata": {
    "ExecuteTime": {
     "end_time": "2021-10-13T10:24:37.843692Z",
     "start_time": "2021-10-13T10:24:37.814215Z"
    }
   },
   "outputs": [],
   "source": [
    "_p_score_const = data.loc[:, col_treatment].value_counts(normalize=True).loc[1]\n",
    "_p_scores = pd.Series(data=_p_score_const, index=data.index)"
   ]
  },
  {
   "cell_type": "code",
   "execution_count": 241,
   "metadata": {
    "ExecuteTime": {
     "end_time": "2021-10-13T10:25:01.112101Z",
     "start_time": "2021-10-13T10:24:38.091989Z"
    }
   },
   "outputs": [],
   "source": [
    "is_baseX = False\n",
    "\n",
    "model_n_pred = rlearner.BaseRRegressor(\n",
    "    learner=lgb.LGBMRegressor(**lgb_params),\n",
    "    control_name=0,\n",
    "    n_fold=4,\n",
    "    random_state=165\n",
    ")\n",
    "\n",
    "model_n_pred.fit(\n",
    "    X=data.loc[:, cols_features].values,\n",
    "    treatment=data.loc[:, col_treatment].values,\n",
    "    y=data.loc[:, col_target].values,\n",
    "    p=_p_scores\n",
    ")\n"
   ]
  },
  {
   "cell_type": "code",
   "execution_count": 242,
   "metadata": {
    "ExecuteTime": {
     "end_time": "2021-10-13T10:25:16.194423Z",
     "start_time": "2021-10-13T10:25:05.486014Z"
    }
   },
   "outputs": [],
   "source": [
    "is_baseX = True\n",
    "\n",
    "model_n_pred = xlearner.BaseXRegressor(\n",
    "    learner=lgb.LGBMRegressor(**lgb_params),\n",
    "    control_name=0,\n",
    ")\n",
    "\n",
    "model_n_pred.fit(\n",
    "    X=data.loc[:, cols_features].values,\n",
    "    treatment=data.loc[:, col_treatment].values,\n",
    "    y=data.loc[:, col_target].values,\n",
    "    p=_p_scores\n",
    ")"
   ]
  },
  {
   "cell_type": "code",
   "execution_count": 243,
   "metadata": {
    "ExecuteTime": {
     "end_time": "2021-10-13T10:25:20.496154Z",
     "start_time": "2021-10-13T10:25:16.196251Z"
    }
   },
   "outputs": [],
   "source": [
    "is_baseX = False\n",
    "\n",
    "model_n_pred = tlearner.BaseTRegressor(\n",
    "    learner=lgb.LGBMRegressor(**lgb_params),\n",
    "    control_name=0,\n",
    ")\n",
    "\n",
    "\n",
    "model_n_pred.fit(\n",
    "    X=data.loc[:, cols_features].values,\n",
    "    treatment=data.loc[:, col_treatment].values,\n",
    "    y=data.loc[:, col_target].values,\n",
    "    p=_p_scores\n",
    ")\n"
   ]
  },
  {
   "cell_type": "code",
   "execution_count": 244,
   "metadata": {
    "ExecuteTime": {
     "end_time": "2021-10-13T10:28:16.449889Z",
     "start_time": "2021-10-13T10:25:20.497972Z"
    },
    "scrolled": true
   },
   "outputs": [
    {
     "name": "stderr",
     "output_type": "stream",
     "text": [
      "/home/atuthvatullin/environments/albert/lib/python3.6/site-packages/pylift/eval.py:275: RuntimeWarning: invalid value encountered in double_scalars\n",
      "  y = [0, x[1]*slope, x[1]*slope, (Nt1o1/Nt1-Nt0o1/Nt0)]\n",
      "/home/atuthvatullin/environments/albert/lib/python3.6/site-packages/pylift/eval.py:343: RuntimeWarning: invalid value encountered in double_scalars\n",
      "  kink_y = (persuadables[1] + sure_things[1])/(persuadables[1] + sure_things[1] + lost_causes[1]) \\\n",
      "/home/atuthvatullin/environments/albert/lib/python3.6/site-packages/pylift/eval.py:345: RuntimeWarning: invalid value encountered in double_scalars\n",
      "  y = [1, 1, kink_y, (Nt1o1/Nt1-Nt0o1/Nt0)]\n",
      "/home/atuthvatullin/environments/albert/lib/python3.6/site-packages/pylift/eval.py:135: RuntimeWarning: invalid value encountered in double_scalars\n",
      "  persuadables = (Nt1o1*Nt0/Nt1, Nt1o1)  # Add the persuadables in control.\n",
      "/home/atuthvatullin/environments/albert/lib/python3.6/site-packages/pylift/eval.py:181: RuntimeWarning: invalid value encountered in double_scalars\n",
      "  lost_causes = (Nt1o0*Nt0/Nt1, Nt1o0)\n",
      "/home/atuthvatullin/environments/albert/lib/python3.6/site-packages/pylift/eval.py:603: RuntimeWarning: invalid value encountered in double_scalars\n",
      "  'qini': lambda nt1o1, nt0o1, nt1, nt0: nt1o1/self.N_treat - nt0o1/self.N_contr,\n",
      "/home/atuthvatullin/environments/albert/lib/python3.6/site-packages/pylift/eval.py:604: RuntimeWarning: invalid value encountered in double_scalars\n",
      "  'aqini': lambda nt1o1, nt0o1, nt1, nt0: nt1o1/self.N_treat - nt0o1*nt1/(nt0*self.N_treat + EPS),\n",
      "/home/atuthvatullin/environments/albert/lib/python3.6/site-packages/pylift/eval.py:408: RuntimeWarning: invalid value encountered in double_scalars\n",
      "  overall_lift = (Nt1o1/Nt1-Nt0o1/Nt0)\n",
      "/home/atuthvatullin/environments/albert/lib/python3.6/site-packages/pylift/eval.py:450: RuntimeWarning: invalid value encountered in double_scalars\n",
      "  uplift_next = nt1o1/Nt1-nt0o1/Nt0\n",
      "/home/atuthvatullin/environments/albert/lib/python3.6/site-packages/pylift/eval.py:454: RuntimeWarning: invalid value encountered in double_scalars\n",
      "  uplift_next = nt1o1/Nt1-nt0o1*nt1/(nt0*Nt1 + EPS)\n"
     ]
    }
   ],
   "source": [
    "is_baseX = False\n",
    "\n",
    "model_n_pred = pylift.TransformedOutcome(\n",
    "    data.loc[:, cols_features + [col_treatment, col_target]],\n",
    "    col_treatment=col_treatment, col_outcome=col_target,\n",
    "    test_size=2\n",
    ")\n",
    "\n",
    "model_n_pred.fit()"
   ]
  },
  {
   "cell_type": "code",
   "execution_count": null,
   "metadata": {},
   "outputs": [],
   "source": []
  },
  {
   "cell_type": "code",
   "execution_count": 176,
   "metadata": {
    "ExecuteTime": {
     "end_time": "2021-10-13T09:45:07.730936Z",
     "start_time": "2021-10-13T09:45:07.686226Z"
    }
   },
   "outputs": [
    {
     "data": {
      "text/plain": [
       "249"
      ]
     },
     "execution_count": 176,
     "metadata": {},
     "output_type": "execute_result"
    }
   ],
   "source": [
    "receipts.date.max()"
   ]
  },
  {
   "cell_type": "markdown",
   "metadata": {},
   "source": [
    "# predict"
   ]
  },
  {
   "cell_type": "code",
   "execution_count": 177,
   "metadata": {
    "ExecuteTime": {
     "end_time": "2021-10-13T09:45:15.901201Z",
     "start_time": "2021-10-13T09:45:07.732915Z"
    }
   },
   "outputs": [],
   "source": [
    "_eval_data = pd.DataFrame(index=set(receipts.customer_id))"
   ]
  },
  {
   "cell_type": "code",
   "execution_count": 178,
   "metadata": {
    "ExecuteTime": {
     "end_time": "2021-10-13T09:45:32.511969Z",
     "start_time": "2021-10-13T09:45:15.906449Z"
    }
   },
   "outputs": [],
   "source": [
    "# _eval_data['puchase_amt_during_campaign'] = \\\n",
    "#     receipts[(receipts.date>=102) & (receipts.date<=249)].groupby('customer_id')['purchase_amt'].sum()\n",
    "\n",
    "# SUM\n",
    "_eval_data['puchase_amt_SUM_7d_before_campaign'] = \\\n",
    "    receipts[(receipts.date>=243) & (receipts.date<=249)].groupby('customer_id')['purchase_amt'].sum()\n",
    "\n",
    "_eval_data['puchase_amt_SUM_15d_before_campaign'] = \\\n",
    "    receipts[(receipts.date>=235) & (receipts.date<=249)].groupby('customer_id')['purchase_amt'].sum()\n",
    "\n",
    "_eval_data['puchase_amt_SUM_30d_before_campaign'] = \\\n",
    "    receipts[(receipts.date>=220) & (receipts.date<=249)].groupby('customer_id')['purchase_amt'].sum()\n",
    "\n",
    "_eval_data['puchase_amt_SUM_60d_before_campaign'] = \\\n",
    "    receipts[(receipts.date>=190) & (receipts.date<=249)].groupby('customer_id')['purchase_amt'].sum()\n",
    "\n",
    "# CNT\n",
    "_eval_data['puchase_amt_CNT_7d_before_campaign'] = \\\n",
    "    receipts[(receipts.date>=243) & (receipts.date<=249)].groupby('customer_id')['purchase_amt'].size()\n",
    "\n",
    "_eval_data['puchase_amt_CNT_15d_before_campaign'] = \\\n",
    "    receipts[(receipts.date>=235) & (receipts.date<=249)].groupby('customer_id')['purchase_amt'].size()\n",
    "\n",
    "_eval_data['puchase_amt_CNT_30d_before_campaign'] = \\\n",
    "    receipts[(receipts.date>=220) & (receipts.date<=249)].groupby('customer_id')['purchase_amt'].size()\n",
    "\n",
    "_eval_data['puchase_amt_CNT_60d_before_campaign'] = \\\n",
    "    receipts[(receipts.date>=190) & (receipts.date<=249)].groupby('customer_id')['purchase_amt'].size()\n",
    "\n",
    "# MEAN\n",
    "_eval_data['puchase_amt_MEAN_7d_before_campaign'] = \\\n",
    "    receipts[(receipts.date>=243) & (receipts.date<=249)].groupby('customer_id')['purchase_amt'].mean()\n",
    "\n",
    "_eval_data['puchase_amt_MEAN_15d_before_campaign'] = \\\n",
    "    receipts[(receipts.date>=235) & (receipts.date<=249)].groupby('customer_id')['purchase_amt'].mean()\n",
    "\n",
    "_eval_data['puchase_amt_MEAN_30d_before_campaign'] = \\\n",
    "    receipts[(receipts.date>=220) & (receipts.date<=249)].groupby('customer_id')['purchase_amt'].mean()\n",
    "\n",
    "_eval_data['puchase_amt_MEAN_60d_before_campaign'] = \\\n",
    "    receipts[(receipts.date>=190) & (receipts.date<=249)].groupby('customer_id')['purchase_amt'].mean()\n",
    "\n",
    "\n",
    "# last day\n",
    "_eval_data['cnt_last_purch_days_before_campaign'] = 250 - receipts[receipts.date<250].groupby('customer_id')['date'].max()\n",
    "\n",
    "\n",
    "# std\n",
    "# _eval_data['puchase_amt_STD_7d_before_campaign'] = \\\n",
    "#     receipts[(receipts.date>=243) & (receipts.date<=249)].groupby('customer_id')['date'].std()\n",
    "\n",
    "# _eval_data['puchase_amt_STD_15d_before_campaign'] = \\\n",
    "#     receipts[(receipts.date>=235) & (receipts.date<=249)].groupby('customer_id')['date'].std()\n",
    "\n",
    "_eval_data['puchase_amt_STD_30d_before_campaign'] = \\\n",
    "    receipts[(receipts.date>=220) & (receipts.date<=249)].groupby('customer_id')['date'].std()\n",
    "\n",
    "_eval_data['puchase_amt_STD_60d_before_campaign'] = \\\n",
    "    receipts[(receipts.date>=190) & (receipts.date<=249)].groupby('customer_id')['date'].std()"
   ]
  },
  {
   "cell_type": "code",
   "execution_count": 179,
   "metadata": {
    "ExecuteTime": {
     "end_time": "2021-10-13T09:45:33.008903Z",
     "start_time": "2021-10-13T09:45:32.513595Z"
    }
   },
   "outputs": [],
   "source": [
    "_eval_data[[c for c in _eval_data.columns if '_STD_' not in c]] = \\\n",
    "        _eval_data[[c for c in _eval_data.columns if '_STD_' not in c]].fillna(0)"
   ]
  },
  {
   "cell_type": "code",
   "execution_count": 180,
   "metadata": {
    "ExecuteTime": {
     "end_time": "2021-10-13T09:45:33.308790Z",
     "start_time": "2021-10-13T09:45:33.010317Z"
    }
   },
   "outputs": [],
   "source": [
    "_eval_data = _eval_data.join(customers)"
   ]
  },
  {
   "cell_type": "code",
   "execution_count": 181,
   "metadata": {
    "ExecuteTime": {
     "end_time": "2021-10-13T09:45:33.595360Z",
     "start_time": "2021-10-13T09:45:33.310229Z"
    }
   },
   "outputs": [],
   "source": [
    "_eval_data = _eval_data.drop('customer_id', axis=1)"
   ]
  },
  {
   "cell_type": "code",
   "execution_count": 182,
   "metadata": {
    "ExecuteTime": {
     "end_time": "2021-10-13T09:45:33.614053Z",
     "start_time": "2021-10-13T09:45:33.597157Z"
    }
   },
   "outputs": [
    {
     "data": {
      "text/html": [
       "<div>\n",
       "<style scoped>\n",
       "    .dataframe tbody tr th:only-of-type {\n",
       "        vertical-align: middle;\n",
       "    }\n",
       "\n",
       "    .dataframe tbody tr th {\n",
       "        vertical-align: top;\n",
       "    }\n",
       "\n",
       "    .dataframe thead th {\n",
       "        text-align: right;\n",
       "    }\n",
       "</style>\n",
       "<table border=\"1\" class=\"dataframe\">\n",
       "  <thead>\n",
       "    <tr style=\"text-align: right;\">\n",
       "      <th></th>\n",
       "      <th>puchase_amt_SUM_7d_before_campaign</th>\n",
       "      <th>puchase_amt_SUM_15d_before_campaign</th>\n",
       "      <th>puchase_amt_SUM_30d_before_campaign</th>\n",
       "      <th>puchase_amt_SUM_60d_before_campaign</th>\n",
       "      <th>puchase_amt_CNT_7d_before_campaign</th>\n",
       "      <th>puchase_amt_CNT_15d_before_campaign</th>\n",
       "      <th>puchase_amt_CNT_30d_before_campaign</th>\n",
       "      <th>puchase_amt_CNT_60d_before_campaign</th>\n",
       "      <th>puchase_amt_MEAN_7d_before_campaign</th>\n",
       "      <th>puchase_amt_MEAN_15d_before_campaign</th>\n",
       "      <th>...</th>\n",
       "      <th>puchase_amt_STD_30d_before_campaign</th>\n",
       "      <th>puchase_amt_STD_60d_before_campaign</th>\n",
       "      <th>age</th>\n",
       "      <th>location_Beauclair</th>\n",
       "      <th>location_Crows_perch</th>\n",
       "      <th>location_Hindarsfjall</th>\n",
       "      <th>location_Kaer_Trolde</th>\n",
       "      <th>location_Novigrad</th>\n",
       "      <th>location_Oxenfurt</th>\n",
       "      <th>location_Spikeroog</th>\n",
       "    </tr>\n",
       "  </thead>\n",
       "  <tbody>\n",
       "    <tr>\n",
       "      <th>0</th>\n",
       "      <td>0.000000</td>\n",
       "      <td>9.964590</td>\n",
       "      <td>20.769769</td>\n",
       "      <td>62.964857</td>\n",
       "      <td>0.0</td>\n",
       "      <td>1.0</td>\n",
       "      <td>2.0</td>\n",
       "      <td>7.0</td>\n",
       "      <td>0.000000</td>\n",
       "      <td>9.964590</td>\n",
       "      <td>...</td>\n",
       "      <td>10.606602</td>\n",
       "      <td>16.159915</td>\n",
       "      <td>56</td>\n",
       "      <td>0</td>\n",
       "      <td>0</td>\n",
       "      <td>0</td>\n",
       "      <td>0</td>\n",
       "      <td>0</td>\n",
       "      <td>1</td>\n",
       "      <td>0</td>\n",
       "    </tr>\n",
       "    <tr>\n",
       "      <th>1</th>\n",
       "      <td>10.517529</td>\n",
       "      <td>10.517529</td>\n",
       "      <td>10.517529</td>\n",
       "      <td>33.431073</td>\n",
       "      <td>1.0</td>\n",
       "      <td>1.0</td>\n",
       "      <td>1.0</td>\n",
       "      <td>3.0</td>\n",
       "      <td>10.517529</td>\n",
       "      <td>10.517529</td>\n",
       "      <td>...</td>\n",
       "      <td>NaN</td>\n",
       "      <td>20.033306</td>\n",
       "      <td>53</td>\n",
       "      <td>0</td>\n",
       "      <td>0</td>\n",
       "      <td>1</td>\n",
       "      <td>0</td>\n",
       "      <td>0</td>\n",
       "      <td>0</td>\n",
       "      <td>0</td>\n",
       "    </tr>\n",
       "    <tr>\n",
       "      <th>2</th>\n",
       "      <td>34.315607</td>\n",
       "      <td>73.011893</td>\n",
       "      <td>73.011893</td>\n",
       "      <td>165.795167</td>\n",
       "      <td>1.0</td>\n",
       "      <td>2.0</td>\n",
       "      <td>2.0</td>\n",
       "      <td>5.0</td>\n",
       "      <td>34.315607</td>\n",
       "      <td>36.505946</td>\n",
       "      <td>...</td>\n",
       "      <td>7.071068</td>\n",
       "      <td>19.766133</td>\n",
       "      <td>41</td>\n",
       "      <td>0</td>\n",
       "      <td>0</td>\n",
       "      <td>1</td>\n",
       "      <td>0</td>\n",
       "      <td>0</td>\n",
       "      <td>0</td>\n",
       "      <td>0</td>\n",
       "    </tr>\n",
       "    <tr>\n",
       "      <th>3</th>\n",
       "      <td>0.000000</td>\n",
       "      <td>30.054258</td>\n",
       "      <td>30.054258</td>\n",
       "      <td>93.378358</td>\n",
       "      <td>0.0</td>\n",
       "      <td>1.0</td>\n",
       "      <td>1.0</td>\n",
       "      <td>3.0</td>\n",
       "      <td>0.000000</td>\n",
       "      <td>30.054258</td>\n",
       "      <td>...</td>\n",
       "      <td>NaN</td>\n",
       "      <td>20.744477</td>\n",
       "      <td>60</td>\n",
       "      <td>0</td>\n",
       "      <td>0</td>\n",
       "      <td>0</td>\n",
       "      <td>1</td>\n",
       "      <td>0</td>\n",
       "      <td>0</td>\n",
       "      <td>0</td>\n",
       "    </tr>\n",
       "    <tr>\n",
       "      <th>4</th>\n",
       "      <td>0.000000</td>\n",
       "      <td>0.000000</td>\n",
       "      <td>0.000000</td>\n",
       "      <td>27.603203</td>\n",
       "      <td>0.0</td>\n",
       "      <td>0.0</td>\n",
       "      <td>0.0</td>\n",
       "      <td>2.0</td>\n",
       "      <td>0.000000</td>\n",
       "      <td>0.000000</td>\n",
       "      <td>...</td>\n",
       "      <td>NaN</td>\n",
       "      <td>5.656854</td>\n",
       "      <td>22</td>\n",
       "      <td>0</td>\n",
       "      <td>0</td>\n",
       "      <td>0</td>\n",
       "      <td>0</td>\n",
       "      <td>0</td>\n",
       "      <td>0</td>\n",
       "      <td>1</td>\n",
       "    </tr>\n",
       "  </tbody>\n",
       "</table>\n",
       "<p>5 rows × 23 columns</p>\n",
       "</div>"
      ],
      "text/plain": [
       "   puchase_amt_SUM_7d_before_campaign  puchase_amt_SUM_15d_before_campaign  \\\n",
       "0                            0.000000                             9.964590   \n",
       "1                           10.517529                            10.517529   \n",
       "2                           34.315607                            73.011893   \n",
       "3                            0.000000                            30.054258   \n",
       "4                            0.000000                             0.000000   \n",
       "\n",
       "   puchase_amt_SUM_30d_before_campaign  puchase_amt_SUM_60d_before_campaign  \\\n",
       "0                            20.769769                            62.964857   \n",
       "1                            10.517529                            33.431073   \n",
       "2                            73.011893                           165.795167   \n",
       "3                            30.054258                            93.378358   \n",
       "4                             0.000000                            27.603203   \n",
       "\n",
       "   puchase_amt_CNT_7d_before_campaign  puchase_amt_CNT_15d_before_campaign  \\\n",
       "0                                 0.0                                  1.0   \n",
       "1                                 1.0                                  1.0   \n",
       "2                                 1.0                                  2.0   \n",
       "3                                 0.0                                  1.0   \n",
       "4                                 0.0                                  0.0   \n",
       "\n",
       "   puchase_amt_CNT_30d_before_campaign  puchase_amt_CNT_60d_before_campaign  \\\n",
       "0                                  2.0                                  7.0   \n",
       "1                                  1.0                                  3.0   \n",
       "2                                  2.0                                  5.0   \n",
       "3                                  1.0                                  3.0   \n",
       "4                                  0.0                                  2.0   \n",
       "\n",
       "   puchase_amt_MEAN_7d_before_campaign  puchase_amt_MEAN_15d_before_campaign  \\\n",
       "0                             0.000000                              9.964590   \n",
       "1                            10.517529                             10.517529   \n",
       "2                            34.315607                             36.505946   \n",
       "3                             0.000000                             30.054258   \n",
       "4                             0.000000                              0.000000   \n",
       "\n",
       "   ...  puchase_amt_STD_30d_before_campaign  \\\n",
       "0  ...                            10.606602   \n",
       "1  ...                                  NaN   \n",
       "2  ...                             7.071068   \n",
       "3  ...                                  NaN   \n",
       "4  ...                                  NaN   \n",
       "\n",
       "   puchase_amt_STD_60d_before_campaign  age  location_Beauclair  \\\n",
       "0                            16.159915   56                   0   \n",
       "1                            20.033306   53                   0   \n",
       "2                            19.766133   41                   0   \n",
       "3                            20.744477   60                   0   \n",
       "4                             5.656854   22                   0   \n",
       "\n",
       "   location_Crows_perch  location_Hindarsfjall  location_Kaer_Trolde  \\\n",
       "0                     0                      0                     0   \n",
       "1                     0                      1                     0   \n",
       "2                     0                      1                     0   \n",
       "3                     0                      0                     1   \n",
       "4                     0                      0                     0   \n",
       "\n",
       "   location_Novigrad  location_Oxenfurt  location_Spikeroog  \n",
       "0                  0                  1                   0  \n",
       "1                  0                  0                   0  \n",
       "2                  0                  0                   0  \n",
       "3                  0                  0                   0  \n",
       "4                  0                  0                   1  \n",
       "\n",
       "[5 rows x 23 columns]"
      ]
     },
     "execution_count": 182,
     "metadata": {},
     "output_type": "execute_result"
    }
   ],
   "source": [
    "_eval_data.head()"
   ]
  },
  {
   "cell_type": "code",
   "execution_count": 183,
   "metadata": {
    "ExecuteTime": {
     "end_time": "2021-10-13T09:45:36.042181Z",
     "start_time": "2021-10-13T09:45:33.615490Z"
    }
   },
   "outputs": [],
   "source": [
    "if is_baseX: # BaseXRegressor\n",
    "    _p_scores = pd.Series(data=_p_score_const, index=_eval_data.index)\n",
    "    _eval_data['score'] = model_n_pred.predict(_eval_data, p=_p_scores)\n",
    "    \n",
    "else:\n",
    "    _eval_data['score'] = model_n_pred.predict(_eval_data) "
   ]
  },
  {
   "cell_type": "code",
   "execution_count": 184,
   "metadata": {
    "ExecuteTime": {
     "end_time": "2021-10-13T09:45:36.046568Z",
     "start_time": "2021-10-13T09:45:36.043918Z"
    }
   },
   "outputs": [],
   "source": [
    "# _eval_data"
   ]
  },
  {
   "cell_type": "code",
   "execution_count": 190,
   "metadata": {
    "ExecuteTime": {
     "end_time": "2021-10-13T09:45:57.009231Z",
     "start_time": "2021-10-13T09:45:56.975015Z"
    }
   },
   "outputs": [
    {
     "data": {
      "text/plain": [
       "1.0242840775926283"
      ]
     },
     "execution_count": 190,
     "metadata": {},
     "output_type": "execute_result"
    }
   ],
   "source": [
    "np.percentile(_eval_data['score'], 90)\n",
    "# 0.921274544211426"
   ]
  },
  {
   "cell_type": "code",
   "execution_count": 191,
   "metadata": {
    "ExecuteTime": {
     "end_time": "2021-10-13T09:45:57.337060Z",
     "start_time": "2021-10-13T09:45:57.328650Z"
    }
   },
   "outputs": [
    {
     "data": {
      "text/plain": [
       "(1998286, 24)"
      ]
     },
     "execution_count": 191,
     "metadata": {},
     "output_type": "execute_result"
    }
   ],
   "source": [
    "_eval_data.shape"
   ]
  },
  {
   "cell_type": "code",
   "execution_count": 195,
   "metadata": {
    "ExecuteTime": {
     "end_time": "2021-10-13T09:46:22.415248Z",
     "start_time": "2021-10-13T09:46:22.410502Z"
    }
   },
   "outputs": [],
   "source": [
    "thr = 1.025\n",
    "# thr = 1"
   ]
  },
  {
   "cell_type": "code",
   "execution_count": 196,
   "metadata": {
    "ExecuteTime": {
     "end_time": "2021-10-13T09:46:22.868683Z",
     "start_time": "2021-10-13T09:46:22.820670Z"
    }
   },
   "outputs": [
    {
     "data": {
      "text/plain": [
       "(114679, 24)"
      ]
     },
     "execution_count": 196,
     "metadata": {},
     "output_type": "execute_result"
    }
   ],
   "source": [
    "out_df = _eval_data[(_eval_data['score']>=thr) & (_eval_data['cnt_last_purch_days_before_campaign']<40)]\n",
    "out_df.shape"
   ]
  },
  {
   "cell_type": "code",
   "execution_count": 197,
   "metadata": {
    "ExecuteTime": {
     "end_time": "2021-10-13T09:46:25.476191Z",
     "start_time": "2021-10-13T09:46:25.323243Z"
    }
   },
   "outputs": [
    {
     "data": {
      "text/plain": [
       "<matplotlib.axes._subplots.AxesSubplot at 0x7f2b1753f828>"
      ]
     },
     "execution_count": 197,
     "metadata": {},
     "output_type": "execute_result"
    },
    {
     "data": {
      "image/png": "[encoded data removed]",
      "text/plain": [
       "<Figure size 432x288 with 1 Axes>"
      ]
     },
     "metadata": {},
     "output_type": "display_data"
    }
   ],
   "source": [
    "out_df['cnt_last_purch_days_before_campaign'].hist()"
   ]
  },
  {
   "cell_type": "code",
   "execution_count": 198,
   "metadata": {
    "ExecuteTime": {
     "end_time": "2021-10-13T09:46:31.009905Z",
     "start_time": "2021-10-13T09:46:31.002466Z"
    }
   },
   "outputs": [],
   "source": [
    "out_df = pd.DataFrame(out_df.index, columns=['customer_id'])"
   ]
  },
  {
   "cell_type": "code",
   "execution_count": 199,
   "metadata": {
    "ExecuteTime": {
     "end_time": "2021-10-13T09:46:31.667108Z",
     "start_time": "2021-10-13T09:46:31.561302Z"
    }
   },
   "outputs": [],
   "source": [
    "out_df.to_csv('submit.csv', index=False)"
   ]
  },
  {
   "cell_type": "code",
   "execution_count": 61,
   "metadata": {
    "ExecuteTime": {
     "end_time": "2021-10-12T08:10:19.866354Z",
     "start_time": "2021-10-12T08:10:19.861388Z"
    }
   },
   "outputs": [],
   "source": [
    "# _eval_data[_eval_data['score']>=thr][['customer_id']].to_csv('submit.csv', index=False)"
   ]
  },
  {
   "cell_type": "markdown",
   "metadata": {
    "ExecuteTime": {
     "end_time": "2021-10-08T12:00:06.514618Z",
     "start_time": "2021-10-08T12:00:06.510004Z"
    },
    "heading_collapsed": true
   },
   "source": [
    "# archive"
   ]
  },
  {
   "cell_type": "code",
   "execution_count": 53,
   "metadata": {
    "ExecuteTime": {
     "end_time": "2021-10-08T11:35:52.736824Z",
     "start_time": "2021-10-08T11:35:52.393717Z"
    },
    "hidden": true
   },
   "outputs": [
    {
     "data": {
      "text/plain": [
       "Float64Index([80.0, 80.00000000000001, 79.99999999999999], dtype='float64')"
      ]
     },
     "execution_count": 53,
     "metadata": {},
     "output_type": "execute_result"
    }
   ],
   "source": [
    "(receipts['purchase_sum']/receipts['purchase_amt']).value_counts().index"
   ]
  },
  {
   "cell_type": "code",
   "execution_count": 54,
   "metadata": {
    "ExecuteTime": {
     "end_time": "2021-10-08T11:35:58.906233Z",
     "start_time": "2021-10-08T11:35:58.662211Z"
    },
    "hidden": true
   },
   "outputs": [
    {
     "data": {
      "text/html": [
       "<div>\n",
       "<style scoped>\n",
       "    .dataframe tbody tr th:only-of-type {\n",
       "        vertical-align: middle;\n",
       "    }\n",
       "\n",
       "    .dataframe tbody tr th {\n",
       "        vertical-align: top;\n",
       "    }\n",
       "\n",
       "    .dataframe thead th {\n",
       "        text-align: right;\n",
       "    }\n",
       "</style>\n",
       "<table border=\"1\" class=\"dataframe\">\n",
       "  <thead>\n",
       "    <tr style=\"text-align: right;\">\n",
       "      <th></th>\n",
       "      <th>customer_id</th>\n",
       "      <th>date</th>\n",
       "      <th>purchase_amt</th>\n",
       "      <th>discount</th>\n",
       "      <th>purchase_sum</th>\n",
       "    </tr>\n",
       "  </thead>\n",
       "  <tbody>\n",
       "    <tr>\n",
       "      <th>1881</th>\n",
       "      <td>1881</td>\n",
       "      <td>0</td>\n",
       "      <td>7.391551</td>\n",
       "      <td>0</td>\n",
       "      <td>591.324108</td>\n",
       "    </tr>\n",
       "    <tr>\n",
       "      <th>1978</th>\n",
       "      <td>1978</td>\n",
       "      <td>0</td>\n",
       "      <td>13.321760</td>\n",
       "      <td>0</td>\n",
       "      <td>1065.740840</td>\n",
       "    </tr>\n",
       "    <tr>\n",
       "      <th>3029</th>\n",
       "      <td>3029</td>\n",
       "      <td>0</td>\n",
       "      <td>14.648189</td>\n",
       "      <td>0</td>\n",
       "      <td>1171.855155</td>\n",
       "    </tr>\n",
       "    <tr>\n",
       "      <th>3600</th>\n",
       "      <td>3600</td>\n",
       "      <td>0</td>\n",
       "      <td>15.086169</td>\n",
       "      <td>0</td>\n",
       "      <td>1206.893546</td>\n",
       "    </tr>\n",
       "    <tr>\n",
       "      <th>4502</th>\n",
       "      <td>4502</td>\n",
       "      <td>0</td>\n",
       "      <td>15.736323</td>\n",
       "      <td>0</td>\n",
       "      <td>1258.905867</td>\n",
       "    </tr>\n",
       "    <tr>\n",
       "      <th>...</th>\n",
       "      <td>...</td>\n",
       "      <td>...</td>\n",
       "      <td>...</td>\n",
       "      <td>...</td>\n",
       "      <td>...</td>\n",
       "    </tr>\n",
       "    <tr>\n",
       "      <th>1998880</th>\n",
       "      <td>1998880</td>\n",
       "      <td>249</td>\n",
       "      <td>15.779932</td>\n",
       "      <td>0</td>\n",
       "      <td>1262.394523</td>\n",
       "    </tr>\n",
       "    <tr>\n",
       "      <th>1999062</th>\n",
       "      <td>1999062</td>\n",
       "      <td>249</td>\n",
       "      <td>29.840009</td>\n",
       "      <td>0</td>\n",
       "      <td>2387.200757</td>\n",
       "    </tr>\n",
       "    <tr>\n",
       "      <th>1999677</th>\n",
       "      <td>1999677</td>\n",
       "      <td>249</td>\n",
       "      <td>15.395928</td>\n",
       "      <td>0</td>\n",
       "      <td>1231.674250</td>\n",
       "    </tr>\n",
       "    <tr>\n",
       "      <th>1999800</th>\n",
       "      <td>1999800</td>\n",
       "      <td>249</td>\n",
       "      <td>13.638075</td>\n",
       "      <td>0</td>\n",
       "      <td>1091.046036</td>\n",
       "    </tr>\n",
       "    <tr>\n",
       "      <th>1999959</th>\n",
       "      <td>1999959</td>\n",
       "      <td>249</td>\n",
       "      <td>30.753209</td>\n",
       "      <td>0</td>\n",
       "      <td>2460.256698</td>\n",
       "    </tr>\n",
       "  </tbody>\n",
       "</table>\n",
       "<p>640056 rows × 5 columns</p>\n",
       "</div>"
      ],
      "text/plain": [
       "         customer_id  date  purchase_amt  discount  purchase_sum\n",
       "1881            1881     0      7.391551         0    591.324108\n",
       "1978            1978     0     13.321760         0   1065.740840\n",
       "3029            3029     0     14.648189         0   1171.855155\n",
       "3600            3600     0     15.086169         0   1206.893546\n",
       "4502            4502     0     15.736323         0   1258.905867\n",
       "...              ...   ...           ...       ...           ...\n",
       "1998880      1998880   249     15.779932         0   1262.394523\n",
       "1999062      1999062   249     29.840009         0   2387.200757\n",
       "1999677      1999677   249     15.395928         0   1231.674250\n",
       "1999800      1999800   249     13.638075         0   1091.046036\n",
       "1999959      1999959   249     30.753209         0   2460.256698\n",
       "\n",
       "[640056 rows x 5 columns]"
      ]
     },
     "execution_count": 54,
     "metadata": {},
     "output_type": "execute_result"
    }
   ],
   "source": [
    "receipts[receipts['purchase_sum']/receipts['purchase_amt']==80.00000000000001]"
   ]
  },
  {
   "cell_type": "code",
   "execution_count": 59,
   "metadata": {
    "ExecuteTime": {
     "end_time": "2021-10-08T11:37:24.658283Z",
     "start_time": "2021-10-08T11:37:24.422919Z"
    },
    "hidden": true
   },
   "outputs": [
    {
     "data": {
      "text/plain": [
       "array([    391,     652,     806, ..., 1993889, 1996231, 1999192])"
      ]
     },
     "execution_count": 59,
     "metadata": {},
     "output_type": "execute_result"
    }
   ],
   "source": [
    "receipts[receipts['purchase_sum']/receipts['purchase_amt']==79.99999999999999]['customer_id'].unique()"
   ]
  },
  {
   "cell_type": "code",
   "execution_count": null,
   "metadata": {
    "hidden": true
   },
   "outputs": [],
   "source": [
    "# import sqlite3\n",
    "# conn = sqlite3.connect(\":memory:\") \n",
    "# receipts.to_sql(\"receipts\", conn, index=False)\n",
    "# campaigns.to_sql(\"campaigns\", conn, index=False)\n",
    "\n",
    "# # qry = \"SELECT * FROM receipts INNER JOIN campaigns WHERE receipts.customer_id=campaigns.customer_id\"\n",
    "# # rec_camp_merge_df = pd.read_sql_query(qry, conn)\n",
    "\n",
    "# qry0 = \"SELECT * FROM receipts INNER JOIN campaigns WHERE receipts.customer_id=campaigns.customer_id and receipts.date >= campaigns.date_start and receipts.date <=campaigns.date_end\"\n",
    "# rec_camp_merge_df_1 = pd.read_sql_query(qry0, conn)"
   ]
  }
 ],
 "metadata": {
  "hide_input": false,
  "kernelspec": {
   "display_name": "Python 3",
   "language": "python",
   "name": "python3"
  },
  "language_info": {
   "codemirror_mode": {
    "name": "ipython",
    "version": 3
   },
   "file_extension": ".py",
   "mimetype": "text/x-python",
   "name": "python",
   "nbconvert_exporter": "python",
   "pygments_lexer": "ipython3",
   "version": "3.6.9"
  },
  "toc": {
   "base_numbering": 1,
   "nav_menu": {},
   "number_sections": true,
   "sideBar": true,
   "skip_h1_title": false,
   "title_cell": "Table of Contents",
   "title_sidebar": "Contents",
   "toc_cell": false,
   "toc_position": {},
   "toc_section_display": true,
   "toc_window_display": true
  }
 },
 "nbformat": 4,
 "nbformat_minor": 4
}
