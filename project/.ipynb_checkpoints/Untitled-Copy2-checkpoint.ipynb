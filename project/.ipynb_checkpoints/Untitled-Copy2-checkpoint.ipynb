{
 "cells": [
  {
   "cell_type": "markdown",
   "metadata": {},
   "source": [
    "- время с последнего предложения для пользователя\n",
    "\n",
    "- есть ли информация за n дней до скидки - для обоих компаний\n",
    "- группировать по юзерам\n",
    "\n",
    "- удаляем ли из кампании тех, у кого нет покупок # campaigns = campaigns[campaigns.customer_id.isin(set(receipts.customer_id))]"
   ]
  },
  {
   "cell_type": "code",
   "execution_count": null,
   "metadata": {},
   "outputs": [],
   "source": [
    "# кол-во дней с последней покупки / кол-во дней с начала акции прошедших до 1 покупки"
   ]
  },
  {
   "cell_type": "markdown",
   "metadata": {},
   "source": [
    "- нужно отобрать людей, которые сильно реагируют на скидку (при разбиении на группы будет большая прибыль)\n",
    "- Интерес в том чтобы понять на каких людей мы можем повлиять – которые без воздействия не совершили бы покупку\n",
    "\n",
    "Нужно совершать воздействие, когда\n",
    "А) действие принесет пользу\n",
    "Б) польза будет больше чем если не сорвешать воздействие"
   ]
  },
  {
   "cell_type": "markdown",
   "metadata": {},
   "source": [
    "uY(xi)=E[Y∣X=xi,T=1]−E[Y∣X=xi,T=0]"
   ]
  },
  {
   "cell_type": "code",
   "execution_count": 4,
   "metadata": {
    "ExecuteTime": {
     "end_time": "2021-10-13T12:11:55.469030Z",
     "start_time": "2021-10-13T12:11:55.464651Z"
    }
   },
   "outputs": [],
   "source": [
    "# фит на датасете старой компании\n",
    "# для предикта сформировать новую компанию\n",
    "# Y - куплено в период компании, Х - куплено до компании"
   ]
  },
  {
   "cell_type": "code",
   "execution_count": 1,
   "metadata": {
    "ExecuteTime": {
     "end_time": "2021-10-13T15:34:36.886228Z",
     "start_time": "2021-10-13T15:34:36.880598Z"
    }
   },
   "outputs": [],
   "source": [
    "# # +число покупок\n",
    "# # mean encoding города\n",
    "\n",
    "# # +качество считается на 30 днях? добавить фичу по прошлой компании - насколько продолжал покупать\n",
    "\n",
    "# кластеризовать юзеров\n",
    "\n",
    "# как быть с 0\n",
    "\n",
    "# # - стандартное отклонение\n",
    "\n",
    "# метрика качества модели\n",
    "\n",
    "# min/max\n",
    "\n",
    "# # + убирать тех кто ничего не покупал (за последнее время)"
   ]
  },
  {
   "cell_type": "code",
   "execution_count": 1,
   "metadata": {
    "ExecuteTime": {
     "end_time": "2021-10-13T15:43:16.496444Z",
     "start_time": "2021-10-13T15:43:14.795764Z"
    }
   },
   "outputs": [],
   "source": [
    "import os\n",
    "\n",
    "import pandas as pd\n",
    "import numpy as np\n",
    "import dask.dataframe as dd\n",
    "import pickle\n",
    "import json\n",
    "import sklearn.base as skbase\n",
    "import sklearn.pipeline as skpipe\n",
    "import datetime\n",
    "import matplotlib.pyplot as plt\n",
    "\n",
    "import pylift"
   ]
  },
  {
   "cell_type": "code",
   "execution_count": 2,
   "metadata": {
    "ExecuteTime": {
     "end_time": "2021-10-13T15:43:16.504392Z",
     "start_time": "2021-10-13T15:43:16.498205Z"
    }
   },
   "outputs": [],
   "source": [
    "from typing import List, Tuple\n",
    "import scipy as sp"
   ]
  },
  {
   "cell_type": "code",
   "execution_count": 3,
   "metadata": {
    "ExecuteTime": {
     "end_time": "2021-10-13T15:43:16.521101Z",
     "start_time": "2021-10-13T15:43:16.506131Z"
    }
   },
   "outputs": [],
   "source": [
    "def proportion_diff_interval(success: pd.Series, nobs: pd.Series, conf_level: float = 0.05):\n",
    "    assert len(success) == 2 and len(nobs) == 2\n",
    "    p = np.array(success) / np.array(nobs)\n",
    "    z = sp.stats.norm.ppf(1.0 - conf_level)\n",
    "    diff = p[1] - p[0]\n",
    "    std_dev = np.sqrt(p[0] * (1.0 - p[0]) / nobs[0] + p[1] * (1.0 - p[1]) / nobs[1])\n",
    "    pvalue = 2 * sp.stats.norm.cdf(-np.abs(diff) / std_dev)\n",
    "    return diff, std_dev, pvalue, (diff - z * std_dev, diff + z * std_dev)\n",
    "\n",
    "\n",
    "def response_uplift(\n",
    "    data: pd.DataFrame,\n",
    "    col_feature: str,\n",
    "    col_target: str,\n",
    "    col_treatment: str = 'treatment',\n",
    "    conf_level: float = 0.05,\n",
    "    verbose: bool = True,\n",
    "    figsize: Tuple[int, int] = (10, 7),\n",
    "    plot_type: str = 'default'\n",
    ") -> Tuple[pd.DataFrame, pd.DataFrame, pd.DataFrame]:\n",
    "    tmp = data.copy()\n",
    "    tmp['tmp_response'] = list(map(int, tmp[col_target] > 0))\n",
    "    \n",
    "    response_pivot = tmp.pivot_table(\n",
    "        values='tmp_response', index=[col_feature], columns=[col_treatment],\n",
    "        aggfunc='sum'\n",
    "    )\n",
    "    \n",
    "    clients_pivot = tmp.pivot_table(\n",
    "        values='tmp_response', index=[col_feature], columns=[col_treatment],\n",
    "        aggfunc='count'\n",
    "    )\n",
    "    \n",
    "    means = list()\n",
    "    stds = list()\n",
    "    pvalues = list()\n",
    "    chi2_pvalues = list()\n",
    "    \n",
    "    for segment in response_pivot.index:\n",
    "        m, std, pvalue, _ = proportion_diff_interval(response_pivot.loc[segment, :], clients_pivot.loc[segment, :], conf_level=conf_level)\n",
    "        means.append(m)\n",
    "        stds.append(std)\n",
    "        pvalues.append(pvalue)\n",
    "        \n",
    "        try:\n",
    "            chi2_pvalue = chi2_contingency([response_pivot.loc[segment, :], clients_pivot.loc[segment, :]])[1]\n",
    "        except:\n",
    "            chi2_pvalue = -1.0\n",
    "        \n",
    "        chi2_pvalues.append(chi2_pvalue)\n",
    "        \n",
    "    report = pd.DataFrame(\n",
    "        data={\n",
    "            'diff': means, \n",
    "            'std': stds, \n",
    "            'p-value': pvalues,\n",
    "            'chi2_p-value': chi2_pvalues,\n",
    "            'count_0': clients_pivot.loc[:, 0],\n",
    "            'count_1': clients_pivot.loc[:, 1],\n",
    "            'response_0': response_pivot.loc[:, 0],\n",
    "            'response_1': response_pivot.loc[:, 1]\n",
    "        }, \n",
    "        index=list(response_pivot.index)\n",
    "    )\n",
    "    \n",
    "    if verbose:\n",
    "        plt.figure(figsize=figsize)\n",
    "        if plot_type == 'default':\n",
    "            plt.errorbar(\n",
    "                x=response_pivot.index,\n",
    "                y=means,\n",
    "                yerr=np.array(stds) * sp.stats.norm.ppf(1.0 - conf_level),\n",
    "                fmt='ok'\n",
    "            )\n",
    "        elif plot_type == 'bin':\n",
    "            plt.errorbar(\n",
    "                x=range(len(response_pivot.index)),\n",
    "                y=means,\n",
    "                yerr=np.array(stds) * sp.stats.norm.ppf(1.0 - conf_level),\n",
    "                fmt='ok'\n",
    "            )\n",
    "            plt.xticks(\n",
    "                range(len(response_pivot.index)),\n",
    "                response_pivot.index,\n",
    "                rotation=20\n",
    "            )\n",
    "        plt.show()\n",
    "\n",
    "    return report, response_pivot, clients_pivot\n"
   ]
  },
  {
   "cell_type": "code",
   "execution_count": 4,
   "metadata": {
    "ExecuteTime": {
     "end_time": "2021-10-13T15:43:16.536280Z",
     "start_time": "2021-10-13T15:43:16.525504Z"
    }
   },
   "outputs": [],
   "source": [
    "# import sys\n",
    "# sys.path.append('uplift-campaign/')\n",
    "\n",
    "# import upcampaign.datalib as datalib\n",
    "# import upcampaign.datalib.connection as connection\n",
    "# import upcampaign.datalib.features.compute as fcompute\n",
    "# # import upcampaign.model_utils as mu"
   ]
  },
  {
   "cell_type": "code",
   "execution_count": 5,
   "metadata": {
    "ExecuteTime": {
     "end_time": "2021-10-13T15:43:17.016920Z",
     "start_time": "2021-10-13T15:43:16.539157Z"
    }
   },
   "outputs": [],
   "source": [
    "import lightgbm as lgb\n",
    "import causalml.metrics as cmetrics\n",
    "import causalml.inference.meta.rlearner as rlearner\n",
    "import causalml.inference.meta.xlearner as xlearner\n",
    "import causalml.inference.meta.tlearner as tlearner\n",
    "\n",
    "from sklearn.model_selection import train_test_split"
   ]
  },
  {
   "cell_type": "code",
   "execution_count": 6,
   "metadata": {
    "ExecuteTime": {
     "end_time": "2021-10-13T15:43:17.152092Z",
     "start_time": "2021-10-13T15:43:17.018749Z"
    }
   },
   "outputs": [
    {
     "name": "stdout",
     "output_type": "stream",
     "text": [
      "campaigns.csv  customers.csv  receipts.parquet\r\n"
     ]
    }
   ],
   "source": [
    "ls data"
   ]
  },
  {
   "cell_type": "code",
   "execution_count": 7,
   "metadata": {
    "ExecuteTime": {
     "end_time": "2021-10-13T15:43:17.158004Z",
     "start_time": "2021-10-13T15:43:17.154315Z"
    }
   },
   "outputs": [],
   "source": [
    "data_root_path = 'data/'"
   ]
  },
  {
   "cell_type": "code",
   "execution_count": 8,
   "metadata": {
    "ExecuteTime": {
     "end_time": "2021-10-13T15:43:22.408699Z",
     "start_time": "2021-10-13T15:43:17.161268Z"
    }
   },
   "outputs": [],
   "source": [
    "campaigns = dd.read_csv(os.path.join(data_root_path, 'campaigns.csv')).compute()#.sample(0.01)\n",
    "customers = dd.read_csv(os.path.join(data_root_path, 'customers.csv')).compute()#.sample(0.01)\n",
    "receipts = dd.read_parquet(os.path.join(data_root_path, 'receipts.parquet/')).compute()#.sample(0.01)"
   ]
  },
  {
   "cell_type": "code",
   "execution_count": 9,
   "metadata": {
    "ExecuteTime": {
     "end_time": "2021-10-13T15:43:22.424324Z",
     "start_time": "2021-10-13T15:43:22.414013Z"
    }
   },
   "outputs": [
    {
     "data": {
      "text/plain": [
       "(500000, 2000000, 31741769)"
      ]
     },
     "execution_count": 9,
     "metadata": {},
     "output_type": "execute_result"
    }
   ],
   "source": [
    "len(campaigns), len(customers), len(receipts)"
   ]
  },
  {
   "cell_type": "code",
   "execution_count": 10,
   "metadata": {
    "ExecuteTime": {
     "end_time": "2021-10-13T15:43:22.437412Z",
     "start_time": "2021-10-13T15:43:22.426596Z"
    }
   },
   "outputs": [],
   "source": [
    "def one_hot_encode(data: pd.DataFrame, cols: List[str] = None) -> pd.DataFrame:\n",
    "    if cols is None:\n",
    "        cols = data.columns\n",
    "    result = pd.concat([data, dd.get_dummies(data[cols])], axis=1).drop(cols, axis=1)\n",
    "    return result"
   ]
  },
  {
   "cell_type": "code",
   "execution_count": 11,
   "metadata": {
    "ExecuteTime": {
     "end_time": "2021-10-13T15:43:22.852173Z",
     "start_time": "2021-10-13T15:43:22.439056Z"
    }
   },
   "outputs": [],
   "source": [
    "customers = one_hot_encode(customers, cols=['location'])\n",
    "customers = customers.drop('Unnamed: 0', axis=1)"
   ]
  },
  {
   "cell_type": "code",
   "execution_count": 12,
   "metadata": {
    "ExecuteTime": {
     "end_time": "2021-10-13T15:43:22.866355Z",
     "start_time": "2021-10-13T15:43:22.854470Z"
    }
   },
   "outputs": [
    {
     "data": {
      "text/html": [
       "<div>\n",
       "<style scoped>\n",
       "    .dataframe tbody tr th:only-of-type {\n",
       "        vertical-align: middle;\n",
       "    }\n",
       "\n",
       "    .dataframe tbody tr th {\n",
       "        vertical-align: top;\n",
       "    }\n",
       "\n",
       "    .dataframe thead th {\n",
       "        text-align: right;\n",
       "    }\n",
       "</style>\n",
       "<table border=\"1\" class=\"dataframe\">\n",
       "  <thead>\n",
       "    <tr style=\"text-align: right;\">\n",
       "      <th></th>\n",
       "      <th>customer_id</th>\n",
       "      <th>age</th>\n",
       "      <th>location_Beauclair</th>\n",
       "      <th>location_Crows_perch</th>\n",
       "      <th>location_Hindarsfjall</th>\n",
       "      <th>location_Kaer_Trolde</th>\n",
       "      <th>location_Novigrad</th>\n",
       "      <th>location_Oxenfurt</th>\n",
       "      <th>location_Spikeroog</th>\n",
       "    </tr>\n",
       "  </thead>\n",
       "  <tbody>\n",
       "    <tr>\n",
       "      <th>0</th>\n",
       "      <td>0</td>\n",
       "      <td>56</td>\n",
       "      <td>0</td>\n",
       "      <td>0</td>\n",
       "      <td>0</td>\n",
       "      <td>0</td>\n",
       "      <td>0</td>\n",
       "      <td>1</td>\n",
       "      <td>0</td>\n",
       "    </tr>\n",
       "    <tr>\n",
       "      <th>1</th>\n",
       "      <td>1</td>\n",
       "      <td>53</td>\n",
       "      <td>0</td>\n",
       "      <td>0</td>\n",
       "      <td>1</td>\n",
       "      <td>0</td>\n",
       "      <td>0</td>\n",
       "      <td>0</td>\n",
       "      <td>0</td>\n",
       "    </tr>\n",
       "    <tr>\n",
       "      <th>2</th>\n",
       "      <td>2</td>\n",
       "      <td>41</td>\n",
       "      <td>0</td>\n",
       "      <td>0</td>\n",
       "      <td>1</td>\n",
       "      <td>0</td>\n",
       "      <td>0</td>\n",
       "      <td>0</td>\n",
       "      <td>0</td>\n",
       "    </tr>\n",
       "    <tr>\n",
       "      <th>3</th>\n",
       "      <td>3</td>\n",
       "      <td>60</td>\n",
       "      <td>0</td>\n",
       "      <td>0</td>\n",
       "      <td>0</td>\n",
       "      <td>1</td>\n",
       "      <td>0</td>\n",
       "      <td>0</td>\n",
       "      <td>0</td>\n",
       "    </tr>\n",
       "    <tr>\n",
       "      <th>4</th>\n",
       "      <td>4</td>\n",
       "      <td>22</td>\n",
       "      <td>0</td>\n",
       "      <td>0</td>\n",
       "      <td>0</td>\n",
       "      <td>0</td>\n",
       "      <td>0</td>\n",
       "      <td>0</td>\n",
       "      <td>1</td>\n",
       "    </tr>\n",
       "  </tbody>\n",
       "</table>\n",
       "</div>"
      ],
      "text/plain": [
       "   customer_id  age  location_Beauclair  location_Crows_perch  \\\n",
       "0            0   56                   0                     0   \n",
       "1            1   53                   0                     0   \n",
       "2            2   41                   0                     0   \n",
       "3            3   60                   0                     0   \n",
       "4            4   22                   0                     0   \n",
       "\n",
       "   location_Hindarsfjall  location_Kaer_Trolde  location_Novigrad  \\\n",
       "0                      0                     0                  0   \n",
       "1                      1                     0                  0   \n",
       "2                      1                     0                  0   \n",
       "3                      0                     1                  0   \n",
       "4                      0                     0                  0   \n",
       "\n",
       "   location_Oxenfurt  location_Spikeroog  \n",
       "0                  1                   0  \n",
       "1                  0                   0  \n",
       "2                  0                   0  \n",
       "3                  0                   0  \n",
       "4                  0                   1  "
      ]
     },
     "execution_count": 12,
     "metadata": {},
     "output_type": "execute_result"
    }
   ],
   "source": [
    "customers.head()"
   ]
  },
  {
   "cell_type": "code",
   "execution_count": 13,
   "metadata": {
    "ExecuteTime": {
     "end_time": "2021-10-13T15:43:23.255380Z",
     "start_time": "2021-10-13T15:43:22.867979Z"
    }
   },
   "outputs": [
    {
     "data": {
      "text/plain": [
       "customer_id              2000000\n",
       "age                           50\n",
       "location_Beauclair             2\n",
       "location_Crows_perch           2\n",
       "location_Hindarsfjall          2\n",
       "location_Kaer_Trolde           2\n",
       "location_Novigrad              2\n",
       "location_Oxenfurt              2\n",
       "location_Spikeroog             2\n",
       "dtype: int64"
      ]
     },
     "execution_count": 13,
     "metadata": {},
     "output_type": "execute_result"
    }
   ],
   "source": [
    "customers.nunique()"
   ]
  },
  {
   "cell_type": "markdown",
   "metadata": {},
   "source": [
    "- Стоит отметить, что покупатель не приобретает фисштех больше одного раза в день"
   ]
  },
  {
   "cell_type": "code",
   "execution_count": 14,
   "metadata": {
    "ExecuteTime": {
     "end_time": "2021-10-13T15:43:23.612064Z",
     "start_time": "2021-10-13T15:43:23.257014Z"
    }
   },
   "outputs": [],
   "source": [
    "receipts = receipts.drop('purchase_sum', axis=1)"
   ]
  },
  {
   "cell_type": "code",
   "execution_count": 15,
   "metadata": {
    "ExecuteTime": {
     "end_time": "2021-10-13T15:43:23.631768Z",
     "start_time": "2021-10-13T15:43:23.613785Z"
    }
   },
   "outputs": [
    {
     "data": {
      "text/html": [
       "<div>\n",
       "<style scoped>\n",
       "    .dataframe tbody tr th:only-of-type {\n",
       "        vertical-align: middle;\n",
       "    }\n",
       "\n",
       "    .dataframe tbody tr th {\n",
       "        vertical-align: top;\n",
       "    }\n",
       "\n",
       "    .dataframe thead th {\n",
       "        text-align: right;\n",
       "    }\n",
       "</style>\n",
       "<table border=\"1\" class=\"dataframe\">\n",
       "  <thead>\n",
       "    <tr style=\"text-align: right;\">\n",
       "      <th></th>\n",
       "      <th>customer_id</th>\n",
       "      <th>date</th>\n",
       "      <th>purchase_amt</th>\n",
       "      <th>discount</th>\n",
       "    </tr>\n",
       "  </thead>\n",
       "  <tbody>\n",
       "    <tr>\n",
       "      <th>26</th>\n",
       "      <td>26</td>\n",
       "      <td>0</td>\n",
       "      <td>12.125273</td>\n",
       "      <td>0</td>\n",
       "    </tr>\n",
       "    <tr>\n",
       "      <th>53</th>\n",
       "      <td>53</td>\n",
       "      <td>0</td>\n",
       "      <td>34.357035</td>\n",
       "      <td>0</td>\n",
       "    </tr>\n",
       "    <tr>\n",
       "      <th>56</th>\n",
       "      <td>56</td>\n",
       "      <td>0</td>\n",
       "      <td>8.695825</td>\n",
       "      <td>0</td>\n",
       "    </tr>\n",
       "    <tr>\n",
       "      <th>58</th>\n",
       "      <td>58</td>\n",
       "      <td>0</td>\n",
       "      <td>28.299046</td>\n",
       "      <td>0</td>\n",
       "    </tr>\n",
       "    <tr>\n",
       "      <th>64</th>\n",
       "      <td>64</td>\n",
       "      <td>0</td>\n",
       "      <td>32.547511</td>\n",
       "      <td>0</td>\n",
       "    </tr>\n",
       "  </tbody>\n",
       "</table>\n",
       "</div>"
      ],
      "text/plain": [
       "    customer_id  date  purchase_amt  discount\n",
       "26           26     0     12.125273         0\n",
       "53           53     0     34.357035         0\n",
       "56           56     0      8.695825         0\n",
       "58           58     0     28.299046         0\n",
       "64           64     0     32.547511         0"
      ]
     },
     "execution_count": 15,
     "metadata": {},
     "output_type": "execute_result"
    }
   ],
   "source": [
    "receipts.head()"
   ]
  },
  {
   "cell_type": "code",
   "execution_count": 16,
   "metadata": {
    "ExecuteTime": {
     "end_time": "2021-10-13T15:43:31.343182Z",
     "start_time": "2021-10-13T15:43:23.633776Z"
    }
   },
   "outputs": [
    {
     "data": {
      "text/plain": [
       "customer_id      1998286\n",
       "date                 250\n",
       "purchase_amt    31616098\n",
       "discount               2\n",
       "dtype: int64"
      ]
     },
     "execution_count": 16,
     "metadata": {},
     "output_type": "execute_result"
    }
   ],
   "source": [
    "receipts.nunique()"
   ]
  },
  {
   "cell_type": "code",
   "execution_count": 17,
   "metadata": {
    "ExecuteTime": {
     "end_time": "2021-10-13T15:43:32.881149Z",
     "start_time": "2021-10-13T15:43:31.344785Z"
    }
   },
   "outputs": [],
   "source": [
    "receipts = receipts.assign(target_profit=lambda d: (\n",
    "    (d['discount'] == 0).astype(int) * (d['purchase_amt'] * (80 - 52)) + \\\n",
    "    (d['discount'] == 40).astype(int) * (d['purchase_amt'] * (80 - 52) - 40) - \\\n",
    "    (d['discount'] == 40).astype(int) * 1\n",
    "))"
   ]
  },
  {
   "cell_type": "code",
   "execution_count": null,
   "metadata": {},
   "outputs": [],
   "source": []
  },
  {
   "cell_type": "code",
   "execution_count": 18,
   "metadata": {
    "ExecuteTime": {
     "end_time": "2021-10-13T15:43:41.405835Z",
     "start_time": "2021-10-13T15:43:32.882765Z"
    }
   },
   "outputs": [],
   "source": [
    "receipts_agg = pd.DataFrame(index=set(receipts.customer_id))"
   ]
  },
  {
   "cell_type": "code",
   "execution_count": 19,
   "metadata": {
    "ExecuteTime": {
     "end_time": "2021-10-13T15:43:41.416345Z",
     "start_time": "2021-10-13T15:43:41.409689Z"
    }
   },
   "outputs": [],
   "source": [
    "def compute_campaign_purch_sum(df, camp_d_start):\n",
    "    df['target_profit_total'] = \\\n",
    "       receipts[(receipts.date>=camp_d_start) & (receipts.date<camp_d_start+7)].groupby('customer_id')['target_profit'].sum()\n",
    "    return df"
   ]
  },
  {
   "cell_type": "code",
   "execution_count": 20,
   "metadata": {
    "ExecuteTime": {
     "end_time": "2021-10-13T15:43:41.428908Z",
     "start_time": "2021-10-13T15:43:41.419709Z"
    }
   },
   "outputs": [],
   "source": [
    "def compute_purch_sum(df, camp_d_start, lag_list=[7,15,30,60]):\n",
    "    for d in lag_list:\n",
    "        df[f'puchase_amt_SUM_{d}d_before_campaign'] = \\\n",
    "        receipts[(receipts.date>=camp_d_start-d) & (receipts.date<camp_d_start)].groupby('customer_id')['purchase_amt'].sum()\n",
    "    return df"
   ]
  },
  {
   "cell_type": "code",
   "execution_count": 21,
   "metadata": {
    "ExecuteTime": {
     "end_time": "2021-10-13T15:43:41.441732Z",
     "start_time": "2021-10-13T15:43:41.431094Z"
    }
   },
   "outputs": [],
   "source": [
    "def compute_purch_sum_rel_change(df):\n",
    "    df['puchase_amt_SUM_30d_div_60d_before_campaign'] = df['puchase_amt_SUM_30d_before_campaign'] / df['puchase_amt_SUM_60d_before_campaign']\n",
    "    df['puchase_amt_SUM_15d_div_30d_before_campaign'] = df['puchase_amt_SUM_15d_before_campaign'] / df['puchase_amt_SUM_30d_before_campaign']\n",
    "    return df"
   ]
  },
  {
   "cell_type": "code",
   "execution_count": 22,
   "metadata": {
    "ExecuteTime": {
     "end_time": "2021-10-13T15:43:41.453637Z",
     "start_time": "2021-10-13T15:43:41.444897Z"
    }
   },
   "outputs": [],
   "source": [
    "def compute_purch_cnt(df, camp_d_start, lag_list=[7,15,30,60]):\n",
    "    for d in lag_list:\n",
    "        df[f'puchase_amt_CNT_{d}d_before_campaign'] = \\\n",
    "        receipts[(receipts.date>=camp_d_start-d) & (receipts.date<camp_d_start)].groupby('customer_id')['purchase_amt'].size()\n",
    "    return df"
   ]
  },
  {
   "cell_type": "code",
   "execution_count": 23,
   "metadata": {
    "ExecuteTime": {
     "end_time": "2021-10-13T15:43:41.465407Z",
     "start_time": "2021-10-13T15:43:41.457487Z"
    }
   },
   "outputs": [],
   "source": [
    "def compute_purch_mean(df, camp_d_start, lag_list=[7,15,30,60]):\n",
    "    for d in lag_list:\n",
    "        df[f'puchase_amt_MEAN_{d}d_before_campaign'] = \\\n",
    "        receipts[(receipts.date>=camp_d_start-d) & (receipts.date<camp_d_start)].groupby('customer_id')['purchase_amt'].mean()\n",
    "    return df"
   ]
  },
  {
   "cell_type": "code",
   "execution_count": 24,
   "metadata": {
    "ExecuteTime": {
     "end_time": "2021-10-13T15:43:41.478016Z",
     "start_time": "2021-10-13T15:43:41.467793Z"
    }
   },
   "outputs": [],
   "source": [
    "def compute_purch_mean_rel_change(df):\n",
    "    df['puchase_amt_MEAN_30d_div_60d_before_campaign'] = df['puchase_amt_MEAN_30d_before_campaign'] / df['puchase_amt_MEAN_60d_before_campaign']\n",
    "    df['puchase_amt_MEAN_15d_div_30d_before_campaign'] = df['puchase_amt_MEAN_15d_before_campaign'] / df['puchase_amt_MEAN_30d_before_campaign']\n",
    "    return df"
   ]
  },
  {
   "cell_type": "code",
   "execution_count": 25,
   "metadata": {
    "ExecuteTime": {
     "end_time": "2021-10-13T15:43:41.490910Z",
     "start_time": "2021-10-13T15:43:41.480614Z"
    }
   },
   "outputs": [],
   "source": [
    "def compute_purch_min(df, camp_d_start, lag_list=[7,15,30,60]):\n",
    "    for d in lag_list:\n",
    "        df[f'puchase_amt_MIN_{d}d_before_campaign'] = \\\n",
    "        receipts[(receipts.date>=camp_d_start-d) & (receipts.date<camp_d_start)].groupby('customer_id')['purchase_amt'].min()\n",
    "    return df"
   ]
  },
  {
   "cell_type": "code",
   "execution_count": 26,
   "metadata": {
    "ExecuteTime": {
     "end_time": "2021-10-13T15:43:41.502832Z",
     "start_time": "2021-10-13T15:43:41.493968Z"
    }
   },
   "outputs": [],
   "source": [
    "def compute_purch_max(df, camp_d_start, lag_list=[7,15,30,60]):\n",
    "    for d in lag_list:\n",
    "        df[f'puchase_amt_MAX_{d}d_before_campaign'] = \\\n",
    "        receipts[(receipts.date>=camp_d_start-d) & (receipts.date<camp_d_start)].groupby('customer_id')['purchase_amt'].max()\n",
    "    return df"
   ]
  },
  {
   "cell_type": "code",
   "execution_count": 27,
   "metadata": {
    "ExecuteTime": {
     "end_time": "2021-10-13T15:43:41.515600Z",
     "start_time": "2021-10-13T15:43:41.505199Z"
    }
   },
   "outputs": [],
   "source": [
    "def compute_purch_min_div_max(df, camp_d_start, lag_list=[7,15,30,60]):\n",
    "    for d in lag_list:\n",
    "        df[f'puchase_amt_MIN_div_MAX_{d}d_before_campaign'] = df[f'puchase_amt_MIN_{d}d_before_campaign'] / df[f'puchase_amt_MAX_{d}d_before_campaign']\n",
    "        \n",
    "    return df"
   ]
  },
  {
   "cell_type": "code",
   "execution_count": 28,
   "metadata": {
    "ExecuteTime": {
     "end_time": "2021-10-13T15:43:41.528423Z",
     "start_time": "2021-10-13T15:43:41.518827Z"
    }
   },
   "outputs": [],
   "source": [
    "def compute_purch_std(df, camp_d_start, lag_list=[7,15,30,60]):\n",
    "    for d in lag_list:\n",
    "        df[f'puchase_amt_STD_{d}d_before_campaign'] = \\\n",
    "        receipts[(receipts.date>=camp_d_start-d) & (receipts.date<camp_d_start)].groupby('customer_id')['date'].std()\n",
    "    return df"
   ]
  },
  {
   "cell_type": "code",
   "execution_count": 29,
   "metadata": {
    "ExecuteTime": {
     "end_time": "2021-10-13T15:43:41.540445Z",
     "start_time": "2021-10-13T15:43:41.530733Z"
    }
   },
   "outputs": [],
   "source": [
    "def compute_purch_last_day(df, camp_d_start):\n",
    "    df['cnt_last_purch_days_before_campaign'] = \\\n",
    "       camp_d_start - receipts[receipts.date<camp_d_start].groupby('customer_id')['date'].max()\n",
    "    return df"
   ]
  },
  {
   "cell_type": "code",
   "execution_count": 30,
   "metadata": {
    "ExecuteTime": {
     "end_time": "2021-10-13T15:44:01.286393Z",
     "start_time": "2021-10-13T15:43:41.543039Z"
    }
   },
   "outputs": [],
   "source": [
    "camp_day = 102\n",
    "receipts_agg = compute_campaign_purch_sum(receipts_agg, camp_day)\n",
    "\n",
    "receipts_agg = compute_purch_sum(receipts_agg, camp_day, lag_list=[7,15,30,60])\n",
    "receipts_agg = compute_purch_cnt(receipts_agg, camp_day, lag_list=[7,15,30,60])\n",
    "\n",
    "receipts_agg = compute_purch_mean(receipts_agg, camp_day, lag_list=[30,60])\n",
    "receipts_agg = compute_purch_min(receipts_agg, camp_day, lag_list=[30,60])\n",
    "receipts_agg = compute_purch_max(receipts_agg, camp_day, lag_list=[30,60])\n",
    "\n",
    "receipts_agg = compute_purch_std(receipts_agg, camp_day, lag_list=[30,60])\n",
    "\n",
    "receipts_agg = compute_purch_last_day(receipts_agg, camp_day)\n",
    "\n",
    "receipts_agg = compute_purch_min_div_max(receipts_agg, camp_day, lag_list=[30,60])\n",
    "\n",
    "receipts_agg = compute_purch_sum_rel_change(receipts_agg)\n",
    "# receipts_agg = compute_purch_mean_rel_change(receipts_agg)"
   ]
  },
  {
   "cell_type": "code",
   "execution_count": 31,
   "metadata": {
    "ExecuteTime": {
     "end_time": "2021-10-13T15:44:01.313775Z",
     "start_time": "2021-10-13T15:44:01.288144Z"
    }
   },
   "outputs": [
    {
     "data": {
      "text/html": [
       "<div>\n",
       "<style scoped>\n",
       "    .dataframe tbody tr th:only-of-type {\n",
       "        vertical-align: middle;\n",
       "    }\n",
       "\n",
       "    .dataframe tbody tr th {\n",
       "        vertical-align: top;\n",
       "    }\n",
       "\n",
       "    .dataframe thead th {\n",
       "        text-align: right;\n",
       "    }\n",
       "</style>\n",
       "<table border=\"1\" class=\"dataframe\">\n",
       "  <thead>\n",
       "    <tr style=\"text-align: right;\">\n",
       "      <th></th>\n",
       "      <th>target_profit_total</th>\n",
       "      <th>puchase_amt_SUM_7d_before_campaign</th>\n",
       "      <th>puchase_amt_SUM_15d_before_campaign</th>\n",
       "      <th>puchase_amt_SUM_30d_before_campaign</th>\n",
       "      <th>puchase_amt_SUM_60d_before_campaign</th>\n",
       "      <th>puchase_amt_CNT_7d_before_campaign</th>\n",
       "      <th>puchase_amt_CNT_15d_before_campaign</th>\n",
       "      <th>puchase_amt_CNT_30d_before_campaign</th>\n",
       "      <th>puchase_amt_CNT_60d_before_campaign</th>\n",
       "      <th>puchase_amt_MEAN_30d_before_campaign</th>\n",
       "      <th>...</th>\n",
       "      <th>puchase_amt_MIN_60d_before_campaign</th>\n",
       "      <th>puchase_amt_MAX_30d_before_campaign</th>\n",
       "      <th>puchase_amt_MAX_60d_before_campaign</th>\n",
       "      <th>puchase_amt_STD_30d_before_campaign</th>\n",
       "      <th>puchase_amt_STD_60d_before_campaign</th>\n",
       "      <th>cnt_last_purch_days_before_campaign</th>\n",
       "      <th>puchase_amt_MIN_div_MAX_30d_before_campaign</th>\n",
       "      <th>puchase_amt_MIN_div_MAX_60d_before_campaign</th>\n",
       "      <th>puchase_amt_SUM_30d_div_60d_before_campaign</th>\n",
       "      <th>puchase_amt_SUM_15d_div_30d_before_campaign</th>\n",
       "    </tr>\n",
       "  </thead>\n",
       "  <tbody>\n",
       "    <tr>\n",
       "      <th>0</th>\n",
       "      <td>235.188978</td>\n",
       "      <td>NaN</td>\n",
       "      <td>12.028087</td>\n",
       "      <td>23.426074</td>\n",
       "      <td>64.498275</td>\n",
       "      <td>NaN</td>\n",
       "      <td>1.0</td>\n",
       "      <td>2.0</td>\n",
       "      <td>6.0</td>\n",
       "      <td>11.713037</td>\n",
       "      <td>...</td>\n",
       "      <td>4.872151</td>\n",
       "      <td>12.028087</td>\n",
       "      <td>13.803161</td>\n",
       "      <td>6.363961</td>\n",
       "      <td>19.398454</td>\n",
       "      <td>9.0</td>\n",
       "      <td>0.947614</td>\n",
       "      <td>0.352974</td>\n",
       "      <td>0.363205</td>\n",
       "      <td>0.513449</td>\n",
       "    </tr>\n",
       "    <tr>\n",
       "      <th>1</th>\n",
       "      <td>NaN</td>\n",
       "      <td>NaN</td>\n",
       "      <td>NaN</td>\n",
       "      <td>24.823082</td>\n",
       "      <td>46.727059</td>\n",
       "      <td>NaN</td>\n",
       "      <td>NaN</td>\n",
       "      <td>2.0</td>\n",
       "      <td>4.0</td>\n",
       "      <td>12.411541</td>\n",
       "      <td>...</td>\n",
       "      <td>7.633190</td>\n",
       "      <td>13.377143</td>\n",
       "      <td>14.270786</td>\n",
       "      <td>7.071068</td>\n",
       "      <td>16.309506</td>\n",
       "      <td>20.0</td>\n",
       "      <td>0.855634</td>\n",
       "      <td>0.534882</td>\n",
       "      <td>0.531236</td>\n",
       "      <td>NaN</td>\n",
       "    </tr>\n",
       "    <tr>\n",
       "      <th>2</th>\n",
       "      <td>NaN</td>\n",
       "      <td>39.13365</td>\n",
       "      <td>39.133650</td>\n",
       "      <td>39.133650</td>\n",
       "      <td>123.063061</td>\n",
       "      <td>2.0</td>\n",
       "      <td>2.0</td>\n",
       "      <td>2.0</td>\n",
       "      <td>5.0</td>\n",
       "      <td>19.566825</td>\n",
       "      <td>...</td>\n",
       "      <td>4.770558</td>\n",
       "      <td>34.363092</td>\n",
       "      <td>34.363092</td>\n",
       "      <td>2.121320</td>\n",
       "      <td>21.984085</td>\n",
       "      <td>2.0</td>\n",
       "      <td>0.138828</td>\n",
       "      <td>0.138828</td>\n",
       "      <td>0.317997</td>\n",
       "      <td>1.000000</td>\n",
       "    </tr>\n",
       "    <tr>\n",
       "      <th>3</th>\n",
       "      <td>519.533477</td>\n",
       "      <td>NaN</td>\n",
       "      <td>NaN</td>\n",
       "      <td>42.392725</td>\n",
       "      <td>107.439304</td>\n",
       "      <td>NaN</td>\n",
       "      <td>NaN</td>\n",
       "      <td>1.0</td>\n",
       "      <td>3.0</td>\n",
       "      <td>42.392725</td>\n",
       "      <td>...</td>\n",
       "      <td>32.065634</td>\n",
       "      <td>42.392725</td>\n",
       "      <td>42.392725</td>\n",
       "      <td>NaN</td>\n",
       "      <td>13.012814</td>\n",
       "      <td>24.0</td>\n",
       "      <td>1.000000</td>\n",
       "      <td>0.756395</td>\n",
       "      <td>0.394574</td>\n",
       "      <td>NaN</td>\n",
       "    </tr>\n",
       "    <tr>\n",
       "      <th>4</th>\n",
       "      <td>NaN</td>\n",
       "      <td>NaN</td>\n",
       "      <td>NaN</td>\n",
       "      <td>22.253255</td>\n",
       "      <td>41.160985</td>\n",
       "      <td>NaN</td>\n",
       "      <td>NaN</td>\n",
       "      <td>1.0</td>\n",
       "      <td>2.0</td>\n",
       "      <td>22.253255</td>\n",
       "      <td>...</td>\n",
       "      <td>18.907730</td>\n",
       "      <td>22.253255</td>\n",
       "      <td>22.253255</td>\n",
       "      <td>NaN</td>\n",
       "      <td>14.142136</td>\n",
       "      <td>16.0</td>\n",
       "      <td>1.000000</td>\n",
       "      <td>0.849661</td>\n",
       "      <td>0.540640</td>\n",
       "      <td>NaN</td>\n",
       "    </tr>\n",
       "  </tbody>\n",
       "</table>\n",
       "<p>5 rows × 22 columns</p>\n",
       "</div>"
      ],
      "text/plain": [
       "   target_profit_total  puchase_amt_SUM_7d_before_campaign  \\\n",
       "0           235.188978                                 NaN   \n",
       "1                  NaN                                 NaN   \n",
       "2                  NaN                            39.13365   \n",
       "3           519.533477                                 NaN   \n",
       "4                  NaN                                 NaN   \n",
       "\n",
       "   puchase_amt_SUM_15d_before_campaign  puchase_amt_SUM_30d_before_campaign  \\\n",
       "0                            12.028087                            23.426074   \n",
       "1                                  NaN                            24.823082   \n",
       "2                            39.133650                            39.133650   \n",
       "3                                  NaN                            42.392725   \n",
       "4                                  NaN                            22.253255   \n",
       "\n",
       "   puchase_amt_SUM_60d_before_campaign  puchase_amt_CNT_7d_before_campaign  \\\n",
       "0                            64.498275                                 NaN   \n",
       "1                            46.727059                                 NaN   \n",
       "2                           123.063061                                 2.0   \n",
       "3                           107.439304                                 NaN   \n",
       "4                            41.160985                                 NaN   \n",
       "\n",
       "   puchase_amt_CNT_15d_before_campaign  puchase_amt_CNT_30d_before_campaign  \\\n",
       "0                                  1.0                                  2.0   \n",
       "1                                  NaN                                  2.0   \n",
       "2                                  2.0                                  2.0   \n",
       "3                                  NaN                                  1.0   \n",
       "4                                  NaN                                  1.0   \n",
       "\n",
       "   puchase_amt_CNT_60d_before_campaign  puchase_amt_MEAN_30d_before_campaign  \\\n",
       "0                                  6.0                             11.713037   \n",
       "1                                  4.0                             12.411541   \n",
       "2                                  5.0                             19.566825   \n",
       "3                                  3.0                             42.392725   \n",
       "4                                  2.0                             22.253255   \n",
       "\n",
       "   ...  puchase_amt_MIN_60d_before_campaign  \\\n",
       "0  ...                             4.872151   \n",
       "1  ...                             7.633190   \n",
       "2  ...                             4.770558   \n",
       "3  ...                            32.065634   \n",
       "4  ...                            18.907730   \n",
       "\n",
       "   puchase_amt_MAX_30d_before_campaign  puchase_amt_MAX_60d_before_campaign  \\\n",
       "0                            12.028087                            13.803161   \n",
       "1                            13.377143                            14.270786   \n",
       "2                            34.363092                            34.363092   \n",
       "3                            42.392725                            42.392725   \n",
       "4                            22.253255                            22.253255   \n",
       "\n",
       "   puchase_amt_STD_30d_before_campaign  puchase_amt_STD_60d_before_campaign  \\\n",
       "0                             6.363961                            19.398454   \n",
       "1                             7.071068                            16.309506   \n",
       "2                             2.121320                            21.984085   \n",
       "3                                  NaN                            13.012814   \n",
       "4                                  NaN                            14.142136   \n",
       "\n",
       "   cnt_last_purch_days_before_campaign  \\\n",
       "0                                  9.0   \n",
       "1                                 20.0   \n",
       "2                                  2.0   \n",
       "3                                 24.0   \n",
       "4                                 16.0   \n",
       "\n",
       "   puchase_amt_MIN_div_MAX_30d_before_campaign  \\\n",
       "0                                     0.947614   \n",
       "1                                     0.855634   \n",
       "2                                     0.138828   \n",
       "3                                     1.000000   \n",
       "4                                     1.000000   \n",
       "\n",
       "   puchase_amt_MIN_div_MAX_60d_before_campaign  \\\n",
       "0                                     0.352974   \n",
       "1                                     0.534882   \n",
       "2                                     0.138828   \n",
       "3                                     0.756395   \n",
       "4                                     0.849661   \n",
       "\n",
       "   puchase_amt_SUM_30d_div_60d_before_campaign  \\\n",
       "0                                     0.363205   \n",
       "1                                     0.531236   \n",
       "2                                     0.317997   \n",
       "3                                     0.394574   \n",
       "4                                     0.540640   \n",
       "\n",
       "   puchase_amt_SUM_15d_div_30d_before_campaign  \n",
       "0                                     0.513449  \n",
       "1                                          NaN  \n",
       "2                                     1.000000  \n",
       "3                                          NaN  \n",
       "4                                          NaN  \n",
       "\n",
       "[5 rows x 22 columns]"
      ]
     },
     "execution_count": 31,
     "metadata": {},
     "output_type": "execute_result"
    }
   ],
   "source": [
    "receipts_agg.head()"
   ]
  },
  {
   "cell_type": "code",
   "execution_count": 32,
   "metadata": {
    "ExecuteTime": {
     "end_time": "2021-10-13T15:44:01.317666Z",
     "start_time": "2021-10-13T15:44:01.315382Z"
    }
   },
   "outputs": [],
   "source": [
    "# receipts_agg[receipts_agg['cnt_last_purch_days_before_campaign'].isnull()]"
   ]
  },
  {
   "cell_type": "code",
   "execution_count": 33,
   "metadata": {
    "ExecuteTime": {
     "end_time": "2021-10-13T15:44:02.132691Z",
     "start_time": "2021-10-13T15:44:01.319359Z"
    }
   },
   "outputs": [],
   "source": [
    "receipts_agg[[c for c in receipts_agg.columns if (('_STD_' not in c) | ('_div_' not in c))]] = \\\n",
    "        receipts_agg[[c for c in receipts_agg.columns if (('_STD_' not in c) | ('_div_' not in c))]].fillna(0)"
   ]
  },
  {
   "cell_type": "code",
   "execution_count": 34,
   "metadata": {
    "ExecuteTime": {
     "end_time": "2021-10-13T15:44:03.409498Z",
     "start_time": "2021-10-13T15:44:03.398405Z"
    }
   },
   "outputs": [],
   "source": [
    "receipts_agg['is_campaign'] = 0"
   ]
  },
  {
   "cell_type": "code",
   "execution_count": 35,
   "metadata": {
    "ExecuteTime": {
     "end_time": "2021-10-13T15:44:04.672845Z",
     "start_time": "2021-10-13T15:44:04.636432Z"
    }
   },
   "outputs": [],
   "source": [
    "receipts_agg.loc[receipts_agg.index<500000, 'is_campaign'] = 1"
   ]
  },
  {
   "cell_type": "code",
   "execution_count": 36,
   "metadata": {
    "ExecuteTime": {
     "end_time": "2021-10-13T15:44:04.860171Z",
     "start_time": "2021-10-13T15:44:04.830716Z"
    }
   },
   "outputs": [
    {
     "data": {
      "text/html": [
       "<div>\n",
       "<style scoped>\n",
       "    .dataframe tbody tr th:only-of-type {\n",
       "        vertical-align: middle;\n",
       "    }\n",
       "\n",
       "    .dataframe tbody tr th {\n",
       "        vertical-align: top;\n",
       "    }\n",
       "\n",
       "    .dataframe thead th {\n",
       "        text-align: right;\n",
       "    }\n",
       "</style>\n",
       "<table border=\"1\" class=\"dataframe\">\n",
       "  <thead>\n",
       "    <tr style=\"text-align: right;\">\n",
       "      <th></th>\n",
       "      <th>target_profit_total</th>\n",
       "      <th>puchase_amt_SUM_7d_before_campaign</th>\n",
       "      <th>puchase_amt_SUM_15d_before_campaign</th>\n",
       "      <th>puchase_amt_SUM_30d_before_campaign</th>\n",
       "      <th>puchase_amt_SUM_60d_before_campaign</th>\n",
       "      <th>puchase_amt_CNT_7d_before_campaign</th>\n",
       "      <th>puchase_amt_CNT_15d_before_campaign</th>\n",
       "      <th>puchase_amt_CNT_30d_before_campaign</th>\n",
       "      <th>puchase_amt_CNT_60d_before_campaign</th>\n",
       "      <th>puchase_amt_MEAN_30d_before_campaign</th>\n",
       "      <th>...</th>\n",
       "      <th>puchase_amt_MAX_30d_before_campaign</th>\n",
       "      <th>puchase_amt_MAX_60d_before_campaign</th>\n",
       "      <th>puchase_amt_STD_30d_before_campaign</th>\n",
       "      <th>puchase_amt_STD_60d_before_campaign</th>\n",
       "      <th>cnt_last_purch_days_before_campaign</th>\n",
       "      <th>puchase_amt_MIN_div_MAX_30d_before_campaign</th>\n",
       "      <th>puchase_amt_MIN_div_MAX_60d_before_campaign</th>\n",
       "      <th>puchase_amt_SUM_30d_div_60d_before_campaign</th>\n",
       "      <th>puchase_amt_SUM_15d_div_30d_before_campaign</th>\n",
       "      <th>is_campaign</th>\n",
       "    </tr>\n",
       "  </thead>\n",
       "  <tbody>\n",
       "    <tr>\n",
       "      <th>0</th>\n",
       "      <td>235.188978</td>\n",
       "      <td>0.00000</td>\n",
       "      <td>12.028087</td>\n",
       "      <td>23.426074</td>\n",
       "      <td>64.498275</td>\n",
       "      <td>0.0</td>\n",
       "      <td>1.0</td>\n",
       "      <td>2.0</td>\n",
       "      <td>6.0</td>\n",
       "      <td>11.713037</td>\n",
       "      <td>...</td>\n",
       "      <td>12.028087</td>\n",
       "      <td>13.803161</td>\n",
       "      <td>6.363961</td>\n",
       "      <td>19.398454</td>\n",
       "      <td>9.0</td>\n",
       "      <td>0.947614</td>\n",
       "      <td>0.352974</td>\n",
       "      <td>0.363205</td>\n",
       "      <td>0.513449</td>\n",
       "      <td>1</td>\n",
       "    </tr>\n",
       "    <tr>\n",
       "      <th>1</th>\n",
       "      <td>0.000000</td>\n",
       "      <td>0.00000</td>\n",
       "      <td>0.000000</td>\n",
       "      <td>24.823082</td>\n",
       "      <td>46.727059</td>\n",
       "      <td>0.0</td>\n",
       "      <td>0.0</td>\n",
       "      <td>2.0</td>\n",
       "      <td>4.0</td>\n",
       "      <td>12.411541</td>\n",
       "      <td>...</td>\n",
       "      <td>13.377143</td>\n",
       "      <td>14.270786</td>\n",
       "      <td>7.071068</td>\n",
       "      <td>16.309506</td>\n",
       "      <td>20.0</td>\n",
       "      <td>0.855634</td>\n",
       "      <td>0.534882</td>\n",
       "      <td>0.531236</td>\n",
       "      <td>0.000000</td>\n",
       "      <td>1</td>\n",
       "    </tr>\n",
       "    <tr>\n",
       "      <th>2</th>\n",
       "      <td>0.000000</td>\n",
       "      <td>39.13365</td>\n",
       "      <td>39.133650</td>\n",
       "      <td>39.133650</td>\n",
       "      <td>123.063061</td>\n",
       "      <td>2.0</td>\n",
       "      <td>2.0</td>\n",
       "      <td>2.0</td>\n",
       "      <td>5.0</td>\n",
       "      <td>19.566825</td>\n",
       "      <td>...</td>\n",
       "      <td>34.363092</td>\n",
       "      <td>34.363092</td>\n",
       "      <td>2.121320</td>\n",
       "      <td>21.984085</td>\n",
       "      <td>2.0</td>\n",
       "      <td>0.138828</td>\n",
       "      <td>0.138828</td>\n",
       "      <td>0.317997</td>\n",
       "      <td>1.000000</td>\n",
       "      <td>1</td>\n",
       "    </tr>\n",
       "    <tr>\n",
       "      <th>3</th>\n",
       "      <td>519.533477</td>\n",
       "      <td>0.00000</td>\n",
       "      <td>0.000000</td>\n",
       "      <td>42.392725</td>\n",
       "      <td>107.439304</td>\n",
       "      <td>0.0</td>\n",
       "      <td>0.0</td>\n",
       "      <td>1.0</td>\n",
       "      <td>3.0</td>\n",
       "      <td>42.392725</td>\n",
       "      <td>...</td>\n",
       "      <td>42.392725</td>\n",
       "      <td>42.392725</td>\n",
       "      <td>0.000000</td>\n",
       "      <td>13.012814</td>\n",
       "      <td>24.0</td>\n",
       "      <td>1.000000</td>\n",
       "      <td>0.756395</td>\n",
       "      <td>0.394574</td>\n",
       "      <td>0.000000</td>\n",
       "      <td>1</td>\n",
       "    </tr>\n",
       "    <tr>\n",
       "      <th>4</th>\n",
       "      <td>0.000000</td>\n",
       "      <td>0.00000</td>\n",
       "      <td>0.000000</td>\n",
       "      <td>22.253255</td>\n",
       "      <td>41.160985</td>\n",
       "      <td>0.0</td>\n",
       "      <td>0.0</td>\n",
       "      <td>1.0</td>\n",
       "      <td>2.0</td>\n",
       "      <td>22.253255</td>\n",
       "      <td>...</td>\n",
       "      <td>22.253255</td>\n",
       "      <td>22.253255</td>\n",
       "      <td>0.000000</td>\n",
       "      <td>14.142136</td>\n",
       "      <td>16.0</td>\n",
       "      <td>1.000000</td>\n",
       "      <td>0.849661</td>\n",
       "      <td>0.540640</td>\n",
       "      <td>0.000000</td>\n",
       "      <td>1</td>\n",
       "    </tr>\n",
       "  </tbody>\n",
       "</table>\n",
       "<p>5 rows × 23 columns</p>\n",
       "</div>"
      ],
      "text/plain": [
       "   target_profit_total  puchase_amt_SUM_7d_before_campaign  \\\n",
       "0           235.188978                             0.00000   \n",
       "1             0.000000                             0.00000   \n",
       "2             0.000000                            39.13365   \n",
       "3           519.533477                             0.00000   \n",
       "4             0.000000                             0.00000   \n",
       "\n",
       "   puchase_amt_SUM_15d_before_campaign  puchase_amt_SUM_30d_before_campaign  \\\n",
       "0                            12.028087                            23.426074   \n",
       "1                             0.000000                            24.823082   \n",
       "2                            39.133650                            39.133650   \n",
       "3                             0.000000                            42.392725   \n",
       "4                             0.000000                            22.253255   \n",
       "\n",
       "   puchase_amt_SUM_60d_before_campaign  puchase_amt_CNT_7d_before_campaign  \\\n",
       "0                            64.498275                                 0.0   \n",
       "1                            46.727059                                 0.0   \n",
       "2                           123.063061                                 2.0   \n",
       "3                           107.439304                                 0.0   \n",
       "4                            41.160985                                 0.0   \n",
       "\n",
       "   puchase_amt_CNT_15d_before_campaign  puchase_amt_CNT_30d_before_campaign  \\\n",
       "0                                  1.0                                  2.0   \n",
       "1                                  0.0                                  2.0   \n",
       "2                                  2.0                                  2.0   \n",
       "3                                  0.0                                  1.0   \n",
       "4                                  0.0                                  1.0   \n",
       "\n",
       "   puchase_amt_CNT_60d_before_campaign  puchase_amt_MEAN_30d_before_campaign  \\\n",
       "0                                  6.0                             11.713037   \n",
       "1                                  4.0                             12.411541   \n",
       "2                                  5.0                             19.566825   \n",
       "3                                  3.0                             42.392725   \n",
       "4                                  2.0                             22.253255   \n",
       "\n",
       "   ...  puchase_amt_MAX_30d_before_campaign  \\\n",
       "0  ...                            12.028087   \n",
       "1  ...                            13.377143   \n",
       "2  ...                            34.363092   \n",
       "3  ...                            42.392725   \n",
       "4  ...                            22.253255   \n",
       "\n",
       "   puchase_amt_MAX_60d_before_campaign  puchase_amt_STD_30d_before_campaign  \\\n",
       "0                            13.803161                             6.363961   \n",
       "1                            14.270786                             7.071068   \n",
       "2                            34.363092                             2.121320   \n",
       "3                            42.392725                             0.000000   \n",
       "4                            22.253255                             0.000000   \n",
       "\n",
       "   puchase_amt_STD_60d_before_campaign  cnt_last_purch_days_before_campaign  \\\n",
       "0                            19.398454                                  9.0   \n",
       "1                            16.309506                                 20.0   \n",
       "2                            21.984085                                  2.0   \n",
       "3                            13.012814                                 24.0   \n",
       "4                            14.142136                                 16.0   \n",
       "\n",
       "   puchase_amt_MIN_div_MAX_30d_before_campaign  \\\n",
       "0                                     0.947614   \n",
       "1                                     0.855634   \n",
       "2                                     0.138828   \n",
       "3                                     1.000000   \n",
       "4                                     1.000000   \n",
       "\n",
       "   puchase_amt_MIN_div_MAX_60d_before_campaign  \\\n",
       "0                                     0.352974   \n",
       "1                                     0.534882   \n",
       "2                                     0.138828   \n",
       "3                                     0.756395   \n",
       "4                                     0.849661   \n",
       "\n",
       "   puchase_amt_SUM_30d_div_60d_before_campaign  \\\n",
       "0                                     0.363205   \n",
       "1                                     0.531236   \n",
       "2                                     0.317997   \n",
       "3                                     0.394574   \n",
       "4                                     0.540640   \n",
       "\n",
       "   puchase_amt_SUM_15d_div_30d_before_campaign  is_campaign  \n",
       "0                                     0.513449            1  \n",
       "1                                     0.000000            1  \n",
       "2                                     1.000000            1  \n",
       "3                                     0.000000            1  \n",
       "4                                     0.000000            1  \n",
       "\n",
       "[5 rows x 23 columns]"
      ]
     },
     "execution_count": 36,
     "metadata": {},
     "output_type": "execute_result"
    }
   ],
   "source": [
    "receipts_agg.head()"
   ]
  },
  {
   "cell_type": "code",
   "execution_count": 37,
   "metadata": {
    "ExecuteTime": {
     "end_time": "2021-10-13T15:44:05.347358Z",
     "start_time": "2021-10-13T15:44:05.028077Z"
    }
   },
   "outputs": [],
   "source": [
    "data = receipts_agg.join(customers)"
   ]
  },
  {
   "cell_type": "code",
   "execution_count": 38,
   "metadata": {
    "ExecuteTime": {
     "end_time": "2021-10-13T15:44:05.352294Z",
     "start_time": "2021-10-13T15:44:05.349293Z"
    }
   },
   "outputs": [],
   "source": [
    "# data = pd.concat([data[data.is_campaign==1], \n",
    "#            data[data.is_campaign==0].sample(frac=0.1)\n",
    "#           ], axis=0)"
   ]
  },
  {
   "cell_type": "code",
   "execution_count": 39,
   "metadata": {
    "ExecuteTime": {
     "end_time": "2021-10-13T15:44:05.783804Z",
     "start_time": "2021-10-13T15:44:05.598949Z"
    }
   },
   "outputs": [],
   "source": [
    "data = data.drop('customer_id', axis=1)"
   ]
  },
  {
   "cell_type": "code",
   "execution_count": 40,
   "metadata": {
    "ExecuteTime": {
     "end_time": "2021-10-13T15:44:05.825891Z",
     "start_time": "2021-10-13T15:44:05.807266Z"
    }
   },
   "outputs": [
    {
     "data": {
      "text/plain": [
       "0    1498678\n",
       "1     499608\n",
       "Name: is_campaign, dtype: int64"
      ]
     },
     "execution_count": 40,
     "metadata": {},
     "output_type": "execute_result"
    }
   ],
   "source": [
    "data.is_campaign.value_counts()"
   ]
  },
  {
   "cell_type": "code",
   "execution_count": 41,
   "metadata": {
    "ExecuteTime": {
     "end_time": "2021-10-13T15:44:06.007033Z",
     "start_time": "2021-10-13T15:44:05.999714Z"
    }
   },
   "outputs": [],
   "source": [
    "col_target = 'target_profit_total'\n",
    "col_treatment = 'is_campaign'\n",
    "\n",
    "targ_cols = [col_target, col_treatment]\n",
    "cols_features  = [c for c in data.columns if c not in targ_cols]"
   ]
  },
  {
   "cell_type": "code",
   "execution_count": 42,
   "metadata": {
    "ExecuteTime": {
     "end_time": "2021-10-13T15:44:06.860814Z",
     "start_time": "2021-10-13T15:44:06.833223Z"
    }
   },
   "outputs": [
    {
     "data": {
      "text/html": [
       "<div>\n",
       "<style scoped>\n",
       "    .dataframe tbody tr th:only-of-type {\n",
       "        vertical-align: middle;\n",
       "    }\n",
       "\n",
       "    .dataframe tbody tr th {\n",
       "        vertical-align: top;\n",
       "    }\n",
       "\n",
       "    .dataframe thead th {\n",
       "        text-align: right;\n",
       "    }\n",
       "</style>\n",
       "<table border=\"1\" class=\"dataframe\">\n",
       "  <thead>\n",
       "    <tr style=\"text-align: right;\">\n",
       "      <th></th>\n",
       "      <th>target_profit_total</th>\n",
       "      <th>puchase_amt_SUM_7d_before_campaign</th>\n",
       "      <th>puchase_amt_SUM_15d_before_campaign</th>\n",
       "      <th>puchase_amt_SUM_30d_before_campaign</th>\n",
       "      <th>puchase_amt_SUM_60d_before_campaign</th>\n",
       "      <th>puchase_amt_CNT_7d_before_campaign</th>\n",
       "      <th>puchase_amt_CNT_15d_before_campaign</th>\n",
       "      <th>puchase_amt_CNT_30d_before_campaign</th>\n",
       "      <th>puchase_amt_CNT_60d_before_campaign</th>\n",
       "      <th>puchase_amt_MEAN_30d_before_campaign</th>\n",
       "      <th>...</th>\n",
       "      <th>puchase_amt_SUM_15d_div_30d_before_campaign</th>\n",
       "      <th>is_campaign</th>\n",
       "      <th>age</th>\n",
       "      <th>location_Beauclair</th>\n",
       "      <th>location_Crows_perch</th>\n",
       "      <th>location_Hindarsfjall</th>\n",
       "      <th>location_Kaer_Trolde</th>\n",
       "      <th>location_Novigrad</th>\n",
       "      <th>location_Oxenfurt</th>\n",
       "      <th>location_Spikeroog</th>\n",
       "    </tr>\n",
       "  </thead>\n",
       "  <tbody>\n",
       "    <tr>\n",
       "      <th>0</th>\n",
       "      <td>235.188978</td>\n",
       "      <td>0.00000</td>\n",
       "      <td>12.028087</td>\n",
       "      <td>23.426074</td>\n",
       "      <td>64.498275</td>\n",
       "      <td>0.0</td>\n",
       "      <td>1.0</td>\n",
       "      <td>2.0</td>\n",
       "      <td>6.0</td>\n",
       "      <td>11.713037</td>\n",
       "      <td>...</td>\n",
       "      <td>0.513449</td>\n",
       "      <td>1</td>\n",
       "      <td>56</td>\n",
       "      <td>0</td>\n",
       "      <td>0</td>\n",
       "      <td>0</td>\n",
       "      <td>0</td>\n",
       "      <td>0</td>\n",
       "      <td>1</td>\n",
       "      <td>0</td>\n",
       "    </tr>\n",
       "    <tr>\n",
       "      <th>1</th>\n",
       "      <td>0.000000</td>\n",
       "      <td>0.00000</td>\n",
       "      <td>0.000000</td>\n",
       "      <td>24.823082</td>\n",
       "      <td>46.727059</td>\n",
       "      <td>0.0</td>\n",
       "      <td>0.0</td>\n",
       "      <td>2.0</td>\n",
       "      <td>4.0</td>\n",
       "      <td>12.411541</td>\n",
       "      <td>...</td>\n",
       "      <td>0.000000</td>\n",
       "      <td>1</td>\n",
       "      <td>53</td>\n",
       "      <td>0</td>\n",
       "      <td>0</td>\n",
       "      <td>1</td>\n",
       "      <td>0</td>\n",
       "      <td>0</td>\n",
       "      <td>0</td>\n",
       "      <td>0</td>\n",
       "    </tr>\n",
       "    <tr>\n",
       "      <th>2</th>\n",
       "      <td>0.000000</td>\n",
       "      <td>39.13365</td>\n",
       "      <td>39.133650</td>\n",
       "      <td>39.133650</td>\n",
       "      <td>123.063061</td>\n",
       "      <td>2.0</td>\n",
       "      <td>2.0</td>\n",
       "      <td>2.0</td>\n",
       "      <td>5.0</td>\n",
       "      <td>19.566825</td>\n",
       "      <td>...</td>\n",
       "      <td>1.000000</td>\n",
       "      <td>1</td>\n",
       "      <td>41</td>\n",
       "      <td>0</td>\n",
       "      <td>0</td>\n",
       "      <td>1</td>\n",
       "      <td>0</td>\n",
       "      <td>0</td>\n",
       "      <td>0</td>\n",
       "      <td>0</td>\n",
       "    </tr>\n",
       "    <tr>\n",
       "      <th>3</th>\n",
       "      <td>519.533477</td>\n",
       "      <td>0.00000</td>\n",
       "      <td>0.000000</td>\n",
       "      <td>42.392725</td>\n",
       "      <td>107.439304</td>\n",
       "      <td>0.0</td>\n",
       "      <td>0.0</td>\n",
       "      <td>1.0</td>\n",
       "      <td>3.0</td>\n",
       "      <td>42.392725</td>\n",
       "      <td>...</td>\n",
       "      <td>0.000000</td>\n",
       "      <td>1</td>\n",
       "      <td>60</td>\n",
       "      <td>0</td>\n",
       "      <td>0</td>\n",
       "      <td>0</td>\n",
       "      <td>1</td>\n",
       "      <td>0</td>\n",
       "      <td>0</td>\n",
       "      <td>0</td>\n",
       "    </tr>\n",
       "    <tr>\n",
       "      <th>4</th>\n",
       "      <td>0.000000</td>\n",
       "      <td>0.00000</td>\n",
       "      <td>0.000000</td>\n",
       "      <td>22.253255</td>\n",
       "      <td>41.160985</td>\n",
       "      <td>0.0</td>\n",
       "      <td>0.0</td>\n",
       "      <td>1.0</td>\n",
       "      <td>2.0</td>\n",
       "      <td>22.253255</td>\n",
       "      <td>...</td>\n",
       "      <td>0.000000</td>\n",
       "      <td>1</td>\n",
       "      <td>22</td>\n",
       "      <td>0</td>\n",
       "      <td>0</td>\n",
       "      <td>0</td>\n",
       "      <td>0</td>\n",
       "      <td>0</td>\n",
       "      <td>0</td>\n",
       "      <td>1</td>\n",
       "    </tr>\n",
       "  </tbody>\n",
       "</table>\n",
       "<p>5 rows × 31 columns</p>\n",
       "</div>"
      ],
      "text/plain": [
       "   target_profit_total  puchase_amt_SUM_7d_before_campaign  \\\n",
       "0           235.188978                             0.00000   \n",
       "1             0.000000                             0.00000   \n",
       "2             0.000000                            39.13365   \n",
       "3           519.533477                             0.00000   \n",
       "4             0.000000                             0.00000   \n",
       "\n",
       "   puchase_amt_SUM_15d_before_campaign  puchase_amt_SUM_30d_before_campaign  \\\n",
       "0                            12.028087                            23.426074   \n",
       "1                             0.000000                            24.823082   \n",
       "2                            39.133650                            39.133650   \n",
       "3                             0.000000                            42.392725   \n",
       "4                             0.000000                            22.253255   \n",
       "\n",
       "   puchase_amt_SUM_60d_before_campaign  puchase_amt_CNT_7d_before_campaign  \\\n",
       "0                            64.498275                                 0.0   \n",
       "1                            46.727059                                 0.0   \n",
       "2                           123.063061                                 2.0   \n",
       "3                           107.439304                                 0.0   \n",
       "4                            41.160985                                 0.0   \n",
       "\n",
       "   puchase_amt_CNT_15d_before_campaign  puchase_amt_CNT_30d_before_campaign  \\\n",
       "0                                  1.0                                  2.0   \n",
       "1                                  0.0                                  2.0   \n",
       "2                                  2.0                                  2.0   \n",
       "3                                  0.0                                  1.0   \n",
       "4                                  0.0                                  1.0   \n",
       "\n",
       "   puchase_amt_CNT_60d_before_campaign  puchase_amt_MEAN_30d_before_campaign  \\\n",
       "0                                  6.0                             11.713037   \n",
       "1                                  4.0                             12.411541   \n",
       "2                                  5.0                             19.566825   \n",
       "3                                  3.0                             42.392725   \n",
       "4                                  2.0                             22.253255   \n",
       "\n",
       "   ...  puchase_amt_SUM_15d_div_30d_before_campaign  is_campaign  age  \\\n",
       "0  ...                                     0.513449            1   56   \n",
       "1  ...                                     0.000000            1   53   \n",
       "2  ...                                     1.000000            1   41   \n",
       "3  ...                                     0.000000            1   60   \n",
       "4  ...                                     0.000000            1   22   \n",
       "\n",
       "   location_Beauclair  location_Crows_perch  location_Hindarsfjall  \\\n",
       "0                   0                     0                      0   \n",
       "1                   0                     0                      1   \n",
       "2                   0                     0                      1   \n",
       "3                   0                     0                      0   \n",
       "4                   0                     0                      0   \n",
       "\n",
       "   location_Kaer_Trolde  location_Novigrad  location_Oxenfurt  \\\n",
       "0                     0                  0                  1   \n",
       "1                     0                  0                  0   \n",
       "2                     0                  0                  0   \n",
       "3                     1                  0                  0   \n",
       "4                     0                  0                  0   \n",
       "\n",
       "   location_Spikeroog  \n",
       "0                   0  \n",
       "1                   0  \n",
       "2                   0  \n",
       "3                   0  \n",
       "4                   1  \n",
       "\n",
       "[5 rows x 31 columns]"
      ]
     },
     "execution_count": 42,
     "metadata": {},
     "output_type": "execute_result"
    }
   ],
   "source": [
    "data.head()"
   ]
  },
  {
   "cell_type": "code",
   "execution_count": 43,
   "metadata": {
    "ExecuteTime": {
     "end_time": "2021-10-13T15:44:07.116423Z",
     "start_time": "2021-10-13T15:44:07.109545Z"
    }
   },
   "outputs": [],
   "source": [
    "# # посчитаем uplift в разрезе каждого из значений переменной f1 (средняя разность между целевыми и контрольными пользователями по показателю visit)\n",
    "# # если бы различий не было, можно было бы избавиться от фактора\n",
    "# # линии - доверительные интервалы\n",
    "\n",
    "# _ = response_uplift(\n",
    "#     data=data,\n",
    "#     col_feature='location_Novigrad',\n",
    "#     col_target=col_target,\n",
    "#     col_treatment=col_treatment\n",
    "# )"
   ]
  },
  {
   "cell_type": "markdown",
   "metadata": {},
   "source": [
    "# fit part"
   ]
  },
  {
   "cell_type": "code",
   "execution_count": 44,
   "metadata": {
    "ExecuteTime": {
     "end_time": "2021-10-13T15:44:07.868490Z",
     "start_time": "2021-10-13T15:44:07.779838Z"
    }
   },
   "outputs": [],
   "source": [
    "fit_index, val_index = train_test_split(data.index, test_size=0.2, random_state=148)"
   ]
  },
  {
   "cell_type": "code",
   "execution_count": 45,
   "metadata": {
    "ExecuteTime": {
     "end_time": "2021-10-13T15:44:08.126041Z",
     "start_time": "2021-10-13T15:44:07.981079Z"
    }
   },
   "outputs": [],
   "source": [
    "_p_score_const = data.loc[fit_index, col_treatment].value_counts(normalize=True).loc[1]\n",
    "_p_scores = pd.Series(data=_p_score_const, index=fit_index)"
   ]
  },
  {
   "cell_type": "code",
   "execution_count": 46,
   "metadata": {
    "ExecuteTime": {
     "end_time": "2021-10-13T15:44:08.306695Z",
     "start_time": "2021-10-13T15:44:08.300323Z"
    }
   },
   "outputs": [],
   "source": [
    "# lgb_params  = {'num_leaves': 30, \n",
    "#                'learning_rate': 0.15}\n",
    "\n",
    "lgb_params = {}"
   ]
  },
  {
   "cell_type": "code",
   "execution_count": null,
   "metadata": {},
   "outputs": [],
   "source": []
  },
  {
   "cell_type": "code",
   "execution_count": 47,
   "metadata": {
    "ExecuteTime": {
     "end_time": "2021-10-13T15:44:08.749694Z",
     "start_time": "2021-10-13T15:44:08.743334Z"
    }
   },
   "outputs": [],
   "source": [
    "# model_n1 = rlearner.BaseRRegressor(\n",
    "#     learner=lgb.LGBMRegressor(**lgb_params),\n",
    "#     control_name=0,\n",
    "#     n_fold=4,\n",
    "#     random_state=165\n",
    "# )\n",
    "\n",
    "# model_n1.fit(\n",
    "#     X=data.loc[fit_index, cols_features].values,\n",
    "#     treatment=data.loc[fit_index, col_treatment].values,\n",
    "#     y=data.loc[fit_index, col_target].values,\n",
    "#     p=_p_scores\n",
    "# )\n",
    "\n",
    "# _eval_data = data.loc[val_index, cols_features + [col_treatment, col_target]]\n",
    "# _eval_data['score'] = model_n1.predict(_eval_data[cols_features])\n",
    "# _eval_data = _eval_data[['score', col_treatment, col_target]]"
   ]
  },
  {
   "cell_type": "code",
   "execution_count": 48,
   "metadata": {
    "ExecuteTime": {
     "end_time": "2021-10-13T15:44:21.198425Z",
     "start_time": "2021-10-13T15:44:08.962310Z"
    }
   },
   "outputs": [],
   "source": [
    "model_n1 = xlearner.BaseXRegressor(\n",
    "    learner=lgb.LGBMRegressor(**lgb_params),\n",
    "    control_name=0,\n",
    ")\n",
    "\n",
    "model_n1.fit(\n",
    "    X=data.loc[fit_index, cols_features].values,\n",
    "    treatment=data.loc[fit_index, col_treatment].values,\n",
    "    y=data.loc[fit_index, col_target].values,\n",
    "    p=_p_scores\n",
    ")\n",
    "\n",
    "_p_scores = pd.Series(data=_p_score_const, index=val_index)\n",
    "\n",
    "_eval_data = data.loc[val_index, cols_features + [col_treatment, col_target]]\n",
    "_eval_data['score'] = model_n1.predict(_eval_data[cols_features], p=_p_scores)\n",
    "_eval_data = _eval_data[['score', col_treatment, col_target]]"
   ]
  },
  {
   "cell_type": "code",
   "execution_count": 49,
   "metadata": {
    "ExecuteTime": {
     "end_time": "2021-10-13T15:44:21.202385Z",
     "start_time": "2021-10-13T15:44:21.200262Z"
    }
   },
   "outputs": [],
   "source": [
    "# model_n1 = tlearner.BaseTRegressor(\n",
    "#     learner=lgb.LGBMRegressor(**lgb_params),\n",
    "#     control_name=0,\n",
    "# )\n",
    "\n",
    "\n",
    "# model_n1.fit(\n",
    "#     X=data.loc[fit_index, cols_features].values,\n",
    "#     treatment=data.loc[fit_index, col_treatment].values,\n",
    "#     y=data.loc[fit_index, col_target].values,\n",
    "#     p=_p_scores\n",
    "# )\n",
    "\n",
    "# _eval_data = data.loc[val_index, cols_features + [col_treatment, col_target]]\n",
    "# _eval_data['score'] = model_n1.predict(_eval_data[cols_features])\n",
    "# _eval_data = _eval_data[['score', col_treatment, col_target]]"
   ]
  },
  {
   "cell_type": "code",
   "execution_count": 50,
   "metadata": {
    "ExecuteTime": {
     "end_time": "2021-10-13T15:44:21.213232Z",
     "start_time": "2021-10-13T15:44:21.204219Z"
    },
    "scrolled": true
   },
   "outputs": [],
   "source": [
    "# model_n1 = pylift.TransformedOutcome(\n",
    "#     data.loc[fit_index, cols_features + [col_treatment, col_target]],\n",
    "#     col_treatment=col_treatment, col_outcome=col_target,\n",
    "#     test_size=2\n",
    "# )\n",
    "\n",
    "# model_n1.fit()\n",
    "\n",
    "# _eval_data = data.loc[val_index, cols_features + [col_treatment, col_target]]\n",
    "# _eval_data['score'] = model_n1.model.predict(_eval_data[cols_features])\n",
    "# _eval_data = _eval_data[['score', col_treatment, col_target]]"
   ]
  },
  {
   "cell_type": "code",
   "execution_count": null,
   "metadata": {},
   "outputs": [],
   "source": []
  },
  {
   "cell_type": "code",
   "execution_count": 51,
   "metadata": {
    "ExecuteTime": {
     "end_time": "2021-10-13T15:44:21.223789Z",
     "start_time": "2021-10-13T15:44:21.215010Z"
    }
   },
   "outputs": [],
   "source": [
    "# np.percentile(_eval_data['score'], 5)"
   ]
  },
  {
   "cell_type": "code",
   "execution_count": 52,
   "metadata": {
    "ExecuteTime": {
     "end_time": "2021-10-13T15:44:21.234266Z",
     "start_time": "2021-10-13T15:44:21.225444Z"
    }
   },
   "outputs": [],
   "source": [
    "# np.percentile(_eval_data['score'], 95)"
   ]
  },
  {
   "cell_type": "code",
   "execution_count": 53,
   "metadata": {
    "ExecuteTime": {
     "end_time": "2021-10-13T15:44:21.245229Z",
     "start_time": "2021-10-13T15:44:21.236158Z"
    },
    "scrolled": false
   },
   "outputs": [],
   "source": [
    "# plt.figure(figsize=(10, 6))\n",
    "# plt.hist(_eval_data['score'], range=(-2, 2), bins=16)\n",
    "# plt.show()"
   ]
  },
  {
   "cell_type": "code",
   "execution_count": 54,
   "metadata": {
    "ExecuteTime": {
     "end_time": "2021-10-13T15:44:21.255920Z",
     "start_time": "2021-10-13T15:44:21.247209Z"
    }
   },
   "outputs": [],
   "source": [
    "# _eval_data['score'].describe()"
   ]
  },
  {
   "cell_type": "code",
   "execution_count": 55,
   "metadata": {
    "ExecuteTime": {
     "end_time": "2021-10-13T15:44:23.146539Z",
     "start_time": "2021-10-13T15:44:21.258383Z"
    }
   },
   "outputs": [
    {
     "data": {
      "image/png": "[encoded data removed]",
      "text/plain": [
       "<Figure size 576x576 with 1 Axes>"
      ]
     },
     "metadata": {},
     "output_type": "display_data"
    }
   ],
   "source": [
    "cmetrics.plot_gain(\n",
    "    _eval_data,\n",
    "    treatment_col=col_treatment,\n",
    "    outcome_col=col_target,\n",
    ")"
   ]
  },
  {
   "cell_type": "code",
   "execution_count": 56,
   "metadata": {
    "ExecuteTime": {
     "end_time": "2021-10-13T15:44:29.172228Z",
     "start_time": "2021-10-13T15:44:27.483752Z"
    }
   },
   "outputs": [
    {
     "data": {
      "text/plain": [
       "score     1.481996e+00\n",
       "Random   -4.223656e-15\n",
       "dtype: float64"
      ]
     },
     "execution_count": 56,
     "metadata": {},
     "output_type": "execute_result"
    }
   ],
   "source": [
    "cmetrics.qini_score(\n",
    "    _eval_data,\n",
    "    treatment_col=col_treatment,\n",
    "    outcome_col=col_target,\n",
    ")"
   ]
  },
  {
   "cell_type": "code",
   "execution_count": 59,
   "metadata": {
    "ExecuteTime": {
     "end_time": "2021-10-13T14:32:05.412043Z",
     "start_time": "2021-10-13T14:32:05.404011Z"
    }
   },
   "outputs": [
    {
     "data": {
      "text/plain": [
       "1.466021"
      ]
     },
     "execution_count": 59,
     "metadata": {},
     "output_type": "execute_result"
    }
   ],
   "source": [
    "1.481996e+00"
   ]
  },
  {
   "cell_type": "code",
   "execution_count": null,
   "metadata": {},
   "outputs": [],
   "source": []
  },
  {
   "cell_type": "code",
   "execution_count": 57,
   "metadata": {
    "ExecuteTime": {
     "end_time": "2021-10-13T15:44:58.094111Z",
     "start_time": "2021-10-13T15:44:53.677508Z"
    }
   },
   "outputs": [],
   "source": [
    "tmp = pylift.TransformedOutcome(\n",
    "    data.loc[fit_index, cols_features + [col_treatment, col_target]],\n",
    "    col_treatment=col_treatment,\n",
    "    col_outcome=col_target,\n",
    "    test_size=2\n",
    ")"
   ]
  },
  {
   "cell_type": "code",
   "execution_count": 58,
   "metadata": {
    "ExecuteTime": {
     "end_time": "2021-10-13T15:46:21.309330Z",
     "start_time": "2021-10-13T15:44:58.096528Z"
    },
    "scrolled": true
   },
   "outputs": [
    {
     "data": {
      "text/plain": [
       "<matplotlib.axes._subplots.AxesSubplot at 0x7f39d43f3d30>"
      ]
     },
     "execution_count": 58,
     "metadata": {},
     "output_type": "execute_result"
    },
    {
     "data": {
      "image/png": "[encoded data removed]",
      "text/plain": [
       "<Figure size 1080x2088 with 1 Axes>"
      ]
     },
     "metadata": {},
     "output_type": "display_data"
    }
   ],
   "source": [
    "tmp.NIV(n_bins=10)"
   ]
  },
  {
   "cell_type": "markdown",
   "metadata": {},
   "source": [
    "# fit"
   ]
  },
  {
   "cell_type": "code",
   "execution_count": 59,
   "metadata": {
    "ExecuteTime": {
     "end_time": "2021-10-13T15:46:38.232433Z",
     "start_time": "2021-10-13T15:46:38.208819Z"
    }
   },
   "outputs": [],
   "source": [
    "_p_score_const = data.loc[:, col_treatment].value_counts(normalize=True).loc[1]\n",
    "_p_scores = pd.Series(data=_p_score_const, index=data.index)"
   ]
  },
  {
   "cell_type": "code",
   "execution_count": 60,
   "metadata": {
    "ExecuteTime": {
     "end_time": "2021-10-13T15:46:38.776507Z",
     "start_time": "2021-10-13T15:46:38.770825Z"
    }
   },
   "outputs": [],
   "source": [
    "# is_baseX = False\n",
    "\n",
    "# model_n_pred = rlearner.BaseRRegressor(\n",
    "#     learner=lgb.LGBMRegressor(**lgb_params),\n",
    "#     control_name=0,\n",
    "#     n_fold=4,\n",
    "#     random_state=165\n",
    "# )\n",
    "\n",
    "# model_n_pred.fit(\n",
    "#     X=data.loc[:, cols_features].values,\n",
    "#     treatment=data.loc[:, col_treatment].values,\n",
    "#     y=data.loc[:, col_target].values,\n",
    "#     p=_p_scores\n",
    "# )\n"
   ]
  },
  {
   "cell_type": "code",
   "execution_count": 61,
   "metadata": {
    "ExecuteTime": {
     "end_time": "2021-10-13T15:46:52.350185Z",
     "start_time": "2021-10-13T15:46:38.990879Z"
    }
   },
   "outputs": [],
   "source": [
    "is_baseX = True\n",
    "\n",
    "model_n_pred = xlearner.BaseXRegressor(\n",
    "    learner=lgb.LGBMRegressor(**lgb_params),\n",
    "    control_name=0,\n",
    ")\n",
    "\n",
    "model_n_pred.fit(\n",
    "    X=data.loc[:, cols_features].values,\n",
    "    treatment=data.loc[:, col_treatment].values,\n",
    "    y=data.loc[:, col_target].values,\n",
    "    p=_p_scores\n",
    ")"
   ]
  },
  {
   "cell_type": "code",
   "execution_count": 62,
   "metadata": {
    "ExecuteTime": {
     "end_time": "2021-10-13T15:46:52.354729Z",
     "start_time": "2021-10-13T15:46:52.351779Z"
    }
   },
   "outputs": [],
   "source": [
    "# is_baseX = False\n",
    "\n",
    "# model_n_pred = tlearner.BaseTRegressor(\n",
    "#     learner=lgb.LGBMRegressor(**lgb_params),\n",
    "#     control_name=0,\n",
    "# )\n",
    "\n",
    "\n",
    "# model_n_pred.fit(\n",
    "#     X=data.loc[:, cols_features].values,\n",
    "#     treatment=data.loc[:, col_treatment].values,\n",
    "#     y=data.loc[:, col_target].values,\n",
    "#     p=_p_scores\n",
    "# )\n"
   ]
  },
  {
   "cell_type": "code",
   "execution_count": 63,
   "metadata": {
    "ExecuteTime": {
     "end_time": "2021-10-13T15:46:52.364589Z",
     "start_time": "2021-10-13T15:46:52.357325Z"
    },
    "scrolled": true
   },
   "outputs": [],
   "source": [
    "# is_baseX = False\n",
    "\n",
    "# model_n_pred = pylift.TransformedOutcome(\n",
    "#     data.loc[:, cols_features + [col_treatment, col_target]],\n",
    "#     col_treatment=col_treatment, col_outcome=col_target,\n",
    "#     test_size=2\n",
    "# )\n",
    "\n",
    "# model_n_pred.fit()"
   ]
  },
  {
   "cell_type": "code",
   "execution_count": null,
   "metadata": {},
   "outputs": [],
   "source": []
  },
  {
   "cell_type": "code",
   "execution_count": 73,
   "metadata": {
    "ExecuteTime": {
     "end_time": "2021-10-13T15:47:43.594507Z",
     "start_time": "2021-10-13T15:47:43.543564Z"
    }
   },
   "outputs": [
    {
     "data": {
      "text/plain": [
       "249"
      ]
     },
     "execution_count": 73,
     "metadata": {},
     "output_type": "execute_result"
    }
   ],
   "source": [
    "receipts.date.max()"
   ]
  },
  {
   "cell_type": "markdown",
   "metadata": {},
   "source": [
    "# predict"
   ]
  },
  {
   "cell_type": "code",
   "execution_count": 65,
   "metadata": {
    "ExecuteTime": {
     "end_time": "2021-10-13T15:47:00.631494Z",
     "start_time": "2021-10-13T15:46:52.420353Z"
    }
   },
   "outputs": [],
   "source": [
    "_eval_data = pd.DataFrame(index=set(receipts.customer_id))"
   ]
  },
  {
   "cell_type": "code",
   "execution_count": 66,
   "metadata": {
    "ExecuteTime": {
     "end_time": "2021-10-13T15:47:21.240133Z",
     "start_time": "2021-10-13T15:47:00.632913Z"
    }
   },
   "outputs": [],
   "source": [
    "camp_day = 250\n",
    "# _eval_data = compute_campaign_purch_sum(_eval_data, camp_day)\n",
    "\n",
    "_eval_data = compute_purch_sum(_eval_data, camp_day, lag_list=[7,15,30,60])\n",
    "_eval_data = compute_purch_cnt(_eval_data, camp_day, lag_list=[7,15,30,60])\n",
    "\n",
    "_eval_data = compute_purch_mean(_eval_data, camp_day, lag_list=[30,60])\n",
    "_eval_data = compute_purch_min(_eval_data, camp_day, lag_list=[30,60])\n",
    "_eval_data = compute_purch_max(_eval_data, camp_day, lag_list=[30,60])\n",
    "_eval_data = compute_purch_std(_eval_data, camp_day, lag_list=[30,60])\n",
    "\n",
    "_eval_data = compute_purch_last_day(_eval_data, camp_day)\n",
    "\n",
    "_eval_data = compute_purch_min_div_max(_eval_data, camp_day, lag_list=[30,60])\n",
    "\n",
    "_eval_data = compute_purch_sum_rel_change(_eval_data)\n",
    "# _eval_data = compute_purch_mean_rel_change(_eval_data)"
   ]
  },
  {
   "cell_type": "code",
   "execution_count": 67,
   "metadata": {
    "ExecuteTime": {
     "end_time": "2021-10-13T15:47:21.983294Z",
     "start_time": "2021-10-13T15:47:21.241710Z"
    }
   },
   "outputs": [],
   "source": [
    "_eval_data[[c for c in _eval_data.columns if (('_STD_' not in c) | ('_div_' not in c))]] = \\\n",
    "        _eval_data[[c for c in _eval_data.columns if (('_STD_' not in c) | ('_div_' not in c))]].fillna(0)"
   ]
  },
  {
   "cell_type": "code",
   "execution_count": 68,
   "metadata": {
    "ExecuteTime": {
     "end_time": "2021-10-13T15:47:22.249747Z",
     "start_time": "2021-10-13T15:47:21.985139Z"
    }
   },
   "outputs": [],
   "source": [
    "_eval_data = _eval_data.join(customers)"
   ]
  },
  {
   "cell_type": "code",
   "execution_count": 69,
   "metadata": {
    "ExecuteTime": {
     "end_time": "2021-10-13T15:47:22.646783Z",
     "start_time": "2021-10-13T15:47:22.251281Z"
    }
   },
   "outputs": [],
   "source": [
    "_eval_data = _eval_data.drop('customer_id', axis=1)"
   ]
  },
  {
   "cell_type": "code",
   "execution_count": 70,
   "metadata": {
    "ExecuteTime": {
     "end_time": "2021-10-13T15:47:22.665590Z",
     "start_time": "2021-10-13T15:47:22.648323Z"
    }
   },
   "outputs": [
    {
     "data": {
      "text/html": [
       "<div>\n",
       "<style scoped>\n",
       "    .dataframe tbody tr th:only-of-type {\n",
       "        vertical-align: middle;\n",
       "    }\n",
       "\n",
       "    .dataframe tbody tr th {\n",
       "        vertical-align: top;\n",
       "    }\n",
       "\n",
       "    .dataframe thead th {\n",
       "        text-align: right;\n",
       "    }\n",
       "</style>\n",
       "<table border=\"1\" class=\"dataframe\">\n",
       "  <thead>\n",
       "    <tr style=\"text-align: right;\">\n",
       "      <th></th>\n",
       "      <th>puchase_amt_SUM_7d_before_campaign</th>\n",
       "      <th>puchase_amt_SUM_15d_before_campaign</th>\n",
       "      <th>puchase_amt_SUM_30d_before_campaign</th>\n",
       "      <th>puchase_amt_SUM_60d_before_campaign</th>\n",
       "      <th>puchase_amt_CNT_7d_before_campaign</th>\n",
       "      <th>puchase_amt_CNT_15d_before_campaign</th>\n",
       "      <th>puchase_amt_CNT_30d_before_campaign</th>\n",
       "      <th>puchase_amt_CNT_60d_before_campaign</th>\n",
       "      <th>puchase_amt_MEAN_30d_before_campaign</th>\n",
       "      <th>puchase_amt_MEAN_60d_before_campaign</th>\n",
       "      <th>...</th>\n",
       "      <th>puchase_amt_SUM_30d_div_60d_before_campaign</th>\n",
       "      <th>puchase_amt_SUM_15d_div_30d_before_campaign</th>\n",
       "      <th>age</th>\n",
       "      <th>location_Beauclair</th>\n",
       "      <th>location_Crows_perch</th>\n",
       "      <th>location_Hindarsfjall</th>\n",
       "      <th>location_Kaer_Trolde</th>\n",
       "      <th>location_Novigrad</th>\n",
       "      <th>location_Oxenfurt</th>\n",
       "      <th>location_Spikeroog</th>\n",
       "    </tr>\n",
       "  </thead>\n",
       "  <tbody>\n",
       "    <tr>\n",
       "      <th>0</th>\n",
       "      <td>0.000000</td>\n",
       "      <td>9.964590</td>\n",
       "      <td>20.769769</td>\n",
       "      <td>62.964857</td>\n",
       "      <td>0.0</td>\n",
       "      <td>1.0</td>\n",
       "      <td>2.0</td>\n",
       "      <td>7.0</td>\n",
       "      <td>10.384885</td>\n",
       "      <td>8.994980</td>\n",
       "      <td>...</td>\n",
       "      <td>0.329863</td>\n",
       "      <td>0.479764</td>\n",
       "      <td>56</td>\n",
       "      <td>0</td>\n",
       "      <td>0</td>\n",
       "      <td>0</td>\n",
       "      <td>0</td>\n",
       "      <td>0</td>\n",
       "      <td>1</td>\n",
       "      <td>0</td>\n",
       "    </tr>\n",
       "    <tr>\n",
       "      <th>1</th>\n",
       "      <td>10.517529</td>\n",
       "      <td>10.517529</td>\n",
       "      <td>10.517529</td>\n",
       "      <td>33.431073</td>\n",
       "      <td>1.0</td>\n",
       "      <td>1.0</td>\n",
       "      <td>1.0</td>\n",
       "      <td>3.0</td>\n",
       "      <td>10.517529</td>\n",
       "      <td>11.143691</td>\n",
       "      <td>...</td>\n",
       "      <td>0.314603</td>\n",
       "      <td>1.000000</td>\n",
       "      <td>53</td>\n",
       "      <td>0</td>\n",
       "      <td>0</td>\n",
       "      <td>1</td>\n",
       "      <td>0</td>\n",
       "      <td>0</td>\n",
       "      <td>0</td>\n",
       "      <td>0</td>\n",
       "    </tr>\n",
       "    <tr>\n",
       "      <th>2</th>\n",
       "      <td>34.315607</td>\n",
       "      <td>73.011893</td>\n",
       "      <td>73.011893</td>\n",
       "      <td>165.795167</td>\n",
       "      <td>1.0</td>\n",
       "      <td>2.0</td>\n",
       "      <td>2.0</td>\n",
       "      <td>5.0</td>\n",
       "      <td>36.505946</td>\n",
       "      <td>33.159033</td>\n",
       "      <td>...</td>\n",
       "      <td>0.440374</td>\n",
       "      <td>1.000000</td>\n",
       "      <td>41</td>\n",
       "      <td>0</td>\n",
       "      <td>0</td>\n",
       "      <td>1</td>\n",
       "      <td>0</td>\n",
       "      <td>0</td>\n",
       "      <td>0</td>\n",
       "      <td>0</td>\n",
       "    </tr>\n",
       "    <tr>\n",
       "      <th>3</th>\n",
       "      <td>0.000000</td>\n",
       "      <td>30.054258</td>\n",
       "      <td>30.054258</td>\n",
       "      <td>93.378358</td>\n",
       "      <td>0.0</td>\n",
       "      <td>1.0</td>\n",
       "      <td>1.0</td>\n",
       "      <td>3.0</td>\n",
       "      <td>30.054258</td>\n",
       "      <td>31.126119</td>\n",
       "      <td>...</td>\n",
       "      <td>0.321855</td>\n",
       "      <td>1.000000</td>\n",
       "      <td>60</td>\n",
       "      <td>0</td>\n",
       "      <td>0</td>\n",
       "      <td>0</td>\n",
       "      <td>1</td>\n",
       "      <td>0</td>\n",
       "      <td>0</td>\n",
       "      <td>0</td>\n",
       "    </tr>\n",
       "    <tr>\n",
       "      <th>4</th>\n",
       "      <td>0.000000</td>\n",
       "      <td>0.000000</td>\n",
       "      <td>0.000000</td>\n",
       "      <td>27.603203</td>\n",
       "      <td>0.0</td>\n",
       "      <td>0.0</td>\n",
       "      <td>0.0</td>\n",
       "      <td>2.0</td>\n",
       "      <td>0.000000</td>\n",
       "      <td>13.801601</td>\n",
       "      <td>...</td>\n",
       "      <td>0.000000</td>\n",
       "      <td>0.000000</td>\n",
       "      <td>22</td>\n",
       "      <td>0</td>\n",
       "      <td>0</td>\n",
       "      <td>0</td>\n",
       "      <td>0</td>\n",
       "      <td>0</td>\n",
       "      <td>0</td>\n",
       "      <td>1</td>\n",
       "    </tr>\n",
       "  </tbody>\n",
       "</table>\n",
       "<p>5 rows × 29 columns</p>\n",
       "</div>"
      ],
      "text/plain": [
       "   puchase_amt_SUM_7d_before_campaign  puchase_amt_SUM_15d_before_campaign  \\\n",
       "0                            0.000000                             9.964590   \n",
       "1                           10.517529                            10.517529   \n",
       "2                           34.315607                            73.011893   \n",
       "3                            0.000000                            30.054258   \n",
       "4                            0.000000                             0.000000   \n",
       "\n",
       "   puchase_amt_SUM_30d_before_campaign  puchase_amt_SUM_60d_before_campaign  \\\n",
       "0                            20.769769                            62.964857   \n",
       "1                            10.517529                            33.431073   \n",
       "2                            73.011893                           165.795167   \n",
       "3                            30.054258                            93.378358   \n",
       "4                             0.000000                            27.603203   \n",
       "\n",
       "   puchase_amt_CNT_7d_before_campaign  puchase_amt_CNT_15d_before_campaign  \\\n",
       "0                                 0.0                                  1.0   \n",
       "1                                 1.0                                  1.0   \n",
       "2                                 1.0                                  2.0   \n",
       "3                                 0.0                                  1.0   \n",
       "4                                 0.0                                  0.0   \n",
       "\n",
       "   puchase_amt_CNT_30d_before_campaign  puchase_amt_CNT_60d_before_campaign  \\\n",
       "0                                  2.0                                  7.0   \n",
       "1                                  1.0                                  3.0   \n",
       "2                                  2.0                                  5.0   \n",
       "3                                  1.0                                  3.0   \n",
       "4                                  0.0                                  2.0   \n",
       "\n",
       "   puchase_amt_MEAN_30d_before_campaign  puchase_amt_MEAN_60d_before_campaign  \\\n",
       "0                             10.384885                              8.994980   \n",
       "1                             10.517529                             11.143691   \n",
       "2                             36.505946                             33.159033   \n",
       "3                             30.054258                             31.126119   \n",
       "4                              0.000000                             13.801601   \n",
       "\n",
       "   ...  puchase_amt_SUM_30d_div_60d_before_campaign  \\\n",
       "0  ...                                     0.329863   \n",
       "1  ...                                     0.314603   \n",
       "2  ...                                     0.440374   \n",
       "3  ...                                     0.321855   \n",
       "4  ...                                     0.000000   \n",
       "\n",
       "   puchase_amt_SUM_15d_div_30d_before_campaign  age  location_Beauclair  \\\n",
       "0                                     0.479764   56                   0   \n",
       "1                                     1.000000   53                   0   \n",
       "2                                     1.000000   41                   0   \n",
       "3                                     1.000000   60                   0   \n",
       "4                                     0.000000   22                   0   \n",
       "\n",
       "   location_Crows_perch  location_Hindarsfjall  location_Kaer_Trolde  \\\n",
       "0                     0                      0                     0   \n",
       "1                     0                      1                     0   \n",
       "2                     0                      1                     0   \n",
       "3                     0                      0                     1   \n",
       "4                     0                      0                     0   \n",
       "\n",
       "   location_Novigrad  location_Oxenfurt  location_Spikeroog  \n",
       "0                  0                  1                   0  \n",
       "1                  0                  0                   0  \n",
       "2                  0                  0                   0  \n",
       "3                  0                  0                   0  \n",
       "4                  0                  0                   1  \n",
       "\n",
       "[5 rows x 29 columns]"
      ]
     },
     "execution_count": 70,
     "metadata": {},
     "output_type": "execute_result"
    }
   ],
   "source": [
    "_eval_data.head()"
   ]
  },
  {
   "cell_type": "code",
   "execution_count": 71,
   "metadata": {
    "ExecuteTime": {
     "end_time": "2021-10-13T15:47:25.089303Z",
     "start_time": "2021-10-13T15:47:22.666981Z"
    }
   },
   "outputs": [],
   "source": [
    "if is_baseX: # BaseXRegressor\n",
    "    _p_scores = pd.Series(data=_p_score_const, index=_eval_data.index)\n",
    "    _eval_data['score'] = model_n_pred.predict(_eval_data, p=_p_scores)\n",
    "else:\n",
    "    _eval_data['score'] = model_n_pred.predict(_eval_data) "
   ]
  },
  {
   "cell_type": "code",
   "execution_count": 72,
   "metadata": {
    "ExecuteTime": {
     "end_time": "2021-10-13T15:47:25.092390Z",
     "start_time": "2021-10-13T15:47:25.090745Z"
    }
   },
   "outputs": [],
   "source": [
    "# _eval_data"
   ]
  },
  {
   "cell_type": "code",
   "execution_count": 89,
   "metadata": {
    "ExecuteTime": {
     "end_time": "2021-10-13T15:51:50.407559Z",
     "start_time": "2021-10-13T15:51:50.368752Z"
    }
   },
   "outputs": [
    {
     "data": {
      "text/plain": [
       "3.8628949114181936"
      ]
     },
     "execution_count": 89,
     "metadata": {},
     "output_type": "execute_result"
    }
   ],
   "source": [
    "np.percentile(_eval_data['score'], 60)\n",
    "# 0.921274544211426"
   ]
  },
  {
   "cell_type": "code",
   "execution_count": 82,
   "metadata": {
    "ExecuteTime": {
     "end_time": "2021-10-13T15:50:41.748312Z",
     "start_time": "2021-10-13T15:50:41.740312Z"
    }
   },
   "outputs": [
    {
     "data": {
      "text/plain": [
       "(1998286, 30)"
      ]
     },
     "execution_count": 82,
     "metadata": {},
     "output_type": "execute_result"
    }
   ],
   "source": [
    "_eval_data.shape"
   ]
  },
  {
   "cell_type": "code",
   "execution_count": 90,
   "metadata": {
    "ExecuteTime": {
     "end_time": "2021-10-13T15:51:56.112738Z",
     "start_time": "2021-10-13T15:51:56.107464Z"
    }
   },
   "outputs": [],
   "source": [
    "thr = 3.8628949114181936\n",
    "# thr = 1"
   ]
  },
  {
   "cell_type": "code",
   "execution_count": 95,
   "metadata": {
    "ExecuteTime": {
     "end_time": "2021-10-13T15:54:51.434386Z",
     "start_time": "2021-10-13T15:54:51.299793Z"
    }
   },
   "outputs": [
    {
     "data": {
      "text/plain": [
       "(799315, 30)"
      ]
     },
     "execution_count": 95,
     "metadata": {},
     "output_type": "execute_result"
    }
   ],
   "source": [
    "# out_df = _eval_data[(_eval_data['score']>=thr) & (_eval_data['cnt_last_purch_days_before_campaign']<60)]\n",
    "out_df = _eval_data[(_eval_data['score']>=thr)]\n",
    "out_df.shape"
   ]
  },
  {
   "cell_type": "code",
   "execution_count": 96,
   "metadata": {
    "ExecuteTime": {
     "end_time": "2021-10-13T15:54:57.939654Z",
     "start_time": "2021-10-13T15:54:57.934134Z"
    }
   },
   "outputs": [],
   "source": [
    "# 60perc thr, 640k - лучший результат"
   ]
  },
  {
   "cell_type": "code",
   "execution_count": 97,
   "metadata": {
    "ExecuteTime": {
     "end_time": "2021-10-13T15:55:04.806576Z",
     "start_time": "2021-10-13T15:55:04.645845Z"
    }
   },
   "outputs": [
    {
     "data": {
      "text/plain": [
       "<matplotlib.axes._subplots.AxesSubplot at 0x7f37a7d87748>"
      ]
     },
     "execution_count": 97,
     "metadata": {},
     "output_type": "execute_result"
    },
    {
     "data": {
      "image/png": "[encoded data removed]",
      "text/plain": [
       "<Figure size 432x288 with 1 Axes>"
      ]
     },
     "metadata": {},
     "output_type": "display_data"
    }
   ],
   "source": [
    "out_df['cnt_last_purch_days_before_campaign'].hist()"
   ]
  },
  {
   "cell_type": "code",
   "execution_count": 98,
   "metadata": {
    "ExecuteTime": {
     "end_time": "2021-10-13T15:55:07.121685Z",
     "start_time": "2021-10-13T15:55:07.113413Z"
    }
   },
   "outputs": [],
   "source": [
    "out_df = pd.DataFrame(out_df.index, columns=['customer_id'])"
   ]
  },
  {
   "cell_type": "code",
   "execution_count": 99,
   "metadata": {
    "ExecuteTime": {
     "end_time": "2021-10-13T15:55:08.364921Z",
     "start_time": "2021-10-13T15:55:07.700358Z"
    }
   },
   "outputs": [],
   "source": [
    "out_df.to_csv('submit.csv', index=False)"
   ]
  },
  {
   "cell_type": "code",
   "execution_count": 85,
   "metadata": {
    "ExecuteTime": {
     "end_time": "2021-10-13T13:24:51.882392Z",
     "start_time": "2021-10-13T13:24:51.877242Z"
    }
   },
   "outputs": [],
   "source": [
    "# _eval_data[_eval_data['score']>=thr][['customer_id']].to_csv('submit.csv', index=False)"
   ]
  },
  {
   "cell_type": "markdown",
   "metadata": {
    "ExecuteTime": {
     "end_time": "2021-10-08T12:00:06.514618Z",
     "start_time": "2021-10-08T12:00:06.510004Z"
    },
    "heading_collapsed": true
   },
   "source": [
    "# archive"
   ]
  },
  {
   "cell_type": "code",
   "execution_count": 53,
   "metadata": {
    "ExecuteTime": {
     "end_time": "2021-10-08T11:35:52.736824Z",
     "start_time": "2021-10-08T11:35:52.393717Z"
    },
    "hidden": true
   },
   "outputs": [
    {
     "data": {
      "text/plain": [
       "Float64Index([80.0, 80.00000000000001, 79.99999999999999], dtype='float64')"
      ]
     },
     "execution_count": 53,
     "metadata": {},
     "output_type": "execute_result"
    }
   ],
   "source": [
    "(receipts['purchase_sum']/receipts['purchase_amt']).value_counts().index"
   ]
  },
  {
   "cell_type": "code",
   "execution_count": 54,
   "metadata": {
    "ExecuteTime": {
     "end_time": "2021-10-08T11:35:58.906233Z",
     "start_time": "2021-10-08T11:35:58.662211Z"
    },
    "hidden": true
   },
   "outputs": [
    {
     "data": {
      "text/html": [
       "<div>\n",
       "<style scoped>\n",
       "    .dataframe tbody tr th:only-of-type {\n",
       "        vertical-align: middle;\n",
       "    }\n",
       "\n",
       "    .dataframe tbody tr th {\n",
       "        vertical-align: top;\n",
       "    }\n",
       "\n",
       "    .dataframe thead th {\n",
       "        text-align: right;\n",
       "    }\n",
       "</style>\n",
       "<table border=\"1\" class=\"dataframe\">\n",
       "  <thead>\n",
       "    <tr style=\"text-align: right;\">\n",
       "      <th></th>\n",
       "      <th>customer_id</th>\n",
       "      <th>date</th>\n",
       "      <th>purchase_amt</th>\n",
       "      <th>discount</th>\n",
       "      <th>purchase_sum</th>\n",
       "    </tr>\n",
       "  </thead>\n",
       "  <tbody>\n",
       "    <tr>\n",
       "      <th>1881</th>\n",
       "      <td>1881</td>\n",
       "      <td>0</td>\n",
       "      <td>7.391551</td>\n",
       "      <td>0</td>\n",
       "      <td>591.324108</td>\n",
       "    </tr>\n",
       "    <tr>\n",
       "      <th>1978</th>\n",
       "      <td>1978</td>\n",
       "      <td>0</td>\n",
       "      <td>13.321760</td>\n",
       "      <td>0</td>\n",
       "      <td>1065.740840</td>\n",
       "    </tr>\n",
       "    <tr>\n",
       "      <th>3029</th>\n",
       "      <td>3029</td>\n",
       "      <td>0</td>\n",
       "      <td>14.648189</td>\n",
       "      <td>0</td>\n",
       "      <td>1171.855155</td>\n",
       "    </tr>\n",
       "    <tr>\n",
       "      <th>3600</th>\n",
       "      <td>3600</td>\n",
       "      <td>0</td>\n",
       "      <td>15.086169</td>\n",
       "      <td>0</td>\n",
       "      <td>1206.893546</td>\n",
       "    </tr>\n",
       "    <tr>\n",
       "      <th>4502</th>\n",
       "      <td>4502</td>\n",
       "      <td>0</td>\n",
       "      <td>15.736323</td>\n",
       "      <td>0</td>\n",
       "      <td>1258.905867</td>\n",
       "    </tr>\n",
       "    <tr>\n",
       "      <th>...</th>\n",
       "      <td>...</td>\n",
       "      <td>...</td>\n",
       "      <td>...</td>\n",
       "      <td>...</td>\n",
       "      <td>...</td>\n",
       "    </tr>\n",
       "    <tr>\n",
       "      <th>1998880</th>\n",
       "      <td>1998880</td>\n",
       "      <td>249</td>\n",
       "      <td>15.779932</td>\n",
       "      <td>0</td>\n",
       "      <td>1262.394523</td>\n",
       "    </tr>\n",
       "    <tr>\n",
       "      <th>1999062</th>\n",
       "      <td>1999062</td>\n",
       "      <td>249</td>\n",
       "      <td>29.840009</td>\n",
       "      <td>0</td>\n",
       "      <td>2387.200757</td>\n",
       "    </tr>\n",
       "    <tr>\n",
       "      <th>1999677</th>\n",
       "      <td>1999677</td>\n",
       "      <td>249</td>\n",
       "      <td>15.395928</td>\n",
       "      <td>0</td>\n",
       "      <td>1231.674250</td>\n",
       "    </tr>\n",
       "    <tr>\n",
       "      <th>1999800</th>\n",
       "      <td>1999800</td>\n",
       "      <td>249</td>\n",
       "      <td>13.638075</td>\n",
       "      <td>0</td>\n",
       "      <td>1091.046036</td>\n",
       "    </tr>\n",
       "    <tr>\n",
       "      <th>1999959</th>\n",
       "      <td>1999959</td>\n",
       "      <td>249</td>\n",
       "      <td>30.753209</td>\n",
       "      <td>0</td>\n",
       "      <td>2460.256698</td>\n",
       "    </tr>\n",
       "  </tbody>\n",
       "</table>\n",
       "<p>640056 rows × 5 columns</p>\n",
       "</div>"
      ],
      "text/plain": [
       "         customer_id  date  purchase_amt  discount  purchase_sum\n",
       "1881            1881     0      7.391551         0    591.324108\n",
       "1978            1978     0     13.321760         0   1065.740840\n",
       "3029            3029     0     14.648189         0   1171.855155\n",
       "3600            3600     0     15.086169         0   1206.893546\n",
       "4502            4502     0     15.736323         0   1258.905867\n",
       "...              ...   ...           ...       ...           ...\n",
       "1998880      1998880   249     15.779932         0   1262.394523\n",
       "1999062      1999062   249     29.840009         0   2387.200757\n",
       "1999677      1999677   249     15.395928         0   1231.674250\n",
       "1999800      1999800   249     13.638075         0   1091.046036\n",
       "1999959      1999959   249     30.753209         0   2460.256698\n",
       "\n",
       "[640056 rows x 5 columns]"
      ]
     },
     "execution_count": 54,
     "metadata": {},
     "output_type": "execute_result"
    }
   ],
   "source": [
    "receipts[receipts['purchase_sum']/receipts['purchase_amt']==80.00000000000001]"
   ]
  },
  {
   "cell_type": "code",
   "execution_count": 59,
   "metadata": {
    "ExecuteTime": {
     "end_time": "2021-10-08T11:37:24.658283Z",
     "start_time": "2021-10-08T11:37:24.422919Z"
    },
    "hidden": true
   },
   "outputs": [
    {
     "data": {
      "text/plain": [
       "array([    391,     652,     806, ..., 1993889, 1996231, 1999192])"
      ]
     },
     "execution_count": 59,
     "metadata": {},
     "output_type": "execute_result"
    }
   ],
   "source": [
    "receipts[receipts['purchase_sum']/receipts['purchase_amt']==79.99999999999999]['customer_id'].unique()"
   ]
  },
  {
   "cell_type": "code",
   "execution_count": null,
   "metadata": {
    "hidden": true
   },
   "outputs": [],
   "source": [
    "# import sqlite3\n",
    "# conn = sqlite3.connect(\":memory:\") \n",
    "# receipts.to_sql(\"receipts\", conn, index=False)\n",
    "# campaigns.to_sql(\"campaigns\", conn, index=False)\n",
    "\n",
    "# # qry = \"SELECT * FROM receipts INNER JOIN campaigns WHERE receipts.customer_id=campaigns.customer_id\"\n",
    "# # rec_camp_merge_df = pd.read_sql_query(qry, conn)\n",
    "\n",
    "# qry0 = \"SELECT * FROM receipts INNER JOIN campaigns WHERE receipts.customer_id=campaigns.customer_id and receipts.date >= campaigns.date_start and receipts.date <=campaigns.date_end\"\n",
    "# rec_camp_merge_df_1 = pd.read_sql_query(qry0, conn)"
   ]
  }
 ],
 "metadata": {
  "hide_input": false,
  "kernelspec": {
   "display_name": "Python 3",
   "language": "python",
   "name": "python3"
  },
  "language_info": {
   "codemirror_mode": {
    "name": "ipython",
    "version": 3
   },
   "file_extension": ".py",
   "mimetype": "text/x-python",
   "name": "python",
   "nbconvert_exporter": "python",
   "pygments_lexer": "ipython3",
   "version": "3.6.9"
  },
  "toc": {
   "base_numbering": 1,
   "nav_menu": {},
   "number_sections": true,
   "sideBar": true,
   "skip_h1_title": false,
   "title_cell": "Table of Contents",
   "title_sidebar": "Contents",
   "toc_cell": false,
   "toc_position": {},
   "toc_section_display": true,
   "toc_window_display": true
  }
 },
 "nbformat": 4,
 "nbformat_minor": 4
}
