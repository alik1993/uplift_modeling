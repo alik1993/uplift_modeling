{
 "cells": [
  {
   "cell_type": "markdown",
   "metadata": {},
   "source": [
    "- время с последнего предложения для пользователя\n",
    "- скидка это treatment =1? (есть 10% кто не получил скидку)\n",
    "- есть ли информация за n дней до скидки - для обоих компаний\n",
    "- группировать по юзерам\n",
    "\n",
    "- удаляем ли из кампании тех, у кого нет покупок # campaigns = campaigns[campaigns.customer_id.isin(set(receipts.customer_id))]"
   ]
  },
  {
   "cell_type": "markdown",
   "metadata": {},
   "source": [
    "- нужно отобрать людей, которые сильно реагируют на скидку (при разбиении на группы будет большая прибыль)\n",
    "- Интерес в том чтобы понять на каких людей мы можем повлиять – которые без воздействия не совершили бы покупку\n",
    "\n",
    "Нужно совершать воздействие, когда\n",
    "А) действие принесет пользу\n",
    "Б) польза будет больше чем если не сорвешать воздействие"
   ]
  },
  {
   "cell_type": "markdown",
   "metadata": {},
   "source": [
    "uY(xi)=E[Y∣X=xi,T=1]−E[Y∣X=xi,T=0]"
   ]
  },
  {
   "cell_type": "code",
   "execution_count": 161,
   "metadata": {
    "ExecuteTime": {
     "end_time": "2021-10-12T09:21:51.329549Z",
     "start_time": "2021-10-12T09:21:51.321895Z"
    }
   },
   "outputs": [],
   "source": [
    "import os\n",
    "\n",
    "import pandas as pd\n",
    "import numpy as np\n",
    "import dask.dataframe as dd\n",
    "import pickle\n",
    "import json\n",
    "import sklearn.base as skbase\n",
    "import sklearn.pipeline as skpipe\n",
    "import datetime\n",
    "import matplotlib.pyplot as plt"
   ]
  },
  {
   "cell_type": "code",
   "execution_count": 162,
   "metadata": {
    "ExecuteTime": {
     "end_time": "2021-10-12T09:21:51.813310Z",
     "start_time": "2021-10-12T09:21:51.808598Z"
    }
   },
   "outputs": [],
   "source": [
    "# import sys\n",
    "# sys.path.append('uplift-campaign/')\n",
    "\n",
    "# import upcampaign.datalib as datalib\n",
    "# import upcampaign.datalib.connection as connection\n",
    "# import upcampaign.datalib.features.compute as fcompute\n",
    "# # import upcampaign.model_utils as mu"
   ]
  },
  {
   "cell_type": "code",
   "execution_count": 163,
   "metadata": {
    "ExecuteTime": {
     "end_time": "2021-10-12T09:21:52.834435Z",
     "start_time": "2021-10-12T09:21:52.827858Z"
    }
   },
   "outputs": [],
   "source": [
    "import lightgbm as lgb\n",
    "import causalml.metrics as cmetrics\n",
    "import causalml.inference.meta.rlearner as rlearner\n",
    "\n",
    "from sklearn.model_selection import train_test_split"
   ]
  },
  {
   "cell_type": "code",
   "execution_count": 164,
   "metadata": {
    "ExecuteTime": {
     "end_time": "2021-10-12T09:21:53.212244Z",
     "start_time": "2021-10-12T09:21:53.038458Z"
    }
   },
   "outputs": [
    {
     "name": "stdout",
     "output_type": "stream",
     "text": [
      "campaigns.csv  customers.csv  receipts.parquet\r\n"
     ]
    }
   ],
   "source": [
    "ls data"
   ]
  },
  {
   "cell_type": "code",
   "execution_count": 165,
   "metadata": {
    "ExecuteTime": {
     "end_time": "2021-10-12T09:21:53.223452Z",
     "start_time": "2021-10-12T09:21:53.218537Z"
    }
   },
   "outputs": [],
   "source": [
    "data_root_path = 'data/'"
   ]
  },
  {
   "cell_type": "code",
   "execution_count": 166,
   "metadata": {
    "ExecuteTime": {
     "end_time": "2021-10-12T09:21:58.965804Z",
     "start_time": "2021-10-12T09:21:53.728968Z"
    }
   },
   "outputs": [],
   "source": [
    "campaigns = dd.read_csv(os.path.join(data_root_path, 'campaigns.csv')).compute()#.sample(0.01)\n",
    "customers = dd.read_csv(os.path.join(data_root_path, 'customers.csv')).compute()#.sample(0.01)\n",
    "receipts = dd.read_parquet(os.path.join(data_root_path, 'receipts.parquet/')).compute()#.sample(0.01)"
   ]
  },
  {
   "cell_type": "code",
   "execution_count": 167,
   "metadata": {
    "ExecuteTime": {
     "end_time": "2021-10-12T09:21:58.976499Z",
     "start_time": "2021-10-12T09:21:58.969851Z"
    }
   },
   "outputs": [
    {
     "data": {
      "text/plain": [
       "(500000, 2000000, 31741769)"
      ]
     },
     "execution_count": 167,
     "metadata": {},
     "output_type": "execute_result"
    }
   ],
   "source": [
    "len(campaigns), len(customers), len(receipts)"
   ]
  },
  {
   "cell_type": "code",
   "execution_count": 168,
   "metadata": {
    "ExecuteTime": {
     "end_time": "2021-10-12T09:21:58.985941Z",
     "start_time": "2021-10-12T09:21:58.979614Z"
    }
   },
   "outputs": [],
   "source": [
    "from typing import List"
   ]
  },
  {
   "cell_type": "code",
   "execution_count": 169,
   "metadata": {
    "ExecuteTime": {
     "end_time": "2021-10-12T09:21:58.997464Z",
     "start_time": "2021-10-12T09:21:58.987612Z"
    }
   },
   "outputs": [],
   "source": [
    "def one_hot_encode(data: pd.DataFrame, cols: List[str] = None) -> pd.DataFrame:\n",
    "    if cols is None:\n",
    "        cols = data.columns\n",
    "    result = pd.concat([data, dd.get_dummies(data[cols])], axis=1).drop(cols, axis=1)\n",
    "    return result"
   ]
  },
  {
   "cell_type": "code",
   "execution_count": 59,
   "metadata": {
    "ExecuteTime": {
     "end_time": "2021-10-11T16:38:20.743989Z",
     "start_time": "2021-10-11T16:38:20.383465Z"
    }
   },
   "outputs": [],
   "source": [
    "customers = one_hot_encode(customers, cols=['location'])\n",
    "customers = customers.drop('Unnamed: 0', axis=1)"
   ]
  },
  {
   "cell_type": "code",
   "execution_count": 60,
   "metadata": {
    "ExecuteTime": {
     "end_time": "2021-10-11T16:38:20.755549Z",
     "start_time": "2021-10-11T16:38:20.745840Z"
    }
   },
   "outputs": [
    {
     "data": {
      "text/html": [
       "<div>\n",
       "<style scoped>\n",
       "    .dataframe tbody tr th:only-of-type {\n",
       "        vertical-align: middle;\n",
       "    }\n",
       "\n",
       "    .dataframe tbody tr th {\n",
       "        vertical-align: top;\n",
       "    }\n",
       "\n",
       "    .dataframe thead th {\n",
       "        text-align: right;\n",
       "    }\n",
       "</style>\n",
       "<table border=\"1\" class=\"dataframe\">\n",
       "  <thead>\n",
       "    <tr style=\"text-align: right;\">\n",
       "      <th></th>\n",
       "      <th>customer_id</th>\n",
       "      <th>age</th>\n",
       "      <th>location_Beauclair</th>\n",
       "      <th>location_Crows_perch</th>\n",
       "      <th>location_Hindarsfjall</th>\n",
       "      <th>location_Kaer_Trolde</th>\n",
       "      <th>location_Novigrad</th>\n",
       "      <th>location_Oxenfurt</th>\n",
       "      <th>location_Spikeroog</th>\n",
       "    </tr>\n",
       "  </thead>\n",
       "  <tbody>\n",
       "    <tr>\n",
       "      <th>0</th>\n",
       "      <td>0</td>\n",
       "      <td>56</td>\n",
       "      <td>0</td>\n",
       "      <td>0</td>\n",
       "      <td>0</td>\n",
       "      <td>0</td>\n",
       "      <td>0</td>\n",
       "      <td>1</td>\n",
       "      <td>0</td>\n",
       "    </tr>\n",
       "    <tr>\n",
       "      <th>1</th>\n",
       "      <td>1</td>\n",
       "      <td>53</td>\n",
       "      <td>0</td>\n",
       "      <td>0</td>\n",
       "      <td>1</td>\n",
       "      <td>0</td>\n",
       "      <td>0</td>\n",
       "      <td>0</td>\n",
       "      <td>0</td>\n",
       "    </tr>\n",
       "    <tr>\n",
       "      <th>2</th>\n",
       "      <td>2</td>\n",
       "      <td>41</td>\n",
       "      <td>0</td>\n",
       "      <td>0</td>\n",
       "      <td>1</td>\n",
       "      <td>0</td>\n",
       "      <td>0</td>\n",
       "      <td>0</td>\n",
       "      <td>0</td>\n",
       "    </tr>\n",
       "    <tr>\n",
       "      <th>3</th>\n",
       "      <td>3</td>\n",
       "      <td>60</td>\n",
       "      <td>0</td>\n",
       "      <td>0</td>\n",
       "      <td>0</td>\n",
       "      <td>1</td>\n",
       "      <td>0</td>\n",
       "      <td>0</td>\n",
       "      <td>0</td>\n",
       "    </tr>\n",
       "    <tr>\n",
       "      <th>4</th>\n",
       "      <td>4</td>\n",
       "      <td>22</td>\n",
       "      <td>0</td>\n",
       "      <td>0</td>\n",
       "      <td>0</td>\n",
       "      <td>0</td>\n",
       "      <td>0</td>\n",
       "      <td>0</td>\n",
       "      <td>1</td>\n",
       "    </tr>\n",
       "  </tbody>\n",
       "</table>\n",
       "</div>"
      ],
      "text/plain": [
       "   customer_id  age  location_Beauclair  location_Crows_perch  \\\n",
       "0            0   56                   0                     0   \n",
       "1            1   53                   0                     0   \n",
       "2            2   41                   0                     0   \n",
       "3            3   60                   0                     0   \n",
       "4            4   22                   0                     0   \n",
       "\n",
       "   location_Hindarsfjall  location_Kaer_Trolde  location_Novigrad  \\\n",
       "0                      0                     0                  0   \n",
       "1                      1                     0                  0   \n",
       "2                      1                     0                  0   \n",
       "3                      0                     1                  0   \n",
       "4                      0                     0                  0   \n",
       "\n",
       "   location_Oxenfurt  location_Spikeroog  \n",
       "0                  1                   0  \n",
       "1                  0                   0  \n",
       "2                  0                   0  \n",
       "3                  0                   0  \n",
       "4                  0                   1  "
      ]
     },
     "execution_count": 60,
     "metadata": {},
     "output_type": "execute_result"
    }
   ],
   "source": [
    "customers.head()"
   ]
  },
  {
   "cell_type": "code",
   "execution_count": 61,
   "metadata": {
    "ExecuteTime": {
     "end_time": "2021-10-11T16:38:20.935626Z",
     "start_time": "2021-10-11T16:38:20.756962Z"
    }
   },
   "outputs": [
    {
     "data": {
      "text/plain": [
       "customer_id              2000000\n",
       "age                           50\n",
       "location_Beauclair             2\n",
       "location_Crows_perch           2\n",
       "location_Hindarsfjall          2\n",
       "location_Kaer_Trolde           2\n",
       "location_Novigrad              2\n",
       "location_Oxenfurt              2\n",
       "location_Spikeroog             2\n",
       "dtype: int64"
      ]
     },
     "execution_count": 61,
     "metadata": {},
     "output_type": "execute_result"
    }
   ],
   "source": [
    "customers.nunique()"
   ]
  },
  {
   "cell_type": "markdown",
   "metadata": {},
   "source": [
    "- Стоит отметить, что покупатель не приобретает фисштех больше одного раза в день"
   ]
  },
  {
   "cell_type": "code",
   "execution_count": 62,
   "metadata": {
    "ExecuteTime": {
     "end_time": "2021-10-11T16:38:22.284878Z",
     "start_time": "2021-10-11T16:38:21.912468Z"
    }
   },
   "outputs": [],
   "source": [
    "receipts = receipts.drop('purchase_sum', axis=1)"
   ]
  },
  {
   "cell_type": "code",
   "execution_count": 63,
   "metadata": {
    "ExecuteTime": {
     "end_time": "2021-10-11T16:38:22.294554Z",
     "start_time": "2021-10-11T16:38:22.286862Z"
    }
   },
   "outputs": [
    {
     "data": {
      "text/html": [
       "<div>\n",
       "<style scoped>\n",
       "    .dataframe tbody tr th:only-of-type {\n",
       "        vertical-align: middle;\n",
       "    }\n",
       "\n",
       "    .dataframe tbody tr th {\n",
       "        vertical-align: top;\n",
       "    }\n",
       "\n",
       "    .dataframe thead th {\n",
       "        text-align: right;\n",
       "    }\n",
       "</style>\n",
       "<table border=\"1\" class=\"dataframe\">\n",
       "  <thead>\n",
       "    <tr style=\"text-align: right;\">\n",
       "      <th></th>\n",
       "      <th>customer_id</th>\n",
       "      <th>date</th>\n",
       "      <th>purchase_amt</th>\n",
       "      <th>discount</th>\n",
       "    </tr>\n",
       "  </thead>\n",
       "  <tbody>\n",
       "    <tr>\n",
       "      <th>26</th>\n",
       "      <td>26</td>\n",
       "      <td>0</td>\n",
       "      <td>12.125273</td>\n",
       "      <td>0</td>\n",
       "    </tr>\n",
       "    <tr>\n",
       "      <th>53</th>\n",
       "      <td>53</td>\n",
       "      <td>0</td>\n",
       "      <td>34.357035</td>\n",
       "      <td>0</td>\n",
       "    </tr>\n",
       "    <tr>\n",
       "      <th>56</th>\n",
       "      <td>56</td>\n",
       "      <td>0</td>\n",
       "      <td>8.695825</td>\n",
       "      <td>0</td>\n",
       "    </tr>\n",
       "    <tr>\n",
       "      <th>58</th>\n",
       "      <td>58</td>\n",
       "      <td>0</td>\n",
       "      <td>28.299046</td>\n",
       "      <td>0</td>\n",
       "    </tr>\n",
       "    <tr>\n",
       "      <th>64</th>\n",
       "      <td>64</td>\n",
       "      <td>0</td>\n",
       "      <td>32.547511</td>\n",
       "      <td>0</td>\n",
       "    </tr>\n",
       "  </tbody>\n",
       "</table>\n",
       "</div>"
      ],
      "text/plain": [
       "    customer_id  date  purchase_amt  discount\n",
       "26           26     0     12.125273         0\n",
       "53           53     0     34.357035         0\n",
       "56           56     0      8.695825         0\n",
       "58           58     0     28.299046         0\n",
       "64           64     0     32.547511         0"
      ]
     },
     "execution_count": 63,
     "metadata": {},
     "output_type": "execute_result"
    }
   ],
   "source": [
    "receipts.head()"
   ]
  },
  {
   "cell_type": "code",
   "execution_count": 64,
   "metadata": {
    "ExecuteTime": {
     "end_time": "2021-10-11T16:38:29.882115Z",
     "start_time": "2021-10-11T16:38:22.624841Z"
    }
   },
   "outputs": [
    {
     "data": {
      "text/plain": [
       "customer_id      1998286\n",
       "date                 250\n",
       "purchase_amt    31616098\n",
       "discount               2\n",
       "dtype: int64"
      ]
     },
     "execution_count": 64,
     "metadata": {},
     "output_type": "execute_result"
    }
   ],
   "source": [
    "receipts.nunique()"
   ]
  },
  {
   "cell_type": "code",
   "execution_count": 106,
   "metadata": {
    "ExecuteTime": {
     "end_time": "2021-10-11T16:46:07.677276Z",
     "start_time": "2021-10-11T16:45:59.436907Z"
    }
   },
   "outputs": [
    {
     "data": {
      "text/plain": [
       "set()"
      ]
     },
     "execution_count": 106,
     "metadata": {},
     "output_type": "execute_result"
    }
   ],
   "source": [
    "# set(receipts.customer_id)-set(range(0, 2000000))"
   ]
  },
  {
   "cell_type": "code",
   "execution_count": 123,
   "metadata": {
    "ExecuteTime": {
     "end_time": "2021-10-11T16:50:04.390347Z",
     "start_time": "2021-10-11T16:49:55.890283Z"
    }
   },
   "outputs": [],
   "source": [
    "receipts_agg = pd.DataFrame(index=set(receipts.customer_id))"
   ]
  },
  {
   "cell_type": "code",
   "execution_count": 130,
   "metadata": {
    "ExecuteTime": {
     "end_time": "2021-10-11T16:53:17.018224Z",
     "start_time": "2021-10-11T16:53:17.011766Z"
    }
   },
   "outputs": [
    {
     "data": {
      "text/plain": [
       "42"
      ]
     },
     "execution_count": 130,
     "metadata": {},
     "output_type": "execute_result"
    }
   ],
   "source": [
    "102-60"
   ]
  },
  {
   "cell_type": "code",
   "execution_count": 131,
   "metadata": {
    "ExecuteTime": {
     "end_time": "2021-10-11T16:53:27.491122Z",
     "start_time": "2021-10-11T16:53:24.047096Z"
    }
   },
   "outputs": [],
   "source": [
    "receipts_agg['puchase_amt_during_campaign'] = \\\n",
    "    receipts[(receipts.date>=102) & (receipts.date<=108)].groupby('customer_id')['purchase_amt'].sum()\n",
    "\n",
    "receipts_agg['puchase_amt_15d_before_campaign'] = \\\n",
    "    receipts[(receipts.date>=87) & (receipts.date<102)].groupby('customer_id')['purchase_amt'].sum()\n",
    "\n",
    "receipts_agg['puchase_amt_30d_before_campaign'] = \\\n",
    "    receipts[(receipts.date>=72) & (receipts.date<102)].groupby('customer_id')['purchase_amt'].sum()\n",
    "\n",
    "receipts_agg['puchase_amt_60d_before_campaign'] = \\\n",
    "    receipts[(receipts.date>=42) & (receipts.date<102)].groupby('customer_id')['purchase_amt'].sum()"
   ]
  },
  {
   "cell_type": "code",
   "execution_count": 134,
   "metadata": {
    "ExecuteTime": {
     "end_time": "2021-10-11T16:55:19.371385Z",
     "start_time": "2021-10-11T16:55:19.307908Z"
    }
   },
   "outputs": [],
   "source": [
    "receipts_agg = receipts_agg.fillna(0)"
   ]
  },
  {
   "cell_type": "code",
   "execution_count": 136,
   "metadata": {
    "ExecuteTime": {
     "end_time": "2021-10-11T16:59:03.758450Z",
     "start_time": "2021-10-11T16:59:03.744756Z"
    }
   },
   "outputs": [
    {
     "data": {
      "text/html": [
       "<div>\n",
       "<style scoped>\n",
       "    .dataframe tbody tr th:only-of-type {\n",
       "        vertical-align: middle;\n",
       "    }\n",
       "\n",
       "    .dataframe tbody tr th {\n",
       "        vertical-align: top;\n",
       "    }\n",
       "\n",
       "    .dataframe thead th {\n",
       "        text-align: right;\n",
       "    }\n",
       "</style>\n",
       "<table border=\"1\" class=\"dataframe\">\n",
       "  <thead>\n",
       "    <tr style=\"text-align: right;\">\n",
       "      <th></th>\n",
       "      <th>puchase_amt_during_campaign</th>\n",
       "      <th>puchase_amt_15d_before_campaign</th>\n",
       "      <th>puchase_amt_30d_before_campaign</th>\n",
       "      <th>puchase_amt_60d_before_campaign</th>\n",
       "    </tr>\n",
       "  </thead>\n",
       "  <tbody>\n",
       "    <tr>\n",
       "      <th>0</th>\n",
       "      <td>9.863892</td>\n",
       "      <td>12.028087</td>\n",
       "      <td>23.426074</td>\n",
       "      <td>64.498275</td>\n",
       "    </tr>\n",
       "    <tr>\n",
       "      <th>1</th>\n",
       "      <td>0.000000</td>\n",
       "      <td>0.000000</td>\n",
       "      <td>24.823082</td>\n",
       "      <td>46.727059</td>\n",
       "    </tr>\n",
       "    <tr>\n",
       "      <th>2</th>\n",
       "      <td>0.000000</td>\n",
       "      <td>39.133650</td>\n",
       "      <td>39.133650</td>\n",
       "      <td>123.063061</td>\n",
       "    </tr>\n",
       "    <tr>\n",
       "      <th>3</th>\n",
       "      <td>20.019053</td>\n",
       "      <td>0.000000</td>\n",
       "      <td>42.392725</td>\n",
       "      <td>107.439304</td>\n",
       "    </tr>\n",
       "    <tr>\n",
       "      <th>4</th>\n",
       "      <td>0.000000</td>\n",
       "      <td>0.000000</td>\n",
       "      <td>22.253255</td>\n",
       "      <td>41.160985</td>\n",
       "    </tr>\n",
       "  </tbody>\n",
       "</table>\n",
       "</div>"
      ],
      "text/plain": [
       "   puchase_amt_during_campaign  puchase_amt_15d_before_campaign  \\\n",
       "0                     9.863892                        12.028087   \n",
       "1                     0.000000                         0.000000   \n",
       "2                     0.000000                        39.133650   \n",
       "3                    20.019053                         0.000000   \n",
       "4                     0.000000                         0.000000   \n",
       "\n",
       "   puchase_amt_30d_before_campaign  puchase_amt_60d_before_campaign  \n",
       "0                        23.426074                        64.498275  \n",
       "1                        24.823082                        46.727059  \n",
       "2                        39.133650                       123.063061  \n",
       "3                        42.392725                       107.439304  \n",
       "4                        22.253255                        41.160985  "
      ]
     },
     "execution_count": 136,
     "metadata": {},
     "output_type": "execute_result"
    }
   ],
   "source": [
    "receipts_agg.head()"
   ]
  },
  {
   "cell_type": "code",
   "execution_count": 143,
   "metadata": {
    "ExecuteTime": {
     "end_time": "2021-10-11T17:02:05.299293Z",
     "start_time": "2021-10-11T17:02:05.290065Z"
    }
   },
   "outputs": [],
   "source": [
    "receipts_agg['is_campaign'] = 0"
   ]
  },
  {
   "cell_type": "code",
   "execution_count": 146,
   "metadata": {
    "ExecuteTime": {
     "end_time": "2021-10-11T17:02:20.461182Z",
     "start_time": "2021-10-11T17:02:20.436455Z"
    }
   },
   "outputs": [],
   "source": [
    "receipts_agg.loc[receipts_agg.index<500000, 'is_campaign'] = 1"
   ]
  },
  {
   "cell_type": "code",
   "execution_count": 149,
   "metadata": {
    "ExecuteTime": {
     "end_time": "2021-10-11T17:02:39.193772Z",
     "start_time": "2021-10-11T17:02:39.175259Z"
    }
   },
   "outputs": [
    {
     "data": {
      "text/html": [
       "<div>\n",
       "<style scoped>\n",
       "    .dataframe tbody tr th:only-of-type {\n",
       "        vertical-align: middle;\n",
       "    }\n",
       "\n",
       "    .dataframe tbody tr th {\n",
       "        vertical-align: top;\n",
       "    }\n",
       "\n",
       "    .dataframe thead th {\n",
       "        text-align: right;\n",
       "    }\n",
       "</style>\n",
       "<table border=\"1\" class=\"dataframe\">\n",
       "  <thead>\n",
       "    <tr style=\"text-align: right;\">\n",
       "      <th></th>\n",
       "      <th>puchase_amt_during_campaign</th>\n",
       "      <th>puchase_amt_15d_before_campaign</th>\n",
       "      <th>puchase_amt_30d_before_campaign</th>\n",
       "      <th>puchase_amt_60d_before_campaign</th>\n",
       "      <th>is_campaign</th>\n",
       "    </tr>\n",
       "  </thead>\n",
       "  <tbody>\n",
       "    <tr>\n",
       "      <th>0</th>\n",
       "      <td>9.863892</td>\n",
       "      <td>12.028087</td>\n",
       "      <td>23.426074</td>\n",
       "      <td>64.498275</td>\n",
       "      <td>1</td>\n",
       "    </tr>\n",
       "    <tr>\n",
       "      <th>1</th>\n",
       "      <td>0.000000</td>\n",
       "      <td>0.000000</td>\n",
       "      <td>24.823082</td>\n",
       "      <td>46.727059</td>\n",
       "      <td>1</td>\n",
       "    </tr>\n",
       "    <tr>\n",
       "      <th>2</th>\n",
       "      <td>0.000000</td>\n",
       "      <td>39.133650</td>\n",
       "      <td>39.133650</td>\n",
       "      <td>123.063061</td>\n",
       "      <td>1</td>\n",
       "    </tr>\n",
       "    <tr>\n",
       "      <th>3</th>\n",
       "      <td>20.019053</td>\n",
       "      <td>0.000000</td>\n",
       "      <td>42.392725</td>\n",
       "      <td>107.439304</td>\n",
       "      <td>1</td>\n",
       "    </tr>\n",
       "    <tr>\n",
       "      <th>4</th>\n",
       "      <td>0.000000</td>\n",
       "      <td>0.000000</td>\n",
       "      <td>22.253255</td>\n",
       "      <td>41.160985</td>\n",
       "      <td>1</td>\n",
       "    </tr>\n",
       "    <tr>\n",
       "      <th>...</th>\n",
       "      <td>...</td>\n",
       "      <td>...</td>\n",
       "      <td>...</td>\n",
       "      <td>...</td>\n",
       "      <td>...</td>\n",
       "    </tr>\n",
       "    <tr>\n",
       "      <th>1999995</th>\n",
       "      <td>20.043122</td>\n",
       "      <td>17.810982</td>\n",
       "      <td>40.704067</td>\n",
       "      <td>84.986137</td>\n",
       "      <td>0</td>\n",
       "    </tr>\n",
       "    <tr>\n",
       "      <th>1999996</th>\n",
       "      <td>19.867039</td>\n",
       "      <td>15.677861</td>\n",
       "      <td>51.121022</td>\n",
       "      <td>86.880774</td>\n",
       "      <td>0</td>\n",
       "    </tr>\n",
       "    <tr>\n",
       "      <th>1999997</th>\n",
       "      <td>16.599390</td>\n",
       "      <td>12.413591</td>\n",
       "      <td>38.374515</td>\n",
       "      <td>70.094050</td>\n",
       "      <td>0</td>\n",
       "    </tr>\n",
       "    <tr>\n",
       "      <th>1999998</th>\n",
       "      <td>0.000000</td>\n",
       "      <td>14.433485</td>\n",
       "      <td>14.433485</td>\n",
       "      <td>23.320969</td>\n",
       "      <td>0</td>\n",
       "    </tr>\n",
       "    <tr>\n",
       "      <th>1999999</th>\n",
       "      <td>0.000000</td>\n",
       "      <td>0.000000</td>\n",
       "      <td>12.434556</td>\n",
       "      <td>65.340605</td>\n",
       "      <td>0</td>\n",
       "    </tr>\n",
       "  </tbody>\n",
       "</table>\n",
       "<p>1998286 rows × 5 columns</p>\n",
       "</div>"
      ],
      "text/plain": [
       "         puchase_amt_during_campaign  puchase_amt_15d_before_campaign  \\\n",
       "0                           9.863892                        12.028087   \n",
       "1                           0.000000                         0.000000   \n",
       "2                           0.000000                        39.133650   \n",
       "3                          20.019053                         0.000000   \n",
       "4                           0.000000                         0.000000   \n",
       "...                              ...                              ...   \n",
       "1999995                    20.043122                        17.810982   \n",
       "1999996                    19.867039                        15.677861   \n",
       "1999997                    16.599390                        12.413591   \n",
       "1999998                     0.000000                        14.433485   \n",
       "1999999                     0.000000                         0.000000   \n",
       "\n",
       "         puchase_amt_30d_before_campaign  puchase_amt_60d_before_campaign  \\\n",
       "0                              23.426074                        64.498275   \n",
       "1                              24.823082                        46.727059   \n",
       "2                              39.133650                       123.063061   \n",
       "3                              42.392725                       107.439304   \n",
       "4                              22.253255                        41.160985   \n",
       "...                                  ...                              ...   \n",
       "1999995                        40.704067                        84.986137   \n",
       "1999996                        51.121022                        86.880774   \n",
       "1999997                        38.374515                        70.094050   \n",
       "1999998                        14.433485                        23.320969   \n",
       "1999999                        12.434556                        65.340605   \n",
       "\n",
       "         is_campaign  \n",
       "0                  1  \n",
       "1                  1  \n",
       "2                  1  \n",
       "3                  1  \n",
       "4                  1  \n",
       "...              ...  \n",
       "1999995            0  \n",
       "1999996            0  \n",
       "1999997            0  \n",
       "1999998            0  \n",
       "1999999            0  \n",
       "\n",
       "[1998286 rows x 5 columns]"
      ]
     },
     "execution_count": 149,
     "metadata": {},
     "output_type": "execute_result"
    }
   ],
   "source": [
    "receipts_agg"
   ]
  },
  {
   "cell_type": "code",
   "execution_count": 150,
   "metadata": {
    "ExecuteTime": {
     "end_time": "2021-10-11T17:02:59.330804Z",
     "start_time": "2021-10-11T17:02:59.326577Z"
    }
   },
   "outputs": [],
   "source": [
    "# campaigns = campaigns.drop(['Unnamed: 0', 'n_offer_days', 'target_group_flag'], axis=1)\n",
    "# campaigns =  campaigns.rename(columns={'date': 'date_start'})\n",
    "# campaigns['date_end'] = campaigns['date_start'] + 6"
   ]
  },
  {
   "cell_type": "code",
   "execution_count": 66,
   "metadata": {
    "ExecuteTime": {
     "end_time": "2021-10-11T16:38:29.898799Z",
     "start_time": "2021-10-11T16:38:29.896337Z"
    }
   },
   "outputs": [],
   "source": [
    "# len(set(campaigns.customer_id) - set(receipts.customer_id)), \\\n",
    "# len(set(receipts.customer_id) - set(campaigns.customer_id))"
   ]
  },
  {
   "cell_type": "code",
   "execution_count": 67,
   "metadata": {
    "ExecuteTime": {
     "end_time": "2021-10-11T16:38:29.916520Z",
     "start_time": "2021-10-11T16:38:29.900316Z"
    }
   },
   "outputs": [],
   "source": [
    "# campaigns.customer_id.min(), campaigns.customer_id.max()"
   ]
  },
  {
   "cell_type": "code",
   "execution_count": 68,
   "metadata": {
    "ExecuteTime": {
     "end_time": "2021-10-11T16:38:29.928207Z",
     "start_time": "2021-10-11T16:38:29.918481Z"
    }
   },
   "outputs": [],
   "source": [
    "# campaigns.date_start.max(), campaigns.date_end.min()"
   ]
  },
  {
   "cell_type": "code",
   "execution_count": 140,
   "metadata": {
    "ExecuteTime": {
     "end_time": "2021-10-11T17:00:22.587229Z",
     "start_time": "2021-10-11T17:00:22.576131Z"
    }
   },
   "outputs": [
    {
     "data": {
      "text/html": [
       "<div>\n",
       "<style scoped>\n",
       "    .dataframe tbody tr th:only-of-type {\n",
       "        vertical-align: middle;\n",
       "    }\n",
       "\n",
       "    .dataframe tbody tr th {\n",
       "        vertical-align: top;\n",
       "    }\n",
       "\n",
       "    .dataframe thead th {\n",
       "        text-align: right;\n",
       "    }\n",
       "</style>\n",
       "<table border=\"1\" class=\"dataframe\">\n",
       "  <thead>\n",
       "    <tr style=\"text-align: right;\">\n",
       "      <th></th>\n",
       "      <th>customer_id</th>\n",
       "      <th>date_start</th>\n",
       "      <th>date_end</th>\n",
       "    </tr>\n",
       "  </thead>\n",
       "  <tbody>\n",
       "    <tr>\n",
       "      <th>0</th>\n",
       "      <td>0</td>\n",
       "      <td>102</td>\n",
       "      <td>108</td>\n",
       "    </tr>\n",
       "    <tr>\n",
       "      <th>1</th>\n",
       "      <td>1</td>\n",
       "      <td>102</td>\n",
       "      <td>108</td>\n",
       "    </tr>\n",
       "    <tr>\n",
       "      <th>2</th>\n",
       "      <td>2</td>\n",
       "      <td>102</td>\n",
       "      <td>108</td>\n",
       "    </tr>\n",
       "    <tr>\n",
       "      <th>3</th>\n",
       "      <td>3</td>\n",
       "      <td>102</td>\n",
       "      <td>108</td>\n",
       "    </tr>\n",
       "    <tr>\n",
       "      <th>4</th>\n",
       "      <td>4</td>\n",
       "      <td>102</td>\n",
       "      <td>108</td>\n",
       "    </tr>\n",
       "  </tbody>\n",
       "</table>\n",
       "</div>"
      ],
      "text/plain": [
       "   customer_id  date_start  date_end\n",
       "0            0         102       108\n",
       "1            1         102       108\n",
       "2            2         102       108\n",
       "3            3         102       108\n",
       "4            4         102       108"
      ]
     },
     "execution_count": 140,
     "metadata": {},
     "output_type": "execute_result"
    }
   ],
   "source": [
    "campaigns.head()"
   ]
  },
  {
   "cell_type": "code",
   "execution_count": 70,
   "metadata": {
    "ExecuteTime": {
     "end_time": "2021-10-11T16:38:32.463526Z",
     "start_time": "2021-10-11T16:38:32.428749Z"
    }
   },
   "outputs": [
    {
     "data": {
      "text/plain": [
       "customer_id    500000\n",
       "date_start          1\n",
       "date_end            1\n",
       "dtype: int64"
      ]
     },
     "execution_count": 70,
     "metadata": {},
     "output_type": "execute_result"
    }
   ],
   "source": [
    "campaigns.nunique()"
   ]
  },
  {
   "cell_type": "code",
   "execution_count": 71,
   "metadata": {
    "ExecuteTime": {
     "end_time": "2021-10-11T16:38:35.234008Z",
     "start_time": "2021-10-11T16:38:35.213824Z"
    }
   },
   "outputs": [
    {
     "data": {
      "text/html": [
       "<div>\n",
       "<style scoped>\n",
       "    .dataframe tbody tr th:only-of-type {\n",
       "        vertical-align: middle;\n",
       "    }\n",
       "\n",
       "    .dataframe tbody tr th {\n",
       "        vertical-align: top;\n",
       "    }\n",
       "\n",
       "    .dataframe thead th {\n",
       "        text-align: right;\n",
       "    }\n",
       "</style>\n",
       "<table border=\"1\" class=\"dataframe\">\n",
       "  <thead>\n",
       "    <tr style=\"text-align: right;\">\n",
       "      <th></th>\n",
       "      <th>customer_id</th>\n",
       "      <th>date_start</th>\n",
       "      <th>date_end</th>\n",
       "    </tr>\n",
       "  </thead>\n",
       "  <tbody>\n",
       "    <tr>\n",
       "      <th>3566</th>\n",
       "      <td>3566</td>\n",
       "      <td>102</td>\n",
       "      <td>108</td>\n",
       "    </tr>\n",
       "  </tbody>\n",
       "</table>\n",
       "</div>"
      ],
      "text/plain": [
       "      customer_id  date_start  date_end\n",
       "3566         3566         102       108"
      ]
     },
     "execution_count": 71,
     "metadata": {},
     "output_type": "execute_result"
    }
   ],
   "source": [
    "campaigns[campaigns.customer_id==3566]"
   ]
  },
  {
   "cell_type": "code",
   "execution_count": 72,
   "metadata": {
    "ExecuteTime": {
     "end_time": "2021-10-11T16:38:37.540235Z",
     "start_time": "2021-10-11T16:38:37.531837Z"
    }
   },
   "outputs": [
    {
     "data": {
      "text/plain": [
       "(500000, 2000000, 31741769)"
      ]
     },
     "execution_count": 72,
     "metadata": {},
     "output_type": "execute_result"
    }
   ],
   "source": [
    "len(campaigns), len(customers), len(receipts)"
   ]
  },
  {
   "cell_type": "code",
   "execution_count": null,
   "metadata": {},
   "outputs": [],
   "source": []
  },
  {
   "cell_type": "code",
   "execution_count": null,
   "metadata": {},
   "outputs": [],
   "source": []
  },
  {
   "cell_type": "code",
   "execution_count": null,
   "metadata": {},
   "outputs": [],
   "source": []
  },
  {
   "cell_type": "code",
   "execution_count": null,
   "metadata": {},
   "outputs": [],
   "source": []
  },
  {
   "cell_type": "code",
   "execution_count": 152,
   "metadata": {
    "ExecuteTime": {
     "end_time": "2021-10-12T09:14:20.846887Z",
     "start_time": "2021-10-12T09:14:20.487022Z"
    }
   },
   "outputs": [],
   "source": [
    "data = receipts.copy()"
   ]
  },
  {
   "cell_type": "code",
   "execution_count": 153,
   "metadata": {
    "ExecuteTime": {
     "end_time": "2021-10-12T09:14:20.916136Z",
     "start_time": "2021-10-12T09:14:20.850063Z"
    }
   },
   "outputs": [],
   "source": [
    "data['is_campaign'] = 0"
   ]
  },
  {
   "cell_type": "code",
   "execution_count": 154,
   "metadata": {
    "ExecuteTime": {
     "end_time": "2021-10-12T09:14:22.546642Z",
     "start_time": "2021-10-12T09:14:21.426954Z"
    }
   },
   "outputs": [],
   "source": [
    "data.loc[(data.customer_id<500000) & (data.date>=102) & (data.date<=108), 'is_campaign'] = 1"
   ]
  },
  {
   "cell_type": "code",
   "execution_count": 155,
   "metadata": {
    "ExecuteTime": {
     "end_time": "2021-10-12T09:14:24.175990Z",
     "start_time": "2021-10-12T09:14:22.548485Z"
    }
   },
   "outputs": [
    {
     "data": {
      "text/plain": [
       "is_campaign  discount\n",
       "0            0           31493913\n",
       "1            40            226525\n",
       "             0              21331\n",
       "Name: discount, dtype: int64"
      ]
     },
     "execution_count": 155,
     "metadata": {},
     "output_type": "execute_result"
    }
   ],
   "source": [
    "data.groupby('is_campaign')['discount'].value_counts()"
   ]
  },
  {
   "cell_type": "code",
   "execution_count": 156,
   "metadata": {
    "ExecuteTime": {
     "end_time": "2021-10-12T09:14:25.752104Z",
     "start_time": "2021-10-12T09:14:25.607652Z"
    }
   },
   "outputs": [
    {
     "data": {
      "text/html": [
       "<div>\n",
       "<style scoped>\n",
       "    .dataframe tbody tr th:only-of-type {\n",
       "        vertical-align: middle;\n",
       "    }\n",
       "\n",
       "    .dataframe tbody tr th {\n",
       "        vertical-align: top;\n",
       "    }\n",
       "\n",
       "    .dataframe thead th {\n",
       "        text-align: right;\n",
       "    }\n",
       "</style>\n",
       "<table border=\"1\" class=\"dataframe\">\n",
       "  <thead>\n",
       "    <tr style=\"text-align: right;\">\n",
       "      <th></th>\n",
       "      <th>customer_id</th>\n",
       "      <th>date</th>\n",
       "      <th>purchase_amt</th>\n",
       "      <th>discount</th>\n",
       "      <th>is_campaign</th>\n",
       "    </tr>\n",
       "  </thead>\n",
       "  <tbody>\n",
       "    <tr>\n",
       "      <th>3566</th>\n",
       "      <td>3566</td>\n",
       "      <td>103</td>\n",
       "      <td>2.528762</td>\n",
       "      <td>0</td>\n",
       "      <td>1</td>\n",
       "    </tr>\n",
       "    <tr>\n",
       "      <th>4100</th>\n",
       "      <td>4100</td>\n",
       "      <td>103</td>\n",
       "      <td>2.990367</td>\n",
       "      <td>0</td>\n",
       "      <td>1</td>\n",
       "    </tr>\n",
       "    <tr>\n",
       "      <th>4390</th>\n",
       "      <td>4390</td>\n",
       "      <td>103</td>\n",
       "      <td>5.146265</td>\n",
       "      <td>0</td>\n",
       "      <td>1</td>\n",
       "    </tr>\n",
       "    <tr>\n",
       "      <th>5556</th>\n",
       "      <td>5556</td>\n",
       "      <td>103</td>\n",
       "      <td>6.404596</td>\n",
       "      <td>0</td>\n",
       "      <td>1</td>\n",
       "    </tr>\n",
       "    <tr>\n",
       "      <th>5799</th>\n",
       "      <td>5799</td>\n",
       "      <td>103</td>\n",
       "      <td>3.610522</td>\n",
       "      <td>0</td>\n",
       "      <td>1</td>\n",
       "    </tr>\n",
       "    <tr>\n",
       "      <th>...</th>\n",
       "      <td>...</td>\n",
       "      <td>...</td>\n",
       "      <td>...</td>\n",
       "      <td>...</td>\n",
       "      <td>...</td>\n",
       "    </tr>\n",
       "    <tr>\n",
       "      <th>499760</th>\n",
       "      <td>499760</td>\n",
       "      <td>108</td>\n",
       "      <td>19.642012</td>\n",
       "      <td>0</td>\n",
       "      <td>1</td>\n",
       "    </tr>\n",
       "    <tr>\n",
       "      <th>499771</th>\n",
       "      <td>499771</td>\n",
       "      <td>108</td>\n",
       "      <td>3.569657</td>\n",
       "      <td>0</td>\n",
       "      <td>1</td>\n",
       "    </tr>\n",
       "    <tr>\n",
       "      <th>499918</th>\n",
       "      <td>499918</td>\n",
       "      <td>108</td>\n",
       "      <td>2.670410</td>\n",
       "      <td>0</td>\n",
       "      <td>1</td>\n",
       "    </tr>\n",
       "    <tr>\n",
       "      <th>499971</th>\n",
       "      <td>499971</td>\n",
       "      <td>108</td>\n",
       "      <td>12.447138</td>\n",
       "      <td>0</td>\n",
       "      <td>1</td>\n",
       "    </tr>\n",
       "    <tr>\n",
       "      <th>499997</th>\n",
       "      <td>499997</td>\n",
       "      <td>108</td>\n",
       "      <td>8.948187</td>\n",
       "      <td>0</td>\n",
       "      <td>1</td>\n",
       "    </tr>\n",
       "  </tbody>\n",
       "</table>\n",
       "<p>21331 rows × 5 columns</p>\n",
       "</div>"
      ],
      "text/plain": [
       "        customer_id  date  purchase_amt  discount  is_campaign\n",
       "3566           3566   103      2.528762         0            1\n",
       "4100           4100   103      2.990367         0            1\n",
       "4390           4390   103      5.146265         0            1\n",
       "5556           5556   103      6.404596         0            1\n",
       "5799           5799   103      3.610522         0            1\n",
       "...             ...   ...           ...       ...          ...\n",
       "499760       499760   108     19.642012         0            1\n",
       "499771       499771   108      3.569657         0            1\n",
       "499918       499918   108      2.670410         0            1\n",
       "499971       499971   108     12.447138         0            1\n",
       "499997       499997   108      8.948187         0            1\n",
       "\n",
       "[21331 rows x 5 columns]"
      ]
     },
     "execution_count": 156,
     "metadata": {},
     "output_type": "execute_result"
    }
   ],
   "source": [
    "data[(data.is_campaign==1) & (data.discount==0)]"
   ]
  },
  {
   "cell_type": "code",
   "execution_count": 160,
   "metadata": {
    "ExecuteTime": {
     "end_time": "2021-10-12T09:16:55.670025Z",
     "start_time": "2021-10-12T09:16:55.612278Z"
    },
    "scrolled": true
   },
   "outputs": [
    {
     "data": {
      "text/html": [
       "<div>\n",
       "<style scoped>\n",
       "    .dataframe tbody tr th:only-of-type {\n",
       "        vertical-align: middle;\n",
       "    }\n",
       "\n",
       "    .dataframe tbody tr th {\n",
       "        vertical-align: top;\n",
       "    }\n",
       "\n",
       "    .dataframe thead th {\n",
       "        text-align: right;\n",
       "    }\n",
       "</style>\n",
       "<table border=\"1\" class=\"dataframe\">\n",
       "  <thead>\n",
       "    <tr style=\"text-align: right;\">\n",
       "      <th></th>\n",
       "      <th>customer_id</th>\n",
       "      <th>date</th>\n",
       "      <th>purchase_amt</th>\n",
       "      <th>discount</th>\n",
       "      <th>is_campaign</th>\n",
       "    </tr>\n",
       "  </thead>\n",
       "  <tbody>\n",
       "    <tr>\n",
       "      <th>499760</th>\n",
       "      <td>499760</td>\n",
       "      <td>18</td>\n",
       "      <td>21.505777</td>\n",
       "      <td>0</td>\n",
       "      <td>0</td>\n",
       "    </tr>\n",
       "    <tr>\n",
       "      <th>499760</th>\n",
       "      <td>499760</td>\n",
       "      <td>234</td>\n",
       "      <td>5.860275</td>\n",
       "      <td>0</td>\n",
       "      <td>0</td>\n",
       "    </tr>\n",
       "    <tr>\n",
       "      <th>499760</th>\n",
       "      <td>499760</td>\n",
       "      <td>247</td>\n",
       "      <td>40.278359</td>\n",
       "      <td>0</td>\n",
       "      <td>0</td>\n",
       "    </tr>\n",
       "    <tr>\n",
       "      <th>499760</th>\n",
       "      <td>499760</td>\n",
       "      <td>108</td>\n",
       "      <td>19.642012</td>\n",
       "      <td>0</td>\n",
       "      <td>1</td>\n",
       "    </tr>\n",
       "    <tr>\n",
       "      <th>499760</th>\n",
       "      <td>499760</td>\n",
       "      <td>103</td>\n",
       "      <td>19.729092</td>\n",
       "      <td>40</td>\n",
       "      <td>1</td>\n",
       "    </tr>\n",
       "  </tbody>\n",
       "</table>\n",
       "</div>"
      ],
      "text/plain": [
       "        customer_id  date  purchase_amt  discount  is_campaign\n",
       "499760       499760    18     21.505777         0            0\n",
       "499760       499760   234      5.860275         0            0\n",
       "499760       499760   247     40.278359         0            0\n",
       "499760       499760   108     19.642012         0            1\n",
       "499760       499760   103     19.729092        40            1"
      ]
     },
     "execution_count": 160,
     "metadata": {},
     "output_type": "execute_result"
    }
   ],
   "source": [
    "data[data.customer_id==499760].sort_values('is_campaign').tail()"
   ]
  },
  {
   "cell_type": "code",
   "execution_count": 94,
   "metadata": {
    "ExecuteTime": {
     "end_time": "2021-10-11T16:42:55.480813Z",
     "start_time": "2021-10-11T16:42:55.466526Z"
    }
   },
   "outputs": [
    {
     "data": {
      "text/html": [
       "<div>\n",
       "<style scoped>\n",
       "    .dataframe tbody tr th:only-of-type {\n",
       "        vertical-align: middle;\n",
       "    }\n",
       "\n",
       "    .dataframe tbody tr th {\n",
       "        vertical-align: top;\n",
       "    }\n",
       "\n",
       "    .dataframe thead th {\n",
       "        text-align: right;\n",
       "    }\n",
       "</style>\n",
       "<table border=\"1\" class=\"dataframe\">\n",
       "  <thead>\n",
       "    <tr style=\"text-align: right;\">\n",
       "      <th></th>\n",
       "      <th>customer_id</th>\n",
       "      <th>date_start</th>\n",
       "      <th>date_end</th>\n",
       "    </tr>\n",
       "  </thead>\n",
       "  <tbody>\n",
       "    <tr>\n",
       "      <th>3566</th>\n",
       "      <td>3566</td>\n",
       "      <td>102</td>\n",
       "      <td>108</td>\n",
       "    </tr>\n",
       "  </tbody>\n",
       "</table>\n",
       "</div>"
      ],
      "text/plain": [
       "      customer_id  date_start  date_end\n",
       "3566         3566         102       108"
      ]
     },
     "execution_count": 94,
     "metadata": {},
     "output_type": "execute_result"
    }
   ],
   "source": [
    "campaigns[campaigns.customer_id==3566]"
   ]
  },
  {
   "cell_type": "code",
   "execution_count": 97,
   "metadata": {
    "ExecuteTime": {
     "end_time": "2021-10-11T16:43:55.111810Z",
     "start_time": "2021-10-11T16:43:55.016922Z"
    }
   },
   "outputs": [
    {
     "data": {
      "text/plain": [
       "(0, 1999999)"
      ]
     },
     "execution_count": 97,
     "metadata": {},
     "output_type": "execute_result"
    }
   ],
   "source": [
    "data.customer_id.min(), data.customer_id.max()"
   ]
  },
  {
   "cell_type": "code",
   "execution_count": null,
   "metadata": {},
   "outputs": [],
   "source": []
  },
  {
   "cell_type": "code",
   "execution_count": null,
   "metadata": {},
   "outputs": [],
   "source": []
  },
  {
   "cell_type": "code",
   "execution_count": 98,
   "metadata": {
    "ExecuteTime": {
     "end_time": "2021-10-11T16:44:09.137584Z",
     "start_time": "2021-10-11T16:44:08.775930Z"
    }
   },
   "outputs": [],
   "source": [
    "data.loc[(data.is_campaign==1) & (data.discount==0), 'is_campaign'] = 0"
   ]
  },
  {
   "cell_type": "code",
   "execution_count": 99,
   "metadata": {
    "ExecuteTime": {
     "end_time": "2021-10-11T16:44:10.770575Z",
     "start_time": "2021-10-11T16:44:09.193644Z"
    }
   },
   "outputs": [
    {
     "data": {
      "text/plain": [
       "is_campaign  discount\n",
       "0            0           31515244\n",
       "1            40            226525\n",
       "Name: discount, dtype: int64"
      ]
     },
     "execution_count": 99,
     "metadata": {},
     "output_type": "execute_result"
    }
   ],
   "source": [
    "data.groupby('is_campaign')['discount'].value_counts()"
   ]
  },
  {
   "cell_type": "code",
   "execution_count": null,
   "metadata": {},
   "outputs": [],
   "source": []
  },
  {
   "cell_type": "code",
   "execution_count": null,
   "metadata": {},
   "outputs": [],
   "source": []
  },
  {
   "cell_type": "code",
   "execution_count": 81,
   "metadata": {
    "ExecuteTime": {
     "end_time": "2021-10-11T16:39:57.906428Z",
     "start_time": "2021-10-11T16:39:54.926670Z"
    }
   },
   "outputs": [],
   "source": [
    "data = pd.concat([data[data.is_campaign==1], \n",
    "           data[data.is_campaign==0].sample(frac=0.1)\n",
    "          ], axis=0)"
   ]
  },
  {
   "cell_type": "code",
   "execution_count": 82,
   "metadata": {
    "ExecuteTime": {
     "end_time": "2021-10-11T16:39:57.927155Z",
     "start_time": "2021-10-11T16:39:57.908164Z"
    }
   },
   "outputs": [
    {
     "data": {
      "text/plain": [
       "0    3151524\n",
       "1     226525\n",
       "Name: is_campaign, dtype: int64"
      ]
     },
     "execution_count": 82,
     "metadata": {},
     "output_type": "execute_result"
    }
   ],
   "source": [
    "data.is_campaign.value_counts()"
   ]
  },
  {
   "cell_type": "code",
   "execution_count": null,
   "metadata": {},
   "outputs": [],
   "source": []
  },
  {
   "cell_type": "code",
   "execution_count": 84,
   "metadata": {
    "ExecuteTime": {
     "end_time": "2021-10-11T16:40:02.299419Z",
     "start_time": "2021-10-11T16:40:02.294293Z"
    }
   },
   "outputs": [],
   "source": [
    "# data[data.is_campaign==1].discount.value_counts()"
   ]
  },
  {
   "cell_type": "code",
   "execution_count": 85,
   "metadata": {
    "ExecuteTime": {
     "end_time": "2021-10-11T16:40:04.001243Z",
     "start_time": "2021-10-11T16:40:03.996503Z"
    }
   },
   "outputs": [],
   "source": [
    "# data[data.is_campaign==0].discount.value_counts()"
   ]
  },
  {
   "cell_type": "code",
   "execution_count": 86,
   "metadata": {
    "ExecuteTime": {
     "end_time": "2021-10-11T16:40:07.511829Z",
     "start_time": "2021-10-11T16:40:06.164900Z"
    }
   },
   "outputs": [
    {
     "data": {
      "text/plain": [
       "set()"
      ]
     },
     "execution_count": 86,
     "metadata": {},
     "output_type": "execute_result"
    }
   ],
   "source": [
    "set(data.customer_id)-set(customers.customer_id)"
   ]
  },
  {
   "cell_type": "code",
   "execution_count": 87,
   "metadata": {
    "ExecuteTime": {
     "end_time": "2021-10-11T16:40:40.701566Z",
     "start_time": "2021-10-11T16:40:39.169073Z"
    }
   },
   "outputs": [],
   "source": [
    "data = data.merge(customers, how='left', on='customer_id')"
   ]
  },
  {
   "cell_type": "code",
   "execution_count": 88,
   "metadata": {
    "ExecuteTime": {
     "end_time": "2021-10-11T16:40:41.562275Z",
     "start_time": "2021-10-11T16:40:41.544842Z"
    }
   },
   "outputs": [
    {
     "data": {
      "text/html": [
       "<div>\n",
       "<style scoped>\n",
       "    .dataframe tbody tr th:only-of-type {\n",
       "        vertical-align: middle;\n",
       "    }\n",
       "\n",
       "    .dataframe tbody tr th {\n",
       "        vertical-align: top;\n",
       "    }\n",
       "\n",
       "    .dataframe thead th {\n",
       "        text-align: right;\n",
       "    }\n",
       "</style>\n",
       "<table border=\"1\" class=\"dataframe\">\n",
       "  <thead>\n",
       "    <tr style=\"text-align: right;\">\n",
       "      <th></th>\n",
       "      <th>customer_id</th>\n",
       "      <th>date</th>\n",
       "      <th>purchase_amt</th>\n",
       "      <th>discount</th>\n",
       "      <th>is_campaign</th>\n",
       "      <th>age</th>\n",
       "      <th>location_Beauclair</th>\n",
       "      <th>location_Crows_perch</th>\n",
       "      <th>location_Hindarsfjall</th>\n",
       "      <th>location_Kaer_Trolde</th>\n",
       "      <th>location_Novigrad</th>\n",
       "      <th>location_Oxenfurt</th>\n",
       "      <th>location_Spikeroog</th>\n",
       "    </tr>\n",
       "  </thead>\n",
       "  <tbody>\n",
       "    <tr>\n",
       "      <th>0</th>\n",
       "      <td>12</td>\n",
       "      <td>102</td>\n",
       "      <td>14.351911</td>\n",
       "      <td>40</td>\n",
       "      <td>1</td>\n",
       "      <td>60</td>\n",
       "      <td>0</td>\n",
       "      <td>0</td>\n",
       "      <td>0</td>\n",
       "      <td>0</td>\n",
       "      <td>1</td>\n",
       "      <td>0</td>\n",
       "      <td>0</td>\n",
       "    </tr>\n",
       "    <tr>\n",
       "      <th>1</th>\n",
       "      <td>19</td>\n",
       "      <td>102</td>\n",
       "      <td>3.840616</td>\n",
       "      <td>40</td>\n",
       "      <td>1</td>\n",
       "      <td>25</td>\n",
       "      <td>0</td>\n",
       "      <td>0</td>\n",
       "      <td>0</td>\n",
       "      <td>0</td>\n",
       "      <td>1</td>\n",
       "      <td>0</td>\n",
       "      <td>0</td>\n",
       "    </tr>\n",
       "    <tr>\n",
       "      <th>2</th>\n",
       "      <td>39</td>\n",
       "      <td>102</td>\n",
       "      <td>12.696186</td>\n",
       "      <td>40</td>\n",
       "      <td>1</td>\n",
       "      <td>24</td>\n",
       "      <td>0</td>\n",
       "      <td>0</td>\n",
       "      <td>1</td>\n",
       "      <td>0</td>\n",
       "      <td>0</td>\n",
       "      <td>0</td>\n",
       "      <td>0</td>\n",
       "    </tr>\n",
       "    <tr>\n",
       "      <th>3</th>\n",
       "      <td>72</td>\n",
       "      <td>102</td>\n",
       "      <td>24.732437</td>\n",
       "      <td>40</td>\n",
       "      <td>1</td>\n",
       "      <td>67</td>\n",
       "      <td>0</td>\n",
       "      <td>0</td>\n",
       "      <td>0</td>\n",
       "      <td>0</td>\n",
       "      <td>1</td>\n",
       "      <td>0</td>\n",
       "      <td>0</td>\n",
       "    </tr>\n",
       "    <tr>\n",
       "      <th>4</th>\n",
       "      <td>86</td>\n",
       "      <td>102</td>\n",
       "      <td>16.100635</td>\n",
       "      <td>40</td>\n",
       "      <td>1</td>\n",
       "      <td>44</td>\n",
       "      <td>0</td>\n",
       "      <td>1</td>\n",
       "      <td>0</td>\n",
       "      <td>0</td>\n",
       "      <td>0</td>\n",
       "      <td>0</td>\n",
       "      <td>0</td>\n",
       "    </tr>\n",
       "  </tbody>\n",
       "</table>\n",
       "</div>"
      ],
      "text/plain": [
       "   customer_id  date  purchase_amt  discount  is_campaign  age  \\\n",
       "0           12   102     14.351911        40            1   60   \n",
       "1           19   102      3.840616        40            1   25   \n",
       "2           39   102     12.696186        40            1   24   \n",
       "3           72   102     24.732437        40            1   67   \n",
       "4           86   102     16.100635        40            1   44   \n",
       "\n",
       "   location_Beauclair  location_Crows_perch  location_Hindarsfjall  \\\n",
       "0                   0                     0                      0   \n",
       "1                   0                     0                      0   \n",
       "2                   0                     0                      1   \n",
       "3                   0                     0                      0   \n",
       "4                   0                     1                      0   \n",
       "\n",
       "   location_Kaer_Trolde  location_Novigrad  location_Oxenfurt  \\\n",
       "0                     0                  1                  0   \n",
       "1                     0                  1                  0   \n",
       "2                     0                  0                  0   \n",
       "3                     0                  1                  0   \n",
       "4                     0                  0                  0   \n",
       "\n",
       "   location_Spikeroog  \n",
       "0                   0  \n",
       "1                   0  \n",
       "2                   0  \n",
       "3                   0  \n",
       "4                   0  "
      ]
     },
     "execution_count": 88,
     "metadata": {},
     "output_type": "execute_result"
    }
   ],
   "source": [
    "data.head()"
   ]
  },
  {
   "cell_type": "code",
   "execution_count": null,
   "metadata": {},
   "outputs": [],
   "source": []
  },
  {
   "cell_type": "markdown",
   "metadata": {},
   "source": [
    "# train"
   ]
  },
  {
   "cell_type": "code",
   "execution_count": 142,
   "metadata": {
    "ExecuteTime": {
     "end_time": "2021-10-08T17:20:11.752093Z",
     "start_time": "2021-10-08T17:20:11.589479Z"
    }
   },
   "outputs": [],
   "source": [
    "fit_index, val_index = train_test_split(data.index, test_size=0.5, random_state=148)"
   ]
  },
  {
   "cell_type": "code",
   "execution_count": 143,
   "metadata": {
    "ExecuteTime": {
     "end_time": "2021-10-08T17:20:12.129223Z",
     "start_time": "2021-10-08T17:20:12.124454Z"
    }
   },
   "outputs": [],
   "source": [
    "import pylift"
   ]
  },
  {
   "cell_type": "code",
   "execution_count": 144,
   "metadata": {
    "ExecuteTime": {
     "end_time": "2021-10-08T17:20:12.675168Z",
     "start_time": "2021-10-08T17:20:12.668433Z"
    }
   },
   "outputs": [],
   "source": [
    "col_target = 'purchase_amt'\n",
    "col_treatment = 'is_campaign'\n",
    "targ_cols = [col_target, col_treatment]\n",
    "cols_features  = [c for c in data.columns if c not in targ_cols]"
   ]
  },
  {
   "cell_type": "code",
   "execution_count": 145,
   "metadata": {
    "ExecuteTime": {
     "end_time": "2021-10-08T17:20:13.969428Z",
     "start_time": "2021-10-08T17:20:13.963577Z"
    }
   },
   "outputs": [],
   "source": [
    "model_n1 = rlearner.BaseRRegressor(\n",
    "    learner=lgb.LGBMRegressor(),\n",
    "    control_name=0,\n",
    "    n_fold=4,\n",
    "    random_state=165\n",
    ")"
   ]
  },
  {
   "cell_type": "code",
   "execution_count": 146,
   "metadata": {
    "ExecuteTime": {
     "end_time": "2021-10-08T17:20:30.750375Z",
     "start_time": "2021-10-08T17:20:16.218127Z"
    }
   },
   "outputs": [],
   "source": [
    "_p_score_const = data.loc[fit_index, col_treatment].value_counts(normalize=True).loc[1]\n",
    "_p_scores = pd.Series(data=_p_score_const, index=fit_index)\n",
    "model_n1.fit(\n",
    "    X=data.loc[fit_index, cols_features].values,\n",
    "    treatment=data.loc[fit_index, col_treatment].values,\n",
    "    y=data.loc[fit_index, col_target].values,\n",
    "    p=_p_scores\n",
    ")"
   ]
  },
  {
   "cell_type": "code",
   "execution_count": 147,
   "metadata": {
    "ExecuteTime": {
     "end_time": "2021-10-08T17:20:36.084472Z",
     "start_time": "2021-10-08T17:20:34.770895Z"
    }
   },
   "outputs": [],
   "source": [
    "_eval_data = data.loc[val_index, cols_features + [col_treatment, col_target]]\n",
    "_eval_data['score'] = model_n1.predict(_eval_data[cols_features])\n",
    "_eval_data = _eval_data[['score', col_treatment, col_target]]"
   ]
  },
  {
   "cell_type": "code",
   "execution_count": 148,
   "metadata": {
    "ExecuteTime": {
     "end_time": "2021-10-08T17:20:37.233185Z",
     "start_time": "2021-10-08T17:20:37.017710Z"
    },
    "scrolled": false
   },
   "outputs": [
    {
     "data": {
      "image/png": "[encoded data removed]",
      "text/plain": [
       "<Figure size 720x432 with 1 Axes>"
      ]
     },
     "metadata": {},
     "output_type": "display_data"
    }
   ],
   "source": [
    "plt.figure(figsize=(10, 6))\n",
    "plt.hist(_eval_data['score'], bins=20)\n",
    "plt.show()"
   ]
  },
  {
   "cell_type": "code",
   "execution_count": 149,
   "metadata": {
    "ExecuteTime": {
     "end_time": "2021-10-08T17:21:06.658462Z",
     "start_time": "2021-10-08T17:21:06.619772Z"
    }
   },
   "outputs": [
    {
     "data": {
      "text/plain": [
       "-1.4281172773321278"
      ]
     },
     "execution_count": 149,
     "metadata": {},
     "output_type": "execute_result"
    }
   ],
   "source": [
    "np.percentile(_eval_data['score'], 5) # прибыль на клиента"
   ]
  },
  {
   "cell_type": "code",
   "execution_count": 150,
   "metadata": {
    "ExecuteTime": {
     "end_time": "2021-10-08T17:21:07.668518Z",
     "start_time": "2021-10-08T17:21:07.634393Z"
    }
   },
   "outputs": [
    {
     "data": {
      "text/plain": [
       "1.061228782876542"
      ]
     },
     "execution_count": 150,
     "metadata": {},
     "output_type": "execute_result"
    }
   ],
   "source": [
    "np.percentile(_eval_data['score'], 95)"
   ]
  },
  {
   "cell_type": "code",
   "execution_count": 151,
   "metadata": {
    "ExecuteTime": {
     "end_time": "2021-10-08T17:21:18.525015Z",
     "start_time": "2021-10-08T17:21:18.298527Z"
    },
    "scrolled": false
   },
   "outputs": [
    {
     "data": {
      "image/png": "[encoded data removed]",
      "text/plain": [
       "<Figure size 720x432 with 1 Axes>"
      ]
     },
     "metadata": {},
     "output_type": "display_data"
    }
   ],
   "source": [
    "plt.figure(figsize=(10, 6))\n",
    "plt.hist(_eval_data['score'], range=(-2, 2), bins=16)\n",
    "plt.show()"
   ]
  },
  {
   "cell_type": "code",
   "execution_count": 152,
   "metadata": {
    "ExecuteTime": {
     "end_time": "2021-10-08T17:21:45.910212Z",
     "start_time": "2021-10-08T17:21:45.836948Z"
    }
   },
   "outputs": [
    {
     "data": {
      "text/plain": [
       "count    1.698624e+06\n",
       "mean    -1.258525e-01\n",
       "std      1.213549e+00\n",
       "min     -3.151428e+01\n",
       "25%     -3.322432e-01\n",
       "50%     -5.096484e-02\n",
       "75%      7.305881e-02\n",
       "max      2.840879e+01\n",
       "Name: score, dtype: float64"
      ]
     },
     "execution_count": 152,
     "metadata": {},
     "output_type": "execute_result"
    }
   ],
   "source": [
    "_eval_data['score'].describe()"
   ]
  },
  {
   "cell_type": "code",
   "execution_count": 153,
   "metadata": {
    "ExecuteTime": {
     "end_time": "2021-10-08T17:21:59.684518Z",
     "start_time": "2021-10-08T17:21:50.942283Z"
    }
   },
   "outputs": [
    {
     "data": {
      "image/png": "[encoded data removed]",
      "text/plain": [
       "<Figure size 576x576 with 1 Axes>"
      ]
     },
     "metadata": {},
     "output_type": "display_data"
    }
   ],
   "source": [
    "cmetrics.plot_gain(\n",
    "    _eval_data,\n",
    "    treatment_col=col_treatment,\n",
    "    outcome_col=col_target,\n",
    ")\n",
    "# топ 25 процентов юзеров - оптимум - по этому значению выбираем порог"
   ]
  },
  {
   "cell_type": "code",
   "execution_count": 169,
   "metadata": {
    "ExecuteTime": {
     "end_time": "2021-10-11T12:08:25.620160Z",
     "start_time": "2021-10-11T12:08:25.589569Z"
    }
   },
   "outputs": [
    {
     "data": {
      "text/plain": [
       "-0.05096483813301808"
      ]
     },
     "execution_count": 169,
     "metadata": {},
     "output_type": "execute_result"
    }
   ],
   "source": [
    "np.percentile(_eval_data['score'], 50)"
   ]
  },
  {
   "cell_type": "markdown",
   "metadata": {},
   "source": [
    "# predict"
   ]
  },
  {
   "cell_type": "code",
   "execution_count": 170,
   "metadata": {
    "ExecuteTime": {
     "end_time": "2021-10-11T12:09:05.937967Z",
     "start_time": "2021-10-11T12:09:05.931338Z"
    }
   },
   "outputs": [],
   "source": [
    "model_n_pred = rlearner.BaseRRegressor(\n",
    "    learner=lgb.LGBMRegressor(),\n",
    "    control_name=0,\n",
    "    n_fold=4,\n",
    "    random_state=165\n",
    ")"
   ]
  },
  {
   "cell_type": "code",
   "execution_count": 171,
   "metadata": {
    "ExecuteTime": {
     "end_time": "2021-10-11T12:10:01.107409Z",
     "start_time": "2021-10-11T12:09:38.949283Z"
    }
   },
   "outputs": [],
   "source": [
    "_p_score_const = data.loc[:, col_treatment].value_counts(normalize=True).loc[1]\n",
    "_p_scores = pd.Series(data=_p_score_const, index=data.index)\n",
    "model_n_pred.fit(\n",
    "    X=data.loc[:, cols_features].values,\n",
    "    treatment=data.loc[:, col_treatment].values,\n",
    "    y=data.loc[:, col_target].values,\n",
    "    p=_p_scores\n",
    ")"
   ]
  },
  {
   "cell_type": "code",
   "execution_count": 180,
   "metadata": {
    "ExecuteTime": {
     "end_time": "2021-10-11T12:15:33.773118Z",
     "start_time": "2021-10-11T12:15:32.308434Z"
    }
   },
   "outputs": [],
   "source": [
    "_eval_data = data.loc[:, cols_features + [col_treatment, col_target]]\n",
    "_eval_data['score'] = model_n_pred.predict(_eval_data[cols_features])\n",
    "# _eval_data = _eval_data[['score', col_treatment, col_target]]"
   ]
  },
  {
   "cell_type": "code",
   "execution_count": 181,
   "metadata": {
    "ExecuteTime": {
     "end_time": "2021-10-11T12:15:36.168772Z",
     "start_time": "2021-10-11T12:15:36.142944Z"
    }
   },
   "outputs": [
    {
     "data": {
      "text/html": [
       "<div>\n",
       "<style scoped>\n",
       "    .dataframe tbody tr th:only-of-type {\n",
       "        vertical-align: middle;\n",
       "    }\n",
       "\n",
       "    .dataframe tbody tr th {\n",
       "        vertical-align: top;\n",
       "    }\n",
       "\n",
       "    .dataframe thead th {\n",
       "        text-align: right;\n",
       "    }\n",
       "</style>\n",
       "<table border=\"1\" class=\"dataframe\">\n",
       "  <thead>\n",
       "    <tr style=\"text-align: right;\">\n",
       "      <th></th>\n",
       "      <th>customer_id</th>\n",
       "      <th>date</th>\n",
       "      <th>discount</th>\n",
       "      <th>age</th>\n",
       "      <th>location_Beauclair</th>\n",
       "      <th>location_Crows_perch</th>\n",
       "      <th>location_Hindarsfjall</th>\n",
       "      <th>location_Kaer_Trolde</th>\n",
       "      <th>location_Novigrad</th>\n",
       "      <th>location_Oxenfurt</th>\n",
       "      <th>location_Spikeroog</th>\n",
       "      <th>is_campaign</th>\n",
       "      <th>purchase_amt</th>\n",
       "      <th>score</th>\n",
       "    </tr>\n",
       "  </thead>\n",
       "  <tbody>\n",
       "    <tr>\n",
       "      <th>0</th>\n",
       "      <td>12</td>\n",
       "      <td>102</td>\n",
       "      <td>40</td>\n",
       "      <td>60</td>\n",
       "      <td>0</td>\n",
       "      <td>0</td>\n",
       "      <td>0</td>\n",
       "      <td>0</td>\n",
       "      <td>1</td>\n",
       "      <td>0</td>\n",
       "      <td>0</td>\n",
       "      <td>1</td>\n",
       "      <td>14.351911</td>\n",
       "      <td>-0.089966</td>\n",
       "    </tr>\n",
       "    <tr>\n",
       "      <th>1</th>\n",
       "      <td>19</td>\n",
       "      <td>102</td>\n",
       "      <td>40</td>\n",
       "      <td>25</td>\n",
       "      <td>0</td>\n",
       "      <td>0</td>\n",
       "      <td>0</td>\n",
       "      <td>0</td>\n",
       "      <td>1</td>\n",
       "      <td>0</td>\n",
       "      <td>0</td>\n",
       "      <td>1</td>\n",
       "      <td>3.840616</td>\n",
       "      <td>-0.166508</td>\n",
       "    </tr>\n",
       "    <tr>\n",
       "      <th>2</th>\n",
       "      <td>39</td>\n",
       "      <td>102</td>\n",
       "      <td>40</td>\n",
       "      <td>24</td>\n",
       "      <td>0</td>\n",
       "      <td>0</td>\n",
       "      <td>1</td>\n",
       "      <td>0</td>\n",
       "      <td>0</td>\n",
       "      <td>0</td>\n",
       "      <td>0</td>\n",
       "      <td>1</td>\n",
       "      <td>12.696186</td>\n",
       "      <td>0.029878</td>\n",
       "    </tr>\n",
       "    <tr>\n",
       "      <th>3</th>\n",
       "      <td>72</td>\n",
       "      <td>102</td>\n",
       "      <td>40</td>\n",
       "      <td>67</td>\n",
       "      <td>0</td>\n",
       "      <td>0</td>\n",
       "      <td>0</td>\n",
       "      <td>0</td>\n",
       "      <td>1</td>\n",
       "      <td>0</td>\n",
       "      <td>0</td>\n",
       "      <td>1</td>\n",
       "      <td>24.732437</td>\n",
       "      <td>-0.066026</td>\n",
       "    </tr>\n",
       "    <tr>\n",
       "      <th>4</th>\n",
       "      <td>86</td>\n",
       "      <td>102</td>\n",
       "      <td>40</td>\n",
       "      <td>44</td>\n",
       "      <td>0</td>\n",
       "      <td>1</td>\n",
       "      <td>0</td>\n",
       "      <td>0</td>\n",
       "      <td>0</td>\n",
       "      <td>0</td>\n",
       "      <td>0</td>\n",
       "      <td>1</td>\n",
       "      <td>16.100635</td>\n",
       "      <td>-0.203669</td>\n",
       "    </tr>\n",
       "    <tr>\n",
       "      <th>...</th>\n",
       "      <td>...</td>\n",
       "      <td>...</td>\n",
       "      <td>...</td>\n",
       "      <td>...</td>\n",
       "      <td>...</td>\n",
       "      <td>...</td>\n",
       "      <td>...</td>\n",
       "      <td>...</td>\n",
       "      <td>...</td>\n",
       "      <td>...</td>\n",
       "      <td>...</td>\n",
       "      <td>...</td>\n",
       "      <td>...</td>\n",
       "      <td>...</td>\n",
       "    </tr>\n",
       "    <tr>\n",
       "      <th>3397242</th>\n",
       "      <td>1031094</td>\n",
       "      <td>133</td>\n",
       "      <td>0</td>\n",
       "      <td>43</td>\n",
       "      <td>0</td>\n",
       "      <td>0</td>\n",
       "      <td>0</td>\n",
       "      <td>0</td>\n",
       "      <td>0</td>\n",
       "      <td>0</td>\n",
       "      <td>1</td>\n",
       "      <td>0</td>\n",
       "      <td>24.239013</td>\n",
       "      <td>0.491539</td>\n",
       "    </tr>\n",
       "    <tr>\n",
       "      <th>3397243</th>\n",
       "      <td>108292</td>\n",
       "      <td>95</td>\n",
       "      <td>0</td>\n",
       "      <td>56</td>\n",
       "      <td>0</td>\n",
       "      <td>0</td>\n",
       "      <td>0</td>\n",
       "      <td>0</td>\n",
       "      <td>1</td>\n",
       "      <td>0</td>\n",
       "      <td>0</td>\n",
       "      <td>0</td>\n",
       "      <td>18.867115</td>\n",
       "      <td>-0.561995</td>\n",
       "    </tr>\n",
       "    <tr>\n",
       "      <th>3397244</th>\n",
       "      <td>1014179</td>\n",
       "      <td>132</td>\n",
       "      <td>0</td>\n",
       "      <td>56</td>\n",
       "      <td>0</td>\n",
       "      <td>0</td>\n",
       "      <td>0</td>\n",
       "      <td>0</td>\n",
       "      <td>0</td>\n",
       "      <td>0</td>\n",
       "      <td>1</td>\n",
       "      <td>0</td>\n",
       "      <td>6.208357</td>\n",
       "      <td>0.529218</td>\n",
       "    </tr>\n",
       "    <tr>\n",
       "      <th>3397245</th>\n",
       "      <td>1046502</td>\n",
       "      <td>40</td>\n",
       "      <td>0</td>\n",
       "      <td>26</td>\n",
       "      <td>0</td>\n",
       "      <td>0</td>\n",
       "      <td>0</td>\n",
       "      <td>0</td>\n",
       "      <td>1</td>\n",
       "      <td>0</td>\n",
       "      <td>0</td>\n",
       "      <td>0</td>\n",
       "      <td>10.883461</td>\n",
       "      <td>-0.070891</td>\n",
       "    </tr>\n",
       "    <tr>\n",
       "      <th>3397246</th>\n",
       "      <td>348727</td>\n",
       "      <td>28</td>\n",
       "      <td>0</td>\n",
       "      <td>64</td>\n",
       "      <td>0</td>\n",
       "      <td>0</td>\n",
       "      <td>0</td>\n",
       "      <td>0</td>\n",
       "      <td>0</td>\n",
       "      <td>0</td>\n",
       "      <td>1</td>\n",
       "      <td>0</td>\n",
       "      <td>12.780967</td>\n",
       "      <td>-0.318343</td>\n",
       "    </tr>\n",
       "  </tbody>\n",
       "</table>\n",
       "<p>3397247 rows × 14 columns</p>\n",
       "</div>"
      ],
      "text/plain": [
       "         customer_id  date  discount  age  location_Beauclair  \\\n",
       "0                 12   102        40   60                   0   \n",
       "1                 19   102        40   25                   0   \n",
       "2                 39   102        40   24                   0   \n",
       "3                 72   102        40   67                   0   \n",
       "4                 86   102        40   44                   0   \n",
       "...              ...   ...       ...  ...                 ...   \n",
       "3397242      1031094   133         0   43                   0   \n",
       "3397243       108292    95         0   56                   0   \n",
       "3397244      1014179   132         0   56                   0   \n",
       "3397245      1046502    40         0   26                   0   \n",
       "3397246       348727    28         0   64                   0   \n",
       "\n",
       "         location_Crows_perch  location_Hindarsfjall  location_Kaer_Trolde  \\\n",
       "0                           0                      0                     0   \n",
       "1                           0                      0                     0   \n",
       "2                           0                      1                     0   \n",
       "3                           0                      0                     0   \n",
       "4                           1                      0                     0   \n",
       "...                       ...                    ...                   ...   \n",
       "3397242                     0                      0                     0   \n",
       "3397243                     0                      0                     0   \n",
       "3397244                     0                      0                     0   \n",
       "3397245                     0                      0                     0   \n",
       "3397246                     0                      0                     0   \n",
       "\n",
       "         location_Novigrad  location_Oxenfurt  location_Spikeroog  \\\n",
       "0                        1                  0                   0   \n",
       "1                        1                  0                   0   \n",
       "2                        0                  0                   0   \n",
       "3                        1                  0                   0   \n",
       "4                        0                  0                   0   \n",
       "...                    ...                ...                 ...   \n",
       "3397242                  0                  0                   1   \n",
       "3397243                  1                  0                   0   \n",
       "3397244                  0                  0                   1   \n",
       "3397245                  1                  0                   0   \n",
       "3397246                  0                  0                   1   \n",
       "\n",
       "         is_campaign  purchase_amt     score  \n",
       "0                  1     14.351911 -0.089966  \n",
       "1                  1      3.840616 -0.166508  \n",
       "2                  1     12.696186  0.029878  \n",
       "3                  1     24.732437 -0.066026  \n",
       "4                  1     16.100635 -0.203669  \n",
       "...              ...           ...       ...  \n",
       "3397242            0     24.239013  0.491539  \n",
       "3397243            0     18.867115 -0.561995  \n",
       "3397244            0      6.208357  0.529218  \n",
       "3397245            0     10.883461 -0.070891  \n",
       "3397246            0     12.780967 -0.318343  \n",
       "\n",
       "[3397247 rows x 14 columns]"
      ]
     },
     "execution_count": 181,
     "metadata": {},
     "output_type": "execute_result"
    }
   ],
   "source": [
    "_eval_data"
   ]
  },
  {
   "cell_type": "code",
   "execution_count": 190,
   "metadata": {
    "ExecuteTime": {
     "end_time": "2021-10-11T12:16:31.591873Z",
     "start_time": "2021-10-11T12:16:31.530750Z"
    }
   },
   "outputs": [
    {
     "data": {
      "text/plain": [
       "1.246107631149102"
      ]
     },
     "execution_count": 190,
     "metadata": {},
     "output_type": "execute_result"
    }
   ],
   "source": [
    "np.percentile(_eval_data['score'], 97)"
   ]
  },
  {
   "cell_type": "code",
   "execution_count": 192,
   "metadata": {
    "ExecuteTime": {
     "end_time": "2021-10-11T12:16:44.552094Z",
     "start_time": "2021-10-11T12:16:44.546483Z"
    }
   },
   "outputs": [
    {
     "data": {
      "text/plain": [
       "(3397247, 14)"
      ]
     },
     "execution_count": 192,
     "metadata": {},
     "output_type": "execute_result"
    }
   ],
   "source": [
    "_eval_data.shape"
   ]
  },
  {
   "cell_type": "code",
   "execution_count": 201,
   "metadata": {
    "ExecuteTime": {
     "end_time": "2021-10-11T12:18:37.659115Z",
     "start_time": "2021-10-11T12:18:37.545443Z"
    }
   },
   "outputs": [],
   "source": [
    "_eval_data[_eval_data['score']>=1.246107631149102][['customer_id']].to_csv('submit.csv', index=False)"
   ]
  },
  {
   "cell_type": "code",
   "execution_count": null,
   "metadata": {},
   "outputs": [],
   "source": [
    "потом обучать на всем датасете с порогом?"
   ]
  },
  {
   "cell_type": "code",
   "execution_count": null,
   "metadata": {},
   "outputs": [],
   "source": []
  },
  {
   "cell_type": "code",
   "execution_count": null,
   "metadata": {},
   "outputs": [],
   "source": []
  },
  {
   "cell_type": "markdown",
   "metadata": {
    "ExecuteTime": {
     "end_time": "2021-10-08T12:00:06.514618Z",
     "start_time": "2021-10-08T12:00:06.510004Z"
    },
    "heading_collapsed": true
   },
   "source": [
    "# archive"
   ]
  },
  {
   "cell_type": "code",
   "execution_count": 53,
   "metadata": {
    "ExecuteTime": {
     "end_time": "2021-10-08T11:35:52.736824Z",
     "start_time": "2021-10-08T11:35:52.393717Z"
    },
    "hidden": true
   },
   "outputs": [
    {
     "data": {
      "text/plain": [
       "Float64Index([80.0, 80.00000000000001, 79.99999999999999], dtype='float64')"
      ]
     },
     "execution_count": 53,
     "metadata": {},
     "output_type": "execute_result"
    }
   ],
   "source": [
    "(receipts['purchase_sum']/receipts['purchase_amt']).value_counts().index"
   ]
  },
  {
   "cell_type": "code",
   "execution_count": 54,
   "metadata": {
    "ExecuteTime": {
     "end_time": "2021-10-08T11:35:58.906233Z",
     "start_time": "2021-10-08T11:35:58.662211Z"
    },
    "hidden": true
   },
   "outputs": [
    {
     "data": {
      "text/html": [
       "<div>\n",
       "<style scoped>\n",
       "    .dataframe tbody tr th:only-of-type {\n",
       "        vertical-align: middle;\n",
       "    }\n",
       "\n",
       "    .dataframe tbody tr th {\n",
       "        vertical-align: top;\n",
       "    }\n",
       "\n",
       "    .dataframe thead th {\n",
       "        text-align: right;\n",
       "    }\n",
       "</style>\n",
       "<table border=\"1\" class=\"dataframe\">\n",
       "  <thead>\n",
       "    <tr style=\"text-align: right;\">\n",
       "      <th></th>\n",
       "      <th>customer_id</th>\n",
       "      <th>date</th>\n",
       "      <th>purchase_amt</th>\n",
       "      <th>discount</th>\n",
       "      <th>purchase_sum</th>\n",
       "    </tr>\n",
       "  </thead>\n",
       "  <tbody>\n",
       "    <tr>\n",
       "      <th>1881</th>\n",
       "      <td>1881</td>\n",
       "      <td>0</td>\n",
       "      <td>7.391551</td>\n",
       "      <td>0</td>\n",
       "      <td>591.324108</td>\n",
       "    </tr>\n",
       "    <tr>\n",
       "      <th>1978</th>\n",
       "      <td>1978</td>\n",
       "      <td>0</td>\n",
       "      <td>13.321760</td>\n",
       "      <td>0</td>\n",
       "      <td>1065.740840</td>\n",
       "    </tr>\n",
       "    <tr>\n",
       "      <th>3029</th>\n",
       "      <td>3029</td>\n",
       "      <td>0</td>\n",
       "      <td>14.648189</td>\n",
       "      <td>0</td>\n",
       "      <td>1171.855155</td>\n",
       "    </tr>\n",
       "    <tr>\n",
       "      <th>3600</th>\n",
       "      <td>3600</td>\n",
       "      <td>0</td>\n",
       "      <td>15.086169</td>\n",
       "      <td>0</td>\n",
       "      <td>1206.893546</td>\n",
       "    </tr>\n",
       "    <tr>\n",
       "      <th>4502</th>\n",
       "      <td>4502</td>\n",
       "      <td>0</td>\n",
       "      <td>15.736323</td>\n",
       "      <td>0</td>\n",
       "      <td>1258.905867</td>\n",
       "    </tr>\n",
       "    <tr>\n",
       "      <th>...</th>\n",
       "      <td>...</td>\n",
       "      <td>...</td>\n",
       "      <td>...</td>\n",
       "      <td>...</td>\n",
       "      <td>...</td>\n",
       "    </tr>\n",
       "    <tr>\n",
       "      <th>1998880</th>\n",
       "      <td>1998880</td>\n",
       "      <td>249</td>\n",
       "      <td>15.779932</td>\n",
       "      <td>0</td>\n",
       "      <td>1262.394523</td>\n",
       "    </tr>\n",
       "    <tr>\n",
       "      <th>1999062</th>\n",
       "      <td>1999062</td>\n",
       "      <td>249</td>\n",
       "      <td>29.840009</td>\n",
       "      <td>0</td>\n",
       "      <td>2387.200757</td>\n",
       "    </tr>\n",
       "    <tr>\n",
       "      <th>1999677</th>\n",
       "      <td>1999677</td>\n",
       "      <td>249</td>\n",
       "      <td>15.395928</td>\n",
       "      <td>0</td>\n",
       "      <td>1231.674250</td>\n",
       "    </tr>\n",
       "    <tr>\n",
       "      <th>1999800</th>\n",
       "      <td>1999800</td>\n",
       "      <td>249</td>\n",
       "      <td>13.638075</td>\n",
       "      <td>0</td>\n",
       "      <td>1091.046036</td>\n",
       "    </tr>\n",
       "    <tr>\n",
       "      <th>1999959</th>\n",
       "      <td>1999959</td>\n",
       "      <td>249</td>\n",
       "      <td>30.753209</td>\n",
       "      <td>0</td>\n",
       "      <td>2460.256698</td>\n",
       "    </tr>\n",
       "  </tbody>\n",
       "</table>\n",
       "<p>640056 rows × 5 columns</p>\n",
       "</div>"
      ],
      "text/plain": [
       "         customer_id  date  purchase_amt  discount  purchase_sum\n",
       "1881            1881     0      7.391551         0    591.324108\n",
       "1978            1978     0     13.321760         0   1065.740840\n",
       "3029            3029     0     14.648189         0   1171.855155\n",
       "3600            3600     0     15.086169         0   1206.893546\n",
       "4502            4502     0     15.736323         0   1258.905867\n",
       "...              ...   ...           ...       ...           ...\n",
       "1998880      1998880   249     15.779932         0   1262.394523\n",
       "1999062      1999062   249     29.840009         0   2387.200757\n",
       "1999677      1999677   249     15.395928         0   1231.674250\n",
       "1999800      1999800   249     13.638075         0   1091.046036\n",
       "1999959      1999959   249     30.753209         0   2460.256698\n",
       "\n",
       "[640056 rows x 5 columns]"
      ]
     },
     "execution_count": 54,
     "metadata": {},
     "output_type": "execute_result"
    }
   ],
   "source": [
    "receipts[receipts['purchase_sum']/receipts['purchase_amt']==80.00000000000001]"
   ]
  },
  {
   "cell_type": "code",
   "execution_count": 59,
   "metadata": {
    "ExecuteTime": {
     "end_time": "2021-10-08T11:37:24.658283Z",
     "start_time": "2021-10-08T11:37:24.422919Z"
    },
    "hidden": true
   },
   "outputs": [
    {
     "data": {
      "text/plain": [
       "array([    391,     652,     806, ..., 1993889, 1996231, 1999192])"
      ]
     },
     "execution_count": 59,
     "metadata": {},
     "output_type": "execute_result"
    }
   ],
   "source": [
    "receipts[receipts['purchase_sum']/receipts['purchase_amt']==79.99999999999999]['customer_id'].unique()"
   ]
  },
  {
   "cell_type": "code",
   "execution_count": null,
   "metadata": {
    "hidden": true
   },
   "outputs": [],
   "source": [
    "# import sqlite3\n",
    "# conn = sqlite3.connect(\":memory:\") \n",
    "# receipts.to_sql(\"receipts\", conn, index=False)\n",
    "# campaigns.to_sql(\"campaigns\", conn, index=False)\n",
    "\n",
    "# # qry = \"SELECT * FROM receipts INNER JOIN campaigns WHERE receipts.customer_id=campaigns.customer_id\"\n",
    "# # rec_camp_merge_df = pd.read_sql_query(qry, conn)\n",
    "\n",
    "# qry0 = \"SELECT * FROM receipts INNER JOIN campaigns WHERE receipts.customer_id=campaigns.customer_id and receipts.date >= campaigns.date_start and receipts.date <=campaigns.date_end\"\n",
    "# rec_camp_merge_df_1 = pd.read_sql_query(qry0, conn)"
   ]
  }
 ],
 "metadata": {
  "hide_input": false,
  "kernelspec": {
   "display_name": "Python 3",
   "language": "python",
   "name": "python3"
  },
  "language_info": {
   "codemirror_mode": {
    "name": "ipython",
    "version": 3
   },
   "file_extension": ".py",
   "mimetype": "text/x-python",
   "name": "python",
   "nbconvert_exporter": "python",
   "pygments_lexer": "ipython3",
   "version": "3.6.9"
  },
  "toc": {
   "base_numbering": 1,
   "nav_menu": {},
   "number_sections": true,
   "sideBar": true,
   "skip_h1_title": false,
   "title_cell": "Table of Contents",
   "title_sidebar": "Contents",
   "toc_cell": false,
   "toc_position": {},
   "toc_section_display": true,
   "toc_window_display": true
  }
 },
 "nbformat": 4,
 "nbformat_minor": 4
}
