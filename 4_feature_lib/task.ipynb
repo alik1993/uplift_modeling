{
 "cells": [
  {
   "cell_type": "code",
   "execution_count": 2,
   "metadata": {
    "ExecuteTime": {
     "end_time": "2021-10-07T12:17:16.296875Z",
     "start_time": "2021-10-07T12:17:14.831651Z"
    }
   },
   "outputs": [],
   "source": [
    "import numpy as np\n",
    "import pandas as pd\n",
    "import dask.dataframe as dd\n",
    "import datetime\n",
    "import functools\n",
    "\n",
    "from typing import List, Union, Optional, Dict\n",
    "\n",
    "from feature_impl import dask_groupby"
   ]
  },
  {
   "cell_type": "code",
   "execution_count": 3,
   "metadata": {
    "ExecuteTime": {
     "end_time": "2021-10-07T12:17:16.302814Z",
     "start_time": "2021-10-07T12:17:16.299717Z"
    }
   },
   "outputs": [],
   "source": [
    "import featurelib as fl"
   ]
  },
  {
   "cell_type": "code",
   "execution_count": 4,
   "metadata": {
    "ExecuteTime": {
     "end_time": "2021-10-07T12:17:16.446625Z",
     "start_time": "2021-10-07T12:17:16.310700Z"
    }
   },
   "outputs": [
    {
     "name": "stdout",
     "output_type": "stream",
     "text": [
      "\u001b[0m\u001b[01;34mdata\u001b[0m/           dataset_mini.csv  featurelib.py  \u001b[01;34m__pycache__\u001b[0m/  task.ipynb\r\n",
      "data_config.py  feature_impl.py   L4.ipynb       submit.py     Untitled.ipynb\r\n"
     ]
    }
   ],
   "source": [
    "ls ../4_feature_lib/"
   ]
  },
  {
   "cell_type": "code",
   "execution_count": 5,
   "metadata": {
    "ExecuteTime": {
     "end_time": "2021-10-07T12:17:16.532175Z",
     "start_time": "2021-10-07T12:17:16.526596Z"
    }
   },
   "outputs": [],
   "source": [
    "# receipts = dd.read_parquet('../3_metrics/data/receipts.parquet/').sample(0.01)\n",
    "\n",
    "# campaigns = dd.read_csv('../3_metrics/data/campaigns.csv').sample(0.01)\n",
    "# client_profile = dd.read_csv('../3_metrics/data/client_profile.csv').sample(0.01)\n",
    "# products = dd.read_csv('../3_metrics/data/products.csv').sample(0.01)\n",
    "\n",
    "# purchases = dd.read_parquet('../3_metrics/data/purchases.parquet/').sample(0.01)"
   ]
  },
  {
   "cell_type": "code",
   "execution_count": 6,
   "metadata": {
    "ExecuteTime": {
     "end_time": "2021-10-07T12:17:17.235317Z",
     "start_time": "2021-10-07T12:17:17.105892Z"
    }
   },
   "outputs": [],
   "source": [
    "receipts = dd.read_parquet('data/receipts.parquet/')\n",
    "\n",
    "campaigns = dd.read_csv('data/campaigns.csv')\n",
    "client_profile = dd.read_csv('data/client_profile.csv')\n",
    "# products = dd.read_csv('data/products.csv')\n",
    "\n",
    "purchases = dd.read_parquet('data/purchases.parquet/')"
   ]
  },
  {
   "cell_type": "code",
   "execution_count": 7,
   "metadata": {
    "ExecuteTime": {
     "end_time": "2021-10-07T12:17:17.703864Z",
     "start_time": "2021-10-07T12:17:17.691888Z"
    }
   },
   "outputs": [],
   "source": [
    "dataset_mini = pd.read_csv('dataset_mini.csv')"
   ]
  },
  {
   "cell_type": "code",
   "execution_count": 8,
   "metadata": {
    "ExecuteTime": {
     "end_time": "2021-10-07T12:17:18.171440Z",
     "start_time": "2021-10-07T12:17:18.100239Z"
    }
   },
   "outputs": [
    {
     "data": {
      "text/html": [
       "<div>\n",
       "<style scoped>\n",
       "    .dataframe tbody tr th:only-of-type {\n",
       "        vertical-align: middle;\n",
       "    }\n",
       "\n",
       "    .dataframe tbody tr th {\n",
       "        vertical-align: top;\n",
       "    }\n",
       "\n",
       "    .dataframe thead th {\n",
       "        text-align: right;\n",
       "    }\n",
       "</style>\n",
       "<table border=\"1\" class=\"dataframe\">\n",
       "  <thead>\n",
       "    <tr style=\"text-align: right;\">\n",
       "      <th></th>\n",
       "      <th>client_id</th>\n",
       "      <th>transaction_id</th>\n",
       "      <th>trn_sum_from_red</th>\n",
       "      <th>trn_sum_from_iss</th>\n",
       "      <th>regular_points_received</th>\n",
       "      <th>express_points_received</th>\n",
       "      <th>regular_points_spent</th>\n",
       "      <th>express_points_spent</th>\n",
       "      <th>purchase_sum</th>\n",
       "      <th>store_id</th>\n",
       "      <th>transaction_datetime</th>\n",
       "    </tr>\n",
       "  </thead>\n",
       "  <tbody>\n",
       "    <tr>\n",
       "      <th>0</th>\n",
       "      <td>5368</td>\n",
       "      <td>572976</td>\n",
       "      <td>0.0</td>\n",
       "      <td>427.0</td>\n",
       "      <td>2.1</td>\n",
       "      <td>0.0</td>\n",
       "      <td>0.0</td>\n",
       "      <td>0.0</td>\n",
       "      <td>427.0</td>\n",
       "      <td>2762</td>\n",
       "      <td>2018-11-27 15:52:50</td>\n",
       "    </tr>\n",
       "    <tr>\n",
       "      <th>1</th>\n",
       "      <td>5368</td>\n",
       "      <td>1095593</td>\n",
       "      <td>0.0</td>\n",
       "      <td>438.0</td>\n",
       "      <td>2.1</td>\n",
       "      <td>0.0</td>\n",
       "      <td>0.0</td>\n",
       "      <td>0.0</td>\n",
       "      <td>437.0</td>\n",
       "      <td>3395</td>\n",
       "      <td>2019-02-23 10:22:23</td>\n",
       "    </tr>\n",
       "    <tr>\n",
       "      <th>2</th>\n",
       "      <td>5368</td>\n",
       "      <td>1843577</td>\n",
       "      <td>0.0</td>\n",
       "      <td>1890.0</td>\n",
       "      <td>14.7</td>\n",
       "      <td>0.0</td>\n",
       "      <td>0.0</td>\n",
       "      <td>0.0</td>\n",
       "      <td>1889.0</td>\n",
       "      <td>3395</td>\n",
       "      <td>2019-02-23 10:21:29</td>\n",
       "    </tr>\n",
       "  </tbody>\n",
       "</table>\n",
       "</div>"
      ],
      "text/plain": [
       "   client_id  transaction_id  trn_sum_from_red  trn_sum_from_iss  \\\n",
       "0       5368          572976               0.0             427.0   \n",
       "1       5368         1095593               0.0             438.0   \n",
       "2       5368         1843577               0.0            1890.0   \n",
       "\n",
       "   regular_points_received  express_points_received  regular_points_spent  \\\n",
       "0                      2.1                      0.0                   0.0   \n",
       "1                      2.1                      0.0                   0.0   \n",
       "2                     14.7                      0.0                   0.0   \n",
       "\n",
       "   express_points_spent  purchase_sum  store_id transaction_datetime  \n",
       "0                   0.0         427.0      2762  2018-11-27 15:52:50  \n",
       "1                   0.0         437.0      3395  2019-02-23 10:22:23  \n",
       "2                   0.0        1889.0      3395  2019-02-23 10:21:29  "
      ]
     },
     "execution_count": 8,
     "metadata": {},
     "output_type": "execute_result"
    }
   ],
   "source": [
    "receipts.head(3)"
   ]
  },
  {
   "cell_type": "code",
   "execution_count": 9,
   "metadata": {
    "ExecuteTime": {
     "end_time": "2021-10-07T12:17:19.762454Z",
     "start_time": "2021-10-07T12:17:19.732502Z"
    }
   },
   "outputs": [
    {
     "data": {
      "text/html": [
       "<div>\n",
       "<style scoped>\n",
       "    .dataframe tbody tr th:only-of-type {\n",
       "        vertical-align: middle;\n",
       "    }\n",
       "\n",
       "    .dataframe tbody tr th {\n",
       "        vertical-align: top;\n",
       "    }\n",
       "\n",
       "    .dataframe thead th {\n",
       "        text-align: right;\n",
       "    }\n",
       "</style>\n",
       "<table border=\"1\" class=\"dataframe\">\n",
       "  <thead>\n",
       "    <tr style=\"text-align: right;\">\n",
       "      <th></th>\n",
       "      <th>client_id</th>\n",
       "      <th>treatment_flg</th>\n",
       "      <th>treatment_date</th>\n",
       "      <th>target_purchases_sum</th>\n",
       "      <th>target_purchases_count</th>\n",
       "      <th>target_campaign_points_spent</th>\n",
       "    </tr>\n",
       "  </thead>\n",
       "  <tbody>\n",
       "    <tr>\n",
       "      <th>0</th>\n",
       "      <td>170057</td>\n",
       "      <td>0</td>\n",
       "      <td>2019-03-21</td>\n",
       "      <td>0.00</td>\n",
       "      <td>0</td>\n",
       "      <td>0.0</td>\n",
       "    </tr>\n",
       "    <tr>\n",
       "      <th>1</th>\n",
       "      <td>463303</td>\n",
       "      <td>0</td>\n",
       "      <td>2019-03-21</td>\n",
       "      <td>0.00</td>\n",
       "      <td>0</td>\n",
       "      <td>0.0</td>\n",
       "    </tr>\n",
       "    <tr>\n",
       "      <th>2</th>\n",
       "      <td>304317</td>\n",
       "      <td>0</td>\n",
       "      <td>2019-03-21</td>\n",
       "      <td>718.74</td>\n",
       "      <td>2</td>\n",
       "      <td>0.0</td>\n",
       "    </tr>\n",
       "  </tbody>\n",
       "</table>\n",
       "</div>"
      ],
      "text/plain": [
       "   client_id  treatment_flg treatment_date  target_purchases_sum  \\\n",
       "0     170057              0     2019-03-21                  0.00   \n",
       "1     463303              0     2019-03-21                  0.00   \n",
       "2     304317              0     2019-03-21                718.74   \n",
       "\n",
       "   target_purchases_count  target_campaign_points_spent  \n",
       "0                       0                           0.0  \n",
       "1                       0                           0.0  \n",
       "2                       2                           0.0  "
      ]
     },
     "execution_count": 9,
     "metadata": {},
     "output_type": "execute_result"
    }
   ],
   "source": [
    "campaigns.head(3)"
   ]
  },
  {
   "cell_type": "code",
   "execution_count": 10,
   "metadata": {
    "ExecuteTime": {
     "end_time": "2021-10-07T12:17:19.960494Z",
     "start_time": "2021-10-07T12:17:19.928478Z"
    }
   },
   "outputs": [
    {
     "data": {
      "text/html": [
       "<div>\n",
       "<style scoped>\n",
       "    .dataframe tbody tr th:only-of-type {\n",
       "        vertical-align: middle;\n",
       "    }\n",
       "\n",
       "    .dataframe tbody tr th {\n",
       "        vertical-align: top;\n",
       "    }\n",
       "\n",
       "    .dataframe thead th {\n",
       "        text-align: right;\n",
       "    }\n",
       "</style>\n",
       "<table border=\"1\" class=\"dataframe\">\n",
       "  <thead>\n",
       "    <tr style=\"text-align: right;\">\n",
       "      <th></th>\n",
       "      <th>client_id</th>\n",
       "      <th>first_issue_date</th>\n",
       "      <th>age</th>\n",
       "      <th>gender</th>\n",
       "    </tr>\n",
       "  </thead>\n",
       "  <tbody>\n",
       "    <tr>\n",
       "      <th>0</th>\n",
       "      <td>36496</td>\n",
       "      <td>2017-12-18 09:18:35</td>\n",
       "      <td>65</td>\n",
       "      <td>F</td>\n",
       "    </tr>\n",
       "    <tr>\n",
       "      <th>1</th>\n",
       "      <td>267776</td>\n",
       "      <td>2018-04-01 17:10:00</td>\n",
       "      <td>35</td>\n",
       "      <td>U</td>\n",
       "    </tr>\n",
       "    <tr>\n",
       "      <th>2</th>\n",
       "      <td>350684</td>\n",
       "      <td>2018-05-27 18:58:11</td>\n",
       "      <td>38</td>\n",
       "      <td>U</td>\n",
       "    </tr>\n",
       "  </tbody>\n",
       "</table>\n",
       "</div>"
      ],
      "text/plain": [
       "   client_id     first_issue_date  age gender\n",
       "0      36496  2017-12-18 09:18:35   65      F\n",
       "1     267776  2018-04-01 17:10:00   35      U\n",
       "2     350684  2018-05-27 18:58:11   38      U"
      ]
     },
     "execution_count": 10,
     "metadata": {},
     "output_type": "execute_result"
    }
   ],
   "source": [
    "client_profile.head(3)"
   ]
  },
  {
   "cell_type": "code",
   "execution_count": 11,
   "metadata": {
    "ExecuteTime": {
     "end_time": "2021-10-07T12:17:20.122653Z",
     "start_time": "2021-10-07T12:17:20.118618Z"
    }
   },
   "outputs": [],
   "source": [
    "# products.head(3)"
   ]
  },
  {
   "cell_type": "code",
   "execution_count": 11,
   "metadata": {
    "ExecuteTime": {
     "end_time": "2021-10-05T16:07:57.528428Z",
     "start_time": "2021-10-05T16:07:57.488905Z"
    }
   },
   "outputs": [
    {
     "data": {
      "text/html": [
       "<div>\n",
       "<style scoped>\n",
       "    .dataframe tbody tr th:only-of-type {\n",
       "        vertical-align: middle;\n",
       "    }\n",
       "\n",
       "    .dataframe tbody tr th {\n",
       "        vertical-align: top;\n",
       "    }\n",
       "\n",
       "    .dataframe thead th {\n",
       "        text-align: right;\n",
       "    }\n",
       "</style>\n",
       "<table border=\"1\" class=\"dataframe\">\n",
       "  <thead>\n",
       "    <tr style=\"text-align: right;\">\n",
       "      <th></th>\n",
       "      <th>client_id</th>\n",
       "      <th>transaction_id</th>\n",
       "      <th>transaction_datetime</th>\n",
       "      <th>regular_points_received</th>\n",
       "      <th>express_points_received</th>\n",
       "      <th>regular_points_spent</th>\n",
       "      <th>express_points_spent</th>\n",
       "      <th>purchase_sum</th>\n",
       "      <th>store_id</th>\n",
       "      <th>product_id</th>\n",
       "      <th>product_quantity</th>\n",
       "      <th>trn_sum_from_iss</th>\n",
       "      <th>trn_sum_from_red</th>\n",
       "    </tr>\n",
       "  </thead>\n",
       "  <tbody>\n",
       "    <tr>\n",
       "      <th>0</th>\n",
       "      <td>170057</td>\n",
       "      <td>9797969</td>\n",
       "      <td>2019-01-29 15:28:44</td>\n",
       "      <td>6.0</td>\n",
       "      <td>0.0</td>\n",
       "      <td>0.0</td>\n",
       "      <td>0.0</td>\n",
       "      <td>608.68</td>\n",
       "      <td>13327</td>\n",
       "      <td>10810</td>\n",
       "      <td>1.0</td>\n",
       "      <td>5.0</td>\n",
       "      <td>NaN</td>\n",
       "    </tr>\n",
       "    <tr>\n",
       "      <th>1</th>\n",
       "      <td>170057</td>\n",
       "      <td>9797969</td>\n",
       "      <td>2019-01-29 15:28:44</td>\n",
       "      <td>6.0</td>\n",
       "      <td>0.0</td>\n",
       "      <td>0.0</td>\n",
       "      <td>0.0</td>\n",
       "      <td>608.68</td>\n",
       "      <td>13327</td>\n",
       "      <td>1358</td>\n",
       "      <td>1.0</td>\n",
       "      <td>170.0</td>\n",
       "      <td>NaN</td>\n",
       "    </tr>\n",
       "    <tr>\n",
       "      <th>2</th>\n",
       "      <td>170057</td>\n",
       "      <td>9797969</td>\n",
       "      <td>2019-01-29 15:28:44</td>\n",
       "      <td>6.0</td>\n",
       "      <td>0.0</td>\n",
       "      <td>0.0</td>\n",
       "      <td>0.0</td>\n",
       "      <td>608.68</td>\n",
       "      <td>13327</td>\n",
       "      <td>17306</td>\n",
       "      <td>1.0</td>\n",
       "      <td>93.0</td>\n",
       "      <td>NaN</td>\n",
       "    </tr>\n",
       "  </tbody>\n",
       "</table>\n",
       "</div>"
      ],
      "text/plain": [
       "   client_id  transaction_id transaction_datetime  regular_points_received  \\\n",
       "0     170057         9797969  2019-01-29 15:28:44                      6.0   \n",
       "1     170057         9797969  2019-01-29 15:28:44                      6.0   \n",
       "2     170057         9797969  2019-01-29 15:28:44                      6.0   \n",
       "\n",
       "   express_points_received  regular_points_spent  express_points_spent  \\\n",
       "0                      0.0                   0.0                   0.0   \n",
       "1                      0.0                   0.0                   0.0   \n",
       "2                      0.0                   0.0                   0.0   \n",
       "\n",
       "   purchase_sum  store_id  product_id  product_quantity  trn_sum_from_iss  \\\n",
       "0        608.68     13327       10810               1.0               5.0   \n",
       "1        608.68     13327        1358               1.0             170.0   \n",
       "2        608.68     13327       17306               1.0              93.0   \n",
       "\n",
       "   trn_sum_from_red  \n",
       "0               NaN  \n",
       "1               NaN  \n",
       "2               NaN  "
      ]
     },
     "execution_count": 11,
     "metadata": {},
     "output_type": "execute_result"
    }
   ],
   "source": [
    "purchases.head(3)"
   ]
  },
  {
   "cell_type": "code",
   "execution_count": 12,
   "metadata": {
    "ExecuteTime": {
     "end_time": "2021-10-05T16:07:57.676634Z",
     "start_time": "2021-10-05T16:07:57.672278Z"
    }
   },
   "outputs": [],
   "source": [
    "# purchases[purchases.client_id==162]"
   ]
  },
  {
   "cell_type": "code",
   "execution_count": null,
   "metadata": {},
   "outputs": [],
   "source": []
  },
  {
   "cell_type": "code",
   "execution_count": 12,
   "metadata": {
    "ExecuteTime": {
     "end_time": "2021-10-07T12:17:23.582320Z",
     "start_time": "2021-10-07T12:17:23.571594Z"
    }
   },
   "outputs": [],
   "source": [
    "TABLES = {\n",
    "    'receipts': receipts,\n",
    "    'campaigns': campaigns,\n",
    "    'client_profile': client_profile,\n",
    "#     'products': products,\n",
    "    'purchases': purchases,\n",
    "}\n",
    "\n",
    "\n",
    "# аналог connection в sql alchemy\n",
    "class Engine:\n",
    "    def __init__(self, tables=TABLES):\n",
    "        self.tables = tables\n",
    "\n",
    "    def register_table(self, table: dd.DataFrame, name: str) -> None:\n",
    "        self.tables[name] = table\n",
    "\n",
    "    def get_table(self, name: str) -> dd.DataFrame:\n",
    "        return self.tables[name]\n"
   ]
  },
  {
   "cell_type": "code",
   "execution_count": 13,
   "metadata": {
    "ExecuteTime": {
     "end_time": "2021-10-07T12:17:23.784264Z",
     "start_time": "2021-10-07T12:17:23.778187Z"
    }
   },
   "outputs": [],
   "source": [
    "engine = Engine(tables=TABLES)"
   ]
  },
  {
   "cell_type": "code",
   "execution_count": 14,
   "metadata": {
    "ExecuteTime": {
     "end_time": "2021-10-07T12:17:24.037555Z",
     "start_time": "2021-10-07T12:17:24.027429Z"
    }
   },
   "outputs": [],
   "source": [
    "from abc import ABC, abstractmethod\n",
    "\n",
    "class FeatureCalcer(ABC):\n",
    "    name = '_base' # у класса должно быть имя по которому мы будем к нему обращаться\n",
    "    keys = None # для какой сущности считаем признак (client_id)\n",
    "\n",
    "    def __init__(self, engine: Engine): # engine для подключения к бд\n",
    "        self.engine = engine\n",
    "\n",
    "    @abstractmethod\n",
    "    def compute(self):\n",
    "        pass\n",
    "\n",
    "class DateFeatureCalcer(FeatureCalcer):\n",
    "    def __init__(self, date_to: datetime.date, **kwargs):\n",
    "        self.date_to = date_to\n",
    "        super().__init__(**kwargs)\n"
   ]
  },
  {
   "cell_type": "markdown",
   "metadata": {},
   "source": [
    "# Сбор данных"
   ]
  },
  {
   "cell_type": "markdown",
   "metadata": {},
   "source": [
    "Каждый калкер из задания нужно реализовать, отнаследовав его класс от класса FeatureCalcer (или DateFeatureCalcer)."
   ]
  },
  {
   "cell_type": "markdown",
   "metadata": {},
   "source": [
    "## DayOfWeekReceiptsCalcer"
   ]
  },
  {
   "cell_type": "code",
   "execution_count": 442,
   "metadata": {
    "ExecuteTime": {
     "end_time": "2021-10-06T12:47:00.233982Z",
     "start_time": "2021-10-06T12:47:00.219485Z"
    }
   },
   "outputs": [],
   "source": [
    "class DayOfWeekReceiptsCalcer(fl.DateFeatureCalcer): # сколько уникальных категорий покупал клиеент за последние n дней (delta)\n",
    "    name = 'day_of_week_receipts'\n",
    "    keys = ['client_id']\n",
    "\n",
    "    def __init__(self, delta: int, **kwargs):\n",
    "        self.delta = delta\n",
    "        super().__init__(**kwargs)\n",
    "\n",
    "    def compute(self) -> dd.DataFrame:\n",
    "        receipts = self.engine.get_table('receipts')\n",
    "        \n",
    "        date_to = datetime.datetime.combine(self.date_to, datetime.datetime.min.time())\n",
    "        date_from = date_to - datetime.timedelta(days=self.delta)\n",
    "        date_mask = (receipts['transaction_datetime'] >= date_from) & (receipts['transaction_datetime'] < date_to)\n",
    "\n",
    "        receipts = receipts.loc[date_mask]\n",
    "        \n",
    "        receipts['transaction_dow'] = receipts['transaction_datetime'].dt.dayofweek\n",
    "        \n",
    "        receipts['ones'] = 1\n",
    "\n",
    "        receipts = receipts.categorize(columns=['transaction_dow'])\n",
    "\n",
    "        result = dd.pivot_table(receipts, index='client_id', values='ones',\n",
    "                                    columns='transaction_dow', aggfunc='sum')\n",
    "\n",
    "        result = result.fillna(0)\n",
    "        \n",
    "        for day in result.columns:\n",
    "            result = result.rename(columns={day: f'purchases_count_dw{day}__{self.delta}d'})\n",
    "            \n",
    "#         result.columns = result.columns.astype(str)\n",
    "        result = result.reset_index()\n",
    "#         result.columns.name = None\n",
    "        \n",
    "        result.columns.name = 'day_of_week'\n",
    "\n",
    "        return result\n",
    "\n",
    "# register_calcer(UniqueCategoriesCalcer)"
   ]
  },
  {
   "cell_type": "code",
   "execution_count": 443,
   "metadata": {
    "ExecuteTime": {
     "end_time": "2021-10-06T12:47:00.710933Z",
     "start_time": "2021-10-06T12:47:00.704732Z"
    }
   },
   "outputs": [],
   "source": [
    "calcer = DayOfWeekReceiptsCalcer(\n",
    "    engine=engine,\n",
    "    delta=30,\n",
    "    date_to=datetime.date(2019, 3, 19)\n",
    ")"
   ]
  },
  {
   "cell_type": "code",
   "execution_count": 447,
   "metadata": {
    "ExecuteTime": {
     "end_time": "2021-10-06T12:47:11.543887Z",
     "start_time": "2021-10-06T12:47:11.409363Z"
    }
   },
   "outputs": [],
   "source": [
    "result = calcer.compute().compute() # первый compute вызывает dask df, второй pandas df"
   ]
  },
  {
   "cell_type": "code",
   "execution_count": 449,
   "metadata": {
    "ExecuteTime": {
     "end_time": "2021-10-06T12:47:19.727472Z",
     "start_time": "2021-10-06T12:47:19.718841Z"
    },
    "scrolled": true
   },
   "outputs": [
    {
     "data": {
      "text/plain": [
       "Index(['client_id', 'receipts_count_dw5__30d', 'receipts_count_dw4__30d',\n",
       "       'receipts_count_dw1__30d', 'receipts_count_dw6__30d',\n",
       "       'receipts_count_dw0__30d', 'receipts_count_dw3__30d',\n",
       "       'receipts_count_dw2__30d'],\n",
       "      dtype='object', name='transaction_dow')"
      ]
     },
     "execution_count": 449,
     "metadata": {},
     "output_type": "execute_result"
    }
   ],
   "source": [
    "result.columns"
   ]
  },
  {
   "cell_type": "code",
   "execution_count": 368,
   "metadata": {
    "ExecuteTime": {
     "end_time": "2021-10-06T12:39:07.533902Z",
     "start_time": "2021-10-06T12:39:07.528803Z"
    }
   },
   "outputs": [],
   "source": []
  },
  {
   "cell_type": "code",
   "execution_count": 369,
   "metadata": {
    "ExecuteTime": {
     "end_time": "2021-10-06T12:39:13.144172Z",
     "start_time": "2021-10-06T12:39:13.123833Z"
    }
   },
   "outputs": [
    {
     "data": {
      "text/html": [
       "<div>\n",
       "<style scoped>\n",
       "    .dataframe tbody tr th:only-of-type {\n",
       "        vertical-align: middle;\n",
       "    }\n",
       "\n",
       "    .dataframe tbody tr th {\n",
       "        vertical-align: top;\n",
       "    }\n",
       "\n",
       "    .dataframe thead th {\n",
       "        text-align: right;\n",
       "    }\n",
       "</style>\n",
       "<table border=\"1\" class=\"dataframe\">\n",
       "  <thead>\n",
       "    <tr style=\"text-align: right;\">\n",
       "      <th></th>\n",
       "      <th>client_id</th>\n",
       "      <th>receipts_count_dw5__30d</th>\n",
       "      <th>receipts_count_dw4__30d</th>\n",
       "      <th>receipts_count_dw1__30d</th>\n",
       "      <th>receipts_count_dw6__30d</th>\n",
       "      <th>receipts_count_dw0__30d</th>\n",
       "      <th>receipts_count_dw3__30d</th>\n",
       "      <th>receipts_count_dw2__30d</th>\n",
       "    </tr>\n",
       "  </thead>\n",
       "  <tbody>\n",
       "    <tr>\n",
       "      <th>0</th>\n",
       "      <td>5368</td>\n",
       "      <td>2.0</td>\n",
       "      <td>2.0</td>\n",
       "      <td>1.0</td>\n",
       "      <td>1.0</td>\n",
       "      <td>0.0</td>\n",
       "      <td>0.0</td>\n",
       "      <td>0.0</td>\n",
       "    </tr>\n",
       "    <tr>\n",
       "      <th>1</th>\n",
       "      <td>11882</td>\n",
       "      <td>0.0</td>\n",
       "      <td>1.0</td>\n",
       "      <td>1.0</td>\n",
       "      <td>3.0</td>\n",
       "      <td>1.0</td>\n",
       "      <td>0.0</td>\n",
       "      <td>0.0</td>\n",
       "    </tr>\n",
       "    <tr>\n",
       "      <th>2</th>\n",
       "      <td>15640</td>\n",
       "      <td>2.0</td>\n",
       "      <td>3.0</td>\n",
       "      <td>0.0</td>\n",
       "      <td>1.0</td>\n",
       "      <td>0.0</td>\n",
       "      <td>0.0</td>\n",
       "      <td>0.0</td>\n",
       "    </tr>\n",
       "    <tr>\n",
       "      <th>3</th>\n",
       "      <td>17317</td>\n",
       "      <td>1.0</td>\n",
       "      <td>2.0</td>\n",
       "      <td>0.0</td>\n",
       "      <td>0.0</td>\n",
       "      <td>1.0</td>\n",
       "      <td>1.0</td>\n",
       "      <td>0.0</td>\n",
       "    </tr>\n",
       "    <tr>\n",
       "      <th>4</th>\n",
       "      <td>25169</td>\n",
       "      <td>1.0</td>\n",
       "      <td>0.0</td>\n",
       "      <td>0.0</td>\n",
       "      <td>0.0</td>\n",
       "      <td>1.0</td>\n",
       "      <td>1.0</td>\n",
       "      <td>1.0</td>\n",
       "    </tr>\n",
       "  </tbody>\n",
       "</table>\n",
       "</div>"
      ],
      "text/plain": [
       "   client_id  receipts_count_dw5__30d  receipts_count_dw4__30d  \\\n",
       "0       5368                      2.0                      2.0   \n",
       "1      11882                      0.0                      1.0   \n",
       "2      15640                      2.0                      3.0   \n",
       "3      17317                      1.0                      2.0   \n",
       "4      25169                      1.0                      0.0   \n",
       "\n",
       "   receipts_count_dw1__30d  receipts_count_dw6__30d  receipts_count_dw0__30d  \\\n",
       "0                      1.0                      1.0                      0.0   \n",
       "1                      1.0                      3.0                      1.0   \n",
       "2                      0.0                      1.0                      0.0   \n",
       "3                      0.0                      0.0                      1.0   \n",
       "4                      0.0                      0.0                      1.0   \n",
       "\n",
       "   receipts_count_dw3__30d  receipts_count_dw2__30d  \n",
       "0                      0.0                      0.0  \n",
       "1                      0.0                      0.0  \n",
       "2                      0.0                      0.0  \n",
       "3                      1.0                      0.0  \n",
       "4                      1.0                      1.0  "
      ]
     },
     "execution_count": 369,
     "metadata": {},
     "output_type": "execute_result"
    }
   ],
   "source": [
    "result.head()"
   ]
  },
  {
   "cell_type": "code",
   "execution_count": 352,
   "metadata": {
    "ExecuteTime": {
     "end_time": "2021-10-06T12:36:14.944165Z",
     "start_time": "2021-10-06T12:36:14.933282Z"
    }
   },
   "outputs": [
    {
     "data": {
      "text/plain": [
       "Index(['client_id', 'purchases_count_dw5__30d', 'purchases_count_dw4__30d',\n",
       "       'purchases_count_dw1__30d', 'purchases_count_dw6__30d',\n",
       "       'purchases_count_dw0__30d', 'purchases_count_dw3__30d',\n",
       "       'purchases_count_dw2__30d', 'favourite_store_id__30d', 'age', 'gender',\n",
       "       'treatment_flg', 'target_purchases_sum', 'target_purchases_count',\n",
       "       'target_campaign_points_spent', 'weekend_purchases_ratio__30d',\n",
       "       'target_profit', 'gender__mte__target_profit',\n",
       "       'gender__mte__target_purchases_count'],\n",
       "      dtype='object')"
      ]
     },
     "execution_count": 352,
     "metadata": {},
     "output_type": "execute_result"
    }
   ],
   "source": [
    "dataset_mini.columns"
   ]
  },
  {
   "cell_type": "code",
   "execution_count": null,
   "metadata": {},
   "outputs": [],
   "source": []
  },
  {
   "cell_type": "markdown",
   "metadata": {},
   "source": [
    "## FavouriteStoreCalcer"
   ]
  },
  {
   "cell_type": "code",
   "execution_count": 320,
   "metadata": {
    "ExecuteTime": {
     "end_time": "2021-10-06T12:13:55.001709Z",
     "start_time": "2021-10-06T12:13:54.986785Z"
    }
   },
   "outputs": [],
   "source": [
    "class FavouriteStoreCalcer(fl.DateFeatureCalcer): # сколько уникальных категорий покупал клиеент за последние n дней (delta)\n",
    "    name = 'favourite_store'\n",
    "    keys = ['client_id']\n",
    "\n",
    "    def __init__(self, delta: int, **kwargs):\n",
    "        self.delta = delta\n",
    "        super().__init__(**kwargs)\n",
    "\n",
    "    def compute(self) -> dd.DataFrame:\n",
    "        receipts = self.engine.get_table('receipts')\n",
    "        \n",
    "        date_to = datetime.datetime.combine(self.date_to, datetime.datetime.min.time())\n",
    "        date_from = date_to - datetime.timedelta(days=self.delta)\n",
    "        date_mask = (receipts['transaction_datetime'] >= date_from) & (receipts['transaction_datetime'] < date_to)\n",
    "\n",
    "        receipts = receipts.loc[date_mask]\n",
    "        \n",
    "        result = receipts.groupby(by=['client_id', 'store_id']).size().reset_index()\n",
    "        \n",
    "        result = result.map_partitions(lambda x: x.sort_values([0, 'store_id'], ascending=[False, False]))\n",
    "        \n",
    "        result = result.drop_duplicates('client_id', keep='first')\n",
    "        \n",
    "        result = result.rename(columns={'store_id': f\"favourite_store_id__{self.delta}d\"})\n",
    "        \n",
    "        result = result.drop(0, axis=1)\n",
    "        \n",
    "        return result\n",
    "\n",
    "# register_calcer(UniqueCategoriesCalcer)"
   ]
  },
  {
   "cell_type": "code",
   "execution_count": 321,
   "metadata": {
    "ExecuteTime": {
     "end_time": "2021-10-06T12:13:55.214424Z",
     "start_time": "2021-10-06T12:13:55.210417Z"
    }
   },
   "outputs": [],
   "source": [
    "calcer = FavouriteStoreCalcer(\n",
    "    engine=engine,\n",
    "    delta=30,\n",
    "    date_to=datetime.date(2019, 3, 19)\n",
    ")"
   ]
  },
  {
   "cell_type": "code",
   "execution_count": 322,
   "metadata": {
    "ExecuteTime": {
     "end_time": "2021-10-06T12:13:55.632610Z",
     "start_time": "2021-10-06T12:13:55.569448Z"
    }
   },
   "outputs": [],
   "source": [
    "result = calcer.compute().compute() # первый compute вызывает dask df, второй pandas df"
   ]
  },
  {
   "cell_type": "code",
   "execution_count": 323,
   "metadata": {
    "ExecuteTime": {
     "end_time": "2021-10-06T12:13:56.048884Z",
     "start_time": "2021-10-06T12:13:56.032419Z"
    }
   },
   "outputs": [
    {
     "data": {
      "text/html": [
       "<div>\n",
       "<style scoped>\n",
       "    .dataframe tbody tr th:only-of-type {\n",
       "        vertical-align: middle;\n",
       "    }\n",
       "\n",
       "    .dataframe tbody tr th {\n",
       "        vertical-align: top;\n",
       "    }\n",
       "\n",
       "    .dataframe thead th {\n",
       "        text-align: right;\n",
       "    }\n",
       "</style>\n",
       "<table border=\"1\" class=\"dataframe\">\n",
       "  <thead>\n",
       "    <tr style=\"text-align: right;\">\n",
       "      <th></th>\n",
       "      <th>client_id</th>\n",
       "      <th>favourite_store_id__30d</th>\n",
       "    </tr>\n",
       "  </thead>\n",
       "  <tbody>\n",
       "    <tr>\n",
       "      <th>38</th>\n",
       "      <td>147711</td>\n",
       "      <td>3791</td>\n",
       "    </tr>\n",
       "    <tr>\n",
       "      <th>25</th>\n",
       "      <td>97835</td>\n",
       "      <td>9198</td>\n",
       "    </tr>\n",
       "    <tr>\n",
       "      <th>67</th>\n",
       "      <td>219005</td>\n",
       "      <td>3945</td>\n",
       "    </tr>\n",
       "    <tr>\n",
       "      <th>129</th>\n",
       "      <td>409030</td>\n",
       "      <td>2921</td>\n",
       "    </tr>\n",
       "    <tr>\n",
       "      <th>27</th>\n",
       "      <td>100096</td>\n",
       "      <td>4795</td>\n",
       "    </tr>\n",
       "  </tbody>\n",
       "</table>\n",
       "</div>"
      ],
      "text/plain": [
       "     client_id  favourite_store_id__30d\n",
       "38      147711                     3791\n",
       "25       97835                     9198\n",
       "67      219005                     3945\n",
       "129     409030                     2921\n",
       "27      100096                     4795"
      ]
     },
     "execution_count": 323,
     "metadata": {},
     "output_type": "execute_result"
    }
   ],
   "source": [
    "result.head()"
   ]
  },
  {
   "cell_type": "markdown",
   "metadata": {},
   "source": [
    "# Преобразование данных"
   ]
  },
  {
   "cell_type": "markdown",
   "metadata": {},
   "source": [
    "## ExpressionTransformer"
   ]
  },
  {
   "cell_type": "code",
   "execution_count": 17,
   "metadata": {
    "ExecuteTime": {
     "end_time": "2021-10-07T12:17:39.193851Z",
     "start_time": "2021-10-07T12:17:39.188317Z"
    }
   },
   "outputs": [],
   "source": [
    "import sklearn.base as skbase"
   ]
  },
  {
   "cell_type": "code",
   "execution_count": 460,
   "metadata": {
    "ExecuteTime": {
     "end_time": "2021-10-06T13:16:33.054669Z",
     "start_time": "2021-10-06T13:16:33.040172Z"
    }
   },
   "outputs": [],
   "source": [
    "class ExpressionTransformer(skbase.BaseEstimator, skbase.TransformerMixin):\n",
    "\n",
    "    # expression: str # “регулярное” выражение для расчета признака. (пример см. ниже)\n",
    "    # col_result: str, # название колонки, в которой будет сохранен результат\n",
    "    \n",
    "    def __init__(self, expression: str, col_result: str, **kwargs):\n",
    "        self.expression = expression\n",
    "        self.col_result = col_result\n",
    "        super().__init__(**kwargs)\n",
    "    \n",
    "    # Метод fit (пустой). Ничего не делает. Возвращает сам объект.\n",
    "    def fit(self, *args, **kwargs):\n",
    "        return self\n",
    "\n",
    "    # Описание результата расчета\n",
    "    def transform(self, data: pd.DataFrame, *args, **kwargs) -> pd.DataFrame:\n",
    "#         s = \"({d}['purchases_count_dw5__60d'] + {d}['purchases_count_dw6__60d'])\"\n",
    "        s = self.expression.replace('{d}', 'data')\n",
    "        s = s.replace('[', '.')\n",
    "        s = s.replace(']', '')\n",
    "        s = s.replace(\"'\", \"\")\n",
    "        data[self.col_result]  = pd.eval(s)\n",
    "        \n",
    "        return data"
   ]
  },
  {
   "cell_type": "code",
   "execution_count": 461,
   "metadata": {
    "ExecuteTime": {
     "end_time": "2021-10-06T13:17:57.121158Z",
     "start_time": "2021-10-06T13:17:57.115364Z"
    }
   },
   "outputs": [],
   "source": [
    "calcer = ExpressionTransformer(\n",
    "    expression=\"({d}['a'] + {d}['b'])\",\n",
    "    col_result='aaa',\n",
    ")"
   ]
  },
  {
   "cell_type": "code",
   "execution_count": 463,
   "metadata": {
    "ExecuteTime": {
     "end_time": "2021-10-06T13:18:21.206300Z",
     "start_time": "2021-10-06T13:18:21.192166Z"
    }
   },
   "outputs": [
    {
     "data": {
      "text/html": [
       "<div>\n",
       "<style scoped>\n",
       "    .dataframe tbody tr th:only-of-type {\n",
       "        vertical-align: middle;\n",
       "    }\n",
       "\n",
       "    .dataframe tbody tr th {\n",
       "        vertical-align: top;\n",
       "    }\n",
       "\n",
       "    .dataframe thead th {\n",
       "        text-align: right;\n",
       "    }\n",
       "</style>\n",
       "<table border=\"1\" class=\"dataframe\">\n",
       "  <thead>\n",
       "    <tr style=\"text-align: right;\">\n",
       "      <th></th>\n",
       "      <th>a</th>\n",
       "      <th>b</th>\n",
       "      <th>aaa</th>\n",
       "    </tr>\n",
       "  </thead>\n",
       "  <tbody>\n",
       "    <tr>\n",
       "      <th>0</th>\n",
       "      <td>1</td>\n",
       "      <td>3</td>\n",
       "      <td>4</td>\n",
       "    </tr>\n",
       "    <tr>\n",
       "      <th>1</th>\n",
       "      <td>2</td>\n",
       "      <td>4</td>\n",
       "      <td>6</td>\n",
       "    </tr>\n",
       "    <tr>\n",
       "      <th>2</th>\n",
       "      <td>3</td>\n",
       "      <td>5</td>\n",
       "      <td>8</td>\n",
       "    </tr>\n",
       "  </tbody>\n",
       "</table>\n",
       "</div>"
      ],
      "text/plain": [
       "   a  b  aaa\n",
       "0  1  3    4\n",
       "1  2  4    6\n",
       "2  3  5    8"
      ]
     },
     "execution_count": 463,
     "metadata": {},
     "output_type": "execute_result"
    }
   ],
   "source": [
    "df = calcer.transform(df)\n",
    "df"
   ]
  },
  {
   "cell_type": "code",
   "execution_count": null,
   "metadata": {},
   "outputs": [],
   "source": []
  },
  {
   "cell_type": "code",
   "execution_count": 450,
   "metadata": {
    "ExecuteTime": {
     "end_time": "2021-10-06T12:49:14.886754Z",
     "start_time": "2021-10-06T12:49:14.874269Z"
    }
   },
   "outputs": [],
   "source": [
    "df = pd.DataFrame({'a' : [1,2,3], 'b':[3,4,5]})\n",
    "df1 = pd.DataFrame({'a' : [1,2,3], 'b':[3,4,5]})"
   ]
  },
  {
   "cell_type": "code",
   "execution_count": 190,
   "metadata": {
    "ExecuteTime": {
     "end_time": "2021-10-06T11:24:40.702403Z",
     "start_time": "2021-10-06T11:24:40.696287Z"
    }
   },
   "outputs": [
    {
     "data": {
      "text/plain": [
       "'(df.purchases_count_dw5__60d + df.purchases_count_dw6__60d)'"
      ]
     },
     "execution_count": 190,
     "metadata": {},
     "output_type": "execute_result"
    }
   ],
   "source": [
    "s = \"({d}['purchases_count_dw5__60d'] + {d}['purchases_count_dw6__60d'])\"\n",
    "s = s.replace('{d}', 'df')\n",
    "s = s.replace('[', '.')\n",
    "s = s.replace(']', '')\n",
    "s = s.replace(\"'\", \"\")\n",
    "s"
   ]
  },
  {
   "cell_type": "code",
   "execution_count": null,
   "metadata": {},
   "outputs": [],
   "source": [
    "pd.eval(\"(df.a + df1.b)\")\n",
    "pd.eval(s)"
   ]
  },
  {
   "cell_type": "markdown",
   "metadata": {},
   "source": [
    "## LOOMeanTargetEncoder"
   ]
  },
  {
   "cell_type": "code",
   "execution_count": 18,
   "metadata": {
    "ExecuteTime": {
     "end_time": "2021-10-07T12:17:44.181635Z",
     "start_time": "2021-10-07T12:17:44.177888Z"
    }
   },
   "outputs": [],
   "source": [
    "from category_encoders.leave_one_out import LeaveOneOutEncoder"
   ]
  },
  {
   "cell_type": "code",
   "execution_count": 27,
   "metadata": {
    "ExecuteTime": {
     "end_time": "2021-10-07T12:22:21.436960Z",
     "start_time": "2021-10-07T12:22:21.425562Z"
    }
   },
   "outputs": [],
   "source": [
    "class LOOMeanTargetEncoder(skbase.BaseEstimator, skbase.TransformerMixin):\n",
    "\n",
    "    # expression: str # “регулярное” выражение для расчета признака. (пример см. ниже)\n",
    "    # col_result: str, # название колонки, в которой будет сохранен результат\n",
    "    \n",
    "    def __init__(self, col_categorical: str, col_target: str, col_result: str, **kwargs):\n",
    "        self.col_categorical = col_categorical\n",
    "        self.col_target = col_target\n",
    "        self.col_result = col_result\n",
    "        super().__init__(**kwargs)\n",
    "    \n",
    "    def fit(self, data: pd.DataFrame, *args, **kwargs):\n",
    "        enc = LeaveOneOutEncoder()\n",
    "        X = data[self.col_categorical].astype(str)\n",
    "        y = data[self.col_target]\n",
    "        enc.fit(np.asarray(X), y)\n",
    "            \n",
    "        self.enc = enc\n",
    "#         self.X = X\n",
    "        \n",
    "        return self\n",
    "\n",
    "    # Описание результата расчета\n",
    "    def transform(self, data: pd.DataFrame, *args, **kwargs) -> pd.DataFrame:\n",
    "        \n",
    "        if self.col_target in data.columns:\n",
    "            X = data[self.col_categorical].astype(str)\n",
    "            y = data[self.col_target]\n",
    "            data[self.col_result] = self.enc.transform_leave_one_out(X, np.asarray(y))\n",
    "            \n",
    "        else:\n",
    "            X = data[self.col_categorical].astype(str)\n",
    "            data[self.col_result] = self.enc.transform(np.asarray(X))\n",
    "        \n",
    "        \n",
    "        return data\n",
    "        "
   ]
  },
  {
   "cell_type": "code",
   "execution_count": 29,
   "metadata": {
    "ExecuteTime": {
     "end_time": "2021-10-07T12:23:04.754157Z",
     "start_time": "2021-10-07T12:23:04.747805Z"
    }
   },
   "outputs": [],
   "source": [
    "dd1 = pd.DataFrame({\"cat\": np.random.randint(1,3,1000), 'num':np.random.rand(1000)})\n",
    "dd2 = pd.DataFrame({\"cat\": np.random.randint(1,3,100), 'num':np.random.rand(100)})"
   ]
  },
  {
   "cell_type": "code",
   "execution_count": 30,
   "metadata": {
    "ExecuteTime": {
     "end_time": "2021-10-07T12:23:04.943888Z",
     "start_time": "2021-10-07T12:23:04.939720Z"
    }
   },
   "outputs": [],
   "source": [
    "# col_categorical='cat'\n",
    "# col_target = 'num'\n",
    "# col_result='num2'\n",
    "\n",
    "# X = dd1[col_categorical].astype(str)\n",
    "# y = dd1[col_target]\n",
    "# dd1[col_result] = enc.transform_leave_one_out(np.asarray(X), y)"
   ]
  },
  {
   "cell_type": "code",
   "execution_count": 31,
   "metadata": {
    "ExecuteTime": {
     "end_time": "2021-10-07T12:23:05.150355Z",
     "start_time": "2021-10-07T12:23:05.146265Z"
    }
   },
   "outputs": [],
   "source": [
    "loom = LOOMeanTargetEncoder(col_categorical='cat', col_target = 'num', col_result='num2')"
   ]
  },
  {
   "cell_type": "code",
   "execution_count": 32,
   "metadata": {
    "ExecuteTime": {
     "end_time": "2021-10-07T12:23:05.657914Z",
     "start_time": "2021-10-07T12:23:05.644130Z"
    }
   },
   "outputs": [
    {
     "data": {
      "text/plain": [
       "LOOMeanTargetEncoder(col_categorical='cat', col_result='num2', col_target='num')"
      ]
     },
     "execution_count": 32,
     "metadata": {},
     "output_type": "execute_result"
    }
   ],
   "source": [
    "loom.fit(dd1)"
   ]
  },
  {
   "cell_type": "code",
   "execution_count": 33,
   "metadata": {
    "ExecuteTime": {
     "end_time": "2021-10-07T12:23:07.024572Z",
     "start_time": "2021-10-07T12:23:07.005687Z"
    }
   },
   "outputs": [
    {
     "ename": "AttributeError",
     "evalue": "'NoneType' object has no attribute 'items'",
     "output_type": "error",
     "traceback": [
      "\u001b[0;31m---------------------------------------------------------------------------\u001b[0m",
      "\u001b[0;31mAttributeError\u001b[0m                            Traceback (most recent call last)",
      "\u001b[0;32m<ipython-input-33-1511441ec82d>\u001b[0m in \u001b[0;36m<module>\u001b[0;34m\u001b[0m\n\u001b[0;32m----> 1\u001b[0;31m \u001b[0mres\u001b[0m \u001b[0;34m=\u001b[0m \u001b[0mloom\u001b[0m\u001b[0;34m.\u001b[0m\u001b[0mtransform\u001b[0m\u001b[0;34m(\u001b[0m\u001b[0mdd1\u001b[0m\u001b[0;34m)\u001b[0m\u001b[0;34m\u001b[0m\u001b[0;34m\u001b[0m\u001b[0m\n\u001b[0m",
      "\u001b[0;32m<ipython-input-27-4fa1b2070a2f>\u001b[0m in \u001b[0;36mtransform\u001b[0;34m(self, data, *args, **kwargs)\u001b[0m\n\u001b[1;32m     27\u001b[0m             \u001b[0mX\u001b[0m \u001b[0;34m=\u001b[0m \u001b[0mdata\u001b[0m\u001b[0;34m[\u001b[0m\u001b[0mself\u001b[0m\u001b[0;34m.\u001b[0m\u001b[0mcol_categorical\u001b[0m\u001b[0;34m]\u001b[0m\u001b[0;34m.\u001b[0m\u001b[0mastype\u001b[0m\u001b[0;34m(\u001b[0m\u001b[0mstr\u001b[0m\u001b[0;34m)\u001b[0m\u001b[0;34m\u001b[0m\u001b[0;34m\u001b[0m\u001b[0m\n\u001b[1;32m     28\u001b[0m             \u001b[0my\u001b[0m \u001b[0;34m=\u001b[0m \u001b[0mdata\u001b[0m\u001b[0;34m[\u001b[0m\u001b[0mself\u001b[0m\u001b[0;34m.\u001b[0m\u001b[0mcol_target\u001b[0m\u001b[0;34m]\u001b[0m\u001b[0;34m\u001b[0m\u001b[0;34m\u001b[0m\u001b[0m\n\u001b[0;32m---> 29\u001b[0;31m             \u001b[0mdata\u001b[0m\u001b[0;34m[\u001b[0m\u001b[0mself\u001b[0m\u001b[0;34m.\u001b[0m\u001b[0mcol_result\u001b[0m\u001b[0;34m]\u001b[0m \u001b[0;34m=\u001b[0m \u001b[0mself\u001b[0m\u001b[0;34m.\u001b[0m\u001b[0menc\u001b[0m\u001b[0;34m.\u001b[0m\u001b[0mtransform_leave_one_out\u001b[0m\u001b[0;34m(\u001b[0m\u001b[0mX\u001b[0m\u001b[0;34m,\u001b[0m \u001b[0mnp\u001b[0m\u001b[0;34m.\u001b[0m\u001b[0masarray\u001b[0m\u001b[0;34m(\u001b[0m\u001b[0my\u001b[0m\u001b[0;34m)\u001b[0m\u001b[0;34m)\u001b[0m\u001b[0;34m\u001b[0m\u001b[0;34m\u001b[0m\u001b[0m\n\u001b[0m\u001b[1;32m     30\u001b[0m \u001b[0;34m\u001b[0m\u001b[0m\n\u001b[1;32m     31\u001b[0m         \u001b[0;32melse\u001b[0m\u001b[0;34m:\u001b[0m\u001b[0;34m\u001b[0m\u001b[0;34m\u001b[0m\u001b[0m\n",
      "\u001b[0;32m~/environments/albert/lib/python3.6/site-packages/category_encoders/leave_one_out.py\u001b[0m in \u001b[0;36mtransform_leave_one_out\u001b[0;34m(self, X_in, y, mapping)\u001b[0m\n\u001b[1;32m    243\u001b[0m         \u001b[0mrandom_state_\u001b[0m \u001b[0;34m=\u001b[0m \u001b[0mcheck_random_state\u001b[0m\u001b[0;34m(\u001b[0m\u001b[0mself\u001b[0m\u001b[0;34m.\u001b[0m\u001b[0mrandom_state\u001b[0m\u001b[0;34m)\u001b[0m\u001b[0;34m\u001b[0m\u001b[0;34m\u001b[0m\u001b[0m\n\u001b[1;32m    244\u001b[0m \u001b[0;34m\u001b[0m\u001b[0m\n\u001b[0;32m--> 245\u001b[0;31m         \u001b[0;32mfor\u001b[0m \u001b[0mcol\u001b[0m\u001b[0;34m,\u001b[0m \u001b[0mcolmap\u001b[0m \u001b[0;32min\u001b[0m \u001b[0mmapping\u001b[0m\u001b[0;34m.\u001b[0m\u001b[0mitems\u001b[0m\u001b[0;34m(\u001b[0m\u001b[0;34m)\u001b[0m\u001b[0;34m:\u001b[0m\u001b[0;34m\u001b[0m\u001b[0;34m\u001b[0m\u001b[0m\n\u001b[0m\u001b[1;32m    246\u001b[0m             \u001b[0mlevel_notunique\u001b[0m \u001b[0;34m=\u001b[0m \u001b[0mcolmap\u001b[0m\u001b[0;34m[\u001b[0m\u001b[0;34m'count'\u001b[0m\u001b[0;34m]\u001b[0m \u001b[0;34m>\u001b[0m \u001b[0;36m1\u001b[0m\u001b[0;34m\u001b[0m\u001b[0;34m\u001b[0m\u001b[0m\n\u001b[1;32m    247\u001b[0m \u001b[0;34m\u001b[0m\u001b[0m\n",
      "\u001b[0;31mAttributeError\u001b[0m: 'NoneType' object has no attribute 'items'"
     ]
    }
   ],
   "source": [
    "res = loom.transform(dd1)"
   ]
  },
  {
   "cell_type": "code",
   "execution_count": 695,
   "metadata": {
    "ExecuteTime": {
     "end_time": "2021-10-07T10:41:00.520633Z",
     "start_time": "2021-10-07T10:41:00.504988Z"
    }
   },
   "outputs": [
    {
     "data": {
      "text/html": [
       "<div>\n",
       "<style scoped>\n",
       "    .dataframe tbody tr th:only-of-type {\n",
       "        vertical-align: middle;\n",
       "    }\n",
       "\n",
       "    .dataframe tbody tr th {\n",
       "        vertical-align: top;\n",
       "    }\n",
       "\n",
       "    .dataframe thead th {\n",
       "        text-align: right;\n",
       "    }\n",
       "</style>\n",
       "<table border=\"1\" class=\"dataframe\">\n",
       "  <thead>\n",
       "    <tr style=\"text-align: right;\">\n",
       "      <th></th>\n",
       "      <th>cat</th>\n",
       "      <th>num</th>\n",
       "      <th>num2</th>\n",
       "    </tr>\n",
       "  </thead>\n",
       "  <tbody>\n",
       "    <tr>\n",
       "      <th>0</th>\n",
       "      <td>1</td>\n",
       "      <td>0.171551</td>\n",
       "      <td>0.515989</td>\n",
       "    </tr>\n",
       "    <tr>\n",
       "      <th>1</th>\n",
       "      <td>2</td>\n",
       "      <td>0.929280</td>\n",
       "      <td>0.501502</td>\n",
       "    </tr>\n",
       "    <tr>\n",
       "      <th>2</th>\n",
       "      <td>1</td>\n",
       "      <td>0.554943</td>\n",
       "      <td>0.515989</td>\n",
       "    </tr>\n",
       "    <tr>\n",
       "      <th>3</th>\n",
       "      <td>1</td>\n",
       "      <td>0.867280</td>\n",
       "      <td>0.515989</td>\n",
       "    </tr>\n",
       "    <tr>\n",
       "      <th>4</th>\n",
       "      <td>2</td>\n",
       "      <td>0.893848</td>\n",
       "      <td>0.501502</td>\n",
       "    </tr>\n",
       "    <tr>\n",
       "      <th>...</th>\n",
       "      <td>...</td>\n",
       "      <td>...</td>\n",
       "      <td>...</td>\n",
       "    </tr>\n",
       "    <tr>\n",
       "      <th>995</th>\n",
       "      <td>1</td>\n",
       "      <td>0.861329</td>\n",
       "      <td>0.515989</td>\n",
       "    </tr>\n",
       "    <tr>\n",
       "      <th>996</th>\n",
       "      <td>1</td>\n",
       "      <td>0.342397</td>\n",
       "      <td>0.515989</td>\n",
       "    </tr>\n",
       "    <tr>\n",
       "      <th>997</th>\n",
       "      <td>2</td>\n",
       "      <td>0.162296</td>\n",
       "      <td>0.501502</td>\n",
       "    </tr>\n",
       "    <tr>\n",
       "      <th>998</th>\n",
       "      <td>2</td>\n",
       "      <td>0.569823</td>\n",
       "      <td>0.501502</td>\n",
       "    </tr>\n",
       "    <tr>\n",
       "      <th>999</th>\n",
       "      <td>2</td>\n",
       "      <td>0.132881</td>\n",
       "      <td>0.501502</td>\n",
       "    </tr>\n",
       "  </tbody>\n",
       "</table>\n",
       "<p>1000 rows × 3 columns</p>\n",
       "</div>"
      ],
      "text/plain": [
       "     cat       num      num2\n",
       "0      1  0.171551  0.515989\n",
       "1      2  0.929280  0.501502\n",
       "2      1  0.554943  0.515989\n",
       "3      1  0.867280  0.515989\n",
       "4      2  0.893848  0.501502\n",
       "..   ...       ...       ...\n",
       "995    1  0.861329  0.515989\n",
       "996    1  0.342397  0.515989\n",
       "997    2  0.162296  0.501502\n",
       "998    2  0.569823  0.501502\n",
       "999    2  0.132881  0.501502\n",
       "\n",
       "[1000 rows x 3 columns]"
      ]
     },
     "execution_count": 695,
     "metadata": {},
     "output_type": "execute_result"
    }
   ],
   "source": [
    "res"
   ]
  },
  {
   "cell_type": "code",
   "execution_count": 617,
   "metadata": {
    "ExecuteTime": {
     "end_time": "2021-10-06T15:19:46.076016Z",
     "start_time": "2021-10-06T15:19:46.056325Z"
    }
   },
   "outputs": [
    {
     "data": {
      "text/html": [
       "<div>\n",
       "<style scoped>\n",
       "    .dataframe tbody tr th:only-of-type {\n",
       "        vertical-align: middle;\n",
       "    }\n",
       "\n",
       "    .dataframe tbody tr th {\n",
       "        vertical-align: top;\n",
       "    }\n",
       "\n",
       "    .dataframe thead th {\n",
       "        text-align: right;\n",
       "    }\n",
       "</style>\n",
       "<table border=\"1\" class=\"dataframe\">\n",
       "  <thead>\n",
       "    <tr style=\"text-align: right;\">\n",
       "      <th></th>\n",
       "      <th>cat</th>\n",
       "      <th>num</th>\n",
       "      <th>num2</th>\n",
       "    </tr>\n",
       "  </thead>\n",
       "  <tbody>\n",
       "    <tr>\n",
       "      <th>0</th>\n",
       "      <td>1</td>\n",
       "      <td>0.074696</td>\n",
       "      <td>0.469757</td>\n",
       "    </tr>\n",
       "    <tr>\n",
       "      <th>1</th>\n",
       "      <td>1</td>\n",
       "      <td>0.036798</td>\n",
       "      <td>0.469757</td>\n",
       "    </tr>\n",
       "    <tr>\n",
       "      <th>2</th>\n",
       "      <td>1</td>\n",
       "      <td>0.165753</td>\n",
       "      <td>0.478820</td>\n",
       "    </tr>\n",
       "    <tr>\n",
       "      <th>3</th>\n",
       "      <td>1</td>\n",
       "      <td>0.048545</td>\n",
       "      <td>0.478820</td>\n",
       "    </tr>\n",
       "    <tr>\n",
       "      <th>4</th>\n",
       "      <td>2</td>\n",
       "      <td>0.033016</td>\n",
       "      <td>0.478820</td>\n",
       "    </tr>\n",
       "    <tr>\n",
       "      <th>...</th>\n",
       "      <td>...</td>\n",
       "      <td>...</td>\n",
       "      <td>...</td>\n",
       "    </tr>\n",
       "    <tr>\n",
       "      <th>95</th>\n",
       "      <td>2</td>\n",
       "      <td>0.186370</td>\n",
       "      <td>0.469757</td>\n",
       "    </tr>\n",
       "    <tr>\n",
       "      <th>96</th>\n",
       "      <td>2</td>\n",
       "      <td>0.883939</td>\n",
       "      <td>0.469757</td>\n",
       "    </tr>\n",
       "    <tr>\n",
       "      <th>97</th>\n",
       "      <td>2</td>\n",
       "      <td>0.263076</td>\n",
       "      <td>0.469757</td>\n",
       "    </tr>\n",
       "    <tr>\n",
       "      <th>98</th>\n",
       "      <td>2</td>\n",
       "      <td>0.093126</td>\n",
       "      <td>0.478820</td>\n",
       "    </tr>\n",
       "    <tr>\n",
       "      <th>99</th>\n",
       "      <td>1</td>\n",
       "      <td>0.928625</td>\n",
       "      <td>0.469757</td>\n",
       "    </tr>\n",
       "  </tbody>\n",
       "</table>\n",
       "<p>100 rows × 3 columns</p>\n",
       "</div>"
      ],
      "text/plain": [
       "    cat       num      num2\n",
       "0     1  0.074696  0.469757\n",
       "1     1  0.036798  0.469757\n",
       "2     1  0.165753  0.478820\n",
       "3     1  0.048545  0.478820\n",
       "4     2  0.033016  0.478820\n",
       "..  ...       ...       ...\n",
       "95    2  0.186370  0.469757\n",
       "96    2  0.883939  0.469757\n",
       "97    2  0.263076  0.469757\n",
       "98    2  0.093126  0.478820\n",
       "99    1  0.928625  0.469757\n",
       "\n",
       "[100 rows x 3 columns]"
      ]
     },
     "execution_count": 617,
     "metadata": {},
     "output_type": "execute_result"
    }
   ],
   "source": [
    "res[res.num2.notnull()]"
   ]
  },
  {
   "cell_type": "code",
   "execution_count": 552,
   "metadata": {
    "ExecuteTime": {
     "end_time": "2021-10-06T15:04:39.600571Z",
     "start_time": "2021-10-06T15:04:39.595896Z"
    }
   },
   "outputs": [],
   "source": [
    "X = dd1['cat'].astype(str)\n",
    "y = dd1['num']"
   ]
  },
  {
   "cell_type": "code",
   "execution_count": 554,
   "metadata": {
    "ExecuteTime": {
     "end_time": "2021-10-06T15:04:47.390068Z",
     "start_time": "2021-10-06T15:04:47.346868Z"
    }
   },
   "outputs": [],
   "source": [
    "enc = LeaveOneOutEncoder()\n",
    "enc_data = enc.fit_transform(np.asanyarray(X), y)"
   ]
  },
  {
   "cell_type": "code",
   "execution_count": 556,
   "metadata": {
    "ExecuteTime": {
     "end_time": "2021-10-06T15:06:47.210766Z",
     "start_time": "2021-10-06T15:06:47.196878Z"
    }
   },
   "outputs": [
    {
     "data": {
      "text/html": [
       "<div>\n",
       "<style scoped>\n",
       "    .dataframe tbody tr th:only-of-type {\n",
       "        vertical-align: middle;\n",
       "    }\n",
       "\n",
       "    .dataframe tbody tr th {\n",
       "        vertical-align: top;\n",
       "    }\n",
       "\n",
       "    .dataframe thead th {\n",
       "        text-align: right;\n",
       "    }\n",
       "</style>\n",
       "<table border=\"1\" class=\"dataframe\">\n",
       "  <thead>\n",
       "    <tr style=\"text-align: right;\">\n",
       "      <th></th>\n",
       "      <th>0</th>\n",
       "    </tr>\n",
       "  </thead>\n",
       "  <tbody>\n",
       "    <tr>\n",
       "      <th>0</th>\n",
       "      <td>0.480074</td>\n",
       "    </tr>\n",
       "    <tr>\n",
       "      <th>1</th>\n",
       "      <td>0.477055</td>\n",
       "    </tr>\n",
       "    <tr>\n",
       "      <th>2</th>\n",
       "      <td>0.479384</td>\n",
       "    </tr>\n",
       "    <tr>\n",
       "      <th>3</th>\n",
       "      <td>0.477538</td>\n",
       "    </tr>\n",
       "    <tr>\n",
       "      <th>4</th>\n",
       "      <td>0.480614</td>\n",
       "    </tr>\n",
       "    <tr>\n",
       "      <th>...</th>\n",
       "      <td>...</td>\n",
       "    </tr>\n",
       "    <tr>\n",
       "      <th>95</th>\n",
       "      <td>0.459666</td>\n",
       "    </tr>\n",
       "    <tr>\n",
       "      <th>96</th>\n",
       "      <td>0.465155</td>\n",
       "    </tr>\n",
       "    <tr>\n",
       "      <th>97</th>\n",
       "      <td>0.477663</td>\n",
       "    </tr>\n",
       "    <tr>\n",
       "      <th>98</th>\n",
       "      <td>0.485359</td>\n",
       "    </tr>\n",
       "    <tr>\n",
       "      <th>99</th>\n",
       "      <td>0.471631</td>\n",
       "    </tr>\n",
       "  </tbody>\n",
       "</table>\n",
       "<p>100 rows × 1 columns</p>\n",
       "</div>"
      ],
      "text/plain": [
       "           0\n",
       "0   0.480074\n",
       "1   0.477055\n",
       "2   0.479384\n",
       "3   0.477538\n",
       "4   0.480614\n",
       "..       ...\n",
       "95  0.459666\n",
       "96  0.465155\n",
       "97  0.477663\n",
       "98  0.485359\n",
       "99  0.471631\n",
       "\n",
       "[100 rows x 1 columns]"
      ]
     },
     "execution_count": 556,
     "metadata": {},
     "output_type": "execute_result"
    }
   ],
   "source": [
    "enc_data"
   ]
  },
  {
   "cell_type": "code",
   "execution_count": 540,
   "metadata": {
    "ExecuteTime": {
     "end_time": "2021-10-06T15:01:04.781625Z",
     "start_time": "2021-10-06T15:01:04.765219Z"
    }
   },
   "outputs": [
    {
     "data": {
      "text/html": [
       "<div>\n",
       "<style scoped>\n",
       "    .dataframe tbody tr th:only-of-type {\n",
       "        vertical-align: middle;\n",
       "    }\n",
       "\n",
       "    .dataframe tbody tr th {\n",
       "        vertical-align: top;\n",
       "    }\n",
       "\n",
       "    .dataframe thead th {\n",
       "        text-align: right;\n",
       "    }\n",
       "</style>\n",
       "<table border=\"1\" class=\"dataframe\">\n",
       "  <thead>\n",
       "    <tr style=\"text-align: right;\">\n",
       "      <th></th>\n",
       "      <th>0</th>\n",
       "    </tr>\n",
       "  </thead>\n",
       "  <tbody>\n",
       "    <tr>\n",
       "      <th>0</th>\n",
       "      <td>2</td>\n",
       "    </tr>\n",
       "    <tr>\n",
       "      <th>1</th>\n",
       "      <td>2</td>\n",
       "    </tr>\n",
       "    <tr>\n",
       "      <th>2</th>\n",
       "      <td>1</td>\n",
       "    </tr>\n",
       "    <tr>\n",
       "      <th>3</th>\n",
       "      <td>2</td>\n",
       "    </tr>\n",
       "    <tr>\n",
       "      <th>4</th>\n",
       "      <td>1</td>\n",
       "    </tr>\n",
       "    <tr>\n",
       "      <th>...</th>\n",
       "      <td>...</td>\n",
       "    </tr>\n",
       "    <tr>\n",
       "      <th>95</th>\n",
       "      <td>2</td>\n",
       "    </tr>\n",
       "    <tr>\n",
       "      <th>96</th>\n",
       "      <td>2</td>\n",
       "    </tr>\n",
       "    <tr>\n",
       "      <th>97</th>\n",
       "      <td>2</td>\n",
       "    </tr>\n",
       "    <tr>\n",
       "      <th>98</th>\n",
       "      <td>1</td>\n",
       "    </tr>\n",
       "    <tr>\n",
       "      <th>99</th>\n",
       "      <td>1</td>\n",
       "    </tr>\n",
       "  </tbody>\n",
       "</table>\n",
       "<p>100 rows × 1 columns</p>\n",
       "</div>"
      ],
      "text/plain": [
       "    0\n",
       "0   2\n",
       "1   2\n",
       "2   1\n",
       "3   2\n",
       "4   1\n",
       ".. ..\n",
       "95  2\n",
       "96  2\n",
       "97  2\n",
       "98  1\n",
       "99  1\n",
       "\n",
       "[100 rows x 1 columns]"
      ]
     },
     "execution_count": 540,
     "metadata": {},
     "output_type": "execute_result"
    }
   ],
   "source": [
    "enc_data = enc.transform(np.asarray(X))\n",
    "enc_data"
   ]
  },
  {
   "cell_type": "markdown",
   "metadata": {},
   "source": [
    "# config"
   ]
  },
  {
   "cell_type": "code",
   "execution_count": null,
   "metadata": {},
   "outputs": [],
   "source": [
    "import datetime\n",
    "\n",
    "\n",
    "data_config = {\n",
    "    'calcers': [\n",
    "        {\n",
    "            'name': 'day_of_week_receipts',\n",
    "            'args': {'delta': 30, 'date_to': datetime.date(2019, 3, 19)}\n",
    "        },\n",
    "        {\n",
    "            'name': 'favourite_store',\n",
    "            'args': {'delta': 30, 'date_to': datetime.date(2019, 3, 19)}\n",
    "        },\n",
    "        {\n",
    "            'name': 'age_gender',\n",
    "            'args': {}\n",
    "        },\n",
    "        {\n",
    "            'name': 'target_from_campaigns',\n",
    "            'args': {'date_to': datetime.date(2019, 3, 21)}\n",
    "        }\n",
    "    ],\n",
    "    'transforms': [\n",
    "        {\n",
    "            'name': 'expression',\n",
    "            'args': {\n",
    "                'expression': \"({d}['purchases_count_dw5__30d'] + {d}['purchases_count_dw6__30d']) / ({d}['purchases_count_dw0__30d'] + {d}['purchases_count_dw1__30d'] + {d}['purchases_count_dw2__30d'] + {d}['purchases_count_dw3__30d'] + {d}['purchases_count_dw4__30d'] + {d}['purchases_count_dw5__30d'] + {d}['purchases_count_dw6__30d'])\",\n",
    "                'col_result': \"weekend_purchases_ratio__30d\"\n",
    "            }\n",
    "        },\n",
    "        {\n",
    "            'name': 'expression',\n",
    "            'args': {\n",
    "                'expression': \"{d}['target_purchases_sum'] * 0.2 - {d}['target_campaign_points_spent'] * 0.1 - {d}['treatment_flg'] * 1.5\",\n",
    "                'col_result': \"target_profit\"\n",
    "            }\n",
    "        },\n",
    "        {\n",
    "            'name': 'loo_mean_target_encoder',\n",
    "            'args': {\n",
    "                'col_categorical': 'gender',\n",
    "                'col_target': 'target_profit',\n",
    "                'col_result': \"gender__mte__target_profit\"\n",
    "            }\n",
    "        },\n",
    "        {\n",
    "            'name': 'loo_mean_target_encoder',\n",
    "            'args': {\n",
    "                'col_categorical': 'gender',\n",
    "                'col_target': 'target_purchases_count',\n",
    "                'col_result': \"gender__mte__target_purchases_count\"\n",
    "            }\n",
    "        }\n",
    "    ]\n",
    "}"
   ]
  },
  {
   "cell_type": "code",
   "execution_count": null,
   "metadata": {},
   "outputs": [],
   "source": []
  },
  {
   "cell_type": "code",
   "execution_count": null,
   "metadata": {},
   "outputs": [],
   "source": []
  }
 ],
 "metadata": {
  "hide_input": false,
  "kernelspec": {
   "display_name": "Python 3",
   "language": "python",
   "name": "python3"
  },
  "language_info": {
   "codemirror_mode": {
    "name": "ipython",
    "version": 3
   },
   "file_extension": ".py",
   "mimetype": "text/x-python",
   "name": "python",
   "nbconvert_exporter": "python",
   "pygments_lexer": "ipython3",
   "version": "3.6.9"
  },
  "toc": {
   "base_numbering": 1,
   "nav_menu": {},
   "number_sections": true,
   "sideBar": true,
   "skip_h1_title": false,
   "title_cell": "Table of Contents",
   "title_sidebar": "Contents",
   "toc_cell": false,
   "toc_position": {},
   "toc_section_display": true,
   "toc_window_display": true
  }
 },
 "nbformat": 4,
 "nbformat_minor": 4
}
