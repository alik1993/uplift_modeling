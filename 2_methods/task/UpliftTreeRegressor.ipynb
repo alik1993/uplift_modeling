{
 "cells": [
  {
   "cell_type": "code",
   "execution_count": 32,
   "metadata": {
    "ExecuteTime": {
     "end_time": "2021-09-29T16:52:05.448069Z",
     "start_time": "2021-09-29T16:52:05.442261Z"
    }
   },
   "outputs": [],
   "source": [
    "import numpy as np\n",
    "from typing import Iterable"
   ]
  },
  {
   "cell_type": "code",
   "execution_count": 33,
   "metadata": {
    "ExecuteTime": {
     "end_time": "2021-09-29T16:52:05.799517Z",
     "start_time": "2021-09-29T16:52:05.669733Z"
    }
   },
   "outputs": [
    {
     "name": "stdout",
     "output_type": "stream",
     "text": [
      "example_preds.npy      example_y.npy              UpliftTreeRegressor.py\r\n",
      "example_treatment.npy  test_ddp.xlsx\r\n",
      "example_X.npy          UpliftTreeRegressor.ipynb\r\n"
     ]
    }
   ],
   "source": [
    "ls"
   ]
  },
  {
   "cell_type": "code",
   "execution_count": 34,
   "metadata": {
    "ExecuteTime": {
     "end_time": "2021-09-29T16:52:06.419894Z",
     "start_time": "2021-09-29T16:52:06.409832Z"
    }
   },
   "outputs": [],
   "source": [
    "X = np.load('example_X.npy')\n",
    "y = np.load('example_y.npy')\n",
    "treatment = np.load('example_treatment.npy')\n",
    "preds = np.load('example_preds.npy')"
   ]
  },
  {
   "cell_type": "code",
   "execution_count": 35,
   "metadata": {
    "ExecuteTime": {
     "end_time": "2021-09-29T16:52:08.496688Z",
     "start_time": "2021-09-29T16:52:06.811380Z"
    }
   },
   "outputs": [],
   "source": [
    "import pandas as pd\n",
    "pd.DataFrame({'x': X[:,0], 'y': y, 't':treatment}).to_excel('test_ddp.xlsx', index=False)"
   ]
  },
  {
   "cell_type": "code",
   "execution_count": 134,
   "metadata": {
    "ExecuteTime": {
     "end_time": "2021-10-02T21:00:06.966396Z",
     "start_time": "2021-10-02T21:00:06.943036Z"
    }
   },
   "outputs": [],
   "source": [
    "class UpliftTreeRegressor:\n",
    "    \n",
    "    def __init__(\n",
    "        self,\n",
    "        max_depth: int = 3, # максимальная глубина дерева.\n",
    "        min_samples_leaf: int = 1000, # минимальное необходимое число обучающих объектов в листе дерева.\n",
    "        min_samples_leaf_treated: int = 300, # минимальное необходимое число обучающих объектов с T=1 в листе дерева.\n",
    "        min_samples_leaf_control: int = 300, # минимальное необходимое число обучающих объектов с T=0 в листе дерева.\n",
    "    ):\n",
    "        \n",
    "        self.max_depth = max_depth\n",
    "        self.min_samples_leaf = min_samples_leaf\n",
    "        self.min_samples_leaf_treated = min_samples_leaf_treated\n",
    "        self.min_samples_leaf_control = min_samples_leaf_control\n",
    "        \n",
    "    def calc_ddp(self, y, treatment):\n",
    "        import numpy as np\n",
    "        return np.sum(y*treatment)/np.sum(treatment) - np.sum(y * (1 - treatment))/np.sum(1 - treatment)\n",
    "        \n",
    "    def _best_split(self, X, y, treatment):\n",
    "        \"\"\"Find the best split for a node.\n",
    "        Returns:\n",
    "            best_idx: Index of the feature for best split, or None if no split is found.\n",
    "            best_thr: Threshold to use for the split, or None if no split is found.\n",
    "        \"\"\"\n",
    "        import numpy as np\n",
    "\n",
    "        # DDP of current node.\n",
    "        best_ddp = self.calc_ddp(y, treatment)\n",
    "        \n",
    "        best_idx, best_thr = None, None\n",
    "\n",
    "        # Loop through all features.\n",
    "        for idx in range(self.n_features_):\n",
    "            \n",
    "            column_values = X[:, idx]\n",
    "            \n",
    "            unique_values = np.unique(column_values)\n",
    "            if len(unique_values) > 10:\n",
    "                percentiles = np.percentile(column_values, [3, 5, 10, 20, 30, 50, 70, 80, 90, 95, 97])\n",
    "            else:\n",
    "                percentiles = np.percentile(unique_values, [10, 50, 90])\n",
    "            \n",
    "            thresholds = np.unique(percentiles)\n",
    "\n",
    "            for thr in thresholds: \n",
    "                \n",
    "                left_idx = column_values <= thr\n",
    " \n",
    "                treatment_left = treatment[left_idx]\n",
    "                treatment_right = treatment[~left_idx]\n",
    "                \n",
    "                y_left = y[left_idx]\n",
    "                y_right = y[~left_idx]\n",
    "                \n",
    "                len_y_left = len(y_left)\n",
    "                len_y_right = len(y_right)\n",
    "                                \n",
    "                samples_leaf_treated_left = np.sum(treatment_left == 1)\n",
    "                samples_leaf_control_left = np.sum(treatment_left == 0)\n",
    "                \n",
    "                samples_leaf_treated_right = np.sum(treatment_right == 1)\n",
    "                samples_leaf_control_right = np.sum(treatment_right == 0)\n",
    "                \n",
    "                if  not ((samples_leaf_treated_left >= self.min_samples_leaf_treated) and \\\n",
    "                (samples_leaf_treated_right >= self.min_samples_leaf_treated) and \\\n",
    "                (samples_leaf_control_left >= self.min_samples_leaf_control) and \\\n",
    "                (samples_leaf_control_right >= self.min_samples_leaf_control) and \\\n",
    "                (len_y_left >= self.min_samples_leaf) and \\\n",
    "                (len_y_right >= self.min_samples_leaf)):\n",
    "                    continue\n",
    "\n",
    "                ddp_left = self.calc_ddp(y_left, treatment_left)\n",
    "                ddp_right = self.calc_ddp(y_right, treatment_right)\n",
    "            \n",
    "                ddp = np.abs(ddp_left - ddp_right)\n",
    "                    \n",
    "                if ddp > best_ddp:\n",
    "#                     print(f'{idx}...{thr}...{ddp}')\n",
    "                    best_ddp = ddp\n",
    "                    best_idx = idx\n",
    "                    best_thr = thr\n",
    "            \n",
    "        return best_idx, best_thr\n",
    "    \n",
    "    def _grow_tree(self, X, y, treatment, depth=0):\n",
    "        \"\"\"Build a decision tree by recursively finding the best split.\"\"\"\n",
    "        # Population for each class in current node. The predicted class is the one with\n",
    "        # largest population.\n",
    "        \n",
    "        import numpy as np\n",
    "\n",
    "        ATE = np.nanmean(y[treatment == 1]) - np.nanmean(y[treatment == 0])\n",
    "        \n",
    "        node = self.Node(\n",
    "            n_items=len(y),\n",
    "            ATE=ATE,\n",
    "        )\n",
    "\n",
    "        # Split recursively until maximum depth is reached.\n",
    "        if depth < self.max_depth:\n",
    "        \n",
    "            idx, thr = self._best_split(X, y, treatment)\n",
    "            \n",
    "            if idx is not None:\n",
    "                \n",
    "                indices_left = X[:, idx] <= thr\n",
    "                \n",
    "                X_left, y_left, treatment_left = X[indices_left], y[indices_left], treatment[indices_left]\n",
    "                X_right, y_right, treatment_right = X[~indices_left], y[~indices_left], treatment[~indices_left]\n",
    "                    \n",
    "#                 node.split_feat = f'feat{idx}'\n",
    "                node.split_feat = idx\n",
    "                node.split_threshold = thr\n",
    "                node.left = self._grow_tree(X_left, y_left, treatment_left, depth + 1)\n",
    "                node.right = self._grow_tree(X_right, y_right, treatment_right, depth + 1)\n",
    "            else:\n",
    "                return node\n",
    "                    \n",
    "        return node\n",
    "    \n",
    "    def fit(\n",
    "        self,\n",
    "        X,#: self.np.ndarray, # массив (n * k) с признаками.\n",
    "        y,#: self.np.ndarray, # массив (n) с целевой переменной.\n",
    "        treatment,#: self.np.ndarray, # массив (n) с флагом воздействия.\n",
    "    ): # -> None:\n",
    "                \n",
    "        # fit the model\n",
    "        self.n_features_ = X.shape[1]\n",
    "        self.tree_ = self._grow_tree(X, y, treatment)\n",
    "    \n",
    "    def predict(self, \n",
    "                X,#: self.np.ndarray\n",
    "    ):# -> self.Iterable[float]:\n",
    "        # compute predictions\n",
    "        \n",
    "        import numpy as np\n",
    "        \n",
    "        return np.array([self._predict(inputs) for inputs in X])\n",
    "    \n",
    "    def _predict(self, inputs):\n",
    "        \"\"\"Predict class for a single sample.\"\"\"\n",
    "        node = self.tree_\n",
    "        while node.left:\n",
    "            if inputs[node.split_feat] <= node.split_threshold:\n",
    "#             split_feat = int(node.split_feat.replace('feat', ''))\n",
    "#             if inputs[split_feat] <= node.split_threshold:\n",
    "                node = node.left\n",
    "            else:\n",
    "                node = node.right\n",
    "        return node.ATE\n",
    "    \n",
    "    class Node:\n",
    "        def __init__(self, \n",
    "                     n_items, \n",
    "    #                  num_samples_per_class, \n",
    "                     ATE\n",
    "                    ): \n",
    "            self.n_items = n_items\n",
    "    #         self.num_samples_per_class = num_samples_per_class\n",
    "            self.ATE = ATE\n",
    "            self.split_feat = None\n",
    "            self.split_threshold = None\n",
    "            self.left = None\n",
    "            self.right = None"
   ]
  },
  {
   "cell_type": "code",
   "execution_count": 142,
   "metadata": {
    "ExecuteTime": {
     "end_time": "2021-10-02T21:26:10.304716Z",
     "start_time": "2021-10-02T21:26:10.296535Z"
    }
   },
   "outputs": [
    {
     "data": {
      "text/plain": [
       "0.8084128002809451"
      ]
     },
     "execution_count": 142,
     "metadata": {},
     "output_type": "execute_result"
    }
   ],
   "source": [
    "X[0][1]"
   ]
  },
  {
   "cell_type": "code",
   "execution_count": 135,
   "metadata": {
    "ExecuteTime": {
     "end_time": "2021-10-02T21:00:07.466947Z",
     "start_time": "2021-10-02T21:00:07.462690Z"
    }
   },
   "outputs": [],
   "source": [
    "# for i in X:\n",
    "#     print(len(i))"
   ]
  },
  {
   "cell_type": "code",
   "execution_count": 144,
   "metadata": {
    "ExecuteTime": {
     "end_time": "2021-10-04T07:50:15.935831Z",
     "start_time": "2021-10-04T07:50:15.931084Z"
    }
   },
   "outputs": [],
   "source": [
    "# column_values = X[:, 0]\n",
    "# unique_values = np.unique(column_values)\n",
    "# if len(unique_values) > 10:\n",
    "#     percentiles = np.percentile(column_values, [3, 5, 10, 20, 30, 50, 70, 80, 90, 95, 97])\n",
    "# else:\n",
    "#     percentiles = np.percentile(unique_values, [10, 50, 90])\n",
    "# thresholds = np.unique(percentiles)\n",
    "# thresholds"
   ]
  },
  {
   "cell_type": "code",
   "execution_count": 137,
   "metadata": {
    "ExecuteTime": {
     "end_time": "2021-10-02T21:00:08.201980Z",
     "start_time": "2021-10-02T21:00:07.931025Z"
    },
    "scrolled": true
   },
   "outputs": [],
   "source": [
    "clf = UpliftTreeRegressor(max_depth=3, min_samples_leaf_treated=2500, min_samples_leaf_control=2500)\n",
    "clf.fit(X, y, treatment)"
   ]
  },
  {
   "cell_type": "code",
   "execution_count": 138,
   "metadata": {
    "ExecuteTime": {
     "end_time": "2021-10-02T21:00:08.753073Z",
     "start_time": "2021-10-02T21:00:08.691651Z"
    }
   },
   "outputs": [
    {
     "data": {
      "text/plain": [
       "array([ 0.53816902,  2.2242965 ,  0.53816902, ...,  1.57733293,\n",
       "       -0.70893913,  2.2242965 ])"
      ]
     },
     "execution_count": 138,
     "metadata": {},
     "output_type": "execute_result"
    }
   ],
   "source": [
    "clf.predict(X)"
   ]
  },
  {
   "cell_type": "code",
   "execution_count": 139,
   "metadata": {
    "ExecuteTime": {
     "end_time": "2021-10-02T21:00:09.470207Z",
     "start_time": "2021-10-02T21:00:09.404340Z"
    }
   },
   "outputs": [
    {
     "data": {
      "text/plain": [
       "3.3306690738754696e-15"
      ]
     },
     "execution_count": 139,
     "metadata": {},
     "output_type": "execute_result"
    }
   ],
   "source": [
    "max(abs(preds - clf.predict(X)))"
   ]
  },
  {
   "cell_type": "code",
   "execution_count": 101,
   "metadata": {
    "ExecuteTime": {
     "end_time": "2021-10-02T19:32:20.001281Z",
     "start_time": "2021-10-02T19:32:19.995828Z"
    }
   },
   "outputs": [],
   "source": [
    "tr = clf.tree_"
   ]
  },
  {
   "cell_type": "code",
   "execution_count": 102,
   "metadata": {
    "ExecuteTime": {
     "end_time": "2021-10-02T19:32:20.413622Z",
     "start_time": "2021-10-02T19:32:20.403938Z"
    }
   },
   "outputs": [
    {
     "data": {
      "text/plain": [
       "(0.8428329389786856, -0.9878097589516122, None)"
      ]
     },
     "execution_count": 102,
     "metadata": {},
     "output_type": "execute_result"
    }
   ],
   "source": [
    "tr.split_threshold, tr.left.split_threshold, tr.right.split_threshold"
   ]
  },
  {
   "cell_type": "code",
   "execution_count": 103,
   "metadata": {
    "ExecuteTime": {
     "end_time": "2021-10-02T19:32:21.202236Z",
     "start_time": "2021-10-02T19:32:21.193441Z"
    }
   },
   "outputs": [
    {
     "data": {
      "text/plain": [
       "(0, 0, None)"
      ]
     },
     "execution_count": 103,
     "metadata": {},
     "output_type": "execute_result"
    }
   ],
   "source": [
    "tr.split_feat, tr.left.split_feat, tr.right.split_feat"
   ]
  },
  {
   "cell_type": "code",
   "execution_count": 104,
   "metadata": {
    "ExecuteTime": {
     "end_time": "2021-10-02T19:32:23.008986Z",
     "start_time": "2021-10-02T19:32:23.000405Z"
    }
   },
   "outputs": [
    {
     "data": {
      "text/plain": [
       "1.5773329275902146"
      ]
     },
     "execution_count": 104,
     "metadata": {},
     "output_type": "execute_result"
    }
   ],
   "source": [
    "tr.left.right.right.ATE"
   ]
  },
  {
   "cell_type": "code",
   "execution_count": 105,
   "metadata": {
    "ExecuteTime": {
     "end_time": "2021-10-02T19:32:23.560607Z",
     "start_time": "2021-10-02T19:32:23.551155Z"
    }
   },
   "outputs": [
    {
     "data": {
      "text/plain": [
       "(0.8133621067075112, 0.45661983599927736, 2.2242964961219123)"
      ]
     },
     "execution_count": 105,
     "metadata": {},
     "output_type": "execute_result"
    }
   ],
   "source": [
    "tr.ATE, tr.left.ATE, tr.right.ATE"
   ]
  },
  {
   "cell_type": "code",
   "execution_count": 106,
   "metadata": {
    "ExecuteTime": {
     "end_time": "2021-10-02T19:32:24.004486Z",
     "start_time": "2021-10-02T19:32:23.995298Z"
    }
   },
   "outputs": [
    {
     "data": {
      "text/plain": [
       "(50000, 40000, 10000)"
      ]
     },
     "execution_count": 106,
     "metadata": {},
     "output_type": "execute_result"
    }
   ],
   "source": [
    "tr.n_items, tr.left.n_items, tr.right.n_items"
   ]
  },
  {
   "cell_type": "code",
   "execution_count": 107,
   "metadata": {
    "ExecuteTime": {
     "end_time": "2021-10-02T19:32:24.603960Z",
     "start_time": "2021-10-02T19:32:24.598107Z"
    }
   },
   "outputs": [],
   "source": [
    "tr.left.right.left.split_feat"
   ]
  },
  {
   "cell_type": "code",
   "execution_count": 70,
   "metadata": {
    "ExecuteTime": {
     "end_time": "2021-10-01T21:30:42.081940Z",
     "start_time": "2021-10-01T21:30:42.073387Z"
    }
   },
   "outputs": [
    {
     "data": {
      "text/plain": [
       "25600"
      ]
     },
     "execution_count": 70,
     "metadata": {},
     "output_type": "execute_result"
    }
   ],
   "source": [
    "tr.left.right.left.n_items"
   ]
  },
  {
   "cell_type": "code",
   "execution_count": null,
   "metadata": {},
   "outputs": [],
   "source": []
  }
 ],
 "metadata": {
  "hide_input": false,
  "kernelspec": {
   "display_name": "Python 3",
   "language": "python",
   "name": "python3"
  },
  "language_info": {
   "codemirror_mode": {
    "name": "ipython",
    "version": 3
   },
   "file_extension": ".py",
   "mimetype": "text/x-python",
   "name": "python",
   "nbconvert_exporter": "python",
   "pygments_lexer": "ipython3",
   "version": "3.6.9"
  },
  "toc": {
   "base_numbering": 1,
   "nav_menu": {},
   "number_sections": true,
   "sideBar": true,
   "skip_h1_title": false,
   "title_cell": "Table of Contents",
   "title_sidebar": "Contents",
   "toc_cell": false,
   "toc_position": {},
   "toc_section_display": true,
   "toc_window_display": false
  }
 },
 "nbformat": 4,
 "nbformat_minor": 4
}
