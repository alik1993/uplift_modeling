{
 "cells": [
  {
   "cell_type": "code",
   "execution_count": 7,
   "metadata": {
    "ExecuteTime": {
     "end_time": "2021-09-17T12:20:31.224347Z",
     "start_time": "2021-09-17T12:20:31.091522Z"
    }
   },
   "outputs": [
    {
     "name": "stdout",
     "output_type": "stream",
     "text": [
      "L1_kickstart_for_lms.ipynb               \u001b[0m\u001b[01;34m__pycache__\u001b[0m/\r\n",
      "lec1_AND_task1.ipynb                     pylift_utils.py\r\n",
      "minethatdata_womens_test_no_answers.csv  stat.csv\r\n",
      "minethatdata_womens_train.csv\r\n"
     ]
    }
   ],
   "source": [
    "ls*"
   ]
  },
  {
   "cell_type": "code",
   "execution_count": 1,
   "metadata": {
    "ExecuteTime": {
     "end_time": "2021-09-17T12:27:32.396618Z",
     "start_time": "2021-09-17T12:27:32.080897Z"
    }
   },
   "outputs": [],
   "source": [
    "import pandas as pd\n",
    "from tqdm import tqdm"
   ]
  },
  {
   "cell_type": "code",
   "execution_count": 2,
   "metadata": {
    "ExecuteTime": {
     "end_time": "2021-09-17T12:27:32.820823Z",
     "start_time": "2021-09-17T12:27:32.400123Z"
    }
   },
   "outputs": [],
   "source": [
    "import matplotlib.pyplot as plt\n",
    "import seaborn as sns"
   ]
  },
  {
   "cell_type": "code",
   "execution_count": 3,
   "metadata": {
    "ExecuteTime": {
     "end_time": "2021-09-17T12:27:33.257599Z",
     "start_time": "2021-09-17T12:27:32.822781Z"
    }
   },
   "outputs": [],
   "source": [
    "import pylift_utils"
   ]
  },
  {
   "cell_type": "code",
   "execution_count": 4,
   "metadata": {
    "ExecuteTime": {
     "end_time": "2021-09-17T12:27:33.307965Z",
     "start_time": "2021-09-17T12:27:33.259350Z"
    }
   },
   "outputs": [],
   "source": [
    "train = pd.read_csv('minethatdata_womens_train.csv')\n",
    "test = pd.read_csv('minethatdata_womens_test_no_answers.csv')"
   ]
  },
  {
   "cell_type": "code",
   "execution_count": 5,
   "metadata": {
    "ExecuteTime": {
     "end_time": "2021-09-17T12:27:33.573919Z",
     "start_time": "2021-09-17T12:27:33.549450Z"
    }
   },
   "outputs": [
    {
     "data": {
      "text/html": [
       "<div>\n",
       "<style scoped>\n",
       "    .dataframe tbody tr th:only-of-type {\n",
       "        vertical-align: middle;\n",
       "    }\n",
       "\n",
       "    .dataframe tbody tr th {\n",
       "        vertical-align: top;\n",
       "    }\n",
       "\n",
       "    .dataframe thead th {\n",
       "        text-align: right;\n",
       "    }\n",
       "</style>\n",
       "<table border=\"1\" class=\"dataframe\">\n",
       "  <thead>\n",
       "    <tr style=\"text-align: right;\">\n",
       "      <th></th>\n",
       "      <th>index</th>\n",
       "      <th>recency</th>\n",
       "      <th>history_segment</th>\n",
       "      <th>history</th>\n",
       "      <th>mens</th>\n",
       "      <th>womens</th>\n",
       "      <th>zip_code</th>\n",
       "      <th>newbie</th>\n",
       "      <th>channel</th>\n",
       "      <th>segment</th>\n",
       "      <th>visit</th>\n",
       "      <th>conversion</th>\n",
       "      <th>spend</th>\n",
       "    </tr>\n",
       "  </thead>\n",
       "  <tbody>\n",
       "    <tr>\n",
       "      <th>0</th>\n",
       "      <td>54222</td>\n",
       "      <td>10</td>\n",
       "      <td>1) $0 - $100</td>\n",
       "      <td>29.99</td>\n",
       "      <td>0</td>\n",
       "      <td>1</td>\n",
       "      <td>Surburban</td>\n",
       "      <td>1</td>\n",
       "      <td>Phone</td>\n",
       "      <td>No E-Mail</td>\n",
       "      <td>0</td>\n",
       "      <td>0</td>\n",
       "      <td>0.0</td>\n",
       "    </tr>\n",
       "    <tr>\n",
       "      <th>1</th>\n",
       "      <td>30074</td>\n",
       "      <td>6</td>\n",
       "      <td>3) $200 - $350</td>\n",
       "      <td>292.39</td>\n",
       "      <td>0</td>\n",
       "      <td>1</td>\n",
       "      <td>Rural</td>\n",
       "      <td>0</td>\n",
       "      <td>Phone</td>\n",
       "      <td>Womens E-Mail</td>\n",
       "      <td>0</td>\n",
       "      <td>0</td>\n",
       "      <td>0.0</td>\n",
       "    </tr>\n",
       "    <tr>\n",
       "      <th>2</th>\n",
       "      <td>2725</td>\n",
       "      <td>8</td>\n",
       "      <td>1) $0 - $100</td>\n",
       "      <td>35.57</td>\n",
       "      <td>1</td>\n",
       "      <td>0</td>\n",
       "      <td>Surburban</td>\n",
       "      <td>0</td>\n",
       "      <td>Phone</td>\n",
       "      <td>No E-Mail</td>\n",
       "      <td>0</td>\n",
       "      <td>0</td>\n",
       "      <td>0.0</td>\n",
       "    </tr>\n",
       "    <tr>\n",
       "      <th>3</th>\n",
       "      <td>52884</td>\n",
       "      <td>1</td>\n",
       "      <td>1) $0 - $100</td>\n",
       "      <td>75.64</td>\n",
       "      <td>1</td>\n",
       "      <td>0</td>\n",
       "      <td>Surburban</td>\n",
       "      <td>1</td>\n",
       "      <td>Web</td>\n",
       "      <td>No E-Mail</td>\n",
       "      <td>0</td>\n",
       "      <td>0</td>\n",
       "      <td>0.0</td>\n",
       "    </tr>\n",
       "    <tr>\n",
       "      <th>4</th>\n",
       "      <td>42004</td>\n",
       "      <td>4</td>\n",
       "      <td>1) $0 - $100</td>\n",
       "      <td>29.99</td>\n",
       "      <td>1</td>\n",
       "      <td>0</td>\n",
       "      <td>Surburban</td>\n",
       "      <td>1</td>\n",
       "      <td>Web</td>\n",
       "      <td>Womens E-Mail</td>\n",
       "      <td>0</td>\n",
       "      <td>0</td>\n",
       "      <td>0.0</td>\n",
       "    </tr>\n",
       "  </tbody>\n",
       "</table>\n",
       "</div>"
      ],
      "text/plain": [
       "   index  recency history_segment  history  mens  womens   zip_code  newbie  \\\n",
       "0  54222       10    1) $0 - $100    29.99     0       1  Surburban       1   \n",
       "1  30074        6  3) $200 - $350   292.39     0       1      Rural       0   \n",
       "2   2725        8    1) $0 - $100    35.57     1       0  Surburban       0   \n",
       "3  52884        1    1) $0 - $100    75.64     1       0  Surburban       1   \n",
       "4  42004        4    1) $0 - $100    29.99     1       0  Surburban       1   \n",
       "\n",
       "  channel        segment  visit  conversion  spend  \n",
       "0   Phone      No E-Mail      0           0    0.0  \n",
       "1   Phone  Womens E-Mail      0           0    0.0  \n",
       "2   Phone      No E-Mail      0           0    0.0  \n",
       "3     Web      No E-Mail      0           0    0.0  \n",
       "4     Web  Womens E-Mail      0           0    0.0  "
      ]
     },
     "execution_count": 5,
     "metadata": {},
     "output_type": "execute_result"
    }
   ],
   "source": [
    "train.head()"
   ]
  },
  {
   "cell_type": "code",
   "execution_count": 6,
   "metadata": {
    "ExecuteTime": {
     "end_time": "2021-09-17T12:27:34.961715Z",
     "start_time": "2021-09-17T12:27:34.956534Z"
    }
   },
   "outputs": [],
   "source": [
    "# Описание клиента до рассылки (контекст)\n",
    "\n",
    "# recency: количество месяцев с последней покупки\n",
    "# history_Segment: категория (определяется по количеству $, потраченных за последний год)\n",
    "# history: количество $, потраченных за последний год\n",
    "# mens: индикатор, 1 - клиент купил товары для мужчин за последний год\n",
    "# womens: индикатор, 1 - клиент купил товары для женщин за последний год\n",
    "# zip_Code: региональная категория индексов: Urban, Suburban, или Rural.\n",
    "# newbie: индикатор, 1 - новый клиент (пришел в магазин в первый раз за последние 12 месяцев)\n",
    "# channel:  описывает способы приобретения клиентом товаров за последний год"
   ]
  },
  {
   "cell_type": "code",
   "execution_count": 7,
   "metadata": {
    "ExecuteTime": {
     "end_time": "2021-09-17T12:27:35.158580Z",
     "start_time": "2021-09-17T12:27:35.153982Z"
    }
   },
   "outputs": [],
   "source": [
    "# В этой переменной указано то, к какой группе был отнесен клиент\n",
    "\n",
    "# segment: \"Mens E-Mail\" / \"Womens E-Mail\" / \"No E-Mail\"\n",
    "\n",
    "# No E-Mail - control\n",
    "\n",
    "\n",
    "# Переменные, описывающие клиента в течение 2 недель после получения e-mail\n",
    "\n",
    "# visit: индикатор, 1 - клиент посетил сайт в последующие 2 недели после рассылки\n",
    "# conversion: индикатор, 1 - клиент купил товары на сайте в последующие 2 недели после рассылки\n",
    "# spend: количество $ потраченных на покупки в последующие 2 недели"
   ]
  },
  {
   "cell_type": "code",
   "execution_count": 8,
   "metadata": {
    "ExecuteTime": {
     "end_time": "2021-09-17T12:27:35.583740Z",
     "start_time": "2021-09-17T12:27:35.577703Z"
    }
   },
   "outputs": [],
   "source": [
    "act_list = ['visit', 'conversion', 'spend']"
   ]
  },
  {
   "cell_type": "code",
   "execution_count": 9,
   "metadata": {
    "ExecuteTime": {
     "end_time": "2021-09-17T12:27:35.998051Z",
     "start_time": "2021-09-17T12:27:35.978623Z"
    }
   },
   "outputs": [],
   "source": [
    "ll = []\n",
    "\n",
    "for var in act_list:\n",
    "    l = train.groupby('segment')[var].mean().values.tolist()\n",
    "    ate = l[1]-l[0]\n",
    "    rel = l[1]/l[0]\n",
    "    l.append(ate)\n",
    "    l.append(rel)\n",
    "    ll.append(l)"
   ]
  },
  {
   "cell_type": "code",
   "execution_count": 60,
   "metadata": {
    "ExecuteTime": {
     "end_time": "2021-09-15T10:27:53.516660Z",
     "start_time": "2021-09-15T10:27:53.501093Z"
    }
   },
   "outputs": [
    {
     "data": {
      "text/html": [
       "<div>\n",
       "<style scoped>\n",
       "    .dataframe tbody tr th:only-of-type {\n",
       "        vertical-align: middle;\n",
       "    }\n",
       "\n",
       "    .dataframe tbody tr th {\n",
       "        vertical-align: top;\n",
       "    }\n",
       "\n",
       "    .dataframe thead th {\n",
       "        text-align: right;\n",
       "    }\n",
       "</style>\n",
       "<table border=\"1\" class=\"dataframe\">\n",
       "  <thead>\n",
       "    <tr style=\"text-align: right;\">\n",
       "      <th></th>\n",
       "      <th>variable</th>\n",
       "      <th>mean_control</th>\n",
       "      <th>mean_treated</th>\n",
       "      <th>ate</th>\n",
       "      <th>relative_change</th>\n",
       "    </tr>\n",
       "  </thead>\n",
       "  <tbody>\n",
       "    <tr>\n",
       "      <th>0</th>\n",
       "      <td>visit</td>\n",
       "      <td>0.101720</td>\n",
       "      <td>0.148193</td>\n",
       "      <td>0.046473</td>\n",
       "      <td>1.456867</td>\n",
       "    </tr>\n",
       "    <tr>\n",
       "      <th>1</th>\n",
       "      <td>conversion</td>\n",
       "      <td>0.004983</td>\n",
       "      <td>0.008498</td>\n",
       "      <td>0.003515</td>\n",
       "      <td>1.705437</td>\n",
       "    </tr>\n",
       "    <tr>\n",
       "      <th>2</th>\n",
       "      <td>spend</td>\n",
       "      <td>0.583971</td>\n",
       "      <td>1.131093</td>\n",
       "      <td>0.547121</td>\n",
       "      <td>1.936898</td>\n",
       "    </tr>\n",
       "  </tbody>\n",
       "</table>\n",
       "</div>"
      ],
      "text/plain": [
       "     variable  mean_control  mean_treated       ate  relative_change\n",
       "0       visit      0.101720      0.148193  0.046473         1.456867\n",
       "1  conversion      0.004983      0.008498  0.003515         1.705437\n",
       "2       spend      0.583971      1.131093  0.547121         1.936898"
      ]
     },
     "execution_count": 60,
     "metadata": {},
     "output_type": "execute_result"
    }
   ],
   "source": [
    "df = pd.DataFrame(ll, columns=['mean_control', 'mean_treated', 'ate', 'relative_change'], index=act_list)\n",
    "df.index = df.index.set_names(['variable'])\n",
    "df = df.reset_index()\n",
    "df"
   ]
  },
  {
   "cell_type": "code",
   "execution_count": 61,
   "metadata": {
    "ExecuteTime": {
     "end_time": "2021-09-15T10:28:30.159373Z",
     "start_time": "2021-09-15T10:28:30.148757Z"
    }
   },
   "outputs": [],
   "source": [
    "df.to_csv('stat.csv', index=False)"
   ]
  },
  {
   "cell_type": "code",
   "execution_count": 62,
   "metadata": {
    "ExecuteTime": {
     "end_time": "2021-09-15T10:38:01.327657Z",
     "start_time": "2021-09-15T10:38:01.297605Z"
    }
   },
   "outputs": [
    {
     "data": {
      "text/html": [
       "<div>\n",
       "<style scoped>\n",
       "    .dataframe tbody tr th:only-of-type {\n",
       "        vertical-align: middle;\n",
       "    }\n",
       "\n",
       "    .dataframe tbody tr th {\n",
       "        vertical-align: top;\n",
       "    }\n",
       "\n",
       "    .dataframe thead th {\n",
       "        text-align: right;\n",
       "    }\n",
       "</style>\n",
       "<table border=\"1\" class=\"dataframe\">\n",
       "  <thead>\n",
       "    <tr style=\"text-align: right;\">\n",
       "      <th></th>\n",
       "      <th>index</th>\n",
       "      <th>recency</th>\n",
       "      <th>history_segment</th>\n",
       "      <th>history</th>\n",
       "      <th>mens</th>\n",
       "      <th>womens</th>\n",
       "      <th>zip_code</th>\n",
       "      <th>newbie</th>\n",
       "      <th>channel</th>\n",
       "      <th>segment</th>\n",
       "      <th>visit</th>\n",
       "      <th>conversion</th>\n",
       "      <th>spend</th>\n",
       "    </tr>\n",
       "  </thead>\n",
       "  <tbody>\n",
       "    <tr>\n",
       "      <th>0</th>\n",
       "      <td>54222</td>\n",
       "      <td>10</td>\n",
       "      <td>1) $0 - $100</td>\n",
       "      <td>29.99</td>\n",
       "      <td>0</td>\n",
       "      <td>1</td>\n",
       "      <td>Surburban</td>\n",
       "      <td>1</td>\n",
       "      <td>Phone</td>\n",
       "      <td>No E-Mail</td>\n",
       "      <td>0</td>\n",
       "      <td>0</td>\n",
       "      <td>0.0</td>\n",
       "    </tr>\n",
       "    <tr>\n",
       "      <th>1</th>\n",
       "      <td>30074</td>\n",
       "      <td>6</td>\n",
       "      <td>3) $200 - $350</td>\n",
       "      <td>292.39</td>\n",
       "      <td>0</td>\n",
       "      <td>1</td>\n",
       "      <td>Rural</td>\n",
       "      <td>0</td>\n",
       "      <td>Phone</td>\n",
       "      <td>Womens E-Mail</td>\n",
       "      <td>0</td>\n",
       "      <td>0</td>\n",
       "      <td>0.0</td>\n",
       "    </tr>\n",
       "    <tr>\n",
       "      <th>2</th>\n",
       "      <td>2725</td>\n",
       "      <td>8</td>\n",
       "      <td>1) $0 - $100</td>\n",
       "      <td>35.57</td>\n",
       "      <td>1</td>\n",
       "      <td>0</td>\n",
       "      <td>Surburban</td>\n",
       "      <td>0</td>\n",
       "      <td>Phone</td>\n",
       "      <td>No E-Mail</td>\n",
       "      <td>0</td>\n",
       "      <td>0</td>\n",
       "      <td>0.0</td>\n",
       "    </tr>\n",
       "    <tr>\n",
       "      <th>3</th>\n",
       "      <td>52884</td>\n",
       "      <td>1</td>\n",
       "      <td>1) $0 - $100</td>\n",
       "      <td>75.64</td>\n",
       "      <td>1</td>\n",
       "      <td>0</td>\n",
       "      <td>Surburban</td>\n",
       "      <td>1</td>\n",
       "      <td>Web</td>\n",
       "      <td>No E-Mail</td>\n",
       "      <td>0</td>\n",
       "      <td>0</td>\n",
       "      <td>0.0</td>\n",
       "    </tr>\n",
       "    <tr>\n",
       "      <th>4</th>\n",
       "      <td>42004</td>\n",
       "      <td>4</td>\n",
       "      <td>1) $0 - $100</td>\n",
       "      <td>29.99</td>\n",
       "      <td>1</td>\n",
       "      <td>0</td>\n",
       "      <td>Surburban</td>\n",
       "      <td>1</td>\n",
       "      <td>Web</td>\n",
       "      <td>Womens E-Mail</td>\n",
       "      <td>0</td>\n",
       "      <td>0</td>\n",
       "      <td>0.0</td>\n",
       "    </tr>\n",
       "    <tr>\n",
       "      <th>...</th>\n",
       "      <td>...</td>\n",
       "      <td>...</td>\n",
       "      <td>...</td>\n",
       "      <td>...</td>\n",
       "      <td>...</td>\n",
       "      <td>...</td>\n",
       "      <td>...</td>\n",
       "      <td>...</td>\n",
       "      <td>...</td>\n",
       "      <td>...</td>\n",
       "      <td>...</td>\n",
       "      <td>...</td>\n",
       "      <td>...</td>\n",
       "    </tr>\n",
       "    <tr>\n",
       "      <th>21341</th>\n",
       "      <td>39579</td>\n",
       "      <td>10</td>\n",
       "      <td>3) $200 - $350</td>\n",
       "      <td>282.34</td>\n",
       "      <td>1</td>\n",
       "      <td>0</td>\n",
       "      <td>Urban</td>\n",
       "      <td>0</td>\n",
       "      <td>Phone</td>\n",
       "      <td>No E-Mail</td>\n",
       "      <td>0</td>\n",
       "      <td>0</td>\n",
       "      <td>0.0</td>\n",
       "    </tr>\n",
       "    <tr>\n",
       "      <th>21342</th>\n",
       "      <td>57462</td>\n",
       "      <td>1</td>\n",
       "      <td>1) $0 - $100</td>\n",
       "      <td>76.88</td>\n",
       "      <td>1</td>\n",
       "      <td>0</td>\n",
       "      <td>Rural</td>\n",
       "      <td>1</td>\n",
       "      <td>Web</td>\n",
       "      <td>Womens E-Mail</td>\n",
       "      <td>1</td>\n",
       "      <td>0</td>\n",
       "      <td>0.0</td>\n",
       "    </tr>\n",
       "    <tr>\n",
       "      <th>21343</th>\n",
       "      <td>55147</td>\n",
       "      <td>3</td>\n",
       "      <td>1) $0 - $100</td>\n",
       "      <td>29.99</td>\n",
       "      <td>1</td>\n",
       "      <td>0</td>\n",
       "      <td>Surburban</td>\n",
       "      <td>1</td>\n",
       "      <td>Web</td>\n",
       "      <td>No E-Mail</td>\n",
       "      <td>0</td>\n",
       "      <td>0</td>\n",
       "      <td>0.0</td>\n",
       "    </tr>\n",
       "    <tr>\n",
       "      <th>21344</th>\n",
       "      <td>55020</td>\n",
       "      <td>11</td>\n",
       "      <td>1) $0 - $100</td>\n",
       "      <td>68.53</td>\n",
       "      <td>0</td>\n",
       "      <td>1</td>\n",
       "      <td>Surburban</td>\n",
       "      <td>1</td>\n",
       "      <td>Web</td>\n",
       "      <td>Womens E-Mail</td>\n",
       "      <td>1</td>\n",
       "      <td>0</td>\n",
       "      <td>0.0</td>\n",
       "    </tr>\n",
       "    <tr>\n",
       "      <th>21345</th>\n",
       "      <td>24655</td>\n",
       "      <td>8</td>\n",
       "      <td>2) $100 - $200</td>\n",
       "      <td>131.97</td>\n",
       "      <td>0</td>\n",
       "      <td>1</td>\n",
       "      <td>Urban</td>\n",
       "      <td>1</td>\n",
       "      <td>Phone</td>\n",
       "      <td>Womens E-Mail</td>\n",
       "      <td>1</td>\n",
       "      <td>0</td>\n",
       "      <td>0.0</td>\n",
       "    </tr>\n",
       "  </tbody>\n",
       "</table>\n",
       "<p>21346 rows × 13 columns</p>\n",
       "</div>"
      ],
      "text/plain": [
       "       index  recency history_segment  history  mens  womens   zip_code  \\\n",
       "0      54222       10    1) $0 - $100    29.99     0       1  Surburban   \n",
       "1      30074        6  3) $200 - $350   292.39     0       1      Rural   \n",
       "2       2725        8    1) $0 - $100    35.57     1       0  Surburban   \n",
       "3      52884        1    1) $0 - $100    75.64     1       0  Surburban   \n",
       "4      42004        4    1) $0 - $100    29.99     1       0  Surburban   \n",
       "...      ...      ...             ...      ...   ...     ...        ...   \n",
       "21341  39579       10  3) $200 - $350   282.34     1       0      Urban   \n",
       "21342  57462        1    1) $0 - $100    76.88     1       0      Rural   \n",
       "21343  55147        3    1) $0 - $100    29.99     1       0  Surburban   \n",
       "21344  55020       11    1) $0 - $100    68.53     0       1  Surburban   \n",
       "21345  24655        8  2) $100 - $200   131.97     0       1      Urban   \n",
       "\n",
       "       newbie channel        segment  visit  conversion  spend  \n",
       "0           1   Phone      No E-Mail      0           0    0.0  \n",
       "1           0   Phone  Womens E-Mail      0           0    0.0  \n",
       "2           0   Phone      No E-Mail      0           0    0.0  \n",
       "3           1     Web      No E-Mail      0           0    0.0  \n",
       "4           1     Web  Womens E-Mail      0           0    0.0  \n",
       "...       ...     ...            ...    ...         ...    ...  \n",
       "21341       0   Phone      No E-Mail      0           0    0.0  \n",
       "21342       1     Web  Womens E-Mail      1           0    0.0  \n",
       "21343       1     Web      No E-Mail      0           0    0.0  \n",
       "21344       1     Web  Womens E-Mail      1           0    0.0  \n",
       "21345       1   Phone  Womens E-Mail      1           0    0.0  \n",
       "\n",
       "[21346 rows x 13 columns]"
      ]
     },
     "execution_count": 62,
     "metadata": {},
     "output_type": "execute_result"
    }
   ],
   "source": [
    "train"
   ]
  },
  {
   "cell_type": "code",
   "execution_count": 154,
   "metadata": {
    "ExecuteTime": {
     "end_time": "2021-09-17T12:01:36.161259Z",
     "start_time": "2021-09-17T12:01:27.054055Z"
    }
   },
   "outputs": [
    {
     "name": "stderr",
     "output_type": "stream",
     "text": [
      "100%|██████████| 1000/1000 [00:09<00:00, 110.14it/s]\n"
     ]
    },
    {
     "data": {
      "text/plain": [
       "(2.0004698247485733, 1.3260187904992562, 2.909424684560365)"
      ]
     },
     "execution_count": 154,
     "metadata": {},
     "output_type": "execute_result"
    }
   ],
   "source": [
    "train_copy = train.copy()\n",
    "control = train[train.segment=='No E-Mail']\n",
    "treat = train[train.segment=='Womens E-Mail']\n",
    "\n",
    "var = 'spend'\n",
    "\n",
    "bootstap_l = []\n",
    "\n",
    "for rs in tqdm(range(1000)):\n",
    "    \n",
    "    control_boot = control.sample(frac=1, replace=True, random_state=rs)\n",
    "    treat_boot = treat.sample(frac=1, replace=True, random_state=rs)\n",
    "    \n",
    "    conc = pd.concat([control_boot, treat_boot])\n",
    "    \n",
    "    l = conc.groupby('segment')[var].mean().values.tolist()\n",
    "    \n",
    "#     ate = l[1]-l[0]\n",
    "#     bootstap_l.append(ate)\n",
    "    \n",
    "    rel = l[1]/l[0]\n",
    "    bootstap_l.append(rel)\n",
    "    \n",
    "alpha = 0.9\n",
    "ordered = np.sort(bootstap_l)\n",
    "lower = np.percentile(ordered, (1-alpha)/2 * 100)\n",
    "upper = np.percentile(ordered, (alpha+((1-alpha)/2))  * 100)\n",
    "\n",
    "np.mean(bootstap_l), lower, upper"
   ]
  },
  {
   "cell_type": "markdown",
   "metadata": {
    "ExecuteTime": {
     "end_time": "2021-09-17T11:51:13.598073Z",
     "start_time": "2021-09-17T11:51:13.582973Z"
    }
   },
   "source": [
    "Видим, что разброс относительного прироста метрик conversion и spend велик. Поэтому шансы получить хорошую uplift-модель для этих метрик мал."
   ]
  },
  {
   "cell_type": "code",
   "execution_count": 148,
   "metadata": {
    "ExecuteTime": {
     "end_time": "2021-09-17T11:52:36.703327Z",
     "start_time": "2021-09-17T11:52:36.699038Z"
    }
   },
   "outputs": [],
   "source": [
    "# import numpy as np\n",
    "# import scipy.stats\n",
    "\n",
    "# def mean_confidence_interval(data, confidence=0.95):\n",
    "#     a = 1.0 * np.array(data)\n",
    "#     n = len(a)\n",
    "#     m, se = np.mean(a), scipy.stats.sem(a)\n",
    "#     h = se * scipy.stats.t.ppf((1 + confidence) / 2., n-1)\n",
    "#     return m-h, m+h"
   ]
  },
  {
   "cell_type": "code",
   "execution_count": 147,
   "metadata": {
    "ExecuteTime": {
     "end_time": "2021-09-17T11:52:35.620371Z",
     "start_time": "2021-09-17T11:52:35.616082Z"
    }
   },
   "outputs": [],
   "source": [
    "# mean_confidence_interval(bootstap_l, confidence=0.9)"
   ]
  },
  {
   "cell_type": "code",
   "execution_count": 149,
   "metadata": {
    "ExecuteTime": {
     "end_time": "2021-09-17T11:52:38.653206Z",
     "start_time": "2021-09-17T11:52:38.648841Z"
    }
   },
   "outputs": [],
   "source": [
    "# import numpy as np, scipy.stats as st\n",
    "# st.t.interval(alpha=0.9, df=len(bootstap_l)-1, loc=np.mean(bootstap_l), scale=st.sem(bootstap_l))"
   ]
  },
  {
   "cell_type": "markdown",
   "metadata": {},
   "source": [
    "# model"
   ]
  },
  {
   "cell_type": "code",
   "execution_count": 10,
   "metadata": {
    "ExecuteTime": {
     "end_time": "2021-09-17T12:27:44.479309Z",
     "start_time": "2021-09-17T12:27:44.459385Z"
    }
   },
   "outputs": [],
   "source": [
    "data = pd.concat([train, test])"
   ]
  },
  {
   "cell_type": "code",
   "execution_count": 11,
   "metadata": {
    "ExecuteTime": {
     "end_time": "2021-09-17T12:27:44.720390Z",
     "start_time": "2021-09-17T12:27:44.708062Z"
    }
   },
   "outputs": [],
   "source": [
    "data = data.reset_index(drop=True)"
   ]
  },
  {
   "cell_type": "code",
   "execution_count": 12,
   "metadata": {
    "ExecuteTime": {
     "end_time": "2021-09-17T12:27:45.109312Z",
     "start_time": "2021-09-17T12:27:45.101218Z"
    }
   },
   "outputs": [],
   "source": [
    "train_index = data[:len(train)].index\n",
    "test_index = data[len(train):].index"
   ]
  },
  {
   "cell_type": "code",
   "execution_count": 13,
   "metadata": {
    "ExecuteTime": {
     "end_time": "2021-09-17T12:27:45.523072Z",
     "start_time": "2021-09-17T12:27:45.496541Z"
    }
   },
   "outputs": [],
   "source": [
    "data_womens = data.query('segment in (\"No E-Mail\", \"Womens E-Mail\")')"
   ]
  },
  {
   "cell_type": "code",
   "execution_count": 14,
   "metadata": {
    "ExecuteTime": {
     "end_time": "2021-09-17T12:27:45.977807Z",
     "start_time": "2021-09-17T12:27:45.963850Z"
    },
    "scrolled": true
   },
   "outputs": [],
   "source": [
    "data_womens['treatment'] = (data_womens['segment'] == \"Womens E-Mail\").astype('int32')"
   ]
  },
  {
   "cell_type": "code",
   "execution_count": 15,
   "metadata": {
    "ExecuteTime": {
     "end_time": "2021-09-17T12:27:46.363495Z",
     "start_time": "2021-09-17T12:27:46.358037Z"
    }
   },
   "outputs": [],
   "source": [
    "from typing import List"
   ]
  },
  {
   "cell_type": "code",
   "execution_count": 16,
   "metadata": {
    "ExecuteTime": {
     "end_time": "2021-09-17T12:27:46.784166Z",
     "start_time": "2021-09-17T12:27:46.776679Z"
    }
   },
   "outputs": [],
   "source": [
    "def one_hot_encode(data: pd.DataFrame, cols: List[str] = None) -> pd.DataFrame:\n",
    "    if cols is None:\n",
    "        cols = data.columns\n",
    "    result = pd.concat([data, pd.get_dummies(data[cols])], axis=1)\n",
    "    return result"
   ]
  },
  {
   "cell_type": "code",
   "execution_count": 17,
   "metadata": {
    "ExecuteTime": {
     "end_time": "2021-09-17T12:27:47.987931Z",
     "start_time": "2021-09-17T12:27:47.975494Z"
    }
   },
   "outputs": [],
   "source": [
    "def transform_(data: pd.DataFrame) -> pd.DataFrame:\n",
    "    zipcode_num_dict = {\n",
    "        'Urban': 0,\n",
    "        'Surburban': 1,\n",
    "        'Rural': 2\n",
    "    }\n",
    "    data['zip_code_num'] = data['zip_code'].apply(lambda s: zipcode_num_dict[s])\n",
    "    \n",
    "    channel_num_dict = {\n",
    "        'Web': 0,\n",
    "        'Multichannel': 1,\n",
    "        'Phone': 2\n",
    "    }\n",
    "    data['channel_num'] = data['channel'].apply(lambda s: channel_num_dict[s])\n",
    "    data['history_segment__label'] = data['history_segment'].apply(lambda s: s[0])\n",
    "    data = one_hot_encode(data, cols=['zip_code', 'channel', 'history_segment__label'])\n",
    "    return data"
   ]
  },
  {
   "cell_type": "code",
   "execution_count": 18,
   "metadata": {
    "ExecuteTime": {
     "end_time": "2021-09-17T12:27:48.350564Z",
     "start_time": "2021-09-17T12:27:48.278877Z"
    }
   },
   "outputs": [],
   "source": [
    "data_womens = transform_(data_womens)"
   ]
  },
  {
   "cell_type": "code",
   "execution_count": 19,
   "metadata": {
    "ExecuteTime": {
     "end_time": "2021-09-17T12:27:48.663277Z",
     "start_time": "2021-09-17T12:27:48.658807Z"
    }
   },
   "outputs": [],
   "source": [
    "column_set_n1 = [\n",
    "    'recency',\n",
    "    'history',\n",
    "    'mens',\n",
    "    'womens',\n",
    "    'zip_code_num',\n",
    "    'channel_num'\n",
    "]"
   ]
  },
  {
   "cell_type": "code",
   "execution_count": 20,
   "metadata": {
    "ExecuteTime": {
     "end_time": "2021-09-17T12:27:49.656813Z",
     "start_time": "2021-09-17T12:27:49.650197Z"
    }
   },
   "outputs": [],
   "source": [
    "column_set_n2 = [\n",
    "    'recency',\n",
    "    'mens',\n",
    "    'womens',\n",
    "    'zip_code_Rural', 'zip_code_Surburban', 'zip_code_Urban',\n",
    "    'channel_Multichannel', 'channel_Phone', 'channel_Web',\n",
    "    'history_segment__label_1', 'history_segment__label_2',\n",
    "    'history_segment__label_3', 'history_segment__label_4',\n",
    "    'history_segment__label_5', 'history_segment__label_6',\n",
    "    'history_segment__label_7'\n",
    "]"
   ]
  },
  {
   "cell_type": "code",
   "execution_count": 21,
   "metadata": {
    "ExecuteTime": {
     "end_time": "2021-09-17T12:27:49.881160Z",
     "start_time": "2021-09-17T12:27:49.876182Z"
    }
   },
   "outputs": [],
   "source": [
    "import pylift"
   ]
  },
  {
   "cell_type": "code",
   "execution_count": 22,
   "metadata": {
    "ExecuteTime": {
     "end_time": "2021-09-17T12:27:50.201554Z",
     "start_time": "2021-09-17T12:27:50.152203Z"
    }
   },
   "outputs": [],
   "source": [
    "upmodel_n0 = pylift.TransformedOutcome(\n",
    "    data_womens.loc[train_index, column_set_n1 + ['treatment', 'visit']],\n",
    "    col_treatment='treatment', col_outcome='visit',\n",
    "    test_size=2\n",
    ")"
   ]
  },
  {
   "cell_type": "code",
   "execution_count": 23,
   "metadata": {
    "ExecuteTime": {
     "end_time": "2021-09-17T12:27:50.666118Z",
     "start_time": "2021-09-17T12:27:50.654815Z"
    }
   },
   "outputs": [
    {
     "data": {
      "text/plain": [
       "11513         -0\n",
       "11014    1.99328\n",
       "7386          -0\n",
       "19397          0\n",
       "18209          0\n",
       "          ...   \n",
       "4537           0\n",
       "5226           0\n",
       "16655   -2.00677\n",
       "2780          -0\n",
       "13158         -0\n",
       "Name: TransformedOutcome, Length: 21344, dtype: object"
      ]
     },
     "execution_count": 23,
     "metadata": {},
     "output_type": "execute_result"
    }
   ],
   "source": [
    "upmodel_n0.transformed_y_train"
   ]
  },
  {
   "cell_type": "code",
   "execution_count": 24,
   "metadata": {
    "ExecuteTime": {
     "end_time": "2021-09-17T12:27:52.251833Z",
     "start_time": "2021-09-17T12:27:50.923840Z"
    }
   },
   "outputs": [
    {
     "name": "stderr",
     "output_type": "stream",
     "text": [
      "/home/atuthvatullin/environments/albert/lib/python3.6/site-packages/pylift/eval.py:474: RuntimeWarning: invalid value encountered in double_scalars\n",
      "  scores['q1_qini'] = scores['Q_qini']/scores['Q_max']\n",
      "/home/atuthvatullin/environments/albert/lib/python3.6/site-packages/pylift/eval.py:475: RuntimeWarning: invalid value encountered in double_scalars\n",
      "  scores['q2_qini'] = scores['Q_qini']/scores['Q_practical_max']\n",
      "/home/atuthvatullin/environments/albert/lib/python3.6/site-packages/pylift/eval.py:479: RuntimeWarning: invalid value encountered in double_scalars\n",
      "  scores['q1_cgains'] = scores['Q_cgains']/scores['Q_max']\n",
      "/home/atuthvatullin/environments/albert/lib/python3.6/site-packages/pylift/eval.py:480: RuntimeWarning: invalid value encountered in double_scalars\n",
      "  scores['q2_cgains'] = scores['Q_cgains']/scores['Q_practical_max']\n",
      "/home/atuthvatullin/environments/albert/lib/python3.6/site-packages/pylift/eval.py:484: RuntimeWarning: invalid value encountered in double_scalars\n",
      "  scores['q1_aqini'] = scores['Q_aqini']/scores['Q_max']\n",
      "/home/atuthvatullin/environments/albert/lib/python3.6/site-packages/pylift/eval.py:485: RuntimeWarning: invalid value encountered in double_scalars\n",
      "  scores['q2_aqini'] = scores['Q_aqini']/scores['Q_practical_max']\n"
     ]
    }
   ],
   "source": [
    "upmodel_n0.fit()"
   ]
  },
  {
   "cell_type": "code",
   "execution_count": null,
   "metadata": {},
   "outputs": [],
   "source": []
  },
  {
   "cell_type": "code",
   "execution_count": 25,
   "metadata": {
    "ExecuteTime": {
     "end_time": "2021-09-17T12:27:53.418566Z",
     "start_time": "2021-09-17T12:27:53.371933Z"
    }
   },
   "outputs": [],
   "source": [
    "eval_data = data_womens.loc[test_index, column_set_n1 + ['treatment', 'visit']]\n",
    "eval_data['score'] = upmodel_n0.model.predict(eval_data[column_set_n1])\n",
    "eval_data = eval_data[['score', 'treatment', 'visit']]"
   ]
  },
  {
   "cell_type": "code",
   "execution_count": 26,
   "metadata": {
    "ExecuteTime": {
     "end_time": "2021-09-17T12:27:53.677321Z",
     "start_time": "2021-09-17T12:27:53.672984Z"
    }
   },
   "outputs": [],
   "source": [
    "# !pip install -U seaborn"
   ]
  },
  {
   "cell_type": "code",
   "execution_count": 27,
   "metadata": {
    "ExecuteTime": {
     "end_time": "2021-09-17T12:27:54.904049Z",
     "start_time": "2021-09-17T12:27:54.293906Z"
    }
   },
   "outputs": [
    {
     "data": {
      "image/png": "[encoded data removed]",
      "text/plain": [
       "<Figure size 720x432 with 1 Axes>"
      ]
     },
     "metadata": {
      "needs_background": "light"
     },
     "output_type": "display_data"
    }
   ],
   "source": [
    "plt.figure(figsize=(10, 6))\n",
    "sns.histplot(eval_data['score'])\n",
    "plt.show()"
   ]
  },
  {
   "cell_type": "code",
   "execution_count": 38,
   "metadata": {
    "ExecuteTime": {
     "end_time": "2021-09-17T12:31:02.423531Z",
     "start_time": "2021-09-17T12:31:02.365465Z"
    }
   },
   "outputs": [],
   "source": [
    "pd.concat([eval_data.reset_index(drop=True), test], axis=1)[['index', 'score']].to_csv('test_pred.csv', index=False)"
   ]
  },
  {
   "cell_type": "code",
   "execution_count": null,
   "metadata": {},
   "outputs": [],
   "source": []
  }
 ],
 "metadata": {
  "hide_input": false,
  "kernelspec": {
   "display_name": "Python 3",
   "language": "python",
   "name": "python3"
  },
  "language_info": {
   "codemirror_mode": {
    "name": "ipython",
    "version": 3
   },
   "file_extension": ".py",
   "mimetype": "text/x-python",
   "name": "python",
   "nbconvert_exporter": "python",
   "pygments_lexer": "ipython3",
   "version": "3.6.9"
  },
  "toc": {
   "base_numbering": 1,
   "nav_menu": {},
   "number_sections": true,
   "sideBar": true,
   "skip_h1_title": false,
   "title_cell": "Table of Contents",
   "title_sidebar": "Contents",
   "toc_cell": false,
   "toc_position": {},
   "toc_section_display": true,
   "toc_window_display": false
  }
 },
 "nbformat": 4,
 "nbformat_minor": 4
}
